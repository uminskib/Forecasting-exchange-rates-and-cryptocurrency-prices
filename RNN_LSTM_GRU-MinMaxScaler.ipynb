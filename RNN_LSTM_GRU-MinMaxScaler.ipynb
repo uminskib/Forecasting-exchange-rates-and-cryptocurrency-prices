{
 "cells": [
  {
   "cell_type": "markdown",
   "id": "f062dc1a-aad7-44a6-8b50-c4f3b9f161c6",
   "metadata": {},
   "source": [
    "## Środowisko i dane"
   ]
  },
  {
   "cell_type": "code",
   "execution_count": 1,
   "id": "a2dcc6fb-7539-4b0c-a869-fab1379bd7a4",
   "metadata": {},
   "outputs": [],
   "source": [
    "import pandas as pd\n",
    "import numpy as np\n",
    "import matplotlib.pyplot as plt\n",
    "import matplotlib.ticker as ticker\n",
    "import seaborn as sns\n",
    "import glob\n",
    "from tensorflow import keras\n",
    "from keras_tuner.tuners import BayesianOptimization\n",
    "from keras_tuner import Objective\n",
    "from sklearn.metrics import mean_squared_error\n",
    "from sklearn.metrics import mean_absolute_error\n",
    "from tensorflow import random\n",
    "import math\n",
    "from dm_test import dm_test\n",
    "from sklearn.preprocessing import MinMaxScaler\n",
    "import os\n",
    "absFilePath = os.path.abspath(\"__file__\")\n",
    "os.chdir( os.path.dirname(absFilePath) )\n",
    "\n",
    "random.set_seed(48)\n",
    "np.random.seed(48)\n",
    "sns.set_theme()\n",
    "plt.rcParams['figure.figsize'] = [12, 8]"
   ]
  },
  {
   "cell_type": "code",
   "execution_count": 2,
   "id": "0723b18f-d56c-484b-a320-e4af8d0884a1",
   "metadata": {
    "tags": []
   },
   "outputs": [
    {
     "name": "stdout",
     "output_type": "stream",
     "text": [
      "Location: data\\aud_usd.csv\n",
      "File Name: aud_usd.csv\n",
      "Content:\n"
     ]
    },
    {
     "data": {
      "text/html": [
       "<div>\n",
       "<style scoped>\n",
       "    .dataframe tbody tr th:only-of-type {\n",
       "        vertical-align: middle;\n",
       "    }\n",
       "\n",
       "    .dataframe tbody tr th {\n",
       "        vertical-align: top;\n",
       "    }\n",
       "\n",
       "    .dataframe thead th {\n",
       "        text-align: right;\n",
       "    }\n",
       "</style>\n",
       "<table border=\"1\" class=\"dataframe\">\n",
       "  <thead>\n",
       "    <tr style=\"text-align: right;\">\n",
       "      <th></th>\n",
       "      <th>aud_usd</th>\n",
       "    </tr>\n",
       "    <tr>\n",
       "      <th>Data</th>\n",
       "      <th></th>\n",
       "    </tr>\n",
       "  </thead>\n",
       "  <tbody>\n",
       "    <tr>\n",
       "      <th>2017-01-02</th>\n",
       "      <td>0.71975</td>\n",
       "    </tr>\n",
       "    <tr>\n",
       "      <th>2017-01-03</th>\n",
       "      <td>0.72212</td>\n",
       "    </tr>\n",
       "    <tr>\n",
       "      <th>2017-01-04</th>\n",
       "      <td>0.72753</td>\n",
       "    </tr>\n",
       "    <tr>\n",
       "      <th>2017-01-05</th>\n",
       "      <td>0.73387</td>\n",
       "    </tr>\n",
       "    <tr>\n",
       "      <th>2017-01-06</th>\n",
       "      <td>0.73026</td>\n",
       "    </tr>\n",
       "    <tr>\n",
       "      <th>...</th>\n",
       "      <td>...</td>\n",
       "    </tr>\n",
       "    <tr>\n",
       "      <th>2021-12-27</th>\n",
       "      <td>0.72364</td>\n",
       "    </tr>\n",
       "    <tr>\n",
       "      <th>2021-12-28</th>\n",
       "      <td>0.72225</td>\n",
       "    </tr>\n",
       "    <tr>\n",
       "      <th>2021-12-29</th>\n",
       "      <td>0.72492</td>\n",
       "    </tr>\n",
       "    <tr>\n",
       "      <th>2021-12-30</th>\n",
       "      <td>0.72485</td>\n",
       "    </tr>\n",
       "    <tr>\n",
       "      <th>2021-12-31</th>\n",
       "      <td>0.72662</td>\n",
       "    </tr>\n",
       "  </tbody>\n",
       "</table>\n",
       "<p>1294 rows × 1 columns</p>\n",
       "</div>"
      ],
      "text/plain": [
       "            aud_usd\n",
       "Data               \n",
       "2017-01-02  0.71975\n",
       "2017-01-03  0.72212\n",
       "2017-01-04  0.72753\n",
       "2017-01-05  0.73387\n",
       "2017-01-06  0.73026\n",
       "...             ...\n",
       "2021-12-27  0.72364\n",
       "2021-12-28  0.72225\n",
       "2021-12-29  0.72492\n",
       "2021-12-30  0.72485\n",
       "2021-12-31  0.72662\n",
       "\n",
       "[1294 rows x 1 columns]"
      ]
     },
     "metadata": {},
     "output_type": "display_data"
    },
    {
     "name": "stdout",
     "output_type": "stream",
     "text": [
      "Location: data\\btc_usd.csv\n",
      "File Name: btc_usd.csv\n",
      "Content:\n"
     ]
    },
    {
     "data": {
      "text/html": [
       "<div>\n",
       "<style scoped>\n",
       "    .dataframe tbody tr th:only-of-type {\n",
       "        vertical-align: middle;\n",
       "    }\n",
       "\n",
       "    .dataframe tbody tr th {\n",
       "        vertical-align: top;\n",
       "    }\n",
       "\n",
       "    .dataframe thead th {\n",
       "        text-align: right;\n",
       "    }\n",
       "</style>\n",
       "<table border=\"1\" class=\"dataframe\">\n",
       "  <thead>\n",
       "    <tr style=\"text-align: right;\">\n",
       "      <th></th>\n",
       "      <th>btc_usd</th>\n",
       "    </tr>\n",
       "    <tr>\n",
       "      <th>Data</th>\n",
       "      <th></th>\n",
       "    </tr>\n",
       "  </thead>\n",
       "  <tbody>\n",
       "    <tr>\n",
       "      <th>2017-01-01</th>\n",
       "      <td>995.44</td>\n",
       "    </tr>\n",
       "    <tr>\n",
       "      <th>2017-01-02</th>\n",
       "      <td>1017.05</td>\n",
       "    </tr>\n",
       "    <tr>\n",
       "      <th>2017-01-03</th>\n",
       "      <td>1033.30</td>\n",
       "    </tr>\n",
       "    <tr>\n",
       "      <th>2017-01-04</th>\n",
       "      <td>1135.41</td>\n",
       "    </tr>\n",
       "    <tr>\n",
       "      <th>2017-01-05</th>\n",
       "      <td>989.35</td>\n",
       "    </tr>\n",
       "    <tr>\n",
       "      <th>...</th>\n",
       "      <td>...</td>\n",
       "    </tr>\n",
       "    <tr>\n",
       "      <th>2021-12-27</th>\n",
       "      <td>51035.36</td>\n",
       "    </tr>\n",
       "    <tr>\n",
       "      <th>2021-12-28</th>\n",
       "      <td>47701.16</td>\n",
       "    </tr>\n",
       "    <tr>\n",
       "      <th>2021-12-29</th>\n",
       "      <td>47284.05</td>\n",
       "    </tr>\n",
       "    <tr>\n",
       "      <th>2021-12-30</th>\n",
       "      <td>47083.41</td>\n",
       "    </tr>\n",
       "    <tr>\n",
       "      <th>2021-12-31</th>\n",
       "      <td>46308.62</td>\n",
       "    </tr>\n",
       "  </tbody>\n",
       "</table>\n",
       "<p>1826 rows × 1 columns</p>\n",
       "</div>"
      ],
      "text/plain": [
       "             btc_usd\n",
       "Data                \n",
       "2017-01-01    995.44\n",
       "2017-01-02   1017.05\n",
       "2017-01-03   1033.30\n",
       "2017-01-04   1135.41\n",
       "2017-01-05    989.35\n",
       "...              ...\n",
       "2021-12-27  51035.36\n",
       "2021-12-28  47701.16\n",
       "2021-12-29  47284.05\n",
       "2021-12-30  47083.41\n",
       "2021-12-31  46308.62\n",
       "\n",
       "[1826 rows x 1 columns]"
      ]
     },
     "metadata": {},
     "output_type": "display_data"
    },
    {
     "name": "stdout",
     "output_type": "stream",
     "text": [
      "Location: data\\cad_usd.csv\n",
      "File Name: cad_usd.csv\n",
      "Content:\n"
     ]
    },
    {
     "data": {
      "text/html": [
       "<div>\n",
       "<style scoped>\n",
       "    .dataframe tbody tr th:only-of-type {\n",
       "        vertical-align: middle;\n",
       "    }\n",
       "\n",
       "    .dataframe tbody tr th {\n",
       "        vertical-align: top;\n",
       "    }\n",
       "\n",
       "    .dataframe thead th {\n",
       "        text-align: right;\n",
       "    }\n",
       "</style>\n",
       "<table border=\"1\" class=\"dataframe\">\n",
       "  <thead>\n",
       "    <tr style=\"text-align: right;\">\n",
       "      <th></th>\n",
       "      <th>cad_usd</th>\n",
       "    </tr>\n",
       "    <tr>\n",
       "      <th>Data</th>\n",
       "      <th></th>\n",
       "    </tr>\n",
       "  </thead>\n",
       "  <tbody>\n",
       "    <tr>\n",
       "      <th>2017-01-02</th>\n",
       "      <td>0.74362</td>\n",
       "    </tr>\n",
       "    <tr>\n",
       "      <th>2017-01-03</th>\n",
       "      <td>0.74483</td>\n",
       "    </tr>\n",
       "    <tr>\n",
       "      <th>2017-01-04</th>\n",
       "      <td>0.75172</td>\n",
       "    </tr>\n",
       "    <tr>\n",
       "      <th>2017-01-05</th>\n",
       "      <td>0.75578</td>\n",
       "    </tr>\n",
       "    <tr>\n",
       "      <th>2017-01-06</th>\n",
       "      <td>0.75574</td>\n",
       "    </tr>\n",
       "    <tr>\n",
       "      <th>...</th>\n",
       "      <td>...</td>\n",
       "    </tr>\n",
       "    <tr>\n",
       "      <th>2021-12-27</th>\n",
       "      <td>0.78215</td>\n",
       "    </tr>\n",
       "    <tr>\n",
       "      <th>2021-12-28</th>\n",
       "      <td>0.78023</td>\n",
       "    </tr>\n",
       "    <tr>\n",
       "      <th>2021-12-29</th>\n",
       "      <td>0.78168</td>\n",
       "    </tr>\n",
       "    <tr>\n",
       "      <th>2021-12-30</th>\n",
       "      <td>0.78487</td>\n",
       "    </tr>\n",
       "    <tr>\n",
       "      <th>2021-12-31</th>\n",
       "      <td>0.79083</td>\n",
       "    </tr>\n",
       "  </tbody>\n",
       "</table>\n",
       "<p>1294 rows × 1 columns</p>\n",
       "</div>"
      ],
      "text/plain": [
       "            cad_usd\n",
       "Data               \n",
       "2017-01-02  0.74362\n",
       "2017-01-03  0.74483\n",
       "2017-01-04  0.75172\n",
       "2017-01-05  0.75578\n",
       "2017-01-06  0.75574\n",
       "...             ...\n",
       "2021-12-27  0.78215\n",
       "2021-12-28  0.78023\n",
       "2021-12-29  0.78168\n",
       "2021-12-30  0.78487\n",
       "2021-12-31  0.79083\n",
       "\n",
       "[1294 rows x 1 columns]"
      ]
     },
     "metadata": {},
     "output_type": "display_data"
    },
    {
     "name": "stdout",
     "output_type": "stream",
     "text": [
      "Location: data\\doge_usd.csv\n",
      "File Name: doge_usd.csv\n",
      "Content:\n"
     ]
    },
    {
     "data": {
      "text/html": [
       "<div>\n",
       "<style scoped>\n",
       "    .dataframe tbody tr th:only-of-type {\n",
       "        vertical-align: middle;\n",
       "    }\n",
       "\n",
       "    .dataframe tbody tr th {\n",
       "        vertical-align: top;\n",
       "    }\n",
       "\n",
       "    .dataframe thead th {\n",
       "        text-align: right;\n",
       "    }\n",
       "</style>\n",
       "<table border=\"1\" class=\"dataframe\">\n",
       "  <thead>\n",
       "    <tr style=\"text-align: right;\">\n",
       "      <th></th>\n",
       "      <th>doge_usd</th>\n",
       "    </tr>\n",
       "    <tr>\n",
       "      <th>Data</th>\n",
       "      <th></th>\n",
       "    </tr>\n",
       "  </thead>\n",
       "  <tbody>\n",
       "    <tr>\n",
       "      <th>2017-01-01</th>\n",
       "      <td>0.00023</td>\n",
       "    </tr>\n",
       "    <tr>\n",
       "      <th>2017-01-02</th>\n",
       "      <td>0.00022</td>\n",
       "    </tr>\n",
       "    <tr>\n",
       "      <th>2017-01-03</th>\n",
       "      <td>0.00022</td>\n",
       "    </tr>\n",
       "    <tr>\n",
       "      <th>2017-01-04</th>\n",
       "      <td>0.00022</td>\n",
       "    </tr>\n",
       "    <tr>\n",
       "      <th>2017-01-05</th>\n",
       "      <td>0.00023</td>\n",
       "    </tr>\n",
       "    <tr>\n",
       "      <th>...</th>\n",
       "      <td>...</td>\n",
       "    </tr>\n",
       "    <tr>\n",
       "      <th>2021-12-27</th>\n",
       "      <td>0.18906</td>\n",
       "    </tr>\n",
       "    <tr>\n",
       "      <th>2021-12-28</th>\n",
       "      <td>0.17404</td>\n",
       "    </tr>\n",
       "    <tr>\n",
       "      <th>2021-12-29</th>\n",
       "      <td>0.17133</td>\n",
       "    </tr>\n",
       "    <tr>\n",
       "      <th>2021-12-30</th>\n",
       "      <td>0.17103</td>\n",
       "    </tr>\n",
       "    <tr>\n",
       "      <th>2021-12-31</th>\n",
       "      <td>0.17002</td>\n",
       "    </tr>\n",
       "  </tbody>\n",
       "</table>\n",
       "<p>1826 rows × 1 columns</p>\n",
       "</div>"
      ],
      "text/plain": [
       "            doge_usd\n",
       "Data                \n",
       "2017-01-01   0.00023\n",
       "2017-01-02   0.00022\n",
       "2017-01-03   0.00022\n",
       "2017-01-04   0.00022\n",
       "2017-01-05   0.00023\n",
       "...              ...\n",
       "2021-12-27   0.18906\n",
       "2021-12-28   0.17404\n",
       "2021-12-29   0.17133\n",
       "2021-12-30   0.17103\n",
       "2021-12-31   0.17002\n",
       "\n",
       "[1826 rows x 1 columns]"
      ]
     },
     "metadata": {},
     "output_type": "display_data"
    },
    {
     "name": "stdout",
     "output_type": "stream",
     "text": [
      "Location: data\\eth_usd.csv\n",
      "File Name: eth_usd.csv\n",
      "Content:\n"
     ]
    },
    {
     "data": {
      "text/html": [
       "<div>\n",
       "<style scoped>\n",
       "    .dataframe tbody tr th:only-of-type {\n",
       "        vertical-align: middle;\n",
       "    }\n",
       "\n",
       "    .dataframe tbody tr th {\n",
       "        vertical-align: top;\n",
       "    }\n",
       "\n",
       "    .dataframe thead th {\n",
       "        text-align: right;\n",
       "    }\n",
       "</style>\n",
       "<table border=\"1\" class=\"dataframe\">\n",
       "  <thead>\n",
       "    <tr style=\"text-align: right;\">\n",
       "      <th></th>\n",
       "      <th>eth_usd</th>\n",
       "    </tr>\n",
       "    <tr>\n",
       "      <th>Data</th>\n",
       "      <th></th>\n",
       "    </tr>\n",
       "  </thead>\n",
       "  <tbody>\n",
       "    <tr>\n",
       "      <th>2017-01-01</th>\n",
       "      <td>8.140</td>\n",
       "    </tr>\n",
       "    <tr>\n",
       "      <th>2017-01-02</th>\n",
       "      <td>8.330</td>\n",
       "    </tr>\n",
       "    <tr>\n",
       "      <th>2017-01-03</th>\n",
       "      <td>9.590</td>\n",
       "    </tr>\n",
       "    <tr>\n",
       "      <th>2017-01-04</th>\n",
       "      <td>10.880</td>\n",
       "    </tr>\n",
       "    <tr>\n",
       "      <th>2017-01-05</th>\n",
       "      <td>10.200</td>\n",
       "    </tr>\n",
       "    <tr>\n",
       "      <th>...</th>\n",
       "      <td>...</td>\n",
       "    </tr>\n",
       "    <tr>\n",
       "      <th>2021-12-27</th>\n",
       "      <td>4064.609</td>\n",
       "    </tr>\n",
       "    <tr>\n",
       "      <th>2021-12-28</th>\n",
       "      <td>3811.372</td>\n",
       "    </tr>\n",
       "    <tr>\n",
       "      <th>2021-12-29</th>\n",
       "      <td>3723.545</td>\n",
       "    </tr>\n",
       "    <tr>\n",
       "      <th>2021-12-30</th>\n",
       "      <td>3704.381</td>\n",
       "    </tr>\n",
       "    <tr>\n",
       "      <th>2021-12-31</th>\n",
       "      <td>3682.218</td>\n",
       "    </tr>\n",
       "  </tbody>\n",
       "</table>\n",
       "<p>1826 rows × 1 columns</p>\n",
       "</div>"
      ],
      "text/plain": [
       "             eth_usd\n",
       "Data                \n",
       "2017-01-01     8.140\n",
       "2017-01-02     8.330\n",
       "2017-01-03     9.590\n",
       "2017-01-04    10.880\n",
       "2017-01-05    10.200\n",
       "...              ...\n",
       "2021-12-27  4064.609\n",
       "2021-12-28  3811.372\n",
       "2021-12-29  3723.545\n",
       "2021-12-30  3704.381\n",
       "2021-12-31  3682.218\n",
       "\n",
       "[1826 rows x 1 columns]"
      ]
     },
     "metadata": {},
     "output_type": "display_data"
    },
    {
     "name": "stdout",
     "output_type": "stream",
     "text": [
      "Location: data\\eur_usd.csv\n",
      "File Name: eur_usd.csv\n",
      "Content:\n"
     ]
    },
    {
     "data": {
      "text/html": [
       "<div>\n",
       "<style scoped>\n",
       "    .dataframe tbody tr th:only-of-type {\n",
       "        vertical-align: middle;\n",
       "    }\n",
       "\n",
       "    .dataframe tbody tr th {\n",
       "        vertical-align: top;\n",
       "    }\n",
       "\n",
       "    .dataframe thead th {\n",
       "        text-align: right;\n",
       "    }\n",
       "</style>\n",
       "<table border=\"1\" class=\"dataframe\">\n",
       "  <thead>\n",
       "    <tr style=\"text-align: right;\">\n",
       "      <th></th>\n",
       "      <th>eur_usd</th>\n",
       "    </tr>\n",
       "    <tr>\n",
       "      <th>Data</th>\n",
       "      <th></th>\n",
       "    </tr>\n",
       "  </thead>\n",
       "  <tbody>\n",
       "    <tr>\n",
       "      <th>2017-01-02</th>\n",
       "      <td>1.04631</td>\n",
       "    </tr>\n",
       "    <tr>\n",
       "      <th>2017-01-03</th>\n",
       "      <td>1.04095</td>\n",
       "    </tr>\n",
       "    <tr>\n",
       "      <th>2017-01-04</th>\n",
       "      <td>1.04876</td>\n",
       "    </tr>\n",
       "    <tr>\n",
       "      <th>2017-01-05</th>\n",
       "      <td>1.06021</td>\n",
       "    </tr>\n",
       "    <tr>\n",
       "      <th>2017-01-06</th>\n",
       "      <td>1.05346</td>\n",
       "    </tr>\n",
       "    <tr>\n",
       "      <th>...</th>\n",
       "      <td>...</td>\n",
       "    </tr>\n",
       "    <tr>\n",
       "      <th>2021-12-27</th>\n",
       "      <td>1.13269</td>\n",
       "    </tr>\n",
       "    <tr>\n",
       "      <th>2021-12-28</th>\n",
       "      <td>1.13070</td>\n",
       "    </tr>\n",
       "    <tr>\n",
       "      <th>2021-12-29</th>\n",
       "      <td>1.13483</td>\n",
       "    </tr>\n",
       "    <tr>\n",
       "      <th>2021-12-30</th>\n",
       "      <td>1.13239</td>\n",
       "    </tr>\n",
       "    <tr>\n",
       "      <th>2021-12-31</th>\n",
       "      <td>1.13761</td>\n",
       "    </tr>\n",
       "  </tbody>\n",
       "</table>\n",
       "<p>1294 rows × 1 columns</p>\n",
       "</div>"
      ],
      "text/plain": [
       "            eur_usd\n",
       "Data               \n",
       "2017-01-02  1.04631\n",
       "2017-01-03  1.04095\n",
       "2017-01-04  1.04876\n",
       "2017-01-05  1.06021\n",
       "2017-01-06  1.05346\n",
       "...             ...\n",
       "2021-12-27  1.13269\n",
       "2021-12-28  1.13070\n",
       "2021-12-29  1.13483\n",
       "2021-12-30  1.13239\n",
       "2021-12-31  1.13761\n",
       "\n",
       "[1294 rows x 1 columns]"
      ]
     },
     "metadata": {},
     "output_type": "display_data"
    },
    {
     "name": "stdout",
     "output_type": "stream",
     "text": [
      "Location: data\\gbp_usd.csv\n",
      "File Name: gbp_usd.csv\n",
      "Content:\n"
     ]
    },
    {
     "data": {
      "text/html": [
       "<div>\n",
       "<style scoped>\n",
       "    .dataframe tbody tr th:only-of-type {\n",
       "        vertical-align: middle;\n",
       "    }\n",
       "\n",
       "    .dataframe tbody tr th {\n",
       "        vertical-align: top;\n",
       "    }\n",
       "\n",
       "    .dataframe thead th {\n",
       "        text-align: right;\n",
       "    }\n",
       "</style>\n",
       "<table border=\"1\" class=\"dataframe\">\n",
       "  <thead>\n",
       "    <tr style=\"text-align: right;\">\n",
       "      <th></th>\n",
       "      <th>gbp_usd</th>\n",
       "    </tr>\n",
       "    <tr>\n",
       "      <th>Data</th>\n",
       "      <th></th>\n",
       "    </tr>\n",
       "  </thead>\n",
       "  <tbody>\n",
       "    <tr>\n",
       "      <th>2017-01-02</th>\n",
       "      <td>1.22768</td>\n",
       "    </tr>\n",
       "    <tr>\n",
       "      <th>2017-01-03</th>\n",
       "      <td>1.22401</td>\n",
       "    </tr>\n",
       "    <tr>\n",
       "      <th>2017-01-04</th>\n",
       "      <td>1.23215</td>\n",
       "    </tr>\n",
       "    <tr>\n",
       "      <th>2017-01-05</th>\n",
       "      <td>1.24133</td>\n",
       "    </tr>\n",
       "    <tr>\n",
       "      <th>2017-01-06</th>\n",
       "      <td>1.22835</td>\n",
       "    </tr>\n",
       "    <tr>\n",
       "      <th>...</th>\n",
       "      <td>...</td>\n",
       "    </tr>\n",
       "    <tr>\n",
       "      <th>2021-12-27</th>\n",
       "      <td>1.34411</td>\n",
       "    </tr>\n",
       "    <tr>\n",
       "      <th>2021-12-28</th>\n",
       "      <td>1.34365</td>\n",
       "    </tr>\n",
       "    <tr>\n",
       "      <th>2021-12-29</th>\n",
       "      <td>1.34867</td>\n",
       "    </tr>\n",
       "    <tr>\n",
       "      <th>2021-12-30</th>\n",
       "      <td>1.35008</td>\n",
       "    </tr>\n",
       "    <tr>\n",
       "      <th>2021-12-31</th>\n",
       "      <td>1.35240</td>\n",
       "    </tr>\n",
       "  </tbody>\n",
       "</table>\n",
       "<p>1293 rows × 1 columns</p>\n",
       "</div>"
      ],
      "text/plain": [
       "            gbp_usd\n",
       "Data               \n",
       "2017-01-02  1.22768\n",
       "2017-01-03  1.22401\n",
       "2017-01-04  1.23215\n",
       "2017-01-05  1.24133\n",
       "2017-01-06  1.22835\n",
       "...             ...\n",
       "2021-12-27  1.34411\n",
       "2021-12-28  1.34365\n",
       "2021-12-29  1.34867\n",
       "2021-12-30  1.35008\n",
       "2021-12-31  1.35240\n",
       "\n",
       "[1293 rows x 1 columns]"
      ]
     },
     "metadata": {},
     "output_type": "display_data"
    },
    {
     "name": "stdout",
     "output_type": "stream",
     "text": [
      "Location: data\\jpy100_usd.csv\n",
      "File Name: jpy100_usd.csv\n",
      "Content:\n"
     ]
    },
    {
     "data": {
      "text/html": [
       "<div>\n",
       "<style scoped>\n",
       "    .dataframe tbody tr th:only-of-type {\n",
       "        vertical-align: middle;\n",
       "    }\n",
       "\n",
       "    .dataframe tbody tr th {\n",
       "        vertical-align: top;\n",
       "    }\n",
       "\n",
       "    .dataframe thead th {\n",
       "        text-align: right;\n",
       "    }\n",
       "</style>\n",
       "<table border=\"1\" class=\"dataframe\">\n",
       "  <thead>\n",
       "    <tr style=\"text-align: right;\">\n",
       "      <th></th>\n",
       "      <th>jpy100_usd</th>\n",
       "    </tr>\n",
       "    <tr>\n",
       "      <th>Data</th>\n",
       "      <th></th>\n",
       "    </tr>\n",
       "  </thead>\n",
       "  <tbody>\n",
       "    <tr>\n",
       "      <th>2017-01-02</th>\n",
       "      <td>0.85240</td>\n",
       "    </tr>\n",
       "    <tr>\n",
       "      <th>2017-01-03</th>\n",
       "      <td>0.84964</td>\n",
       "    </tr>\n",
       "    <tr>\n",
       "      <th>2017-01-04</th>\n",
       "      <td>0.85271</td>\n",
       "    </tr>\n",
       "    <tr>\n",
       "      <th>2017-01-05</th>\n",
       "      <td>0.86621</td>\n",
       "    </tr>\n",
       "    <tr>\n",
       "      <th>2017-01-06</th>\n",
       "      <td>0.85473</td>\n",
       "    </tr>\n",
       "    <tr>\n",
       "      <th>...</th>\n",
       "      <td>...</td>\n",
       "    </tr>\n",
       "    <tr>\n",
       "      <th>2021-12-27</th>\n",
       "      <td>0.87047</td>\n",
       "    </tr>\n",
       "    <tr>\n",
       "      <th>2021-12-28</th>\n",
       "      <td>0.87097</td>\n",
       "    </tr>\n",
       "    <tr>\n",
       "      <th>2021-12-29</th>\n",
       "      <td>0.86965</td>\n",
       "    </tr>\n",
       "    <tr>\n",
       "      <th>2021-12-30</th>\n",
       "      <td>0.86904</td>\n",
       "    </tr>\n",
       "    <tr>\n",
       "      <th>2021-12-31</th>\n",
       "      <td>0.86884</td>\n",
       "    </tr>\n",
       "  </tbody>\n",
       "</table>\n",
       "<p>1294 rows × 1 columns</p>\n",
       "</div>"
      ],
      "text/plain": [
       "            jpy100_usd\n",
       "Data                  \n",
       "2017-01-02     0.85240\n",
       "2017-01-03     0.84964\n",
       "2017-01-04     0.85271\n",
       "2017-01-05     0.86621\n",
       "2017-01-06     0.85473\n",
       "...                ...\n",
       "2021-12-27     0.87047\n",
       "2021-12-28     0.87097\n",
       "2021-12-29     0.86965\n",
       "2021-12-30     0.86904\n",
       "2021-12-31     0.86884\n",
       "\n",
       "[1294 rows x 1 columns]"
      ]
     },
     "metadata": {},
     "output_type": "display_data"
    },
    {
     "name": "stdout",
     "output_type": "stream",
     "text": [
      "Location: data\\ltc_usd.csv\n",
      "File Name: ltc_usd.csv\n",
      "Content:\n"
     ]
    },
    {
     "data": {
      "text/html": [
       "<div>\n",
       "<style scoped>\n",
       "    .dataframe tbody tr th:only-of-type {\n",
       "        vertical-align: middle;\n",
       "    }\n",
       "\n",
       "    .dataframe tbody tr th {\n",
       "        vertical-align: top;\n",
       "    }\n",
       "\n",
       "    .dataframe thead th {\n",
       "        text-align: right;\n",
       "    }\n",
       "</style>\n",
       "<table border=\"1\" class=\"dataframe\">\n",
       "  <thead>\n",
       "    <tr style=\"text-align: right;\">\n",
       "      <th></th>\n",
       "      <th>ltc_usd</th>\n",
       "    </tr>\n",
       "    <tr>\n",
       "      <th>Data</th>\n",
       "      <th></th>\n",
       "    </tr>\n",
       "  </thead>\n",
       "  <tbody>\n",
       "    <tr>\n",
       "      <th>2017-01-01</th>\n",
       "      <td>4.4200</td>\n",
       "    </tr>\n",
       "    <tr>\n",
       "      <th>2017-01-02</th>\n",
       "      <td>4.5400</td>\n",
       "    </tr>\n",
       "    <tr>\n",
       "      <th>2017-01-03</th>\n",
       "      <td>4.5100</td>\n",
       "    </tr>\n",
       "    <tr>\n",
       "      <th>2017-01-04</th>\n",
       "      <td>4.4200</td>\n",
       "    </tr>\n",
       "    <tr>\n",
       "      <th>2017-01-05</th>\n",
       "      <td>4.1600</td>\n",
       "    </tr>\n",
       "    <tr>\n",
       "      <th>...</th>\n",
       "      <td>...</td>\n",
       "    </tr>\n",
       "    <tr>\n",
       "      <th>2021-12-27</th>\n",
       "      <td>157.4472</td>\n",
       "    </tr>\n",
       "    <tr>\n",
       "      <th>2021-12-28</th>\n",
       "      <td>146.5293</td>\n",
       "    </tr>\n",
       "    <tr>\n",
       "      <th>2021-12-29</th>\n",
       "      <td>148.6297</td>\n",
       "    </tr>\n",
       "    <tr>\n",
       "      <th>2021-12-30</th>\n",
       "      <td>147.5295</td>\n",
       "    </tr>\n",
       "    <tr>\n",
       "      <th>2021-12-31</th>\n",
       "      <td>146.1146</td>\n",
       "    </tr>\n",
       "  </tbody>\n",
       "</table>\n",
       "<p>1826 rows × 1 columns</p>\n",
       "</div>"
      ],
      "text/plain": [
       "             ltc_usd\n",
       "Data                \n",
       "2017-01-01    4.4200\n",
       "2017-01-02    4.5400\n",
       "2017-01-03    4.5100\n",
       "2017-01-04    4.4200\n",
       "2017-01-05    4.1600\n",
       "...              ...\n",
       "2021-12-27  157.4472\n",
       "2021-12-28  146.5293\n",
       "2021-12-29  148.6297\n",
       "2021-12-30  147.5295\n",
       "2021-12-31  146.1146\n",
       "\n",
       "[1826 rows x 1 columns]"
      ]
     },
     "metadata": {},
     "output_type": "display_data"
    },
    {
     "name": "stdout",
     "output_type": "stream",
     "text": [
      "Location: data\\xrp_usd.csv\n",
      "File Name: xrp_usd.csv\n",
      "Content:\n"
     ]
    },
    {
     "data": {
      "text/html": [
       "<div>\n",
       "<style scoped>\n",
       "    .dataframe tbody tr th:only-of-type {\n",
       "        vertical-align: middle;\n",
       "    }\n",
       "\n",
       "    .dataframe tbody tr th {\n",
       "        vertical-align: top;\n",
       "    }\n",
       "\n",
       "    .dataframe thead th {\n",
       "        text-align: right;\n",
       "    }\n",
       "</style>\n",
       "<table border=\"1\" class=\"dataframe\">\n",
       "  <thead>\n",
       "    <tr style=\"text-align: right;\">\n",
       "      <th></th>\n",
       "      <th>xrp_usd</th>\n",
       "    </tr>\n",
       "    <tr>\n",
       "      <th>Data</th>\n",
       "      <th></th>\n",
       "    </tr>\n",
       "  </thead>\n",
       "  <tbody>\n",
       "    <tr>\n",
       "      <th>2017-01-01</th>\n",
       "      <td>0.00635</td>\n",
       "    </tr>\n",
       "    <tr>\n",
       "      <th>2017-01-02</th>\n",
       "      <td>0.00631</td>\n",
       "    </tr>\n",
       "    <tr>\n",
       "      <th>2017-01-03</th>\n",
       "      <td>0.00641</td>\n",
       "    </tr>\n",
       "    <tr>\n",
       "      <th>2017-01-04</th>\n",
       "      <td>0.00641</td>\n",
       "    </tr>\n",
       "    <tr>\n",
       "      <th>2017-01-05</th>\n",
       "      <td>0.00628</td>\n",
       "    </tr>\n",
       "    <tr>\n",
       "      <th>...</th>\n",
       "      <td>...</td>\n",
       "    </tr>\n",
       "    <tr>\n",
       "      <th>2021-12-27</th>\n",
       "      <td>0.93228</td>\n",
       "    </tr>\n",
       "    <tr>\n",
       "      <th>2021-12-28</th>\n",
       "      <td>0.85807</td>\n",
       "    </tr>\n",
       "    <tr>\n",
       "      <th>2021-12-29</th>\n",
       "      <td>0.83237</td>\n",
       "    </tr>\n",
       "    <tr>\n",
       "      <th>2021-12-30</th>\n",
       "      <td>0.83617</td>\n",
       "    </tr>\n",
       "    <tr>\n",
       "      <th>2021-12-31</th>\n",
       "      <td>0.82488</td>\n",
       "    </tr>\n",
       "  </tbody>\n",
       "</table>\n",
       "<p>1826 rows × 1 columns</p>\n",
       "</div>"
      ],
      "text/plain": [
       "            xrp_usd\n",
       "Data               \n",
       "2017-01-01  0.00635\n",
       "2017-01-02  0.00631\n",
       "2017-01-03  0.00641\n",
       "2017-01-04  0.00641\n",
       "2017-01-05  0.00628\n",
       "...             ...\n",
       "2021-12-27  0.93228\n",
       "2021-12-28  0.85807\n",
       "2021-12-29  0.83237\n",
       "2021-12-30  0.83617\n",
       "2021-12-31  0.82488\n",
       "\n",
       "[1826 rows x 1 columns]"
      ]
     },
     "metadata": {},
     "output_type": "display_data"
    }
   ],
   "source": [
    "csv_files = glob.glob(\"data\\\\*.csv\")\n",
    "\n",
    "\n",
    "# loop over the list of csv files\n",
    "for f in csv_files:\n",
    "\n",
    "    # read the csv file\n",
    "    locals()[f.split(\"\\\\\")[-1].split('.')[0]] = pd.read_csv(f,usecols=[0,4])\n",
    "    locals()[f.split(\"\\\\\")[-1].split('.')[0]].rename(columns={\"Zamkniecie\":f.split(\"\\\\\")[-1].split('.')[0] },inplace=True)\n",
    "    locals()[f.split(\"\\\\\")[-1].split('.')[0]].index=pd.to_datetime(locals()[f.split(\"\\\\\")[-1].split('.')[0]]['Data'])\n",
    "    locals()[f.split(\"\\\\\")[-1].split('.')[0]].drop(columns='Data',inplace=True)\n",
    "    # print the location and filename\n",
    "    print('Location:', f)\n",
    "    print('File Name:', f.split(\"\\\\\")[-1])\n",
    "      \n",
    "    # print the content\n",
    "    print('Content:')\n",
    "    display(locals()[f.split(\"\\\\\")[-1].split('.')[0]])\n",
    "    "
   ]
  },
  {
   "cell_type": "code",
   "execution_count": 34,
   "id": "93188a7d-c934-46a0-8f81-8295a518f1bb",
   "metadata": {},
   "outputs": [
    {
     "name": "stdout",
     "output_type": "stream",
     "text": [
      "<class 'pandas.core.frame.DataFrame'>\n",
      "DatetimeIndex: 1294 entries, 2017-01-02 to 2021-12-31\n",
      "Data columns (total 1 columns):\n",
      " #   Column   Non-Null Count  Dtype  \n",
      "---  ------   --------------  -----  \n",
      " 0   jpy_usd  1294 non-null   float64\n",
      "dtypes: float64(1)\n",
      "memory usage: 20.2 KB\n"
     ]
    },
    {
     "data": {
      "text/plain": [
       "None"
      ]
     },
     "metadata": {},
     "output_type": "display_data"
    }
   ],
   "source": [
    "jpy100_usd['jpy_usd']=jpy100_usd['jpy100_usd']/100\n",
    "jpy_usd=jpy100_usd[['jpy_usd']]\n",
    "display(jpy_usd.info())"
   ]
  },
  {
   "cell_type": "markdown",
   "id": "4a4e4356-1ed8-4d0e-a2c7-fc6e4c59ca2d",
   "metadata": {},
   "source": [
    "## Przygotowanie funkcji do modelowania"
   ]
  },
  {
   "cell_type": "code",
   "execution_count": 10,
   "id": "e6324e9d-9f0d-4ad0-a914-a1af1c973092",
   "metadata": {},
   "outputs": [],
   "source": [
    "# split a univariate dataset into train/test sets\n",
    "def train_test_split(data, n_test):\n",
    "\treturn data[:-n_test], data[-n_test:]"
   ]
  },
  {
   "cell_type": "code",
   "execution_count": 11,
   "id": "bbe5539d-23f0-4864-874f-0d77575724a4",
   "metadata": {},
   "outputs": [],
   "source": [
    "# transform list into supervised learning format\n",
    "def series_to_supervised(data, n_in=1, n_out=1, dropnan=True):\n",
    "\t\"\"\"\n",
    "\tFrame a time series as a supervised learning dataset.\n",
    "\tArguments:\n",
    "\t\tdata: Sequence of observations as a list or NumPy array.\n",
    "\t\tn_in: Number of lag observations as input (X).\n",
    "\t\tn_out: Number of observations as output (y).\n",
    "\t\tdropnan: Boolean whether or not to drop rows with NaN values.\n",
    "\tReturns:\n",
    "\t\tPandas DataFrame of series framed for supervised learning.\n",
    "\t\"\"\"\n",
    "\tn_vars = 1 if type(data) is list else data.shape[1]\n",
    "\tdf = pd.DataFrame(data)\n",
    "\tcols, names = list(), list()\n",
    "\t# input sequence (t-n, ... t-1)\n",
    "\tfor i in range(n_in, 0, -1):\n",
    "\t\tcols.append(df.shift(i))\n",
    "\t\tnames += [('var%d(t-%d)' % (j+1, i)) for j in range(n_vars)]\n",
    "\t# forecast sequence (t, t+1, ... t+n)\n",
    "\tfor i in range(0, n_out):\n",
    "\t\tcols.append(df.shift(-i))\n",
    "\t\tif i == 0:\n",
    "\t\t\tnames += [('var%d(t)' % (j+1)) for j in range(n_vars)]\n",
    "\t\telse:\n",
    "\t\t\tnames += [('var%d(t+%d)' % (j+1, i)) for j in range(n_vars)]\n",
    "\t# put it all together\n",
    "\tagg = pd.concat(cols, axis=1)\n",
    "\tagg.columns = names\n",
    "\t# drop rows with NaN values\n",
    "\tif dropnan:\n",
    "\t\tagg.dropna(inplace=True)\n",
    "\treturn agg.values"
   ]
  },
  {
   "cell_type": "code",
   "execution_count": 12,
   "id": "f9289acb-e94e-4ae4-bba5-abf3d106e77b",
   "metadata": {},
   "outputs": [],
   "source": [
    "def mean_absolute_percentage_error(y_true, y_pred): \n",
    "    y_true, y_pred = np.array(y_true), np.array(y_pred)\n",
    "    return np.mean(np.abs((y_true - y_pred) / y_true)) * 100"
   ]
  },
  {
   "cell_type": "code",
   "execution_count": 13,
   "id": "8e1c833c-2318-4cad-8312-66707ce61c11",
   "metadata": {},
   "outputs": [],
   "source": [
    "# difference dataset\n",
    "def difference(data, order):\n",
    "\treturn pd.Series([data[i] - data[i - order] for i in range(order, len(data))])"
   ]
  },
  {
   "cell_type": "code",
   "execution_count": 14,
   "id": "f2889964-8492-41a3-aac4-b3f290d69423",
   "metadata": {},
   "outputs": [],
   "source": [
    "# to lagarithm values\n",
    "def log_transform(data):\n",
    "    return np.log(data)"
   ]
  },
  {
   "cell_type": "code",
   "execution_count": 15,
   "id": "dd06e14f-5a27-4c3c-8371-c7ec3184bcc7",
   "metadata": {},
   "outputs": [],
   "source": [
    "# to real values\n",
    "def log_inverse_transform(data):\n",
    "    return np.exp(data)"
   ]
  },
  {
   "cell_type": "code",
   "execution_count": 16,
   "id": "54bf4532-e4e8-4b89-a179-2c7ac0acc047",
   "metadata": {},
   "outputs": [],
   "source": [
    "# transform series into train and test sets for supervised learning\n",
    "def prepare_data(series, n_test, n_lag, n_seq):\n",
    "\t# extract raw values\n",
    "\traw_values = series.values\n",
    "\t# transform data to be stationary\n",
    "\tdiff_series = difference(raw_values, 1)\n",
    "\tdiff_values = diff_series.values\n",
    "\tdiff_values = diff_values.reshape(len(diff_values), 1)\n",
    "    # rescale values to -1, 1\n",
    "\tscaler = MinMaxScaler(feature_range=(-1, 1))\n",
    "\tscaled_values = scaler.fit_transform(diff_values)\n",
    "\tscaled_values = scaled_values.reshape(len(scaled_values), 1)\n",
    "\n",
    "\t# transform into supervised learning problem X, y\n",
    "\n",
    "\tsupervised = series_to_supervised(scaled_values, n_lag, n_seq)\n",
    "\t# split into train and test sets\n",
    "\ttrain, test = train_test_split(supervised,n_test)\n",
    "\treturn\tscaler,train, test"
   ]
  },
  {
   "cell_type": "code",
   "execution_count": 17,
   "id": "ede65ab4-3376-4bd9-a128-2e93361c6c21",
   "metadata": {},
   "outputs": [],
   "source": [
    "# invert differenced forecast\n",
    "def inverse_difference(last_ob, forecast):\n",
    "\t# invert first forecast\n",
    "\tinverted = list()\n",
    "\tinverted.append(forecast[0] + last_ob)\n",
    "\t# propagate difference forecast using inverted first value\n",
    "\tfor i in range(1, len(forecast)):\n",
    "\t\tinverted.append(forecast[i] + inverted[i-1])\n",
    "\treturn inverted"
   ]
  },
  {
   "cell_type": "code",
   "execution_count": 18,
   "id": "a5ba24be-a3ba-46a4-abd5-b0e7f538317c",
   "metadata": {},
   "outputs": [],
   "source": [
    "# inverse data differencing on forecasts\n",
    "def inverse_transform(series, forecasts, n_test,scaler):\n",
    "\tinverted = list()\n",
    "\tfor i in range(len(forecasts)):\n",
    "        # create array from forecast\n",
    "\t\tforecast = np.array(forecasts[i])\n",
    "\t\tforecast = forecast.reshape(len(forecast),1)\n",
    "\t\t# invert scaling\n",
    "\t\tinv_scale = scaler.inverse_transform(forecast)\n",
    "\t\tinv_scale = inv_scale[:, 0]\n",
    "\t\t# invert differencing\n",
    "\t\tindex = len(series) - n_test + i - 1\n",
    "\t\tlast_ob = series.values[index][0]\n",
    "\t\tinv_diff = inverse_difference(last_ob, inv_scale)\n",
    "\t\t# store\n",
    "\t\tinverted.append(inv_diff)\n",
    "\treturn inverted"
   ]
  },
  {
   "cell_type": "code",
   "execution_count": 19,
   "id": "93ade5d5-ad7b-4d3e-9a62-592b0ad65934",
   "metadata": {},
   "outputs": [],
   "source": [
    "# evaluate the RMSE for each forecast time step\n",
    "def evaluate_forecasts(test, forecasts, n_lag, n_seq):\n",
    "\tresults=dict()\n",
    "\tfor i in range(n_seq):\n",
    "\t\tactual = [row[i] for row in test]\n",
    "\t\tpredicted = [forecast[i] for forecast in forecasts]\n",
    "\t\trmse = np.sqrt(mean_squared_error(actual, predicted))\n",
    "\t\tmape=mean_absolute_percentage_error(actual,predicted)\n",
    "\t\tprint('t+%d RMSE: %f' % ((i+1), rmse))\n",
    "\t\tprint('t+%d MAPE: %f' % ((i+1), mape ))\n",
    "\t\tresults['t+%d RMSE'%(i+1)]=rmse\n",
    "\t\tresults['t+%d MAPE'%(i+1)]=mape\n",
    "\t\tresults['t+%d actual'%(i+1)]=actual\n",
    "\t\tresults['t+%d predicted'%(i+1)]=predicted\n",
    "\treturn results"
   ]
  },
  {
   "cell_type": "code",
   "execution_count": 20,
   "id": "9ae5b35a-9714-4b8b-8f4f-a31d69cbbbea",
   "metadata": {},
   "outputs": [],
   "source": [
    "# plot the forecasts in the context of the original dataset\n",
    "def plot_forecasts(series, forecasts, n_test):\n",
    "\t# plot the entire dataset in blue\n",
    "\t#plt.plot(series.values)\n",
    "\t# plot the forecasts in red\n",
    "\tfor i in range(len(forecasts)):\n",
    "\t\toff_s = len(series) - n_test + i+1\n",
    "\t\toff_e = off_s + len(forecasts[i]) +1\n",
    "\t\txaxis = [x for x in range(off_s, off_e)]\n",
    "\t\tyaxis = [series.values[off_s]] + forecasts[i]\n",
    "\t\tplt.plot(xaxis, yaxis, color='red')\n",
    "\tplt.plot(series.reset_index()[-n_test:].index,series[-n_test:].values)\n",
    "\t# show the plot\n",
    "\tplt.show()"
   ]
  },
  {
   "cell_type": "code",
   "execution_count": 21,
   "id": "96e7944b-2c1e-4c2f-930e-c2bc1f419f9e",
   "metadata": {},
   "outputs": [],
   "source": [
    "# forecast with the fit model\n",
    "def model_predict(model, X):\n",
    "    # reshape input pattern to [samples, timesteps, features]\n",
    "\tX = X.reshape(1, len(X),1)\n",
    "\t# forecast\n",
    "\tyhat = model.predict(X, verbose=0)\t\n",
    "    # convert to array\n",
    "\treturn [x for x in yhat[0, :]]"
   ]
  },
  {
   "cell_type": "code",
   "execution_count": 22,
   "id": "505fa608-1f98-44c9-a926-9cd5ea27b1d1",
   "metadata": {
    "tags": []
   },
   "outputs": [],
   "source": [
    "# walk-forward validation for univariate data\n",
    "def walk_forward_validation(data, n_test,type_model,k,n_lag,period_fore,cur):\n",
    "\t# split dataset\n",
    "\tscaler,train, test = prepare_data(data, n_test,n_lag,period_fore)\n",
    "\t# fit model for type_model\n",
    "\tif type_model=='rnn':\n",
    "\t\tmodel = model_fit_RNN(train,k,n_lag,period_fore,cur)\n",
    "\telif type_model=='lstm':\n",
    "\t\tmodel = model_fit_LSTM(train,k,n_lag,period_fore,cur)\n",
    "\telif type_model=='gru':\n",
    "\t\tmodel = model_fit_GRU(train,k,n_lag,period_fore,cur)\n",
    "\t\n",
    "\tpredictions = list()\n",
    "\t# step over each time-step in the test set\n",
    "\tfor i in range(len(test)):\n",
    "\t\tX,y=test[i,0:n_lag],test[i,n_lag:]\n",
    "\t\t# fit model and make forecast for history\n",
    "\t\tforecast = model_predict(model, X)\n",
    "\t\t# store forecast in list of predictions\n",
    "\t\tpredictions.append(forecast)\n",
    "\t# inverse transform forecasts and test\n",
    "\tforecasts = inverse_transform(data, predictions, n_test+period_fore-1,scaler)\n",
    "\tactual = [row[n_lag:] for row in test]\n",
    "\tactual = inverse_transform(data, actual, n_test+period_fore-1,scaler)\n",
    "\t#print(\"Predictions after inverse transform: \",forecasts)\n",
    "\t#print(\"Actual values after inverse transform: \",actual)\n",
    "\t# estimate prediction error\n",
    "\terror = evaluate_forecasts(actual,forecasts,n_lag,period_fore)\n",
    "\treturn [model, error,forecasts]"
   ]
  },
  {
   "cell_type": "code",
   "execution_count": 23,
   "id": "08d64e78-6360-4c2f-9243-fb241d3529ba",
   "metadata": {},
   "outputs": [],
   "source": [
    "# score a model, return None on failure\n",
    "def evaluate_model(data,n_test,n_lag,period_fore,type_model,cur,n_repeats=1):\n",
    "\tresults=[]\n",
    "\tfor k in range(n_repeats):\n",
    "\t\tresults.append(walk_forward_validation(data, n_test,type_model,k,n_lag,period_fore,cur))\n",
    "\t\n",
    "\tbest_accuracy_result=1000000\n",
    "\tbest_model=[]\n",
    "\tfor model in results:\n",
    "\t\taccuracy_result=[]\n",
    "\t\tfor i in range(1,15):\n",
    "\t\t\taccuracy_result.append(model[1]['t+%d MAPE'%i])\n",
    "\t\tif( np.mean(accuracy_result)<best_accuracy_result):\n",
    "\t\t\tbest_accuracy_result=np.mean(accuracy_result)\n",
    "\t\t\tbest_model=model\n",
    "\n",
    "\treturn best_model"
   ]
  },
  {
   "cell_type": "code",
   "execution_count": 24,
   "id": "31f023a4-aef1-4772-81a8-fefd0f6ea3bf",
   "metadata": {
    "tags": []
   },
   "outputs": [],
   "source": [
    "class MyTuner(BayesianOptimization):\n",
    "  def run_trial(self, trial, *args, **kwargs):\n",
    "    # You can add additional HyperParameters for preprocessing and custom training loops\n",
    "    # via overriding `run_trial`\n",
    "    kwargs['batch_size'] = trial.hyperparameters.Int('batch_size', 64, 320, step=32)\n",
    "    kwargs['epochs'] = trial.hyperparameters.Int('epochs', 20, 50,step=10)\n",
    "    return super(MyTuner, self).run_trial(trial, *args, **kwargs)"
   ]
  },
  {
   "cell_type": "code",
   "execution_count": 25,
   "id": "66bb5289-1167-4894-a501-b95429f9a4ea",
   "metadata": {},
   "outputs": [],
   "source": [
    "def model_save(model,curr,model_type):\n",
    "    model[0].save(f'Forecasting_result\\\\{curr}_USD\\\\{curr}_{model_type}_model')\n",
    "    data=pd.DataFrame()\n",
    "    for i in range(1,15):\n",
    "        data['t+%d actual'%i]=model[1]['t+%d actual'%i]\n",
    "        data['t+%d predicted'%i]=model[1]['t+%d predicted'%i]\n",
    "    data.to_csv(f'Forecasting_result\\\\{curr}_USD\\\\{curr}_{model_type}_forecast.csv')\n",
    "    return None"
   ]
  },
  {
   "cell_type": "markdown",
   "id": "0b1d003d-7ebf-4fb6-9f4d-afbc8e367095",
   "metadata": {
    "tags": []
   },
   "source": [
    "## Prosty model RNN"
   ]
  },
  {
   "cell_type": "code",
   "execution_count": 28,
   "id": "6b4b4d4f-ecaf-4c16-9019-c1162f156eb1",
   "metadata": {
    "tags": []
   },
   "outputs": [],
   "source": [
    "def build_model_rnn(hp):\n",
    "\tmodel = keras.models.Sequential()\n",
    "\tmodel.add(keras.layers.SimpleRNN(units=hp.Int('input_units',min_value=32,max_value=160,step=32),activation=hp.Choice('act_0', ['relu', 'sigmoid','tanh']),return_sequences=True, input_shape=(30, 1)))\n",
    "\tmodel.add(keras.layers.Dropout(hp.Float('Dropout_rate_0',min_value=0,max_value=0.6,step=0.1)))\n",
    "\tnum_layers = hp.Int('num_layers', 0, 3)\n",
    "\tfor i in range(num_layers):\n",
    "\t\twith hp.conditional_scope('num_layers', list(range(i + 1, 3 + 1))):\n",
    "\t#for i in range(hp.Int(\"num_layers\", 0, 3)):\n",
    "\t\t\tmodel.add(keras.layers.SimpleRNN(units=hp.Int('units_'+str(i+1),min_value=32,max_value=320,step=32),activation=hp.Choice('act_'+str(i+1), ['relu', 'sigmoid','tanh']),return_sequences=True))\n",
    "\t\t\tmodel.add(keras.layers.Dropout(hp.Float('Dropout_rate_'+str(i+1),min_value=0,max_value=0.6,step=0.1)))\n",
    "\tmodel.add(keras.layers.SimpleRNN(units=hp.Int('lastRNN_units',min_value=32,max_value=320,step=32),activation=hp.Choice('act_last', ['relu', 'sigmoid','tanh']),return_sequences=False ))\t\n",
    "\tmodel.add(keras.layers.Dense(14))\n",
    "\thp_optimizer = hp.Choice('optimizer', values=['Adam', 'SGD', 'Adamax'])\n",
    "\toptimizer = keras.optimizers.get(hp_optimizer)\n",
    "\toptimizer.learning_rate = hp.Choice(\"learning_rate\", [0.1, 0.01, 0.001], default=0.01)\n",
    "\t\n",
    "\tmodel.compile(loss = 'mean_squared_error',metrics=keras.metrics.MeanSquaredError(), optimizer=optimizer)\n",
    "\n",
    "\treturn model"
   ]
  },
  {
   "cell_type": "code",
   "execution_count": 86,
   "id": "7dfd5126-58dc-4a50-a022-47d7387ca86d",
   "metadata": {},
   "outputs": [],
   "source": [
    "# fit a model\n",
    "def model_fit_RNN(train,k,n_lag,period_fore,cur):\n",
    "\n",
    "\t#split train to train and valid\n",
    "\ttrain,valid=train_test_split(train,math.floor(len(train) * 0.1))\n",
    "\t# separate inputs and outputs\n",
    "\ttrain_x, train_y = train[:, :n_lag], train[:, n_lag:]\n",
    "\tvalid_x, valid_y = valid[:, :n_lag], valid[:, n_lag:]\n",
    "\n",
    "\t# reshape input data into [samples, timesteps, features]\n",
    "\ttrain_x = train_x.reshape((train_x.shape[0],train_x.shape[1],1))\n",
    "\tvalid_x = valid_x.reshape((valid_x.shape[0],valid_x.shape[1],1))\n",
    "\n",
    "\t# define model\n",
    "\tbayesian_opt_tuner = MyTuner(\n",
    "\tbuild_model_rnn,\n",
    "\tobjective=Objective(\"val_loss\", direction=\"min\"),\n",
    "\tmax_trials=5,\n",
    "\texecutions_per_trial=2,\n",
    "\tdirectory=\".\\\\Keras_tuner_results\",\n",
    "\tproject_name=str(cur)+'RNN_bayes_opt_'+str(k),\n",
    "\toverwrite=True,\n",
    "    seed=48)\n",
    "\tbayesian_opt_tuner.search(x=train_x, y=train_y, epochs=20,callbacks=[keras.callbacks.EarlyStopping('val_loss', patience=5,mode='min'),keras.callbacks.TerminateOnNaN()],validation_data=(valid_x,valid_y))\n",
    "\t#get best model\n",
    "\tbayes_opt_model_best_model = bayesian_opt_tuner.get_best_models(num_models=1)\n",
    "\tmodel = bayes_opt_model_best_model[0]\n",
    "\n",
    "\treturn model\n"
   ]
  },
  {
   "cell_type": "code",
   "execution_count": 31,
   "id": "e0816393-2fbb-43e6-8247-ffd3fae47e2e",
   "metadata": {},
   "outputs": [
    {
     "name": "stdout",
     "output_type": "stream",
     "text": [
      "Trial 5 Complete [00h 00m 23s]\n",
      "val_loss: 0.061617858707904816\n",
      "\n",
      "Best val_loss So Far: 0.05797561816871166\n",
      "Total elapsed time: 00h 02m 10s\n",
      "INFO:tensorflow:Oracle triggered exit\n",
      "t+1 RMSE: 0.004206\n",
      "t+1 MAPE: 0.447984\n",
      "t+2 RMSE: 0.005830\n",
      "t+2 MAPE: 0.599876\n",
      "t+3 RMSE: 0.006958\n",
      "t+3 MAPE: 0.737468\n",
      "t+4 RMSE: 0.007794\n",
      "t+4 MAPE: 0.824785\n",
      "t+5 RMSE: 0.008429\n",
      "t+5 MAPE: 0.905932\n",
      "t+6 RMSE: 0.009065\n",
      "t+6 MAPE: 0.971092\n",
      "t+7 RMSE: 0.009800\n",
      "t+7 MAPE: 1.064341\n",
      "t+8 RMSE: 0.010578\n",
      "t+8 MAPE: 1.156636\n",
      "t+9 RMSE: 0.011269\n",
      "t+9 MAPE: 1.242644\n",
      "t+10 RMSE: 0.011852\n",
      "t+10 MAPE: 1.311269\n",
      "t+11 RMSE: 0.012315\n",
      "t+11 MAPE: 1.370405\n",
      "t+12 RMSE: 0.012858\n",
      "t+12 MAPE: 1.426466\n",
      "t+13 RMSE: 0.013370\n",
      "t+13 MAPE: 1.493036\n",
      "t+14 RMSE: 0.013796\n",
      "t+14 MAPE: 1.538317\n",
      "done\n"
     ]
    }
   ],
   "source": [
    "test_size = math.ceil(len(aud_usd) * 0.20)\n",
    "n_lag=30\n",
    "period_fore=14\n",
    "aud_rnn_model= evaluate_model(aud_usd,test_size,n_lag,period_fore,'rnn','aud',n_repeats=4)\n",
    "print('done')\n"
   ]
  },
  {
   "cell_type": "code",
   "execution_count": 66,
   "id": "255cfae0-40bb-41fa-9c1b-057dc7fd5272",
   "metadata": {},
   "outputs": [
    {
     "name": "stdout",
     "output_type": "stream",
     "text": [
      "INFO:tensorflow:Assets written to: Forecasting_result\\AUD_USD\\AUD_RNN_model\\assets\n"
     ]
    }
   ],
   "source": [
    "model_save(aud_rnn_model,'AUD','RNN')"
   ]
  },
  {
   "cell_type": "code",
   "execution_count": 67,
   "id": "052f385f-a1cf-4b67-9ce1-e7390cf1c0a1",
   "metadata": {},
   "outputs": [
    {
     "name": "stdout",
     "output_type": "stream",
     "text": [
      "Trial 5 Complete [00h 00m 11s]\n",
      "val_loss: 0.04972595348954201\n",
      "\n",
      "Best val_loss So Far: 0.049680693075060844\n",
      "Total elapsed time: 00h 01m 46s\n",
      "INFO:tensorflow:Oracle triggered exit\n",
      "t+1 RMSE: 0.003342\n",
      "t+1 MAPE: 0.327364\n",
      "t+2 RMSE: 0.004759\n",
      "t+2 MAPE: 0.464368\n",
      "t+3 RMSE: 0.005562\n",
      "t+3 MAPE: 0.550095\n",
      "t+4 RMSE: 0.006205\n",
      "t+4 MAPE: 0.613164\n",
      "t+5 RMSE: 0.006703\n",
      "t+5 MAPE: 0.663616\n",
      "t+6 RMSE: 0.007273\n",
      "t+6 MAPE: 0.737103\n",
      "t+7 RMSE: 0.007809\n",
      "t+7 MAPE: 0.801047\n",
      "t+8 RMSE: 0.008253\n",
      "t+8 MAPE: 0.841738\n",
      "t+9 RMSE: 0.008831\n",
      "t+9 MAPE: 0.890716\n",
      "t+10 RMSE: 0.009447\n",
      "t+10 MAPE: 0.950036\n",
      "t+11 RMSE: 0.009906\n",
      "t+11 MAPE: 1.001006\n",
      "t+12 RMSE: 0.010323\n",
      "t+12 MAPE: 1.038779\n",
      "t+13 RMSE: 0.010678\n",
      "t+13 MAPE: 1.072391\n",
      "t+14 RMSE: 0.011127\n",
      "t+14 MAPE: 1.105547\n",
      "done\n"
     ]
    }
   ],
   "source": [
    "test_size = math.ceil(len(cad_usd) * 0.20)\n",
    "n_lag=30\n",
    "period_fore=14\n",
    "cad_rnn_model= evaluate_model(cad_usd,test_size,n_lag,period_fore,'rnn','cad',n_repeats=4)\n",
    "print('done')"
   ]
  },
  {
   "cell_type": "code",
   "execution_count": 68,
   "id": "6e25267b-990d-4c0b-b628-2fc60507b6c9",
   "metadata": {},
   "outputs": [
    {
     "name": "stdout",
     "output_type": "stream",
     "text": [
      "WARNING:tensorflow:Unresolved object in checkpoint: (root).optimizer.iter\n",
      "WARNING:tensorflow:Unresolved object in checkpoint: (root).optimizer.beta_1\n",
      "WARNING:tensorflow:Unresolved object in checkpoint: (root).optimizer.beta_2\n",
      "WARNING:tensorflow:Unresolved object in checkpoint: (root).optimizer.decay\n",
      "WARNING:tensorflow:Unresolved object in checkpoint: (root).optimizer.learning_rate\n",
      "WARNING:tensorflow:A checkpoint was restored (e.g. tf.train.Checkpoint.restore or tf.keras.Model.load_weights) but not all checkpointed values were used. See above for specific issues. Use expect_partial() on the load status object, e.g. tf.train.Checkpoint.restore(...).expect_partial(), to silence these warnings, or use assert_consumed() to make the check explicit. See https://www.tensorflow.org/guide/checkpoint#loading_mechanics for details.\n",
      "WARNING:tensorflow:Unresolved object in checkpoint: (root).optimizer.iter\n",
      "WARNING:tensorflow:Unresolved object in checkpoint: (root).optimizer.beta_1\n",
      "WARNING:tensorflow:Unresolved object in checkpoint: (root).optimizer.beta_2\n",
      "WARNING:tensorflow:Unresolved object in checkpoint: (root).optimizer.decay\n",
      "WARNING:tensorflow:Unresolved object in checkpoint: (root).optimizer.learning_rate\n",
      "WARNING:tensorflow:A checkpoint was restored (e.g. tf.train.Checkpoint.restore or tf.keras.Model.load_weights) but not all checkpointed values were used. See above for specific issues. Use expect_partial() on the load status object, e.g. tf.train.Checkpoint.restore(...).expect_partial(), to silence these warnings, or use assert_consumed() to make the check explicit. See https://www.tensorflow.org/guide/checkpoint#loading_mechanics for details.\n",
      "WARNING:tensorflow:Unresolved object in checkpoint: (root).optimizer.iter\n",
      "WARNING:tensorflow:Unresolved object in checkpoint: (root).optimizer.beta_1\n",
      "WARNING:tensorflow:Unresolved object in checkpoint: (root).optimizer.beta_2\n",
      "WARNING:tensorflow:Unresolved object in checkpoint: (root).optimizer.decay\n",
      "WARNING:tensorflow:Unresolved object in checkpoint: (root).optimizer.learning_rate\n",
      "WARNING:tensorflow:A checkpoint was restored (e.g. tf.train.Checkpoint.restore or tf.keras.Model.load_weights) but not all checkpointed values were used. See above for specific issues. Use expect_partial() on the load status object, e.g. tf.train.Checkpoint.restore(...).expect_partial(), to silence these warnings, or use assert_consumed() to make the check explicit. See https://www.tensorflow.org/guide/checkpoint#loading_mechanics for details.\n",
      "INFO:tensorflow:Assets written to: Forecasting_result\\CAD_USD\\CAD_RNN_model\\assets\n"
     ]
    }
   ],
   "source": [
    "model_save(cad_rnn_model,'CAD','RNN')"
   ]
  },
  {
   "cell_type": "code",
   "execution_count": 77,
   "id": "dc869172-c6e6-427b-9881-db62e52e940d",
   "metadata": {},
   "outputs": [
    {
     "name": "stdout",
     "output_type": "stream",
     "text": [
      "Trial 5 Complete [00h 00m 09s]\n",
      "val_loss: 0.043537091463804245\n",
      "\n",
      "Best val_loss So Far: 0.041352272033691406\n",
      "Total elapsed time: 00h 01m 40s\n",
      "INFO:tensorflow:Oracle triggered exit\n",
      "t+1 RMSE: 0.004248\n",
      "t+1 MAPE: 0.277496\n",
      "t+2 RMSE: 0.005834\n",
      "t+2 MAPE: 0.386699\n",
      "t+3 RMSE: 0.007104\n",
      "t+3 MAPE: 0.472658\n",
      "t+4 RMSE: 0.008121\n",
      "t+4 MAPE: 0.553399\n",
      "t+5 RMSE: 0.009014\n",
      "t+5 MAPE: 0.611836\n",
      "t+6 RMSE: 0.009905\n",
      "t+6 MAPE: 0.668353\n",
      "t+7 RMSE: 0.010714\n",
      "t+7 MAPE: 0.716072\n",
      "t+8 RMSE: 0.011516\n",
      "t+8 MAPE: 0.762968\n",
      "t+9 RMSE: 0.012419\n",
      "t+9 MAPE: 0.827185\n",
      "t+10 RMSE: 0.013209\n",
      "t+10 MAPE: 0.884735\n",
      "t+11 RMSE: 0.013934\n",
      "t+11 MAPE: 0.941376\n",
      "t+12 RMSE: 0.014773\n",
      "t+12 MAPE: 1.002033\n",
      "t+13 RMSE: 0.015387\n",
      "t+13 MAPE: 1.046228\n",
      "t+14 RMSE: 0.016092\n",
      "t+14 MAPE: 1.101967\n",
      "done\n"
     ]
    }
   ],
   "source": [
    "test_size = math.ceil(len(eur_usd) * 0.20)\n",
    "n_lag=30\n",
    "period_fore=14\n",
    "eur_rnn_model= evaluate_model(eur_usd,test_size,n_lag,period_fore,'rnn','eur',n_repeats=4)\n",
    "print('done')"
   ]
  },
  {
   "cell_type": "code",
   "execution_count": 78,
   "id": "dce405cc-d215-40d2-9ca3-3348b2ead6d7",
   "metadata": {},
   "outputs": [
    {
     "name": "stdout",
     "output_type": "stream",
     "text": [
      "WARNING:tensorflow:Unresolved object in checkpoint: (root).optimizer.iter\n",
      "WARNING:tensorflow:Unresolved object in checkpoint: (root).optimizer.beta_1\n",
      "WARNING:tensorflow:Unresolved object in checkpoint: (root).optimizer.beta_2\n",
      "WARNING:tensorflow:Unresolved object in checkpoint: (root).optimizer.decay\n",
      "WARNING:tensorflow:Unresolved object in checkpoint: (root).optimizer.learning_rate\n",
      "WARNING:tensorflow:A checkpoint was restored (e.g. tf.train.Checkpoint.restore or tf.keras.Model.load_weights) but not all checkpointed values were used. See above for specific issues. Use expect_partial() on the load status object, e.g. tf.train.Checkpoint.restore(...).expect_partial(), to silence these warnings, or use assert_consumed() to make the check explicit. See https://www.tensorflow.org/guide/checkpoint#loading_mechanics for details.\n",
      "WARNING:tensorflow:Unresolved object in checkpoint: (root).optimizer.iter\n",
      "WARNING:tensorflow:Unresolved object in checkpoint: (root).optimizer.beta_1\n",
      "WARNING:tensorflow:Unresolved object in checkpoint: (root).optimizer.beta_2\n",
      "WARNING:tensorflow:Unresolved object in checkpoint: (root).optimizer.decay\n",
      "WARNING:tensorflow:Unresolved object in checkpoint: (root).optimizer.learning_rate\n",
      "WARNING:tensorflow:A checkpoint was restored (e.g. tf.train.Checkpoint.restore or tf.keras.Model.load_weights) but not all checkpointed values were used. See above for specific issues. Use expect_partial() on the load status object, e.g. tf.train.Checkpoint.restore(...).expect_partial(), to silence these warnings, or use assert_consumed() to make the check explicit. See https://www.tensorflow.org/guide/checkpoint#loading_mechanics for details.\n",
      "WARNING:tensorflow:Unresolved object in checkpoint: (root).optimizer.iter\n",
      "WARNING:tensorflow:Unresolved object in checkpoint: (root).optimizer.beta_1\n",
      "WARNING:tensorflow:Unresolved object in checkpoint: (root).optimizer.beta_2\n",
      "WARNING:tensorflow:Unresolved object in checkpoint: (root).optimizer.decay\n",
      "WARNING:tensorflow:Unresolved object in checkpoint: (root).optimizer.learning_rate\n",
      "WARNING:tensorflow:A checkpoint was restored (e.g. tf.train.Checkpoint.restore or tf.keras.Model.load_weights) but not all checkpointed values were used. See above for specific issues. Use expect_partial() on the load status object, e.g. tf.train.Checkpoint.restore(...).expect_partial(), to silence these warnings, or use assert_consumed() to make the check explicit. See https://www.tensorflow.org/guide/checkpoint#loading_mechanics for details.\n",
      "INFO:tensorflow:Assets written to: Forecasting_result\\EUR_USD\\EUR_RNN_model\\assets\n"
     ]
    }
   ],
   "source": [
    "model_save(eur_rnn_model,'EUR','RNN')"
   ]
  },
  {
   "cell_type": "code",
   "execution_count": 79,
   "id": "d2104ea0-090f-48bf-b86f-1f5451518fd4",
   "metadata": {},
   "outputs": [
    {
     "name": "stdout",
     "output_type": "stream",
     "text": [
      "Trial 5 Complete [00h 00m 11s]\n",
      "val_loss: 0.034768808633089066\n",
      "\n",
      "Best val_loss So Far: 0.03472239337861538\n",
      "Total elapsed time: 00h 01m 50s\n",
      "INFO:tensorflow:Oracle triggered exit\n",
      "t+1 RMSE: 0.005838\n",
      "t+1 MAPE: 0.339077\n",
      "t+2 RMSE: 0.008178\n",
      "t+2 MAPE: 0.470592\n",
      "t+3 RMSE: 0.009729\n",
      "t+3 MAPE: 0.555143\n",
      "t+4 RMSE: 0.010529\n",
      "t+4 MAPE: 0.602836\n",
      "t+5 RMSE: 0.011351\n",
      "t+5 MAPE: 0.657651\n",
      "t+6 RMSE: 0.012260\n",
      "t+6 MAPE: 0.716836\n",
      "t+7 RMSE: 0.012998\n",
      "t+7 MAPE: 0.770186\n",
      "t+8 RMSE: 0.013915\n",
      "t+8 MAPE: 0.825944\n",
      "t+9 RMSE: 0.014725\n",
      "t+9 MAPE: 0.873607\n",
      "t+10 RMSE: 0.015530\n",
      "t+10 MAPE: 0.926761\n",
      "t+11 RMSE: 0.016299\n",
      "t+11 MAPE: 0.974744\n",
      "t+12 RMSE: 0.017218\n",
      "t+12 MAPE: 1.030567\n",
      "t+13 RMSE: 0.017940\n",
      "t+13 MAPE: 1.085523\n",
      "t+14 RMSE: 0.018510\n",
      "t+14 MAPE: 1.114882\n",
      "done\n"
     ]
    }
   ],
   "source": [
    "test_size = math.ceil(len(gbp_usd) * 0.20)\n",
    "n_lag=30\n",
    "period_fore=14\n",
    "gbp_rnn_model= evaluate_model(gbp_usd,test_size,n_lag,period_fore,'rnn','gbp',n_repeats=4)\n",
    "print('done')"
   ]
  },
  {
   "cell_type": "code",
   "execution_count": 80,
   "id": "c8a80a0f-e677-44ac-b346-a84721c83d46",
   "metadata": {},
   "outputs": [
    {
     "name": "stdout",
     "output_type": "stream",
     "text": [
      "WARNING:tensorflow:Unresolved object in checkpoint: (root).optimizer.iter\n",
      "WARNING:tensorflow:Unresolved object in checkpoint: (root).optimizer.beta_1\n",
      "WARNING:tensorflow:Unresolved object in checkpoint: (root).optimizer.beta_2\n",
      "WARNING:tensorflow:Unresolved object in checkpoint: (root).optimizer.decay\n",
      "WARNING:tensorflow:Unresolved object in checkpoint: (root).optimizer.learning_rate\n",
      "WARNING:tensorflow:A checkpoint was restored (e.g. tf.train.Checkpoint.restore or tf.keras.Model.load_weights) but not all checkpointed values were used. See above for specific issues. Use expect_partial() on the load status object, e.g. tf.train.Checkpoint.restore(...).expect_partial(), to silence these warnings, or use assert_consumed() to make the check explicit. See https://www.tensorflow.org/guide/checkpoint#loading_mechanics for details.\n",
      "WARNING:tensorflow:Unresolved object in checkpoint: (root).optimizer.iter\n",
      "WARNING:tensorflow:Unresolved object in checkpoint: (root).optimizer.beta_1\n",
      "WARNING:tensorflow:Unresolved object in checkpoint: (root).optimizer.beta_2\n",
      "WARNING:tensorflow:Unresolved object in checkpoint: (root).optimizer.decay\n",
      "WARNING:tensorflow:Unresolved object in checkpoint: (root).optimizer.learning_rate\n",
      "WARNING:tensorflow:A checkpoint was restored (e.g. tf.train.Checkpoint.restore or tf.keras.Model.load_weights) but not all checkpointed values were used. See above for specific issues. Use expect_partial() on the load status object, e.g. tf.train.Checkpoint.restore(...).expect_partial(), to silence these warnings, or use assert_consumed() to make the check explicit. See https://www.tensorflow.org/guide/checkpoint#loading_mechanics for details.\n",
      "WARNING:tensorflow:Unresolved object in checkpoint: (root).optimizer.iter\n",
      "WARNING:tensorflow:Unresolved object in checkpoint: (root).optimizer.beta_1\n",
      "WARNING:tensorflow:Unresolved object in checkpoint: (root).optimizer.beta_2\n",
      "WARNING:tensorflow:Unresolved object in checkpoint: (root).optimizer.decay\n",
      "WARNING:tensorflow:Unresolved object in checkpoint: (root).optimizer.learning_rate\n",
      "WARNING:tensorflow:A checkpoint was restored (e.g. tf.train.Checkpoint.restore or tf.keras.Model.load_weights) but not all checkpointed values were used. See above for specific issues. Use expect_partial() on the load status object, e.g. tf.train.Checkpoint.restore(...).expect_partial(), to silence these warnings, or use assert_consumed() to make the check explicit. See https://www.tensorflow.org/guide/checkpoint#loading_mechanics for details.\n",
      "INFO:tensorflow:Assets written to: Forecasting_result\\GBP_USD\\GBP_RNN_model\\assets\n"
     ]
    }
   ],
   "source": [
    "model_save(gbp_rnn_model,'GBP','RNN')"
   ]
  },
  {
   "cell_type": "code",
   "execution_count": 84,
   "id": "dfdc0b67-c027-4e31-b6cd-b3f63c45255a",
   "metadata": {},
   "outputs": [
    {
     "name": "stdout",
     "output_type": "stream",
     "text": [
      "Trial 20 Complete [00h 00m 16s]\n",
      "val_loss: 0.017283464781939983\n",
      "\n",
      "Best val_loss So Far: 0.01710404083132744\n",
      "Total elapsed time: 00h 06m 52s\n",
      "INFO:tensorflow:Oracle triggered exit\n",
      "t+1 RMSE: 0.000032\n",
      "t+1 MAPE: 0.270469\n",
      "t+2 RMSE: 0.000046\n",
      "t+2 MAPE: 0.391118\n",
      "t+3 RMSE: 0.000057\n",
      "t+3 MAPE: 0.491024\n",
      "t+4 RMSE: 0.000065\n",
      "t+4 MAPE: 0.555633\n",
      "t+5 RMSE: 0.000072\n",
      "t+5 MAPE: 0.620076\n",
      "t+6 RMSE: 0.000078\n",
      "t+6 MAPE: 0.665907\n",
      "t+7 RMSE: 0.000083\n",
      "t+7 MAPE: 0.700867\n",
      "t+8 RMSE: 0.000089\n",
      "t+8 MAPE: 0.746850\n",
      "t+9 RMSE: 0.000094\n",
      "t+9 MAPE: 0.799954\n",
      "t+10 RMSE: 0.000101\n",
      "t+10 MAPE: 0.852732\n",
      "t+11 RMSE: 0.000106\n",
      "t+11 MAPE: 0.907482\n",
      "t+12 RMSE: 0.000113\n",
      "t+12 MAPE: 0.969542\n",
      "t+13 RMSE: 0.000120\n",
      "t+13 MAPE: 1.038834\n",
      "t+14 RMSE: 0.000128\n",
      "t+14 MAPE: 1.110258\n",
      "done\n"
     ]
    }
   ],
   "source": [
    "test_size = math.ceil(len(jpy_usd) * 0.20)\n",
    "n_lag=30\n",
    "period_fore=14\n",
    "jpy_rnn_model= evaluate_model(jpy_usd,test_size,n_lag,period_fore,'rnn','jpy',n_repeats=4)\n",
    "print('done')"
   ]
  },
  {
   "cell_type": "code",
   "execution_count": 85,
   "id": "9876fdf8-5a33-41e5-ac88-b33ee8dec204",
   "metadata": {},
   "outputs": [
    {
     "name": "stdout",
     "output_type": "stream",
     "text": [
      "WARNING:tensorflow:Unresolved object in checkpoint: (root).optimizer.iter\n",
      "WARNING:tensorflow:Unresolved object in checkpoint: (root).optimizer.beta_1\n",
      "WARNING:tensorflow:Unresolved object in checkpoint: (root).optimizer.beta_2\n",
      "WARNING:tensorflow:Unresolved object in checkpoint: (root).optimizer.decay\n",
      "WARNING:tensorflow:Unresolved object in checkpoint: (root).optimizer.learning_rate\n",
      "WARNING:tensorflow:A checkpoint was restored (e.g. tf.train.Checkpoint.restore or tf.keras.Model.load_weights) but not all checkpointed values were used. See above for specific issues. Use expect_partial() on the load status object, e.g. tf.train.Checkpoint.restore(...).expect_partial(), to silence these warnings, or use assert_consumed() to make the check explicit. See https://www.tensorflow.org/guide/checkpoint#loading_mechanics for details.\n",
      "INFO:tensorflow:Assets written to: Forecasting_result\\JPY_USD\\JPY_RNN_model\\assets\n"
     ]
    }
   ],
   "source": [
    "model_save(jpy_rnn_model,'JPY','RNN')"
   ]
  },
  {
   "cell_type": "code",
   "execution_count": 90,
   "id": "e90683ab-3aef-4918-99e1-6ba4a272972c",
   "metadata": {},
   "outputs": [
    {
     "name": "stdout",
     "output_type": "stream",
     "text": [
      "Trial 5 Complete [00h 00m 18s]\n",
      "val_loss: 0.006281793816015124\n",
      "\n",
      "Best val_loss So Far: 0.006272644270211458\n",
      "Total elapsed time: 00h 01m 42s\n",
      "INFO:tensorflow:Oracle triggered exit\n",
      "t+1 RMSE: 1821.094938\n",
      "t+1 MAPE: 3.090391\n",
      "t+2 RMSE: 2592.994057\n",
      "t+2 MAPE: 4.477917\n",
      "t+3 RMSE: 3160.830440\n",
      "t+3 MAPE: 5.641567\n",
      "t+4 RMSE: 3629.086449\n",
      "t+4 MAPE: 6.383985\n",
      "t+5 RMSE: 4129.078628\n",
      "t+5 MAPE: 7.190436\n",
      "t+6 RMSE: 4581.741633\n",
      "t+6 MAPE: 7.885199\n",
      "t+7 RMSE: 5007.844601\n",
      "t+7 MAPE: 8.658118\n",
      "t+8 RMSE: 5388.801951\n",
      "t+8 MAPE: 9.374784\n",
      "t+9 RMSE: 5708.761171\n",
      "t+9 MAPE: 9.977489\n",
      "t+10 RMSE: 6031.323660\n",
      "t+10 MAPE: 10.520272\n",
      "t+11 RMSE: 6373.002934\n",
      "t+11 MAPE: 11.134401\n",
      "t+12 RMSE: 6685.791484\n",
      "t+12 MAPE: 11.643089\n",
      "t+13 RMSE: 6965.321908\n",
      "t+13 MAPE: 12.118844\n",
      "t+14 RMSE: 7239.304277\n",
      "t+14 MAPE: 12.610411\n",
      "done\n"
     ]
    }
   ],
   "source": [
    "test_size = math.floor(len(btc_usd) * 0.20)\n",
    "n_lag=30\n",
    "period_fore=14\n",
    "btc_rnn_model= evaluate_model(btc_usd,test_size,n_lag,period_fore,'rnn','btc',n_repeats=4)\n",
    "print('done')"
   ]
  },
  {
   "cell_type": "code",
   "execution_count": 91,
   "id": "a1d376a6-38fc-4c9f-9c2c-d3aef6dd5f86",
   "metadata": {},
   "outputs": [
    {
     "name": "stdout",
     "output_type": "stream",
     "text": [
      "WARNING:tensorflow:Unresolved object in checkpoint: (root).optimizer.iter\n",
      "WARNING:tensorflow:Unresolved object in checkpoint: (root).optimizer.beta_1\n",
      "WARNING:tensorflow:Unresolved object in checkpoint: (root).optimizer.beta_2\n",
      "WARNING:tensorflow:Unresolved object in checkpoint: (root).optimizer.decay\n",
      "WARNING:tensorflow:Unresolved object in checkpoint: (root).optimizer.learning_rate\n",
      "WARNING:tensorflow:A checkpoint was restored (e.g. tf.train.Checkpoint.restore or tf.keras.Model.load_weights) but not all checkpointed values were used. See above for specific issues. Use expect_partial() on the load status object, e.g. tf.train.Checkpoint.restore(...).expect_partial(), to silence these warnings, or use assert_consumed() to make the check explicit. See https://www.tensorflow.org/guide/checkpoint#loading_mechanics for details.\n",
      "WARNING:tensorflow:Unresolved object in checkpoint: (root).optimizer.iter\n",
      "WARNING:tensorflow:Unresolved object in checkpoint: (root).optimizer.beta_1\n",
      "WARNING:tensorflow:Unresolved object in checkpoint: (root).optimizer.beta_2\n",
      "WARNING:tensorflow:Unresolved object in checkpoint: (root).optimizer.decay\n",
      "WARNING:tensorflow:Unresolved object in checkpoint: (root).optimizer.learning_rate\n",
      "WARNING:tensorflow:A checkpoint was restored (e.g. tf.train.Checkpoint.restore or tf.keras.Model.load_weights) but not all checkpointed values were used. See above for specific issues. Use expect_partial() on the load status object, e.g. tf.train.Checkpoint.restore(...).expect_partial(), to silence these warnings, or use assert_consumed() to make the check explicit. See https://www.tensorflow.org/guide/checkpoint#loading_mechanics for details.\n",
      "WARNING:tensorflow:Unresolved object in checkpoint: (root).optimizer.iter\n",
      "WARNING:tensorflow:Unresolved object in checkpoint: (root).optimizer.beta_1\n",
      "WARNING:tensorflow:Unresolved object in checkpoint: (root).optimizer.beta_2\n",
      "WARNING:tensorflow:Unresolved object in checkpoint: (root).optimizer.decay\n",
      "WARNING:tensorflow:Unresolved object in checkpoint: (root).optimizer.learning_rate\n",
      "WARNING:tensorflow:A checkpoint was restored (e.g. tf.train.Checkpoint.restore or tf.keras.Model.load_weights) but not all checkpointed values were used. See above for specific issues. Use expect_partial() on the load status object, e.g. tf.train.Checkpoint.restore(...).expect_partial(), to silence these warnings, or use assert_consumed() to make the check explicit. See https://www.tensorflow.org/guide/checkpoint#loading_mechanics for details.\n",
      "INFO:tensorflow:Assets written to: Forecasting_result\\BTC_USD\\BTC_RNN_model\\assets\n"
     ]
    }
   ],
   "source": [
    "model_save(btc_rnn_model,'BTC','RNN')"
   ]
  },
  {
   "cell_type": "code",
   "execution_count": 93,
   "id": "fb042c37-6bd7-4e88-ae88-d3ccf6854bd2",
   "metadata": {},
   "outputs": [
    {
     "name": "stdout",
     "output_type": "stream",
     "text": [
      "Trial 5 Complete [00h 00m 23s]\n",
      "val_loss: 0.00256987422471866\n",
      "\n",
      "Best val_loss So Far: 1.0099473115587898e-06\n",
      "Total elapsed time: 00h 02m 17s\n",
      "INFO:tensorflow:Oracle triggered exit\n",
      "t+1 RMSE: 0.024007\n",
      "t+1 MAPE: 6.170643\n",
      "t+2 RMSE: 0.033248\n",
      "t+2 MAPE: 8.525182\n",
      "t+3 RMSE: 0.041125\n",
      "t+3 MAPE: 10.600313\n",
      "t+4 RMSE: 0.049731\n",
      "t+4 MAPE: 12.462766\n",
      "t+5 RMSE: 0.056916\n",
      "t+5 MAPE: 14.081702\n",
      "t+6 RMSE: 0.061217\n",
      "t+6 MAPE: 15.572485\n",
      "t+7 RMSE: 0.065141\n",
      "t+7 MAPE: 17.210103\n",
      "t+8 RMSE: 0.069046\n",
      "t+8 MAPE: 18.413548\n",
      "t+9 RMSE: 0.071911\n",
      "t+9 MAPE: 19.632586\n",
      "t+10 RMSE: 0.074962\n",
      "t+10 MAPE: 20.635468\n",
      "t+11 RMSE: 0.078628\n",
      "t+11 MAPE: 21.777089\n",
      "t+12 RMSE: 0.081903\n",
      "t+12 MAPE: 22.797150\n",
      "t+13 RMSE: 0.084232\n",
      "t+13 MAPE: 24.062023\n",
      "t+14 RMSE: 0.087298\n",
      "t+14 MAPE: 25.251156\n",
      "done\n"
     ]
    }
   ],
   "source": [
    "test_size = math.floor(len(doge_usd) * 0.20)\n",
    "n_lag=30\n",
    "period_fore=14\n",
    "doge_rnn_model= evaluate_model(doge_usd,test_size,n_lag,period_fore,'rnn','doge',n_repeats=4)\n",
    "print('done')"
   ]
  },
  {
   "cell_type": "code",
   "execution_count": 94,
   "id": "f833674a-2639-46ac-9cb6-f4e38419914c",
   "metadata": {},
   "outputs": [
    {
     "name": "stdout",
     "output_type": "stream",
     "text": [
      "WARNING:tensorflow:Unresolved object in checkpoint: (root).optimizer.iter\n",
      "WARNING:tensorflow:Unresolved object in checkpoint: (root).optimizer.beta_1\n",
      "WARNING:tensorflow:Unresolved object in checkpoint: (root).optimizer.beta_2\n",
      "WARNING:tensorflow:Unresolved object in checkpoint: (root).optimizer.decay\n",
      "WARNING:tensorflow:Unresolved object in checkpoint: (root).optimizer.learning_rate\n",
      "WARNING:tensorflow:A checkpoint was restored (e.g. tf.train.Checkpoint.restore or tf.keras.Model.load_weights) but not all checkpointed values were used. See above for specific issues. Use expect_partial() on the load status object, e.g. tf.train.Checkpoint.restore(...).expect_partial(), to silence these warnings, or use assert_consumed() to make the check explicit. See https://www.tensorflow.org/guide/checkpoint#loading_mechanics for details.\n",
      "WARNING:tensorflow:Unresolved object in checkpoint: (root).optimizer.iter\n",
      "WARNING:tensorflow:Unresolved object in checkpoint: (root).optimizer.beta_1\n",
      "WARNING:tensorflow:Unresolved object in checkpoint: (root).optimizer.beta_2\n",
      "WARNING:tensorflow:Unresolved object in checkpoint: (root).optimizer.decay\n",
      "WARNING:tensorflow:Unresolved object in checkpoint: (root).optimizer.learning_rate\n",
      "WARNING:tensorflow:A checkpoint was restored (e.g. tf.train.Checkpoint.restore or tf.keras.Model.load_weights) but not all checkpointed values were used. See above for specific issues. Use expect_partial() on the load status object, e.g. tf.train.Checkpoint.restore(...).expect_partial(), to silence these warnings, or use assert_consumed() to make the check explicit. See https://www.tensorflow.org/guide/checkpoint#loading_mechanics for details.\n",
      "WARNING:tensorflow:Unresolved object in checkpoint: (root).optimizer.iter\n",
      "WARNING:tensorflow:Unresolved object in checkpoint: (root).optimizer.beta_1\n",
      "WARNING:tensorflow:Unresolved object in checkpoint: (root).optimizer.beta_2\n",
      "WARNING:tensorflow:Unresolved object in checkpoint: (root).optimizer.decay\n",
      "WARNING:tensorflow:Unresolved object in checkpoint: (root).optimizer.learning_rate\n",
      "WARNING:tensorflow:A checkpoint was restored (e.g. tf.train.Checkpoint.restore or tf.keras.Model.load_weights) but not all checkpointed values were used. See above for specific issues. Use expect_partial() on the load status object, e.g. tf.train.Checkpoint.restore(...).expect_partial(), to silence these warnings, or use assert_consumed() to make the check explicit. See https://www.tensorflow.org/guide/checkpoint#loading_mechanics for details.\n",
      "INFO:tensorflow:Assets written to: Forecasting_result\\DOGE_USD\\DOGE_RNN_model\\assets\n"
     ]
    }
   ],
   "source": [
    "model_save(doge_rnn_model,'DOGE','RNN')"
   ]
  },
  {
   "cell_type": "code",
   "execution_count": 96,
   "id": "bed6e537-ee7b-4471-9589-afca929abf4a",
   "metadata": {},
   "outputs": [
    {
     "name": "stdout",
     "output_type": "stream",
     "text": [
      "Trial 5 Complete [00h 00m 32s]\n",
      "val_loss: 0.0010015945881605148\n",
      "\n",
      "Best val_loss So Far: 0.0008789846033323556\n",
      "Total elapsed time: 00h 02m 34s\n",
      "INFO:tensorflow:Oracle triggered exit\n",
      "t+1 RMSE: 142.157047\n",
      "t+1 MAPE: 3.994702\n",
      "t+2 RMSE: 193.133834\n",
      "t+2 MAPE: 5.837087\n",
      "t+3 RMSE: 235.569589\n",
      "t+3 MAPE: 7.205622\n",
      "t+4 RMSE: 268.451930\n",
      "t+4 MAPE: 8.182403\n",
      "t+5 RMSE: 305.250295\n",
      "t+5 MAPE: 9.265894\n",
      "t+6 RMSE: 332.564443\n",
      "t+6 MAPE: 10.021634\n",
      "t+7 RMSE: 366.658263\n",
      "t+7 MAPE: 10.952749\n",
      "t+8 RMSE: 396.883658\n",
      "t+8 MAPE: 11.854337\n",
      "t+9 RMSE: 421.727735\n",
      "t+9 MAPE: 12.749169\n",
      "t+10 RMSE: 444.337869\n",
      "t+10 MAPE: 13.510901\n",
      "t+11 RMSE: 468.847673\n",
      "t+11 MAPE: 14.388522\n",
      "t+12 RMSE: 488.211382\n",
      "t+12 MAPE: 15.128807\n",
      "t+13 RMSE: 505.974497\n",
      "t+13 MAPE: 15.654661\n",
      "t+14 RMSE: 523.925621\n",
      "t+14 MAPE: 16.235164\n",
      "done\n"
     ]
    }
   ],
   "source": [
    "test_size = math.floor(len(eth_usd) * 0.20)\n",
    "n_lag=30\n",
    "period_fore=14\n",
    "eth_rnn_model= evaluate_model(eth_usd,test_size,n_lag,period_fore,'rnn','eth',n_repeats=4)\n",
    "print('done')"
   ]
  },
  {
   "cell_type": "code",
   "execution_count": 97,
   "id": "0e627aa8-3d04-49ca-bcae-ac725b9ae952",
   "metadata": {},
   "outputs": [
    {
     "name": "stdout",
     "output_type": "stream",
     "text": [
      "WARNING:tensorflow:Unresolved object in checkpoint: (root).optimizer.iter\n",
      "WARNING:tensorflow:Unresolved object in checkpoint: (root).optimizer.beta_1\n",
      "WARNING:tensorflow:Unresolved object in checkpoint: (root).optimizer.beta_2\n",
      "WARNING:tensorflow:Unresolved object in checkpoint: (root).optimizer.decay\n",
      "WARNING:tensorflow:Unresolved object in checkpoint: (root).optimizer.learning_rate\n",
      "WARNING:tensorflow:A checkpoint was restored (e.g. tf.train.Checkpoint.restore or tf.keras.Model.load_weights) but not all checkpointed values were used. See above for specific issues. Use expect_partial() on the load status object, e.g. tf.train.Checkpoint.restore(...).expect_partial(), to silence these warnings, or use assert_consumed() to make the check explicit. See https://www.tensorflow.org/guide/checkpoint#loading_mechanics for details.\n",
      "WARNING:tensorflow:Unresolved object in checkpoint: (root).optimizer.iter\n",
      "WARNING:tensorflow:Unresolved object in checkpoint: (root).optimizer.beta_1\n",
      "WARNING:tensorflow:Unresolved object in checkpoint: (root).optimizer.beta_2\n",
      "WARNING:tensorflow:Unresolved object in checkpoint: (root).optimizer.decay\n",
      "WARNING:tensorflow:Unresolved object in checkpoint: (root).optimizer.learning_rate\n",
      "WARNING:tensorflow:A checkpoint was restored (e.g. tf.train.Checkpoint.restore or tf.keras.Model.load_weights) but not all checkpointed values were used. See above for specific issues. Use expect_partial() on the load status object, e.g. tf.train.Checkpoint.restore(...).expect_partial(), to silence these warnings, or use assert_consumed() to make the check explicit. See https://www.tensorflow.org/guide/checkpoint#loading_mechanics for details.\n",
      "WARNING:tensorflow:Unresolved object in checkpoint: (root).optimizer.iter\n",
      "WARNING:tensorflow:Unresolved object in checkpoint: (root).optimizer.beta_1\n",
      "WARNING:tensorflow:Unresolved object in checkpoint: (root).optimizer.beta_2\n",
      "WARNING:tensorflow:Unresolved object in checkpoint: (root).optimizer.decay\n",
      "WARNING:tensorflow:Unresolved object in checkpoint: (root).optimizer.learning_rate\n",
      "WARNING:tensorflow:A checkpoint was restored (e.g. tf.train.Checkpoint.restore or tf.keras.Model.load_weights) but not all checkpointed values were used. See above for specific issues. Use expect_partial() on the load status object, e.g. tf.train.Checkpoint.restore(...).expect_partial(), to silence these warnings, or use assert_consumed() to make the check explicit. See https://www.tensorflow.org/guide/checkpoint#loading_mechanics for details.\n",
      "INFO:tensorflow:Assets written to: Forecasting_result\\ETH_USD\\ETH_RNN_model\\assets\n"
     ]
    }
   ],
   "source": [
    "model_save(eth_rnn_model,'ETH','RNN')"
   ]
  },
  {
   "cell_type": "code",
   "execution_count": 99,
   "id": "7fb5beff-357d-474a-a1cc-87342ea16d67",
   "metadata": {},
   "outputs": [
    {
     "name": "stdout",
     "output_type": "stream",
     "text": [
      "Trial 5 Complete [00h 00m 19s]\n",
      "val_loss: 0.007499240338802338\n",
      "\n",
      "Best val_loss So Far: 0.0012494820985011756\n",
      "Total elapsed time: 00h 02m 03s\n",
      "INFO:tensorflow:Oracle triggered exit\n",
      "t+1 RMSE: 12.254671\n",
      "t+1 MAPE: 4.312628\n",
      "t+2 RMSE: 17.182480\n",
      "t+2 MAPE: 6.302986\n",
      "t+3 RMSE: 21.315906\n",
      "t+3 MAPE: 7.915673\n",
      "t+4 RMSE: 24.535983\n",
      "t+4 MAPE: 9.047964\n",
      "t+5 RMSE: 28.010388\n",
      "t+5 MAPE: 10.363841\n",
      "t+6 RMSE: 30.738879\n",
      "t+6 MAPE: 11.533795\n",
      "t+7 RMSE: 34.097345\n",
      "t+7 MAPE: 12.814348\n",
      "t+8 RMSE: 36.921161\n",
      "t+8 MAPE: 13.834150\n",
      "t+9 RMSE: 39.226585\n",
      "t+9 MAPE: 14.586032\n",
      "t+10 RMSE: 41.437606\n",
      "t+10 MAPE: 15.387701\n",
      "t+11 RMSE: 43.605056\n",
      "t+11 MAPE: 16.247219\n",
      "t+12 RMSE: 45.523902\n",
      "t+12 MAPE: 17.134352\n",
      "t+13 RMSE: 47.102920\n",
      "t+13 MAPE: 17.775867\n",
      "t+14 RMSE: 48.555072\n",
      "t+14 MAPE: 18.348826\n",
      "done\n"
     ]
    }
   ],
   "source": [
    "test_size = math.floor(len(ltc_usd) * 0.20)\n",
    "n_lag=30\n",
    "period_fore=14\n",
    "ltc_rnn_model= evaluate_model(ltc_usd,test_size,n_lag,period_fore,'rnn','ltc',n_repeats=4)\n",
    "print('done')"
   ]
  },
  {
   "cell_type": "code",
   "execution_count": 100,
   "id": "c7070a6e-e0c6-4a17-83e1-5b51ea9e939d",
   "metadata": {},
   "outputs": [
    {
     "name": "stdout",
     "output_type": "stream",
     "text": [
      "WARNING:tensorflow:Unresolved object in checkpoint: (root).optimizer.iter\n",
      "WARNING:tensorflow:Unresolved object in checkpoint: (root).optimizer.beta_1\n",
      "WARNING:tensorflow:Unresolved object in checkpoint: (root).optimizer.beta_2\n",
      "WARNING:tensorflow:Unresolved object in checkpoint: (root).optimizer.decay\n",
      "WARNING:tensorflow:Unresolved object in checkpoint: (root).optimizer.learning_rate\n",
      "WARNING:tensorflow:A checkpoint was restored (e.g. tf.train.Checkpoint.restore or tf.keras.Model.load_weights) but not all checkpointed values were used. See above for specific issues. Use expect_partial() on the load status object, e.g. tf.train.Checkpoint.restore(...).expect_partial(), to silence these warnings, or use assert_consumed() to make the check explicit. See https://www.tensorflow.org/guide/checkpoint#loading_mechanics for details.\n",
      "WARNING:tensorflow:Unresolved object in checkpoint: (root).optimizer.iter\n",
      "WARNING:tensorflow:Unresolved object in checkpoint: (root).optimizer.beta_1\n",
      "WARNING:tensorflow:Unresolved object in checkpoint: (root).optimizer.beta_2\n",
      "WARNING:tensorflow:Unresolved object in checkpoint: (root).optimizer.decay\n",
      "WARNING:tensorflow:Unresolved object in checkpoint: (root).optimizer.learning_rate\n",
      "WARNING:tensorflow:A checkpoint was restored (e.g. tf.train.Checkpoint.restore or tf.keras.Model.load_weights) but not all checkpointed values were used. See above for specific issues. Use expect_partial() on the load status object, e.g. tf.train.Checkpoint.restore(...).expect_partial(), to silence these warnings, or use assert_consumed() to make the check explicit. See https://www.tensorflow.org/guide/checkpoint#loading_mechanics for details.\n",
      "WARNING:tensorflow:Unresolved object in checkpoint: (root).optimizer.iter\n",
      "WARNING:tensorflow:Unresolved object in checkpoint: (root).optimizer.beta_1\n",
      "WARNING:tensorflow:Unresolved object in checkpoint: (root).optimizer.beta_2\n",
      "WARNING:tensorflow:Unresolved object in checkpoint: (root).optimizer.decay\n",
      "WARNING:tensorflow:Unresolved object in checkpoint: (root).optimizer.learning_rate\n",
      "WARNING:tensorflow:A checkpoint was restored (e.g. tf.train.Checkpoint.restore or tf.keras.Model.load_weights) but not all checkpointed values were used. See above for specific issues. Use expect_partial() on the load status object, e.g. tf.train.Checkpoint.restore(...).expect_partial(), to silence these warnings, or use assert_consumed() to make the check explicit. See https://www.tensorflow.org/guide/checkpoint#loading_mechanics for details.\n",
      "INFO:tensorflow:Assets written to: Forecasting_result\\LTC_USD\\LTC_RNN_model\\assets\n"
     ]
    }
   ],
   "source": [
    "model_save(ltc_rnn_model,'LTC','RNN')"
   ]
  },
  {
   "cell_type": "code",
   "execution_count": 103,
   "id": "8307d9c8-1934-492f-a8a7-b164097f7c3a",
   "metadata": {},
   "outputs": [
    {
     "name": "stdout",
     "output_type": "stream",
     "text": [
      "Trial 5 Complete [00h 00m 42s]\n",
      "val_loss: 0.002678576624020934\n",
      "\n",
      "Best val_loss So Far: 0.002651133923791349\n",
      "Total elapsed time: 00h 02m 33s\n",
      "INFO:tensorflow:Oracle triggered exit\n",
      "t+1 RMSE: 0.068259\n",
      "t+1 MAPE: 5.152652\n",
      "t+2 RMSE: 0.097568\n",
      "t+2 MAPE: 7.481756\n",
      "t+3 RMSE: 0.118196\n",
      "t+3 MAPE: 9.377816\n",
      "t+4 RMSE: 0.139371\n",
      "t+4 MAPE: 10.854478\n",
      "t+5 RMSE: 0.158378\n",
      "t+5 MAPE: 12.210194\n",
      "t+6 RMSE: 0.173893\n",
      "t+6 MAPE: 13.235660\n",
      "t+7 RMSE: 0.189887\n",
      "t+7 MAPE: 14.686626\n",
      "t+8 RMSE: 0.203659\n",
      "t+8 MAPE: 16.031650\n",
      "t+9 RMSE: 0.214680\n",
      "t+9 MAPE: 17.043705\n",
      "t+10 RMSE: 0.226409\n",
      "t+10 MAPE: 17.921847\n",
      "t+11 RMSE: 0.237900\n",
      "t+11 MAPE: 18.813487\n",
      "t+12 RMSE: 0.245145\n",
      "t+12 MAPE: 19.394537\n",
      "t+13 RMSE: 0.251289\n",
      "t+13 MAPE: 19.802331\n",
      "t+14 RMSE: 0.257874\n",
      "t+14 MAPE: 20.109008\n",
      "done\n"
     ]
    }
   ],
   "source": [
    "test_size = math.floor(len(xrp_usd) * 0.20)\n",
    "n_lag=30\n",
    "period_fore=14\n",
    "xrp_rnn_model= evaluate_model(xrp_usd,test_size,n_lag,period_fore,'rnn','xrp',n_repeats=4)\n",
    "print('done')"
   ]
  },
  {
   "cell_type": "code",
   "execution_count": 104,
   "id": "e44ce14b-6411-4cac-bd79-b560859ed6f9",
   "metadata": {},
   "outputs": [
    {
     "name": "stdout",
     "output_type": "stream",
     "text": [
      "WARNING:tensorflow:Unresolved object in checkpoint: (root).optimizer.iter\n",
      "WARNING:tensorflow:Unresolved object in checkpoint: (root).optimizer.beta_1\n",
      "WARNING:tensorflow:Unresolved object in checkpoint: (root).optimizer.beta_2\n",
      "WARNING:tensorflow:Unresolved object in checkpoint: (root).optimizer.decay\n",
      "WARNING:tensorflow:Unresolved object in checkpoint: (root).optimizer.learning_rate\n",
      "WARNING:tensorflow:A checkpoint was restored (e.g. tf.train.Checkpoint.restore or tf.keras.Model.load_weights) but not all checkpointed values were used. See above for specific issues. Use expect_partial() on the load status object, e.g. tf.train.Checkpoint.restore(...).expect_partial(), to silence these warnings, or use assert_consumed() to make the check explicit. See https://www.tensorflow.org/guide/checkpoint#loading_mechanics for details.\n",
      "WARNING:tensorflow:Unresolved object in checkpoint: (root).optimizer.iter\n",
      "WARNING:tensorflow:Unresolved object in checkpoint: (root).optimizer.beta_1\n",
      "WARNING:tensorflow:Unresolved object in checkpoint: (root).optimizer.beta_2\n",
      "WARNING:tensorflow:Unresolved object in checkpoint: (root).optimizer.decay\n",
      "WARNING:tensorflow:Unresolved object in checkpoint: (root).optimizer.learning_rate\n",
      "WARNING:tensorflow:A checkpoint was restored (e.g. tf.train.Checkpoint.restore or tf.keras.Model.load_weights) but not all checkpointed values were used. See above for specific issues. Use expect_partial() on the load status object, e.g. tf.train.Checkpoint.restore(...).expect_partial(), to silence these warnings, or use assert_consumed() to make the check explicit. See https://www.tensorflow.org/guide/checkpoint#loading_mechanics for details.\n",
      "WARNING:tensorflow:Unresolved object in checkpoint: (root).optimizer.iter\n",
      "WARNING:tensorflow:Unresolved object in checkpoint: (root).optimizer.beta_1\n",
      "WARNING:tensorflow:Unresolved object in checkpoint: (root).optimizer.beta_2\n",
      "WARNING:tensorflow:Unresolved object in checkpoint: (root).optimizer.decay\n",
      "WARNING:tensorflow:Unresolved object in checkpoint: (root).optimizer.learning_rate\n",
      "WARNING:tensorflow:A checkpoint was restored (e.g. tf.train.Checkpoint.restore or tf.keras.Model.load_weights) but not all checkpointed values were used. See above for specific issues. Use expect_partial() on the load status object, e.g. tf.train.Checkpoint.restore(...).expect_partial(), to silence these warnings, or use assert_consumed() to make the check explicit. See https://www.tensorflow.org/guide/checkpoint#loading_mechanics for details.\n",
      "INFO:tensorflow:Assets written to: Forecasting_result\\XRP_USD\\XRP_RNN_model\\assets\n"
     ]
    }
   ],
   "source": [
    "model_save(xrp_rnn_model,'XRP','RNN')"
   ]
  },
  {
   "cell_type": "markdown",
   "id": "016aa247-19d6-41cb-939b-d55122d36e59",
   "metadata": {
    "tags": []
   },
   "source": [
    "## Model LSTM"
   ]
  },
  {
   "cell_type": "code",
   "execution_count": 105,
   "id": "fe85d0fa-7d2b-4eea-bcbc-56694fceb091",
   "metadata": {
    "tags": []
   },
   "outputs": [],
   "source": [
    "def build_model_LSTM(hp):\n",
    "\tmodel = keras.models.Sequential()\n",
    "\tmodel.add(keras.layers.LSTM(units=hp.Int('input_units',min_value=32,max_value=160,step=32),activation=hp.Choice('act_0', ['relu', 'sigmoid','tanh']),return_sequences=True, input_shape=(30, 1)))\n",
    "\tmodel.add(keras.layers.Dropout(hp.Float('Dropout_rate_0',min_value=0,max_value=0.6,step=0.1)))\n",
    "\tnum_layers = hp.Int('num_layers', 0, 3)\n",
    "\tfor i in range(num_layers):\n",
    "\t\twith hp.conditional_scope('num_layers', list(range(i + 1, 3 + 1))):\n",
    "\t#for i in range(hp.Int(\"num_layers\", 0, 3)):\n",
    "\t\t\tmodel.add(keras.layers.LSTM(units=hp.Int('units_'+str(i+1),min_value=32,max_value=320,step=32),activation=hp.Choice('act_'+str(i+1), ['relu', 'sigmoid','tanh']),return_sequences=True))\n",
    "\t\t\tmodel.add(keras.layers.Dropout(hp.Float('Dropout_rate_'+str(i+1),min_value=0,max_value=0.6,step=0.1)))\n",
    "\tmodel.add(keras.layers.LSTM(units=hp.Int('lastLSTM_units',min_value=32,max_value=320,step=32),activation=hp.Choice('act_last', ['relu', 'sigmoid','tanh']),return_sequences=False ))\t\n",
    "\tmodel.add(keras.layers.Dense(14))\n",
    "\thp_optimizer = hp.Choice('optimizer', values=['Adam', 'SGD', 'Adamax'])\n",
    "\toptimizer = keras.optimizers.get(hp_optimizer)\n",
    "\toptimizer.learning_rate = hp.Choice(\"learning_rate\", [0.1, 0.01, 0.001], default=0.01)\n",
    "\t\n",
    "\tmodel.compile(loss = 'mean_squared_error',metrics=keras.metrics.MeanSquaredError(), optimizer=optimizer)\n",
    "\n",
    "\treturn model"
   ]
  },
  {
   "cell_type": "code",
   "execution_count": 106,
   "id": "0802aac5-dc0c-46ff-b26e-63404afdcff5",
   "metadata": {},
   "outputs": [],
   "source": [
    "# fit a model\n",
    "def model_fit_LSTM(train,k,n_lag,period_fore,cur):\n",
    "\n",
    "\t#split train to train and valid\n",
    "\ttrain,valid=train_test_split(train,math.floor(len(train) * 0.1))\n",
    "\t# separate inputs and outputs\n",
    "\ttrain_x, train_y = train[:, :n_lag], train[:, n_lag:]\n",
    "\tvalid_x, valid_y = valid[:, :n_lag], valid[:, n_lag:]\n",
    "\n",
    "\t# reshape input data into [samples, timesteps, features]\n",
    "\ttrain_x = train_x.reshape((train_x.shape[0],train_x.shape[1],1))\n",
    "\tvalid_x = valid_x.reshape((valid_x.shape[0],valid_x.shape[1],1))\n",
    "\n",
    "\t# define model\n",
    "\tbayesian_opt_tuner = MyTuner(\n",
    "\tbuild_model_LSTM,\n",
    "\tobjective=Objective(\"val_loss\", direction=\"min\"),\n",
    "\tmax_trials=5,\n",
    "\texecutions_per_trial=2,\n",
    "\tdirectory=\".\\\\Keras_tuner_results\",\n",
    "\tproject_name=str(cur)+'LSTM_bayes_opt_'+str(k),\n",
    "\toverwrite=True,\n",
    "    seed=48)\n",
    "\tbayesian_opt_tuner.search(x=train_x, y=train_y, epochs=20,callbacks=[keras.callbacks.EarlyStopping('val_loss', patience=5,mode='min'),keras.callbacks.TerminateOnNaN()],validation_data=(valid_x,valid_y))\n",
    "\t#get best model\n",
    "\tbayes_opt_model_best_model = bayesian_opt_tuner.get_best_models(num_models=1)\n",
    "\tmodel = bayes_opt_model_best_model[0]\n",
    "\n",
    "\treturn model\n"
   ]
  },
  {
   "cell_type": "code",
   "execution_count": 107,
   "id": "2a8704bc-d014-4890-ab10-fc8390a94f3e",
   "metadata": {},
   "outputs": [
    {
     "name": "stdout",
     "output_type": "stream",
     "text": [
      "Trial 5 Complete [00h 00m 19s]\n",
      "val_loss: 0.05963214486837387\n",
      "\n",
      "Best val_loss So Far: 0.05800935812294483\n",
      "Total elapsed time: 00h 03m 06s\n",
      "INFO:tensorflow:Oracle triggered exit\n",
      "t+1 RMSE: 0.004196\n",
      "t+1 MAPE: 0.447704\n",
      "t+2 RMSE: 0.005824\n",
      "t+2 MAPE: 0.598794\n",
      "t+3 RMSE: 0.006960\n",
      "t+3 MAPE: 0.736913\n",
      "t+4 RMSE: 0.007793\n",
      "t+4 MAPE: 0.824663\n",
      "t+5 RMSE: 0.008430\n",
      "t+5 MAPE: 0.905738\n",
      "t+6 RMSE: 0.009060\n",
      "t+6 MAPE: 0.970506\n",
      "t+7 RMSE: 0.009792\n",
      "t+7 MAPE: 1.063411\n",
      "t+8 RMSE: 0.010572\n",
      "t+8 MAPE: 1.154851\n",
      "t+9 RMSE: 0.011264\n",
      "t+9 MAPE: 1.242126\n",
      "t+10 RMSE: 0.011825\n",
      "t+10 MAPE: 1.305811\n",
      "t+11 RMSE: 0.012293\n",
      "t+11 MAPE: 1.366262\n",
      "t+12 RMSE: 0.012796\n",
      "t+12 MAPE: 1.414678\n",
      "t+13 RMSE: 0.013288\n",
      "t+13 MAPE: 1.479300\n",
      "t+14 RMSE: 0.013722\n",
      "t+14 MAPE: 1.524750\n",
      "done\n"
     ]
    }
   ],
   "source": [
    "test_size = math.ceil(len(aud_usd) * 0.20)\n",
    "n_lag=30\n",
    "period_fore=14\n",
    "aud_lstm_model= evaluate_model(aud_usd,test_size,n_lag,period_fore,'lstm','aud',n_repeats=4)\n",
    "print('done')\n"
   ]
  },
  {
   "cell_type": "code",
   "execution_count": 108,
   "id": "e3421ff6-4040-44b3-99d6-c46334f5434a",
   "metadata": {},
   "outputs": [
    {
     "name": "stdout",
     "output_type": "stream",
     "text": [
      "WARNING:tensorflow:Unresolved object in checkpoint: (root).optimizer.iter\n",
      "WARNING:tensorflow:Unresolved object in checkpoint: (root).optimizer.beta_1\n",
      "WARNING:tensorflow:Unresolved object in checkpoint: (root).optimizer.beta_2\n",
      "WARNING:tensorflow:Unresolved object in checkpoint: (root).optimizer.decay\n",
      "WARNING:tensorflow:Unresolved object in checkpoint: (root).optimizer.learning_rate\n",
      "WARNING:tensorflow:A checkpoint was restored (e.g. tf.train.Checkpoint.restore or tf.keras.Model.load_weights) but not all checkpointed values were used. See above for specific issues. Use expect_partial() on the load status object, e.g. tf.train.Checkpoint.restore(...).expect_partial(), to silence these warnings, or use assert_consumed() to make the check explicit. See https://www.tensorflow.org/guide/checkpoint#loading_mechanics for details.\n",
      "WARNING:tensorflow:Unresolved object in checkpoint: (root).optimizer.iter\n",
      "WARNING:tensorflow:Unresolved object in checkpoint: (root).optimizer.beta_1\n",
      "WARNING:tensorflow:Unresolved object in checkpoint: (root).optimizer.beta_2\n",
      "WARNING:tensorflow:Unresolved object in checkpoint: (root).optimizer.decay\n",
      "WARNING:tensorflow:Unresolved object in checkpoint: (root).optimizer.learning_rate\n",
      "WARNING:tensorflow:A checkpoint was restored (e.g. tf.train.Checkpoint.restore or tf.keras.Model.load_weights) but not all checkpointed values were used. See above for specific issues. Use expect_partial() on the load status object, e.g. tf.train.Checkpoint.restore(...).expect_partial(), to silence these warnings, or use assert_consumed() to make the check explicit. See https://www.tensorflow.org/guide/checkpoint#loading_mechanics for details.\n",
      "WARNING:tensorflow:Unresolved object in checkpoint: (root).optimizer.iter\n",
      "WARNING:tensorflow:Unresolved object in checkpoint: (root).optimizer.beta_1\n",
      "WARNING:tensorflow:Unresolved object in checkpoint: (root).optimizer.beta_2\n",
      "WARNING:tensorflow:Unresolved object in checkpoint: (root).optimizer.decay\n",
      "WARNING:tensorflow:Unresolved object in checkpoint: (root).optimizer.learning_rate\n",
      "WARNING:tensorflow:A checkpoint was restored (e.g. tf.train.Checkpoint.restore or tf.keras.Model.load_weights) but not all checkpointed values were used. See above for specific issues. Use expect_partial() on the load status object, e.g. tf.train.Checkpoint.restore(...).expect_partial(), to silence these warnings, or use assert_consumed() to make the check explicit. See https://www.tensorflow.org/guide/checkpoint#loading_mechanics for details.\n",
      "INFO:tensorflow:Assets written to: Forecasting_result\\AUD_USD\\AUD_LSTM_model\\assets\n"
     ]
    }
   ],
   "source": [
    "model_save(aud_lstm_model,'AUD','LSTM')"
   ]
  },
  {
   "cell_type": "code",
   "execution_count": 109,
   "id": "f08dd67a-576b-4c2c-b418-b14b8076cf47",
   "metadata": {},
   "outputs": [
    {
     "name": "stdout",
     "output_type": "stream",
     "text": [
      "Trial 5 Complete [00h 00m 21s]\n",
      "val_loss: 0.04989246837794781\n",
      "\n",
      "Best val_loss So Far: 0.049724236130714417\n",
      "Total elapsed time: 00h 02m 47s\n",
      "INFO:tensorflow:Oracle triggered exit\n",
      "t+1 RMSE: 0.003341\n",
      "t+1 MAPE: 0.327109\n",
      "t+2 RMSE: 0.004754\n",
      "t+2 MAPE: 0.464129\n",
      "t+3 RMSE: 0.005552\n",
      "t+3 MAPE: 0.549343\n",
      "t+4 RMSE: 0.006193\n",
      "t+4 MAPE: 0.612040\n",
      "t+5 RMSE: 0.006703\n",
      "t+5 MAPE: 0.663585\n",
      "t+6 RMSE: 0.007277\n",
      "t+6 MAPE: 0.737755\n",
      "t+7 RMSE: 0.007802\n",
      "t+7 MAPE: 0.799904\n",
      "t+8 RMSE: 0.008232\n",
      "t+8 MAPE: 0.836949\n",
      "t+9 RMSE: 0.008814\n",
      "t+9 MAPE: 0.886217\n",
      "t+10 RMSE: 0.009431\n",
      "t+10 MAPE: 0.947163\n",
      "t+11 RMSE: 0.009888\n",
      "t+11 MAPE: 0.996515\n",
      "t+12 RMSE: 0.010307\n",
      "t+12 MAPE: 1.035762\n",
      "t+13 RMSE: 0.010672\n",
      "t+13 MAPE: 1.070932\n",
      "t+14 RMSE: 0.011111\n",
      "t+14 MAPE: 1.104644\n",
      "done\n"
     ]
    }
   ],
   "source": [
    "test_size = math.ceil(len(cad_usd) * 0.20)\n",
    "n_lag=30\n",
    "period_fore=14\n",
    "cad_lstm_model= evaluate_model(cad_usd,test_size,n_lag,period_fore,'lstm','cad',n_repeats=4)\n",
    "print('done')\n"
   ]
  },
  {
   "cell_type": "code",
   "execution_count": 110,
   "id": "fbed2b8b-c61e-4388-8b2d-9a98990269eb",
   "metadata": {},
   "outputs": [
    {
     "name": "stdout",
     "output_type": "stream",
     "text": [
      "WARNING:tensorflow:Unresolved object in checkpoint: (root).optimizer.iter\n",
      "WARNING:tensorflow:Unresolved object in checkpoint: (root).optimizer.beta_1\n",
      "WARNING:tensorflow:Unresolved object in checkpoint: (root).optimizer.beta_2\n",
      "WARNING:tensorflow:Unresolved object in checkpoint: (root).optimizer.decay\n",
      "WARNING:tensorflow:Unresolved object in checkpoint: (root).optimizer.learning_rate\n",
      "WARNING:tensorflow:A checkpoint was restored (e.g. tf.train.Checkpoint.restore or tf.keras.Model.load_weights) but not all checkpointed values were used. See above for specific issues. Use expect_partial() on the load status object, e.g. tf.train.Checkpoint.restore(...).expect_partial(), to silence these warnings, or use assert_consumed() to make the check explicit. See https://www.tensorflow.org/guide/checkpoint#loading_mechanics for details.\n",
      "WARNING:tensorflow:Unresolved object in checkpoint: (root).optimizer.iter\n",
      "WARNING:tensorflow:Unresolved object in checkpoint: (root).optimizer.beta_1\n",
      "WARNING:tensorflow:Unresolved object in checkpoint: (root).optimizer.beta_2\n",
      "WARNING:tensorflow:Unresolved object in checkpoint: (root).optimizer.decay\n",
      "WARNING:tensorflow:Unresolved object in checkpoint: (root).optimizer.learning_rate\n",
      "WARNING:tensorflow:A checkpoint was restored (e.g. tf.train.Checkpoint.restore or tf.keras.Model.load_weights) but not all checkpointed values were used. See above for specific issues. Use expect_partial() on the load status object, e.g. tf.train.Checkpoint.restore(...).expect_partial(), to silence these warnings, or use assert_consumed() to make the check explicit. See https://www.tensorflow.org/guide/checkpoint#loading_mechanics for details.\n",
      "WARNING:tensorflow:Unresolved object in checkpoint: (root).optimizer.iter\n",
      "WARNING:tensorflow:Unresolved object in checkpoint: (root).optimizer.beta_1\n",
      "WARNING:tensorflow:Unresolved object in checkpoint: (root).optimizer.beta_2\n",
      "WARNING:tensorflow:Unresolved object in checkpoint: (root).optimizer.decay\n",
      "WARNING:tensorflow:Unresolved object in checkpoint: (root).optimizer.learning_rate\n",
      "WARNING:tensorflow:A checkpoint was restored (e.g. tf.train.Checkpoint.restore or tf.keras.Model.load_weights) but not all checkpointed values were used. See above for specific issues. Use expect_partial() on the load status object, e.g. tf.train.Checkpoint.restore(...).expect_partial(), to silence these warnings, or use assert_consumed() to make the check explicit. See https://www.tensorflow.org/guide/checkpoint#loading_mechanics for details.\n",
      "INFO:tensorflow:Assets written to: Forecasting_result\\CAD_USD\\CAD_LSTM_model\\assets\n"
     ]
    }
   ],
   "source": [
    "model_save(cad_lstm_model,'CAD','LSTM')"
   ]
  },
  {
   "cell_type": "code",
   "execution_count": 111,
   "id": "8b540b57-dc75-4857-965d-5ef9f5eda8c5",
   "metadata": {},
   "outputs": [
    {
     "name": "stdout",
     "output_type": "stream",
     "text": [
      "Trial 5 Complete [00h 00m 23s]\n",
      "val_loss: 0.04136553965508938\n",
      "\n",
      "Best val_loss So Far: 0.04136514663696289\n",
      "Total elapsed time: 00h 04m 38s\n",
      "INFO:tensorflow:Oracle triggered exit\n",
      "t+1 RMSE: 0.004241\n",
      "t+1 MAPE: 0.277004\n",
      "t+2 RMSE: 0.005816\n",
      "t+2 MAPE: 0.385718\n",
      "t+3 RMSE: 0.007060\n",
      "t+3 MAPE: 0.469745\n",
      "t+4 RMSE: 0.008034\n",
      "t+4 MAPE: 0.548204\n",
      "t+5 RMSE: 0.008934\n",
      "t+5 MAPE: 0.606988\n",
      "t+6 RMSE: 0.009804\n",
      "t+6 MAPE: 0.662498\n",
      "t+7 RMSE: 0.010686\n",
      "t+7 MAPE: 0.714403\n",
      "t+8 RMSE: 0.011493\n",
      "t+8 MAPE: 0.761392\n",
      "t+9 RMSE: 0.012304\n",
      "t+9 MAPE: 0.819403\n",
      "t+10 RMSE: 0.012980\n",
      "t+10 MAPE: 0.867468\n",
      "t+11 RMSE: 0.013633\n",
      "t+11 MAPE: 0.918280\n",
      "t+12 RMSE: 0.014362\n",
      "t+12 MAPE: 0.972178\n",
      "t+13 RMSE: 0.014988\n",
      "t+13 MAPE: 1.019570\n",
      "t+14 RMSE: 0.015635\n",
      "t+14 MAPE: 1.068572\n",
      "done\n"
     ]
    }
   ],
   "source": [
    "test_size = math.ceil(len(eur_usd) * 0.20)\n",
    "n_lag=30\n",
    "period_fore=14\n",
    "eur_lstm_model= evaluate_model(eur_usd,test_size,n_lag,period_fore,'lstm','eur',n_repeats=4)\n",
    "print('done')\n"
   ]
  },
  {
   "cell_type": "code",
   "execution_count": 112,
   "id": "824c57fc-2526-44b7-8388-a725332dd580",
   "metadata": {},
   "outputs": [
    {
     "name": "stdout",
     "output_type": "stream",
     "text": [
      "WARNING:tensorflow:Unresolved object in checkpoint: (root).optimizer.iter\n",
      "WARNING:tensorflow:Unresolved object in checkpoint: (root).optimizer.beta_1\n",
      "WARNING:tensorflow:Unresolved object in checkpoint: (root).optimizer.beta_2\n",
      "WARNING:tensorflow:Unresolved object in checkpoint: (root).optimizer.decay\n",
      "WARNING:tensorflow:Unresolved object in checkpoint: (root).optimizer.learning_rate\n",
      "WARNING:tensorflow:A checkpoint was restored (e.g. tf.train.Checkpoint.restore or tf.keras.Model.load_weights) but not all checkpointed values were used. See above for specific issues. Use expect_partial() on the load status object, e.g. tf.train.Checkpoint.restore(...).expect_partial(), to silence these warnings, or use assert_consumed() to make the check explicit. See https://www.tensorflow.org/guide/checkpoint#loading_mechanics for details.\n",
      "WARNING:tensorflow:Unresolved object in checkpoint: (root).optimizer.iter\n",
      "WARNING:tensorflow:Unresolved object in checkpoint: (root).optimizer.beta_1\n",
      "WARNING:tensorflow:Unresolved object in checkpoint: (root).optimizer.beta_2\n",
      "WARNING:tensorflow:Unresolved object in checkpoint: (root).optimizer.decay\n",
      "WARNING:tensorflow:Unresolved object in checkpoint: (root).optimizer.learning_rate\n",
      "WARNING:tensorflow:A checkpoint was restored (e.g. tf.train.Checkpoint.restore or tf.keras.Model.load_weights) but not all checkpointed values were used. See above for specific issues. Use expect_partial() on the load status object, e.g. tf.train.Checkpoint.restore(...).expect_partial(), to silence these warnings, or use assert_consumed() to make the check explicit. See https://www.tensorflow.org/guide/checkpoint#loading_mechanics for details.\n",
      "WARNING:tensorflow:Unresolved object in checkpoint: (root).optimizer.iter\n",
      "WARNING:tensorflow:Unresolved object in checkpoint: (root).optimizer.beta_1\n",
      "WARNING:tensorflow:Unresolved object in checkpoint: (root).optimizer.beta_2\n",
      "WARNING:tensorflow:Unresolved object in checkpoint: (root).optimizer.decay\n",
      "WARNING:tensorflow:Unresolved object in checkpoint: (root).optimizer.learning_rate\n",
      "WARNING:tensorflow:A checkpoint was restored (e.g. tf.train.Checkpoint.restore or tf.keras.Model.load_weights) but not all checkpointed values were used. See above for specific issues. Use expect_partial() on the load status object, e.g. tf.train.Checkpoint.restore(...).expect_partial(), to silence these warnings, or use assert_consumed() to make the check explicit. See https://www.tensorflow.org/guide/checkpoint#loading_mechanics for details.\n",
      "INFO:tensorflow:Assets written to: Forecasting_result\\EUR_USD\\EUR_LSTM_model\\assets\n"
     ]
    }
   ],
   "source": [
    "model_save(eur_lstm_model,'EUR','LSTM')"
   ]
  },
  {
   "cell_type": "code",
   "execution_count": 113,
   "id": "b4a76190-410f-4300-9508-e4439eae567a",
   "metadata": {},
   "outputs": [
    {
     "name": "stdout",
     "output_type": "stream",
     "text": [
      "Trial 5 Complete [00h 01m 07s]\n",
      "val_loss: 0.03480350971221924\n",
      "\n",
      "Best val_loss So Far: 0.03470940515398979\n",
      "Total elapsed time: 00h 04m 36s\n",
      "INFO:tensorflow:Oracle triggered exit\n",
      "t+1 RMSE: 0.005847\n",
      "t+1 MAPE: 0.340042\n",
      "t+2 RMSE: 0.008196\n",
      "t+2 MAPE: 0.472305\n",
      "t+3 RMSE: 0.009771\n",
      "t+3 MAPE: 0.558168\n",
      "t+4 RMSE: 0.010554\n",
      "t+4 MAPE: 0.604453\n",
      "t+5 RMSE: 0.011365\n",
      "t+5 MAPE: 0.659116\n",
      "t+6 RMSE: 0.012238\n",
      "t+6 MAPE: 0.715611\n",
      "t+7 RMSE: 0.012934\n",
      "t+7 MAPE: 0.765435\n",
      "t+8 RMSE: 0.013838\n",
      "t+8 MAPE: 0.820402\n",
      "t+9 RMSE: 0.014651\n",
      "t+9 MAPE: 0.869643\n",
      "t+10 RMSE: 0.015420\n",
      "t+10 MAPE: 0.920019\n",
      "t+11 RMSE: 0.016218\n",
      "t+11 MAPE: 0.969792\n",
      "t+12 RMSE: 0.017088\n",
      "t+12 MAPE: 1.023541\n",
      "t+13 RMSE: 0.017783\n",
      "t+13 MAPE: 1.076866\n",
      "t+14 RMSE: 0.018403\n",
      "t+14 MAPE: 1.108700\n",
      "done\n"
     ]
    }
   ],
   "source": [
    "test_size = math.ceil(len(gbp_usd) * 0.20)\n",
    "n_lag=30\n",
    "period_fore=14\n",
    "gbp_lstm_model= evaluate_model(gbp_usd,test_size,n_lag,period_fore,'lstm','gbp',n_repeats=4)\n",
    "print('done')\n"
   ]
  },
  {
   "cell_type": "code",
   "execution_count": 114,
   "id": "51fdfadf-9258-44f2-a5a8-735b08813101",
   "metadata": {},
   "outputs": [
    {
     "name": "stdout",
     "output_type": "stream",
     "text": [
      "WARNING:tensorflow:Unresolved object in checkpoint: (root).optimizer.iter\n",
      "WARNING:tensorflow:Unresolved object in checkpoint: (root).optimizer.beta_1\n",
      "WARNING:tensorflow:Unresolved object in checkpoint: (root).optimizer.beta_2\n",
      "WARNING:tensorflow:Unresolved object in checkpoint: (root).optimizer.decay\n",
      "WARNING:tensorflow:Unresolved object in checkpoint: (root).optimizer.learning_rate\n",
      "WARNING:tensorflow:A checkpoint was restored (e.g. tf.train.Checkpoint.restore or tf.keras.Model.load_weights) but not all checkpointed values were used. See above for specific issues. Use expect_partial() on the load status object, e.g. tf.train.Checkpoint.restore(...).expect_partial(), to silence these warnings, or use assert_consumed() to make the check explicit. See https://www.tensorflow.org/guide/checkpoint#loading_mechanics for details.\n",
      "WARNING:tensorflow:Unresolved object in checkpoint: (root).optimizer.iter\n",
      "WARNING:tensorflow:Unresolved object in checkpoint: (root).optimizer.beta_1\n",
      "WARNING:tensorflow:Unresolved object in checkpoint: (root).optimizer.beta_2\n",
      "WARNING:tensorflow:Unresolved object in checkpoint: (root).optimizer.decay\n",
      "WARNING:tensorflow:Unresolved object in checkpoint: (root).optimizer.learning_rate\n",
      "WARNING:tensorflow:A checkpoint was restored (e.g. tf.train.Checkpoint.restore or tf.keras.Model.load_weights) but not all checkpointed values were used. See above for specific issues. Use expect_partial() on the load status object, e.g. tf.train.Checkpoint.restore(...).expect_partial(), to silence these warnings, or use assert_consumed() to make the check explicit. See https://www.tensorflow.org/guide/checkpoint#loading_mechanics for details.\n",
      "WARNING:tensorflow:Unresolved object in checkpoint: (root).optimizer.iter\n",
      "WARNING:tensorflow:Unresolved object in checkpoint: (root).optimizer.beta_1\n",
      "WARNING:tensorflow:Unresolved object in checkpoint: (root).optimizer.beta_2\n",
      "WARNING:tensorflow:Unresolved object in checkpoint: (root).optimizer.decay\n",
      "WARNING:tensorflow:Unresolved object in checkpoint: (root).optimizer.learning_rate\n",
      "WARNING:tensorflow:A checkpoint was restored (e.g. tf.train.Checkpoint.restore or tf.keras.Model.load_weights) but not all checkpointed values were used. See above for specific issues. Use expect_partial() on the load status object, e.g. tf.train.Checkpoint.restore(...).expect_partial(), to silence these warnings, or use assert_consumed() to make the check explicit. See https://www.tensorflow.org/guide/checkpoint#loading_mechanics for details.\n",
      "INFO:tensorflow:Assets written to: Forecasting_result\\GBP_USD\\GBP_LSTM_model\\assets\n"
     ]
    }
   ],
   "source": [
    "model_save(gbp_lstm_model,'GBP','LSTM')"
   ]
  },
  {
   "cell_type": "code",
   "execution_count": 115,
   "id": "c07990c1-1b72-4884-ac12-974ed81a8f8f",
   "metadata": {},
   "outputs": [
    {
     "name": "stdout",
     "output_type": "stream",
     "text": [
      "Trial 5 Complete [00h 00m 24s]\n",
      "val_loss: 0.017417737282812595\n",
      "\n",
      "Best val_loss So Far: 0.017085077241063118\n",
      "Total elapsed time: 00h 03m 56s\n",
      "INFO:tensorflow:Oracle triggered exit\n",
      "t+1 RMSE: 0.000032\n",
      "t+1 MAPE: 0.270868\n",
      "t+2 RMSE: 0.000046\n",
      "t+2 MAPE: 0.393000\n",
      "t+3 RMSE: 0.000057\n",
      "t+3 MAPE: 0.494443\n",
      "t+4 RMSE: 0.000066\n",
      "t+4 MAPE: 0.557845\n",
      "t+5 RMSE: 0.000073\n",
      "t+5 MAPE: 0.633691\n",
      "t+6 RMSE: 0.000080\n",
      "t+6 MAPE: 0.686203\n",
      "t+7 RMSE: 0.000086\n",
      "t+7 MAPE: 0.721627\n",
      "t+8 RMSE: 0.000091\n",
      "t+8 MAPE: 0.763898\n",
      "t+9 RMSE: 0.000097\n",
      "t+9 MAPE: 0.820505\n",
      "t+10 RMSE: 0.000103\n",
      "t+10 MAPE: 0.871415\n",
      "t+11 RMSE: 0.000109\n",
      "t+11 MAPE: 0.927293\n",
      "t+12 RMSE: 0.000116\n",
      "t+12 MAPE: 0.991959\n",
      "t+13 RMSE: 0.000123\n",
      "t+13 MAPE: 1.059562\n",
      "t+14 RMSE: 0.000130\n",
      "t+14 MAPE: 1.133113\n",
      "done\n"
     ]
    }
   ],
   "source": [
    "test_size = math.ceil(len(jpy_usd) * 0.20)\n",
    "n_lag=30\n",
    "period_fore=14\n",
    "jpy_lstm_model= evaluate_model(jpy_usd,test_size,n_lag,period_fore,'lstm','jpy',n_repeats=4)\n",
    "print('done')\n"
   ]
  },
  {
   "cell_type": "code",
   "execution_count": 117,
   "id": "cb4d8a6c-eee2-4fcc-9270-59ef113f158b",
   "metadata": {},
   "outputs": [
    {
     "name": "stdout",
     "output_type": "stream",
     "text": [
      "WARNING:tensorflow:Unresolved object in checkpoint: (root).optimizer.iter\n",
      "WARNING:tensorflow:Unresolved object in checkpoint: (root).optimizer.beta_1\n",
      "WARNING:tensorflow:Unresolved object in checkpoint: (root).optimizer.beta_2\n",
      "WARNING:tensorflow:Unresolved object in checkpoint: (root).optimizer.decay\n",
      "WARNING:tensorflow:Unresolved object in checkpoint: (root).optimizer.learning_rate\n",
      "WARNING:tensorflow:A checkpoint was restored (e.g. tf.train.Checkpoint.restore or tf.keras.Model.load_weights) but not all checkpointed values were used. See above for specific issues. Use expect_partial() on the load status object, e.g. tf.train.Checkpoint.restore(...).expect_partial(), to silence these warnings, or use assert_consumed() to make the check explicit. See https://www.tensorflow.org/guide/checkpoint#loading_mechanics for details.\n",
      "WARNING:tensorflow:Unresolved object in checkpoint: (root).optimizer.iter\n",
      "WARNING:tensorflow:Unresolved object in checkpoint: (root).optimizer.beta_1\n",
      "WARNING:tensorflow:Unresolved object in checkpoint: (root).optimizer.beta_2\n",
      "WARNING:tensorflow:Unresolved object in checkpoint: (root).optimizer.decay\n",
      "WARNING:tensorflow:Unresolved object in checkpoint: (root).optimizer.learning_rate\n",
      "WARNING:tensorflow:A checkpoint was restored (e.g. tf.train.Checkpoint.restore or tf.keras.Model.load_weights) but not all checkpointed values were used. See above for specific issues. Use expect_partial() on the load status object, e.g. tf.train.Checkpoint.restore(...).expect_partial(), to silence these warnings, or use assert_consumed() to make the check explicit. See https://www.tensorflow.org/guide/checkpoint#loading_mechanics for details.\n",
      "WARNING:tensorflow:Unresolved object in checkpoint: (root).optimizer.iter\n",
      "WARNING:tensorflow:Unresolved object in checkpoint: (root).optimizer.beta_1\n",
      "WARNING:tensorflow:Unresolved object in checkpoint: (root).optimizer.beta_2\n",
      "WARNING:tensorflow:Unresolved object in checkpoint: (root).optimizer.decay\n",
      "WARNING:tensorflow:Unresolved object in checkpoint: (root).optimizer.learning_rate\n",
      "WARNING:tensorflow:A checkpoint was restored (e.g. tf.train.Checkpoint.restore or tf.keras.Model.load_weights) but not all checkpointed values were used. See above for specific issues. Use expect_partial() on the load status object, e.g. tf.train.Checkpoint.restore(...).expect_partial(), to silence these warnings, or use assert_consumed() to make the check explicit. See https://www.tensorflow.org/guide/checkpoint#loading_mechanics for details.\n",
      "INFO:tensorflow:Assets written to: Forecasting_result\\JPY_USD\\JPY_LSTM_model\\assets\n"
     ]
    }
   ],
   "source": [
    "model_save(jpy_lstm_model,'JPY','LSTM')"
   ]
  },
  {
   "cell_type": "code",
   "execution_count": 118,
   "id": "4b3ab147-a658-4bc4-9a54-81ec92bdf717",
   "metadata": {},
   "outputs": [
    {
     "name": "stdout",
     "output_type": "stream",
     "text": [
      "Trial 5 Complete [00h 00m 25s]\n",
      "val_loss: 0.006259380141273141\n",
      "\n",
      "Best val_loss So Far: 0.006259380141273141\n",
      "Total elapsed time: 00h 05m 47s\n",
      "INFO:tensorflow:Oracle triggered exit\n",
      "t+1 RMSE: 1823.277725\n",
      "t+1 MAPE: 3.087743\n",
      "t+2 RMSE: 2592.328583\n",
      "t+2 MAPE: 4.476750\n",
      "t+3 RMSE: 3158.158134\n",
      "t+3 MAPE: 5.638445\n",
      "t+4 RMSE: 3625.505712\n",
      "t+4 MAPE: 6.374557\n",
      "t+5 RMSE: 4125.730327\n",
      "t+5 MAPE: 7.177421\n",
      "t+6 RMSE: 4574.150300\n",
      "t+6 MAPE: 7.868034\n",
      "t+7 RMSE: 5003.089220\n",
      "t+7 MAPE: 8.662118\n",
      "t+8 RMSE: 5383.660018\n",
      "t+8 MAPE: 9.355109\n",
      "t+9 RMSE: 5704.841441\n",
      "t+9 MAPE: 9.944998\n",
      "t+10 RMSE: 6027.477931\n",
      "t+10 MAPE: 10.484810\n",
      "t+11 RMSE: 6370.718637\n",
      "t+11 MAPE: 11.130983\n",
      "t+12 RMSE: 6687.517961\n",
      "t+12 MAPE: 11.636565\n",
      "t+13 RMSE: 6964.325968\n",
      "t+13 MAPE: 12.095080\n",
      "t+14 RMSE: 7242.853162\n",
      "t+14 MAPE: 12.600607\n",
      "done\n"
     ]
    }
   ],
   "source": [
    "test_size = math.floor(len(btc_usd) * 0.20)\n",
    "n_lag=30\n",
    "period_fore=14\n",
    "btc_lstm_model= evaluate_model(btc_usd,test_size,n_lag,period_fore,'lstm','btc',n_repeats=4)\n",
    "print('done')\n"
   ]
  },
  {
   "cell_type": "code",
   "execution_count": 120,
   "id": "191498ad-6ddd-4577-bd4a-dce208e557d9",
   "metadata": {},
   "outputs": [
    {
     "name": "stdout",
     "output_type": "stream",
     "text": [
      "WARNING:tensorflow:Unresolved object in checkpoint: (root).optimizer.iter\n",
      "WARNING:tensorflow:Unresolved object in checkpoint: (root).optimizer.beta_1\n",
      "WARNING:tensorflow:Unresolved object in checkpoint: (root).optimizer.beta_2\n",
      "WARNING:tensorflow:Unresolved object in checkpoint: (root).optimizer.decay\n",
      "WARNING:tensorflow:Unresolved object in checkpoint: (root).optimizer.learning_rate\n",
      "WARNING:tensorflow:A checkpoint was restored (e.g. tf.train.Checkpoint.restore or tf.keras.Model.load_weights) but not all checkpointed values were used. See above for specific issues. Use expect_partial() on the load status object, e.g. tf.train.Checkpoint.restore(...).expect_partial(), to silence these warnings, or use assert_consumed() to make the check explicit. See https://www.tensorflow.org/guide/checkpoint#loading_mechanics for details.\n",
      "WARNING:tensorflow:Unresolved object in checkpoint: (root).optimizer.iter\n",
      "WARNING:tensorflow:Unresolved object in checkpoint: (root).optimizer.beta_1\n",
      "WARNING:tensorflow:Unresolved object in checkpoint: (root).optimizer.beta_2\n",
      "WARNING:tensorflow:Unresolved object in checkpoint: (root).optimizer.decay\n",
      "WARNING:tensorflow:Unresolved object in checkpoint: (root).optimizer.learning_rate\n",
      "WARNING:tensorflow:A checkpoint was restored (e.g. tf.train.Checkpoint.restore or tf.keras.Model.load_weights) but not all checkpointed values were used. See above for specific issues. Use expect_partial() on the load status object, e.g. tf.train.Checkpoint.restore(...).expect_partial(), to silence these warnings, or use assert_consumed() to make the check explicit. See https://www.tensorflow.org/guide/checkpoint#loading_mechanics for details.\n",
      "WARNING:tensorflow:Unresolved object in checkpoint: (root).optimizer.iter\n",
      "WARNING:tensorflow:Unresolved object in checkpoint: (root).optimizer.beta_1\n",
      "WARNING:tensorflow:Unresolved object in checkpoint: (root).optimizer.beta_2\n",
      "WARNING:tensorflow:Unresolved object in checkpoint: (root).optimizer.decay\n",
      "WARNING:tensorflow:Unresolved object in checkpoint: (root).optimizer.learning_rate\n",
      "WARNING:tensorflow:A checkpoint was restored (e.g. tf.train.Checkpoint.restore or tf.keras.Model.load_weights) but not all checkpointed values were used. See above for specific issues. Use expect_partial() on the load status object, e.g. tf.train.Checkpoint.restore(...).expect_partial(), to silence these warnings, or use assert_consumed() to make the check explicit. See https://www.tensorflow.org/guide/checkpoint#loading_mechanics for details.\n"
     ]
    },
    {
     "name": "stderr",
     "output_type": "stream",
     "text": [
      "WARNING:absl:Found untraced functions such as lstm_cell_layer_call_and_return_conditional_losses, lstm_cell_layer_call_fn, lstm_cell_layer_call_fn, lstm_cell_layer_call_and_return_conditional_losses, lstm_cell_layer_call_and_return_conditional_losses while saving (showing 5 of 5). These functions will not be directly callable after loading.\n"
     ]
    },
    {
     "name": "stdout",
     "output_type": "stream",
     "text": [
      "INFO:tensorflow:Assets written to: Forecasting_result\\BTC_USD\\BTC_LSTM_model\\assets\n"
     ]
    },
    {
     "name": "stderr",
     "output_type": "stream",
     "text": [
      "INFO:tensorflow:Assets written to: Forecasting_result\\BTC_USD\\BTC_LSTM_model\\assets\n"
     ]
    }
   ],
   "source": [
    "model_save(btc_lstm_model,'BTC','LSTM')"
   ]
  },
  {
   "cell_type": "code",
   "execution_count": 121,
   "id": "817d3b7d-ff7a-4688-820c-5b4adeaaecc0",
   "metadata": {},
   "outputs": [
    {
     "name": "stdout",
     "output_type": "stream",
     "text": [
      "Trial 5 Complete [00h 00m 59s]\n",
      "val_loss: 0.00010434934665681794\n",
      "\n",
      "Best val_loss So Far: 9.969420489142067e-07\n",
      "Total elapsed time: 00h 06m 56s\n",
      "INFO:tensorflow:Oracle triggered exit\n"
     ]
    },
    {
     "name": "stderr",
     "output_type": "stream",
     "text": [
      "INFO:tensorflow:Oracle triggered exit\n"
     ]
    },
    {
     "name": "stdout",
     "output_type": "stream",
     "text": [
      "t+1 RMSE: 0.023999\n",
      "t+1 MAPE: 6.169593\n",
      "t+2 RMSE: 0.033215\n",
      "t+2 MAPE: 8.516470\n",
      "t+3 RMSE: 0.041043\n",
      "t+3 MAPE: 10.587386\n",
      "t+4 RMSE: 0.049636\n",
      "t+4 MAPE: 12.446455\n",
      "t+5 RMSE: 0.056829\n",
      "t+5 MAPE: 14.062819\n",
      "t+6 RMSE: 0.061088\n",
      "t+6 MAPE: 15.544116\n",
      "t+7 RMSE: 0.065010\n",
      "t+7 MAPE: 17.182632\n",
      "t+8 RMSE: 0.068892\n",
      "t+8 MAPE: 18.380821\n",
      "t+9 RMSE: 0.071714\n",
      "t+9 MAPE: 19.593043\n",
      "t+10 RMSE: 0.074789\n",
      "t+10 MAPE: 20.597860\n",
      "t+11 RMSE: 0.078470\n",
      "t+11 MAPE: 21.739746\n",
      "t+12 RMSE: 0.081777\n",
      "t+12 MAPE: 22.772400\n",
      "t+13 RMSE: 0.084061\n",
      "t+13 MAPE: 24.021712\n",
      "t+14 RMSE: 0.087134\n",
      "t+14 MAPE: 25.207184\n",
      "done\n"
     ]
    }
   ],
   "source": [
    "test_size = math.floor(len(doge_usd) * 0.20)\n",
    "n_lag=30\n",
    "period_fore=14\n",
    "doge_lstm_model= evaluate_model(doge_usd,test_size,n_lag,period_fore,'lstm','doge',n_repeats=4)\n",
    "print('done')\n"
   ]
  },
  {
   "cell_type": "code",
   "execution_count": 122,
   "id": "a14c50f5-da67-44c3-b9f3-f0959a5a64a3",
   "metadata": {},
   "outputs": [
    {
     "name": "stdout",
     "output_type": "stream",
     "text": [
      "WARNING:tensorflow:Unresolved object in checkpoint: (root).optimizer.iter\n"
     ]
    },
    {
     "name": "stderr",
     "output_type": "stream",
     "text": [
      "WARNING:tensorflow:Unresolved object in checkpoint: (root).optimizer.iter\n"
     ]
    },
    {
     "name": "stdout",
     "output_type": "stream",
     "text": [
      "WARNING:tensorflow:Unresolved object in checkpoint: (root).optimizer.beta_1\n"
     ]
    },
    {
     "name": "stderr",
     "output_type": "stream",
     "text": [
      "WARNING:tensorflow:Unresolved object in checkpoint: (root).optimizer.beta_1\n"
     ]
    },
    {
     "name": "stdout",
     "output_type": "stream",
     "text": [
      "WARNING:tensorflow:Unresolved object in checkpoint: (root).optimizer.beta_2\n"
     ]
    },
    {
     "name": "stderr",
     "output_type": "stream",
     "text": [
      "WARNING:tensorflow:Unresolved object in checkpoint: (root).optimizer.beta_2\n"
     ]
    },
    {
     "name": "stdout",
     "output_type": "stream",
     "text": [
      "WARNING:tensorflow:Unresolved object in checkpoint: (root).optimizer.decay\n"
     ]
    },
    {
     "name": "stderr",
     "output_type": "stream",
     "text": [
      "WARNING:tensorflow:Unresolved object in checkpoint: (root).optimizer.decay\n"
     ]
    },
    {
     "name": "stdout",
     "output_type": "stream",
     "text": [
      "WARNING:tensorflow:Unresolved object in checkpoint: (root).optimizer.learning_rate\n"
     ]
    },
    {
     "name": "stderr",
     "output_type": "stream",
     "text": [
      "WARNING:tensorflow:Unresolved object in checkpoint: (root).optimizer.learning_rate\n"
     ]
    },
    {
     "name": "stdout",
     "output_type": "stream",
     "text": [
      "WARNING:tensorflow:A checkpoint was restored (e.g. tf.train.Checkpoint.restore or tf.keras.Model.load_weights) but not all checkpointed values were used. See above for specific issues. Use expect_partial() on the load status object, e.g. tf.train.Checkpoint.restore(...).expect_partial(), to silence these warnings, or use assert_consumed() to make the check explicit. See https://www.tensorflow.org/guide/checkpoint#loading_mechanics for details.\n"
     ]
    },
    {
     "name": "stderr",
     "output_type": "stream",
     "text": [
      "WARNING:tensorflow:A checkpoint was restored (e.g. tf.train.Checkpoint.restore or tf.keras.Model.load_weights) but not all checkpointed values were used. See above for specific issues. Use expect_partial() on the load status object, e.g. tf.train.Checkpoint.restore(...).expect_partial(), to silence these warnings, or use assert_consumed() to make the check explicit. See https://www.tensorflow.org/guide/checkpoint#loading_mechanics for details.\n"
     ]
    },
    {
     "name": "stdout",
     "output_type": "stream",
     "text": [
      "WARNING:tensorflow:Unresolved object in checkpoint: (root).optimizer.iter\n"
     ]
    },
    {
     "name": "stderr",
     "output_type": "stream",
     "text": [
      "WARNING:tensorflow:Unresolved object in checkpoint: (root).optimizer.iter\n"
     ]
    },
    {
     "name": "stdout",
     "output_type": "stream",
     "text": [
      "WARNING:tensorflow:Unresolved object in checkpoint: (root).optimizer.beta_1\n"
     ]
    },
    {
     "name": "stderr",
     "output_type": "stream",
     "text": [
      "WARNING:tensorflow:Unresolved object in checkpoint: (root).optimizer.beta_1\n"
     ]
    },
    {
     "name": "stdout",
     "output_type": "stream",
     "text": [
      "WARNING:tensorflow:Unresolved object in checkpoint: (root).optimizer.beta_2\n"
     ]
    },
    {
     "name": "stderr",
     "output_type": "stream",
     "text": [
      "WARNING:tensorflow:Unresolved object in checkpoint: (root).optimizer.beta_2\n"
     ]
    },
    {
     "name": "stdout",
     "output_type": "stream",
     "text": [
      "WARNING:tensorflow:Unresolved object in checkpoint: (root).optimizer.decay\n"
     ]
    },
    {
     "name": "stderr",
     "output_type": "stream",
     "text": [
      "WARNING:tensorflow:Unresolved object in checkpoint: (root).optimizer.decay\n"
     ]
    },
    {
     "name": "stdout",
     "output_type": "stream",
     "text": [
      "WARNING:tensorflow:Unresolved object in checkpoint: (root).optimizer.learning_rate\n"
     ]
    },
    {
     "name": "stderr",
     "output_type": "stream",
     "text": [
      "WARNING:tensorflow:Unresolved object in checkpoint: (root).optimizer.learning_rate\n"
     ]
    },
    {
     "name": "stdout",
     "output_type": "stream",
     "text": [
      "WARNING:tensorflow:A checkpoint was restored (e.g. tf.train.Checkpoint.restore or tf.keras.Model.load_weights) but not all checkpointed values were used. See above for specific issues. Use expect_partial() on the load status object, e.g. tf.train.Checkpoint.restore(...).expect_partial(), to silence these warnings, or use assert_consumed() to make the check explicit. See https://www.tensorflow.org/guide/checkpoint#loading_mechanics for details.\n"
     ]
    },
    {
     "name": "stderr",
     "output_type": "stream",
     "text": [
      "WARNING:tensorflow:A checkpoint was restored (e.g. tf.train.Checkpoint.restore or tf.keras.Model.load_weights) but not all checkpointed values were used. See above for specific issues. Use expect_partial() on the load status object, e.g. tf.train.Checkpoint.restore(...).expect_partial(), to silence these warnings, or use assert_consumed() to make the check explicit. See https://www.tensorflow.org/guide/checkpoint#loading_mechanics for details.\n"
     ]
    },
    {
     "name": "stdout",
     "output_type": "stream",
     "text": [
      "WARNING:tensorflow:Unresolved object in checkpoint: (root).optimizer.iter\n"
     ]
    },
    {
     "name": "stderr",
     "output_type": "stream",
     "text": [
      "WARNING:tensorflow:Unresolved object in checkpoint: (root).optimizer.iter\n"
     ]
    },
    {
     "name": "stdout",
     "output_type": "stream",
     "text": [
      "WARNING:tensorflow:Unresolved object in checkpoint: (root).optimizer.beta_1\n"
     ]
    },
    {
     "name": "stderr",
     "output_type": "stream",
     "text": [
      "WARNING:tensorflow:Unresolved object in checkpoint: (root).optimizer.beta_1\n"
     ]
    },
    {
     "name": "stdout",
     "output_type": "stream",
     "text": [
      "WARNING:tensorflow:Unresolved object in checkpoint: (root).optimizer.beta_2\n"
     ]
    },
    {
     "name": "stderr",
     "output_type": "stream",
     "text": [
      "WARNING:tensorflow:Unresolved object in checkpoint: (root).optimizer.beta_2\n"
     ]
    },
    {
     "name": "stdout",
     "output_type": "stream",
     "text": [
      "WARNING:tensorflow:Unresolved object in checkpoint: (root).optimizer.decay\n"
     ]
    },
    {
     "name": "stderr",
     "output_type": "stream",
     "text": [
      "WARNING:tensorflow:Unresolved object in checkpoint: (root).optimizer.decay\n"
     ]
    },
    {
     "name": "stdout",
     "output_type": "stream",
     "text": [
      "WARNING:tensorflow:Unresolved object in checkpoint: (root).optimizer.learning_rate\n"
     ]
    },
    {
     "name": "stderr",
     "output_type": "stream",
     "text": [
      "WARNING:tensorflow:Unresolved object in checkpoint: (root).optimizer.learning_rate\n"
     ]
    },
    {
     "name": "stdout",
     "output_type": "stream",
     "text": [
      "WARNING:tensorflow:A checkpoint was restored (e.g. tf.train.Checkpoint.restore or tf.keras.Model.load_weights) but not all checkpointed values were used. See above for specific issues. Use expect_partial() on the load status object, e.g. tf.train.Checkpoint.restore(...).expect_partial(), to silence these warnings, or use assert_consumed() to make the check explicit. See https://www.tensorflow.org/guide/checkpoint#loading_mechanics for details.\n"
     ]
    },
    {
     "name": "stderr",
     "output_type": "stream",
     "text": [
      "WARNING:tensorflow:A checkpoint was restored (e.g. tf.train.Checkpoint.restore or tf.keras.Model.load_weights) but not all checkpointed values were used. See above for specific issues. Use expect_partial() on the load status object, e.g. tf.train.Checkpoint.restore(...).expect_partial(), to silence these warnings, or use assert_consumed() to make the check explicit. See https://www.tensorflow.org/guide/checkpoint#loading_mechanics for details.\n"
     ]
    },
    {
     "name": "stdout",
     "output_type": "stream",
     "text": [
      "INFO:tensorflow:Assets written to: Forecasting_result\\DOGE_USD\\DOGE_LSTM_model\\assets\n"
     ]
    },
    {
     "name": "stderr",
     "output_type": "stream",
     "text": [
      "INFO:tensorflow:Assets written to: Forecasting_result\\DOGE_USD\\DOGE_LSTM_model\\assets\n"
     ]
    }
   ],
   "source": [
    "model_save(doge_lstm_model,'DOGE','LSTM')"
   ]
  },
  {
   "cell_type": "code",
   "execution_count": 123,
   "id": "ed94b446-703b-4b81-9f69-077e92fe929c",
   "metadata": {},
   "outputs": [
    {
     "name": "stdout",
     "output_type": "stream",
     "text": [
      "Trial 5 Complete [00h 01m 27s]\n",
      "val_loss: 0.0008797954942565411\n",
      "\n",
      "Best val_loss So Far: 0.0008791883592493832\n",
      "Total elapsed time: 00h 07m 25s\n",
      "INFO:tensorflow:Oracle triggered exit\n"
     ]
    },
    {
     "name": "stderr",
     "output_type": "stream",
     "text": [
      "INFO:tensorflow:Oracle triggered exit\n"
     ]
    },
    {
     "name": "stdout",
     "output_type": "stream",
     "text": [
      "t+1 RMSE: 142.128219\n",
      "t+1 MAPE: 3.995656\n",
      "t+2 RMSE: 193.103443\n",
      "t+2 MAPE: 5.835498\n",
      "t+3 RMSE: 235.348458\n",
      "t+3 MAPE: 7.194822\n",
      "t+4 RMSE: 268.316816\n",
      "t+4 MAPE: 8.173884\n",
      "t+5 RMSE: 305.429046\n",
      "t+5 MAPE: 9.272438\n",
      "t+6 RMSE: 332.674255\n",
      "t+6 MAPE: 10.027781\n",
      "t+7 RMSE: 366.683780\n",
      "t+7 MAPE: 10.951923\n",
      "t+8 RMSE: 397.135633\n",
      "t+8 MAPE: 11.871948\n",
      "t+9 RMSE: 421.938900\n",
      "t+9 MAPE: 12.776392\n",
      "t+10 RMSE: 444.510380\n",
      "t+10 MAPE: 13.536884\n",
      "t+11 RMSE: 468.943438\n",
      "t+11 MAPE: 14.410045\n",
      "t+12 RMSE: 488.451872\n",
      "t+12 MAPE: 15.148557\n",
      "t+13 RMSE: 506.173052\n",
      "t+13 MAPE: 15.677486\n",
      "t+14 RMSE: 524.185988\n",
      "t+14 MAPE: 16.252844\n",
      "done\n"
     ]
    }
   ],
   "source": [
    "test_size = math.floor(len(eth_usd) * 0.20)\n",
    "n_lag=30\n",
    "period_fore=14\n",
    "eth_lstm_model= evaluate_model(eth_usd,test_size,n_lag,period_fore,'lstm','eth',n_repeats=4)\n",
    "print('done')\n"
   ]
  },
  {
   "cell_type": "code",
   "execution_count": 124,
   "id": "2f6f42c6-c645-40b4-9067-b587091f7576",
   "metadata": {},
   "outputs": [
    {
     "name": "stdout",
     "output_type": "stream",
     "text": [
      "WARNING:tensorflow:Unresolved object in checkpoint: (root).optimizer.iter\n"
     ]
    },
    {
     "name": "stderr",
     "output_type": "stream",
     "text": [
      "WARNING:tensorflow:Unresolved object in checkpoint: (root).optimizer.iter\n"
     ]
    },
    {
     "name": "stdout",
     "output_type": "stream",
     "text": [
      "WARNING:tensorflow:Unresolved object in checkpoint: (root).optimizer.beta_1\n"
     ]
    },
    {
     "name": "stderr",
     "output_type": "stream",
     "text": [
      "WARNING:tensorflow:Unresolved object in checkpoint: (root).optimizer.beta_1\n"
     ]
    },
    {
     "name": "stdout",
     "output_type": "stream",
     "text": [
      "WARNING:tensorflow:Unresolved object in checkpoint: (root).optimizer.beta_2\n"
     ]
    },
    {
     "name": "stderr",
     "output_type": "stream",
     "text": [
      "WARNING:tensorflow:Unresolved object in checkpoint: (root).optimizer.beta_2\n"
     ]
    },
    {
     "name": "stdout",
     "output_type": "stream",
     "text": [
      "WARNING:tensorflow:Unresolved object in checkpoint: (root).optimizer.decay\n"
     ]
    },
    {
     "name": "stderr",
     "output_type": "stream",
     "text": [
      "WARNING:tensorflow:Unresolved object in checkpoint: (root).optimizer.decay\n"
     ]
    },
    {
     "name": "stdout",
     "output_type": "stream",
     "text": [
      "WARNING:tensorflow:Unresolved object in checkpoint: (root).optimizer.learning_rate\n"
     ]
    },
    {
     "name": "stderr",
     "output_type": "stream",
     "text": [
      "WARNING:tensorflow:Unresolved object in checkpoint: (root).optimizer.learning_rate\n"
     ]
    },
    {
     "name": "stdout",
     "output_type": "stream",
     "text": [
      "WARNING:tensorflow:A checkpoint was restored (e.g. tf.train.Checkpoint.restore or tf.keras.Model.load_weights) but not all checkpointed values were used. See above for specific issues. Use expect_partial() on the load status object, e.g. tf.train.Checkpoint.restore(...).expect_partial(), to silence these warnings, or use assert_consumed() to make the check explicit. See https://www.tensorflow.org/guide/checkpoint#loading_mechanics for details.\n"
     ]
    },
    {
     "name": "stderr",
     "output_type": "stream",
     "text": [
      "WARNING:tensorflow:A checkpoint was restored (e.g. tf.train.Checkpoint.restore or tf.keras.Model.load_weights) but not all checkpointed values were used. See above for specific issues. Use expect_partial() on the load status object, e.g. tf.train.Checkpoint.restore(...).expect_partial(), to silence these warnings, or use assert_consumed() to make the check explicit. See https://www.tensorflow.org/guide/checkpoint#loading_mechanics for details.\n"
     ]
    },
    {
     "name": "stdout",
     "output_type": "stream",
     "text": [
      "WARNING:tensorflow:Unresolved object in checkpoint: (root).optimizer.iter\n"
     ]
    },
    {
     "name": "stderr",
     "output_type": "stream",
     "text": [
      "WARNING:tensorflow:Unresolved object in checkpoint: (root).optimizer.iter\n"
     ]
    },
    {
     "name": "stdout",
     "output_type": "stream",
     "text": [
      "WARNING:tensorflow:Unresolved object in checkpoint: (root).optimizer.beta_1\n"
     ]
    },
    {
     "name": "stderr",
     "output_type": "stream",
     "text": [
      "WARNING:tensorflow:Unresolved object in checkpoint: (root).optimizer.beta_1\n"
     ]
    },
    {
     "name": "stdout",
     "output_type": "stream",
     "text": [
      "WARNING:tensorflow:Unresolved object in checkpoint: (root).optimizer.beta_2\n"
     ]
    },
    {
     "name": "stderr",
     "output_type": "stream",
     "text": [
      "WARNING:tensorflow:Unresolved object in checkpoint: (root).optimizer.beta_2\n"
     ]
    },
    {
     "name": "stdout",
     "output_type": "stream",
     "text": [
      "WARNING:tensorflow:Unresolved object in checkpoint: (root).optimizer.decay\n"
     ]
    },
    {
     "name": "stderr",
     "output_type": "stream",
     "text": [
      "WARNING:tensorflow:Unresolved object in checkpoint: (root).optimizer.decay\n"
     ]
    },
    {
     "name": "stdout",
     "output_type": "stream",
     "text": [
      "WARNING:tensorflow:Unresolved object in checkpoint: (root).optimizer.learning_rate\n"
     ]
    },
    {
     "name": "stderr",
     "output_type": "stream",
     "text": [
      "WARNING:tensorflow:Unresolved object in checkpoint: (root).optimizer.learning_rate\n"
     ]
    },
    {
     "name": "stdout",
     "output_type": "stream",
     "text": [
      "WARNING:tensorflow:A checkpoint was restored (e.g. tf.train.Checkpoint.restore or tf.keras.Model.load_weights) but not all checkpointed values were used. See above for specific issues. Use expect_partial() on the load status object, e.g. tf.train.Checkpoint.restore(...).expect_partial(), to silence these warnings, or use assert_consumed() to make the check explicit. See https://www.tensorflow.org/guide/checkpoint#loading_mechanics for details.\n"
     ]
    },
    {
     "name": "stderr",
     "output_type": "stream",
     "text": [
      "WARNING:tensorflow:A checkpoint was restored (e.g. tf.train.Checkpoint.restore or tf.keras.Model.load_weights) but not all checkpointed values were used. See above for specific issues. Use expect_partial() on the load status object, e.g. tf.train.Checkpoint.restore(...).expect_partial(), to silence these warnings, or use assert_consumed() to make the check explicit. See https://www.tensorflow.org/guide/checkpoint#loading_mechanics for details.\n"
     ]
    },
    {
     "name": "stdout",
     "output_type": "stream",
     "text": [
      "WARNING:tensorflow:Unresolved object in checkpoint: (root).optimizer.iter\n"
     ]
    },
    {
     "name": "stderr",
     "output_type": "stream",
     "text": [
      "WARNING:tensorflow:Unresolved object in checkpoint: (root).optimizer.iter\n"
     ]
    },
    {
     "name": "stdout",
     "output_type": "stream",
     "text": [
      "WARNING:tensorflow:Unresolved object in checkpoint: (root).optimizer.beta_1\n"
     ]
    },
    {
     "name": "stderr",
     "output_type": "stream",
     "text": [
      "WARNING:tensorflow:Unresolved object in checkpoint: (root).optimizer.beta_1\n"
     ]
    },
    {
     "name": "stdout",
     "output_type": "stream",
     "text": [
      "WARNING:tensorflow:Unresolved object in checkpoint: (root).optimizer.beta_2\n"
     ]
    },
    {
     "name": "stderr",
     "output_type": "stream",
     "text": [
      "WARNING:tensorflow:Unresolved object in checkpoint: (root).optimizer.beta_2\n"
     ]
    },
    {
     "name": "stdout",
     "output_type": "stream",
     "text": [
      "WARNING:tensorflow:Unresolved object in checkpoint: (root).optimizer.decay\n"
     ]
    },
    {
     "name": "stderr",
     "output_type": "stream",
     "text": [
      "WARNING:tensorflow:Unresolved object in checkpoint: (root).optimizer.decay\n"
     ]
    },
    {
     "name": "stdout",
     "output_type": "stream",
     "text": [
      "WARNING:tensorflow:Unresolved object in checkpoint: (root).optimizer.learning_rate\n"
     ]
    },
    {
     "name": "stderr",
     "output_type": "stream",
     "text": [
      "WARNING:tensorflow:Unresolved object in checkpoint: (root).optimizer.learning_rate\n"
     ]
    },
    {
     "name": "stdout",
     "output_type": "stream",
     "text": [
      "WARNING:tensorflow:A checkpoint was restored (e.g. tf.train.Checkpoint.restore or tf.keras.Model.load_weights) but not all checkpointed values were used. See above for specific issues. Use expect_partial() on the load status object, e.g. tf.train.Checkpoint.restore(...).expect_partial(), to silence these warnings, or use assert_consumed() to make the check explicit. See https://www.tensorflow.org/guide/checkpoint#loading_mechanics for details.\n"
     ]
    },
    {
     "name": "stderr",
     "output_type": "stream",
     "text": [
      "WARNING:tensorflow:A checkpoint was restored (e.g. tf.train.Checkpoint.restore or tf.keras.Model.load_weights) but not all checkpointed values were used. See above for specific issues. Use expect_partial() on the load status object, e.g. tf.train.Checkpoint.restore(...).expect_partial(), to silence these warnings, or use assert_consumed() to make the check explicit. See https://www.tensorflow.org/guide/checkpoint#loading_mechanics for details.\n",
      "WARNING:absl:Found untraced functions such as lstm_cell_4_layer_call_and_return_conditional_losses, lstm_cell_4_layer_call_fn, lstm_cell_4_layer_call_fn, lstm_cell_4_layer_call_and_return_conditional_losses, lstm_cell_4_layer_call_and_return_conditional_losses while saving (showing 5 of 5). These functions will not be directly callable after loading.\n"
     ]
    },
    {
     "name": "stdout",
     "output_type": "stream",
     "text": [
      "INFO:tensorflow:Assets written to: Forecasting_result\\ETH_USD\\ETH_LSTM_model\\assets\n"
     ]
    },
    {
     "name": "stderr",
     "output_type": "stream",
     "text": [
      "INFO:tensorflow:Assets written to: Forecasting_result\\ETH_USD\\ETH_LSTM_model\\assets\n"
     ]
    }
   ],
   "source": [
    "model_save(eth_lstm_model,'ETH','LSTM')"
   ]
  },
  {
   "cell_type": "code",
   "execution_count": 125,
   "id": "bd2c76b7-945e-4c49-8c41-c1979364aab6",
   "metadata": {},
   "outputs": [
    {
     "name": "stdout",
     "output_type": "stream",
     "text": [
      "Trial 5 Complete [00h 00m 36s]\n",
      "val_loss: 0.002473748056218028\n",
      "\n",
      "Best val_loss So Far: 0.0012427596957422793\n",
      "Total elapsed time: 00h 04m 07s\n",
      "INFO:tensorflow:Oracle triggered exit\n"
     ]
    },
    {
     "name": "stderr",
     "output_type": "stream",
     "text": [
      "INFO:tensorflow:Oracle triggered exit\n"
     ]
    },
    {
     "name": "stdout",
     "output_type": "stream",
     "text": [
      "t+1 RMSE: 12.349216\n",
      "t+1 MAPE: 4.327695\n",
      "t+2 RMSE: 17.401336\n",
      "t+2 MAPE: 6.325157\n",
      "t+3 RMSE: 21.658698\n",
      "t+3 MAPE: 7.920174\n",
      "t+4 RMSE: 25.024301\n",
      "t+4 MAPE: 9.166581\n",
      "t+5 RMSE: 28.593162\n",
      "t+5 MAPE: 10.481613\n",
      "t+6 RMSE: 31.456635\n",
      "t+6 MAPE: 11.645631\n",
      "t+7 RMSE: 34.800893\n",
      "t+7 MAPE: 12.838937\n",
      "t+8 RMSE: 37.669291\n",
      "t+8 MAPE: 13.979589\n",
      "t+9 RMSE: 39.990121\n",
      "t+9 MAPE: 14.752628\n",
      "t+10 RMSE: 42.126911\n",
      "t+10 MAPE: 15.490545\n",
      "t+11 RMSE: 44.139471\n",
      "t+11 MAPE: 16.254021\n",
      "t+12 RMSE: 45.979570\n",
      "t+12 MAPE: 16.983485\n",
      "t+13 RMSE: 47.425381\n",
      "t+13 MAPE: 17.548245\n",
      "t+14 RMSE: 48.742270\n",
      "t+14 MAPE: 18.168016\n",
      "done\n"
     ]
    }
   ],
   "source": [
    "test_size = math.floor(len(ltc_usd) * 0.20)\n",
    "n_lag=30\n",
    "period_fore=14\n",
    "ltc_lstm_model= evaluate_model(ltc_usd,test_size,n_lag,period_fore,'lstm','ltc',n_repeats=4)\n",
    "print('done')\n"
   ]
  },
  {
   "cell_type": "code",
   "execution_count": 126,
   "id": "f370aa46-abc8-4a39-a5ae-e96836c4875e",
   "metadata": {},
   "outputs": [
    {
     "name": "stdout",
     "output_type": "stream",
     "text": [
      "WARNING:tensorflow:Unresolved object in checkpoint: (root).optimizer.iter\n"
     ]
    },
    {
     "name": "stderr",
     "output_type": "stream",
     "text": [
      "WARNING:tensorflow:Unresolved object in checkpoint: (root).optimizer.iter\n"
     ]
    },
    {
     "name": "stdout",
     "output_type": "stream",
     "text": [
      "WARNING:tensorflow:Unresolved object in checkpoint: (root).optimizer.beta_1\n"
     ]
    },
    {
     "name": "stderr",
     "output_type": "stream",
     "text": [
      "WARNING:tensorflow:Unresolved object in checkpoint: (root).optimizer.beta_1\n"
     ]
    },
    {
     "name": "stdout",
     "output_type": "stream",
     "text": [
      "WARNING:tensorflow:Unresolved object in checkpoint: (root).optimizer.beta_2\n"
     ]
    },
    {
     "name": "stderr",
     "output_type": "stream",
     "text": [
      "WARNING:tensorflow:Unresolved object in checkpoint: (root).optimizer.beta_2\n"
     ]
    },
    {
     "name": "stdout",
     "output_type": "stream",
     "text": [
      "WARNING:tensorflow:Unresolved object in checkpoint: (root).optimizer.decay\n"
     ]
    },
    {
     "name": "stderr",
     "output_type": "stream",
     "text": [
      "WARNING:tensorflow:Unresolved object in checkpoint: (root).optimizer.decay\n"
     ]
    },
    {
     "name": "stdout",
     "output_type": "stream",
     "text": [
      "WARNING:tensorflow:Unresolved object in checkpoint: (root).optimizer.learning_rate\n"
     ]
    },
    {
     "name": "stderr",
     "output_type": "stream",
     "text": [
      "WARNING:tensorflow:Unresolved object in checkpoint: (root).optimizer.learning_rate\n"
     ]
    },
    {
     "name": "stdout",
     "output_type": "stream",
     "text": [
      "WARNING:tensorflow:A checkpoint was restored (e.g. tf.train.Checkpoint.restore or tf.keras.Model.load_weights) but not all checkpointed values were used. See above for specific issues. Use expect_partial() on the load status object, e.g. tf.train.Checkpoint.restore(...).expect_partial(), to silence these warnings, or use assert_consumed() to make the check explicit. See https://www.tensorflow.org/guide/checkpoint#loading_mechanics for details.\n"
     ]
    },
    {
     "name": "stderr",
     "output_type": "stream",
     "text": [
      "WARNING:tensorflow:A checkpoint was restored (e.g. tf.train.Checkpoint.restore or tf.keras.Model.load_weights) but not all checkpointed values were used. See above for specific issues. Use expect_partial() on the load status object, e.g. tf.train.Checkpoint.restore(...).expect_partial(), to silence these warnings, or use assert_consumed() to make the check explicit. See https://www.tensorflow.org/guide/checkpoint#loading_mechanics for details.\n"
     ]
    },
    {
     "name": "stdout",
     "output_type": "stream",
     "text": [
      "WARNING:tensorflow:Unresolved object in checkpoint: (root).optimizer.iter\n"
     ]
    },
    {
     "name": "stderr",
     "output_type": "stream",
     "text": [
      "WARNING:tensorflow:Unresolved object in checkpoint: (root).optimizer.iter\n"
     ]
    },
    {
     "name": "stdout",
     "output_type": "stream",
     "text": [
      "WARNING:tensorflow:Unresolved object in checkpoint: (root).optimizer.beta_1\n"
     ]
    },
    {
     "name": "stderr",
     "output_type": "stream",
     "text": [
      "WARNING:tensorflow:Unresolved object in checkpoint: (root).optimizer.beta_1\n"
     ]
    },
    {
     "name": "stdout",
     "output_type": "stream",
     "text": [
      "WARNING:tensorflow:Unresolved object in checkpoint: (root).optimizer.beta_2\n"
     ]
    },
    {
     "name": "stderr",
     "output_type": "stream",
     "text": [
      "WARNING:tensorflow:Unresolved object in checkpoint: (root).optimizer.beta_2\n"
     ]
    },
    {
     "name": "stdout",
     "output_type": "stream",
     "text": [
      "WARNING:tensorflow:Unresolved object in checkpoint: (root).optimizer.decay\n"
     ]
    },
    {
     "name": "stderr",
     "output_type": "stream",
     "text": [
      "WARNING:tensorflow:Unresolved object in checkpoint: (root).optimizer.decay\n"
     ]
    },
    {
     "name": "stdout",
     "output_type": "stream",
     "text": [
      "WARNING:tensorflow:Unresolved object in checkpoint: (root).optimizer.learning_rate\n"
     ]
    },
    {
     "name": "stderr",
     "output_type": "stream",
     "text": [
      "WARNING:tensorflow:Unresolved object in checkpoint: (root).optimizer.learning_rate\n"
     ]
    },
    {
     "name": "stdout",
     "output_type": "stream",
     "text": [
      "WARNING:tensorflow:A checkpoint was restored (e.g. tf.train.Checkpoint.restore or tf.keras.Model.load_weights) but not all checkpointed values were used. See above for specific issues. Use expect_partial() on the load status object, e.g. tf.train.Checkpoint.restore(...).expect_partial(), to silence these warnings, or use assert_consumed() to make the check explicit. See https://www.tensorflow.org/guide/checkpoint#loading_mechanics for details.\n"
     ]
    },
    {
     "name": "stderr",
     "output_type": "stream",
     "text": [
      "WARNING:tensorflow:A checkpoint was restored (e.g. tf.train.Checkpoint.restore or tf.keras.Model.load_weights) but not all checkpointed values were used. See above for specific issues. Use expect_partial() on the load status object, e.g. tf.train.Checkpoint.restore(...).expect_partial(), to silence these warnings, or use assert_consumed() to make the check explicit. See https://www.tensorflow.org/guide/checkpoint#loading_mechanics for details.\n"
     ]
    },
    {
     "name": "stdout",
     "output_type": "stream",
     "text": [
      "WARNING:tensorflow:Unresolved object in checkpoint: (root).optimizer.iter\n"
     ]
    },
    {
     "name": "stderr",
     "output_type": "stream",
     "text": [
      "WARNING:tensorflow:Unresolved object in checkpoint: (root).optimizer.iter\n"
     ]
    },
    {
     "name": "stdout",
     "output_type": "stream",
     "text": [
      "WARNING:tensorflow:Unresolved object in checkpoint: (root).optimizer.beta_1\n"
     ]
    },
    {
     "name": "stderr",
     "output_type": "stream",
     "text": [
      "WARNING:tensorflow:Unresolved object in checkpoint: (root).optimizer.beta_1\n"
     ]
    },
    {
     "name": "stdout",
     "output_type": "stream",
     "text": [
      "WARNING:tensorflow:Unresolved object in checkpoint: (root).optimizer.beta_2\n"
     ]
    },
    {
     "name": "stderr",
     "output_type": "stream",
     "text": [
      "WARNING:tensorflow:Unresolved object in checkpoint: (root).optimizer.beta_2\n"
     ]
    },
    {
     "name": "stdout",
     "output_type": "stream",
     "text": [
      "WARNING:tensorflow:Unresolved object in checkpoint: (root).optimizer.decay\n"
     ]
    },
    {
     "name": "stderr",
     "output_type": "stream",
     "text": [
      "WARNING:tensorflow:Unresolved object in checkpoint: (root).optimizer.decay\n"
     ]
    },
    {
     "name": "stdout",
     "output_type": "stream",
     "text": [
      "WARNING:tensorflow:Unresolved object in checkpoint: (root).optimizer.learning_rate\n"
     ]
    },
    {
     "name": "stderr",
     "output_type": "stream",
     "text": [
      "WARNING:tensorflow:Unresolved object in checkpoint: (root).optimizer.learning_rate\n"
     ]
    },
    {
     "name": "stdout",
     "output_type": "stream",
     "text": [
      "WARNING:tensorflow:A checkpoint was restored (e.g. tf.train.Checkpoint.restore or tf.keras.Model.load_weights) but not all checkpointed values were used. See above for specific issues. Use expect_partial() on the load status object, e.g. tf.train.Checkpoint.restore(...).expect_partial(), to silence these warnings, or use assert_consumed() to make the check explicit. See https://www.tensorflow.org/guide/checkpoint#loading_mechanics for details.\n"
     ]
    },
    {
     "name": "stderr",
     "output_type": "stream",
     "text": [
      "WARNING:tensorflow:A checkpoint was restored (e.g. tf.train.Checkpoint.restore or tf.keras.Model.load_weights) but not all checkpointed values were used. See above for specific issues. Use expect_partial() on the load status object, e.g. tf.train.Checkpoint.restore(...).expect_partial(), to silence these warnings, or use assert_consumed() to make the check explicit. See https://www.tensorflow.org/guide/checkpoint#loading_mechanics for details.\n"
     ]
    },
    {
     "name": "stdout",
     "output_type": "stream",
     "text": [
      "INFO:tensorflow:Assets written to: Forecasting_result\\LTC_USD\\LTC_LSTM_model\\assets\n"
     ]
    },
    {
     "name": "stderr",
     "output_type": "stream",
     "text": [
      "INFO:tensorflow:Assets written to: Forecasting_result\\LTC_USD\\LTC_LSTM_model\\assets\n"
     ]
    }
   ],
   "source": [
    "model_save(ltc_lstm_model,'LTC','LSTM')"
   ]
  },
  {
   "cell_type": "code",
   "execution_count": 127,
   "id": "0aeb921e-7337-4cee-9e6c-6c0e6633cfa9",
   "metadata": {},
   "outputs": [
    {
     "name": "stdout",
     "output_type": "stream",
     "text": [
      "Trial 5 Complete [00h 00m 33s]\n",
      "val_loss: 0.0033799681114032865\n",
      "\n",
      "Best val_loss So Far: 0.0026352814165875316\n",
      "Total elapsed time: 00h 06m 21s\n",
      "INFO:tensorflow:Oracle triggered exit\n"
     ]
    },
    {
     "name": "stderr",
     "output_type": "stream",
     "text": [
      "INFO:tensorflow:Oracle triggered exit\n"
     ]
    },
    {
     "name": "stdout",
     "output_type": "stream",
     "text": [
      "t+1 RMSE: 0.068563\n",
      "t+1 MAPE: 5.132468\n",
      "t+2 RMSE: 0.097989\n",
      "t+2 MAPE: 7.441887\n",
      "t+3 RMSE: 0.118874\n",
      "t+3 MAPE: 9.359700\n",
      "t+4 RMSE: 0.139750\n",
      "t+4 MAPE: 10.840302\n",
      "t+5 RMSE: 0.158387\n",
      "t+5 MAPE: 12.178115\n",
      "t+6 RMSE: 0.173633\n",
      "t+6 MAPE: 13.186341\n",
      "t+7 RMSE: 0.188995\n",
      "t+7 MAPE: 14.498509\n",
      "t+8 RMSE: 0.202685\n",
      "t+8 MAPE: 15.756869\n",
      "t+9 RMSE: 0.212994\n",
      "t+9 MAPE: 16.625294\n",
      "t+10 RMSE: 0.224485\n",
      "t+10 MAPE: 17.538143\n",
      "t+11 RMSE: 0.234717\n",
      "t+11 MAPE: 18.136312\n",
      "t+12 RMSE: 0.241061\n",
      "t+12 MAPE: 18.684511\n",
      "t+13 RMSE: 0.246245\n",
      "t+13 MAPE: 19.015614\n",
      "t+14 RMSE: 0.250802\n",
      "t+14 MAPE: 19.365621\n",
      "done\n"
     ]
    }
   ],
   "source": [
    "test_size = math.floor(len(xrp_usd) * 0.20)\n",
    "n_lag=30\n",
    "period_fore=14\n",
    "xrp_lstm_model= evaluate_model(xrp_usd,test_size,n_lag,period_fore,'lstm','xrp',n_repeats=4)\n",
    "print('done')\n"
   ]
  },
  {
   "cell_type": "code",
   "execution_count": 128,
   "id": "489dc007-f484-4a09-b836-18bb8b4ed41d",
   "metadata": {},
   "outputs": [
    {
     "name": "stdout",
     "output_type": "stream",
     "text": [
      "WARNING:tensorflow:Unresolved object in checkpoint: (root).optimizer.iter\n"
     ]
    },
    {
     "name": "stderr",
     "output_type": "stream",
     "text": [
      "WARNING:tensorflow:Unresolved object in checkpoint: (root).optimizer.iter\n"
     ]
    },
    {
     "name": "stdout",
     "output_type": "stream",
     "text": [
      "WARNING:tensorflow:Unresolved object in checkpoint: (root).optimizer.beta_1\n"
     ]
    },
    {
     "name": "stderr",
     "output_type": "stream",
     "text": [
      "WARNING:tensorflow:Unresolved object in checkpoint: (root).optimizer.beta_1\n"
     ]
    },
    {
     "name": "stdout",
     "output_type": "stream",
     "text": [
      "WARNING:tensorflow:Unresolved object in checkpoint: (root).optimizer.beta_2\n"
     ]
    },
    {
     "name": "stderr",
     "output_type": "stream",
     "text": [
      "WARNING:tensorflow:Unresolved object in checkpoint: (root).optimizer.beta_2\n"
     ]
    },
    {
     "name": "stdout",
     "output_type": "stream",
     "text": [
      "WARNING:tensorflow:Unresolved object in checkpoint: (root).optimizer.decay\n"
     ]
    },
    {
     "name": "stderr",
     "output_type": "stream",
     "text": [
      "WARNING:tensorflow:Unresolved object in checkpoint: (root).optimizer.decay\n"
     ]
    },
    {
     "name": "stdout",
     "output_type": "stream",
     "text": [
      "WARNING:tensorflow:Unresolved object in checkpoint: (root).optimizer.learning_rate\n"
     ]
    },
    {
     "name": "stderr",
     "output_type": "stream",
     "text": [
      "WARNING:tensorflow:Unresolved object in checkpoint: (root).optimizer.learning_rate\n"
     ]
    },
    {
     "name": "stdout",
     "output_type": "stream",
     "text": [
      "WARNING:tensorflow:A checkpoint was restored (e.g. tf.train.Checkpoint.restore or tf.keras.Model.load_weights) but not all checkpointed values were used. See above for specific issues. Use expect_partial() on the load status object, e.g. tf.train.Checkpoint.restore(...).expect_partial(), to silence these warnings, or use assert_consumed() to make the check explicit. See https://www.tensorflow.org/guide/checkpoint#loading_mechanics for details.\n"
     ]
    },
    {
     "name": "stderr",
     "output_type": "stream",
     "text": [
      "WARNING:tensorflow:A checkpoint was restored (e.g. tf.train.Checkpoint.restore or tf.keras.Model.load_weights) but not all checkpointed values were used. See above for specific issues. Use expect_partial() on the load status object, e.g. tf.train.Checkpoint.restore(...).expect_partial(), to silence these warnings, or use assert_consumed() to make the check explicit. See https://www.tensorflow.org/guide/checkpoint#loading_mechanics for details.\n"
     ]
    },
    {
     "name": "stdout",
     "output_type": "stream",
     "text": [
      "WARNING:tensorflow:Unresolved object in checkpoint: (root).optimizer.iter\n"
     ]
    },
    {
     "name": "stderr",
     "output_type": "stream",
     "text": [
      "WARNING:tensorflow:Unresolved object in checkpoint: (root).optimizer.iter\n"
     ]
    },
    {
     "name": "stdout",
     "output_type": "stream",
     "text": [
      "WARNING:tensorflow:Unresolved object in checkpoint: (root).optimizer.beta_1\n"
     ]
    },
    {
     "name": "stderr",
     "output_type": "stream",
     "text": [
      "WARNING:tensorflow:Unresolved object in checkpoint: (root).optimizer.beta_1\n"
     ]
    },
    {
     "name": "stdout",
     "output_type": "stream",
     "text": [
      "WARNING:tensorflow:Unresolved object in checkpoint: (root).optimizer.beta_2\n"
     ]
    },
    {
     "name": "stderr",
     "output_type": "stream",
     "text": [
      "WARNING:tensorflow:Unresolved object in checkpoint: (root).optimizer.beta_2\n"
     ]
    },
    {
     "name": "stdout",
     "output_type": "stream",
     "text": [
      "WARNING:tensorflow:Unresolved object in checkpoint: (root).optimizer.decay\n"
     ]
    },
    {
     "name": "stderr",
     "output_type": "stream",
     "text": [
      "WARNING:tensorflow:Unresolved object in checkpoint: (root).optimizer.decay\n"
     ]
    },
    {
     "name": "stdout",
     "output_type": "stream",
     "text": [
      "WARNING:tensorflow:Unresolved object in checkpoint: (root).optimizer.learning_rate\n"
     ]
    },
    {
     "name": "stderr",
     "output_type": "stream",
     "text": [
      "WARNING:tensorflow:Unresolved object in checkpoint: (root).optimizer.learning_rate\n"
     ]
    },
    {
     "name": "stdout",
     "output_type": "stream",
     "text": [
      "WARNING:tensorflow:A checkpoint was restored (e.g. tf.train.Checkpoint.restore or tf.keras.Model.load_weights) but not all checkpointed values were used. See above for specific issues. Use expect_partial() on the load status object, e.g. tf.train.Checkpoint.restore(...).expect_partial(), to silence these warnings, or use assert_consumed() to make the check explicit. See https://www.tensorflow.org/guide/checkpoint#loading_mechanics for details.\n"
     ]
    },
    {
     "name": "stderr",
     "output_type": "stream",
     "text": [
      "WARNING:tensorflow:A checkpoint was restored (e.g. tf.train.Checkpoint.restore or tf.keras.Model.load_weights) but not all checkpointed values were used. See above for specific issues. Use expect_partial() on the load status object, e.g. tf.train.Checkpoint.restore(...).expect_partial(), to silence these warnings, or use assert_consumed() to make the check explicit. See https://www.tensorflow.org/guide/checkpoint#loading_mechanics for details.\n"
     ]
    },
    {
     "name": "stdout",
     "output_type": "stream",
     "text": [
      "WARNING:tensorflow:Unresolved object in checkpoint: (root).optimizer.iter\n"
     ]
    },
    {
     "name": "stderr",
     "output_type": "stream",
     "text": [
      "WARNING:tensorflow:Unresolved object in checkpoint: (root).optimizer.iter\n"
     ]
    },
    {
     "name": "stdout",
     "output_type": "stream",
     "text": [
      "WARNING:tensorflow:Unresolved object in checkpoint: (root).optimizer.beta_1\n"
     ]
    },
    {
     "name": "stderr",
     "output_type": "stream",
     "text": [
      "WARNING:tensorflow:Unresolved object in checkpoint: (root).optimizer.beta_1\n"
     ]
    },
    {
     "name": "stdout",
     "output_type": "stream",
     "text": [
      "WARNING:tensorflow:Unresolved object in checkpoint: (root).optimizer.beta_2\n"
     ]
    },
    {
     "name": "stderr",
     "output_type": "stream",
     "text": [
      "WARNING:tensorflow:Unresolved object in checkpoint: (root).optimizer.beta_2\n"
     ]
    },
    {
     "name": "stdout",
     "output_type": "stream",
     "text": [
      "WARNING:tensorflow:Unresolved object in checkpoint: (root).optimizer.decay\n"
     ]
    },
    {
     "name": "stderr",
     "output_type": "stream",
     "text": [
      "WARNING:tensorflow:Unresolved object in checkpoint: (root).optimizer.decay\n"
     ]
    },
    {
     "name": "stdout",
     "output_type": "stream",
     "text": [
      "WARNING:tensorflow:Unresolved object in checkpoint: (root).optimizer.learning_rate\n"
     ]
    },
    {
     "name": "stderr",
     "output_type": "stream",
     "text": [
      "WARNING:tensorflow:Unresolved object in checkpoint: (root).optimizer.learning_rate\n"
     ]
    },
    {
     "name": "stdout",
     "output_type": "stream",
     "text": [
      "WARNING:tensorflow:A checkpoint was restored (e.g. tf.train.Checkpoint.restore or tf.keras.Model.load_weights) but not all checkpointed values were used. See above for specific issues. Use expect_partial() on the load status object, e.g. tf.train.Checkpoint.restore(...).expect_partial(), to silence these warnings, or use assert_consumed() to make the check explicit. See https://www.tensorflow.org/guide/checkpoint#loading_mechanics for details.\n"
     ]
    },
    {
     "name": "stderr",
     "output_type": "stream",
     "text": [
      "WARNING:tensorflow:A checkpoint was restored (e.g. tf.train.Checkpoint.restore or tf.keras.Model.load_weights) but not all checkpointed values were used. See above for specific issues. Use expect_partial() on the load status object, e.g. tf.train.Checkpoint.restore(...).expect_partial(), to silence these warnings, or use assert_consumed() to make the check explicit. See https://www.tensorflow.org/guide/checkpoint#loading_mechanics for details.\n"
     ]
    },
    {
     "name": "stdout",
     "output_type": "stream",
     "text": [
      "INFO:tensorflow:Assets written to: Forecasting_result\\XRP_USD\\XRP_LSTM_model\\assets\n"
     ]
    },
    {
     "name": "stderr",
     "output_type": "stream",
     "text": [
      "INFO:tensorflow:Assets written to: Forecasting_result\\XRP_USD\\XRP_LSTM_model\\assets\n"
     ]
    }
   ],
   "source": [
    "model_save(xrp_lstm_model,'XRP','LSTM')"
   ]
  },
  {
   "cell_type": "markdown",
   "id": "2ad49b99-0f11-475f-aa0b-e58159ebe0b8",
   "metadata": {},
   "source": [
    "## Model GRU"
   ]
  },
  {
   "cell_type": "code",
   "execution_count": 129,
   "id": "3bf3f6eb-38ca-4c72-9613-10d5a7097b87",
   "metadata": {
    "tags": []
   },
   "outputs": [],
   "source": [
    "def build_model_GRU(hp):\n",
    "\tmodel = keras.models.Sequential()\n",
    "\tmodel.add(keras.layers.GRU(units=hp.Int('input_units',min_value=32,max_value=160,step=32),activation=hp.Choice('act_0', ['relu', 'sigmoid','tanh']),return_sequences=True, input_shape=(30, 1)))\n",
    "\tmodel.add(keras.layers.Dropout(hp.Float('Dropout_rate_0',min_value=0,max_value=0.6,step=0.1)))\n",
    "\tnum_layers = hp.Int('num_layers', 0, 3)\n",
    "\tfor i in range(num_layers):\n",
    "\t\twith hp.conditional_scope('num_layers', list(range(i + 1, 3 + 1))):\n",
    "\t#for i in range(hp.Int(\"num_layers\", 0, 3)):\n",
    "\t\t\tmodel.add(keras.layers.GRU(units=hp.Int('units_'+str(i+1),min_value=32,max_value=320,step=32),activation=hp.Choice('act_'+str(i+1), ['relu', 'sigmoid','tanh']),return_sequences=True))\n",
    "\t\t\tmodel.add(keras.layers.Dropout(hp.Float('Dropout_rate_'+str(i+1),min_value=0,max_value=0.6,step=0.1)))\n",
    "\tmodel.add(keras.layers.GRU(units=hp.Int('lastGRU_units',min_value=32,max_value=320,step=32),activation=hp.Choice('act_last', ['relu', 'sigmoid','tanh']),return_sequences=False ))\t\n",
    "\tmodel.add(keras.layers.Dense(14))\n",
    "\thp_optimizer = hp.Choice('optimizer', values=['Adam', 'SGD', 'Adamax'])\n",
    "\toptimizer = keras.optimizers.get(hp_optimizer)\n",
    "\toptimizer.learning_rate = hp.Choice(\"learning_rate\", [0.1, 0.01, 0.001], default=0.01)\n",
    "\t\n",
    "\tmodel.compile(loss = 'mean_squared_error',metrics=keras.metrics.MeanSquaredError(), optimizer=optimizer)\n",
    "\n",
    "\treturn model"
   ]
  },
  {
   "cell_type": "code",
   "execution_count": 145,
   "id": "ab2dae9f-11f3-4fda-98a3-11c9029b63d3",
   "metadata": {},
   "outputs": [],
   "source": [
    "# fit a model\n",
    "def model_fit_GRU(train,k,n_lag,period_fore,cur):\n",
    "\n",
    "\t#split train to train and valid\n",
    "\ttrain,valid=train_test_split(train,math.floor(len(train) * 0.1))\n",
    "\t# separate inputs and outputs\n",
    "\ttrain_x, train_y = train[:, :n_lag], train[:, n_lag:]\n",
    "\tvalid_x, valid_y = valid[:, :n_lag], valid[:, n_lag:]\n",
    "\n",
    "\t# reshape input data into [samples, timesteps, features]\n",
    "\ttrain_x = train_x.reshape((train_x.shape[0],train_x.shape[1],1))\n",
    "\tvalid_x = valid_x.reshape((valid_x.shape[0],valid_x.shape[1],1))\n",
    "\n",
    "\t# define model\n",
    "\tbayesian_opt_tuner = MyTuner(\n",
    "\tbuild_model_GRU,\n",
    "\tobjective=Objective(\"val_loss\", direction=\"min\"),\n",
    "\tmax_trials=5,\n",
    "\texecutions_per_trial=2,\n",
    "\tdirectory=\".\\\\Keras_tuner_results\",\n",
    "\tproject_name=str(cur)+'GRU_bayes_opt_'+str(k),\n",
    "\toverwrite=True,\n",
    "    seed=48)\n",
    "\tbayesian_opt_tuner.search(x=train_x, y=train_y, epochs=20,callbacks=[keras.callbacks.EarlyStopping('val_loss', patience=5,mode='min'),keras.callbacks.TerminateOnNaN()],validation_data=(valid_x,valid_y))\n",
    "\t#get best model\n",
    "\tbayes_opt_model_best_model = bayesian_opt_tuner.get_best_models(num_models=1)\n",
    "\tmodel = bayes_opt_model_best_model[0]\n",
    "\n",
    "\treturn model\n"
   ]
  },
  {
   "cell_type": "code",
   "execution_count": 146,
   "id": "ef056c6c-573c-4f1b-8c33-d107a7cf46e0",
   "metadata": {},
   "outputs": [
    {
     "name": "stdout",
     "output_type": "stream",
     "text": [
      "Trial 5 Complete [00h 00m 46s]\n",
      "val_loss: 0.05862496793270111\n",
      "\n",
      "Best val_loss So Far: 0.05795261263847351\n",
      "Total elapsed time: 00h 03m 53s\n",
      "INFO:tensorflow:Oracle triggered exit\n"
     ]
    },
    {
     "name": "stderr",
     "output_type": "stream",
     "text": [
      "INFO:tensorflow:Oracle triggered exit\n"
     ]
    },
    {
     "name": "stdout",
     "output_type": "stream",
     "text": [
      "t+1 RMSE: 0.004202\n",
      "t+1 MAPE: 0.447875\n",
      "t+2 RMSE: 0.005828\n",
      "t+2 MAPE: 0.599529\n",
      "t+3 RMSE: 0.006962\n",
      "t+3 MAPE: 0.736938\n",
      "t+4 RMSE: 0.007794\n",
      "t+4 MAPE: 0.824679\n",
      "t+5 RMSE: 0.008434\n",
      "t+5 MAPE: 0.906180\n",
      "t+6 RMSE: 0.009067\n",
      "t+6 MAPE: 0.971281\n",
      "t+7 RMSE: 0.009791\n",
      "t+7 MAPE: 1.063309\n",
      "t+8 RMSE: 0.010563\n",
      "t+8 MAPE: 1.154503\n",
      "t+9 RMSE: 0.011255\n",
      "t+9 MAPE: 1.241009\n",
      "t+10 RMSE: 0.011818\n",
      "t+10 MAPE: 1.304649\n",
      "t+11 RMSE: 0.012277\n",
      "t+11 MAPE: 1.363677\n",
      "t+12 RMSE: 0.012803\n",
      "t+12 MAPE: 1.416027\n",
      "t+13 RMSE: 0.013292\n",
      "t+13 MAPE: 1.479992\n",
      "t+14 RMSE: 0.013752\n",
      "t+14 MAPE: 1.530784\n",
      "done\n"
     ]
    }
   ],
   "source": [
    "test_size = math.ceil(len(aud_usd) * 0.20)\n",
    "n_lag=30\n",
    "period_fore=14\n",
    "aud_gru_model= evaluate_model(aud_usd,test_size,n_lag,period_fore,'gru','aud',n_repeats=4)\n",
    "print('done')\n"
   ]
  },
  {
   "cell_type": "code",
   "execution_count": 148,
   "id": "3ded0a05-8b56-45c6-8e45-63a499810f40",
   "metadata": {},
   "outputs": [
    {
     "name": "stdout",
     "output_type": "stream",
     "text": [
      "WARNING:tensorflow:Unresolved object in checkpoint: (root).optimizer.iter\n"
     ]
    },
    {
     "name": "stderr",
     "output_type": "stream",
     "text": [
      "WARNING:tensorflow:Unresolved object in checkpoint: (root).optimizer.iter\n"
     ]
    },
    {
     "name": "stdout",
     "output_type": "stream",
     "text": [
      "WARNING:tensorflow:Unresolved object in checkpoint: (root).optimizer.beta_1\n"
     ]
    },
    {
     "name": "stderr",
     "output_type": "stream",
     "text": [
      "WARNING:tensorflow:Unresolved object in checkpoint: (root).optimizer.beta_1\n"
     ]
    },
    {
     "name": "stdout",
     "output_type": "stream",
     "text": [
      "WARNING:tensorflow:Unresolved object in checkpoint: (root).optimizer.beta_2\n"
     ]
    },
    {
     "name": "stderr",
     "output_type": "stream",
     "text": [
      "WARNING:tensorflow:Unresolved object in checkpoint: (root).optimizer.beta_2\n"
     ]
    },
    {
     "name": "stdout",
     "output_type": "stream",
     "text": [
      "WARNING:tensorflow:Unresolved object in checkpoint: (root).optimizer.decay\n"
     ]
    },
    {
     "name": "stderr",
     "output_type": "stream",
     "text": [
      "WARNING:tensorflow:Unresolved object in checkpoint: (root).optimizer.decay\n"
     ]
    },
    {
     "name": "stdout",
     "output_type": "stream",
     "text": [
      "WARNING:tensorflow:Unresolved object in checkpoint: (root).optimizer.learning_rate\n"
     ]
    },
    {
     "name": "stderr",
     "output_type": "stream",
     "text": [
      "WARNING:tensorflow:Unresolved object in checkpoint: (root).optimizer.learning_rate\n"
     ]
    },
    {
     "name": "stdout",
     "output_type": "stream",
     "text": [
      "WARNING:tensorflow:A checkpoint was restored (e.g. tf.train.Checkpoint.restore or tf.keras.Model.load_weights) but not all checkpointed values were used. See above for specific issues. Use expect_partial() on the load status object, e.g. tf.train.Checkpoint.restore(...).expect_partial(), to silence these warnings, or use assert_consumed() to make the check explicit. See https://www.tensorflow.org/guide/checkpoint#loading_mechanics for details.\n"
     ]
    },
    {
     "name": "stderr",
     "output_type": "stream",
     "text": [
      "WARNING:tensorflow:A checkpoint was restored (e.g. tf.train.Checkpoint.restore or tf.keras.Model.load_weights) but not all checkpointed values were used. See above for specific issues. Use expect_partial() on the load status object, e.g. tf.train.Checkpoint.restore(...).expect_partial(), to silence these warnings, or use assert_consumed() to make the check explicit. See https://www.tensorflow.org/guide/checkpoint#loading_mechanics for details.\n"
     ]
    },
    {
     "name": "stdout",
     "output_type": "stream",
     "text": [
      "WARNING:tensorflow:Unresolved object in checkpoint: (root).optimizer.iter\n"
     ]
    },
    {
     "name": "stderr",
     "output_type": "stream",
     "text": [
      "WARNING:tensorflow:Unresolved object in checkpoint: (root).optimizer.iter\n"
     ]
    },
    {
     "name": "stdout",
     "output_type": "stream",
     "text": [
      "WARNING:tensorflow:Unresolved object in checkpoint: (root).optimizer.beta_1\n"
     ]
    },
    {
     "name": "stderr",
     "output_type": "stream",
     "text": [
      "WARNING:tensorflow:Unresolved object in checkpoint: (root).optimizer.beta_1\n"
     ]
    },
    {
     "name": "stdout",
     "output_type": "stream",
     "text": [
      "WARNING:tensorflow:Unresolved object in checkpoint: (root).optimizer.beta_2\n"
     ]
    },
    {
     "name": "stderr",
     "output_type": "stream",
     "text": [
      "WARNING:tensorflow:Unresolved object in checkpoint: (root).optimizer.beta_2\n"
     ]
    },
    {
     "name": "stdout",
     "output_type": "stream",
     "text": [
      "WARNING:tensorflow:Unresolved object in checkpoint: (root).optimizer.decay\n"
     ]
    },
    {
     "name": "stderr",
     "output_type": "stream",
     "text": [
      "WARNING:tensorflow:Unresolved object in checkpoint: (root).optimizer.decay\n"
     ]
    },
    {
     "name": "stdout",
     "output_type": "stream",
     "text": [
      "WARNING:tensorflow:Unresolved object in checkpoint: (root).optimizer.learning_rate\n"
     ]
    },
    {
     "name": "stderr",
     "output_type": "stream",
     "text": [
      "WARNING:tensorflow:Unresolved object in checkpoint: (root).optimizer.learning_rate\n"
     ]
    },
    {
     "name": "stdout",
     "output_type": "stream",
     "text": [
      "WARNING:tensorflow:A checkpoint was restored (e.g. tf.train.Checkpoint.restore or tf.keras.Model.load_weights) but not all checkpointed values were used. See above for specific issues. Use expect_partial() on the load status object, e.g. tf.train.Checkpoint.restore(...).expect_partial(), to silence these warnings, or use assert_consumed() to make the check explicit. See https://www.tensorflow.org/guide/checkpoint#loading_mechanics for details.\n"
     ]
    },
    {
     "name": "stderr",
     "output_type": "stream",
     "text": [
      "WARNING:tensorflow:A checkpoint was restored (e.g. tf.train.Checkpoint.restore or tf.keras.Model.load_weights) but not all checkpointed values were used. See above for specific issues. Use expect_partial() on the load status object, e.g. tf.train.Checkpoint.restore(...).expect_partial(), to silence these warnings, or use assert_consumed() to make the check explicit. See https://www.tensorflow.org/guide/checkpoint#loading_mechanics for details.\n"
     ]
    },
    {
     "name": "stdout",
     "output_type": "stream",
     "text": [
      "WARNING:tensorflow:Unresolved object in checkpoint: (root).optimizer.iter\n"
     ]
    },
    {
     "name": "stderr",
     "output_type": "stream",
     "text": [
      "WARNING:tensorflow:Unresolved object in checkpoint: (root).optimizer.iter\n"
     ]
    },
    {
     "name": "stdout",
     "output_type": "stream",
     "text": [
      "WARNING:tensorflow:Unresolved object in checkpoint: (root).optimizer.beta_1\n"
     ]
    },
    {
     "name": "stderr",
     "output_type": "stream",
     "text": [
      "WARNING:tensorflow:Unresolved object in checkpoint: (root).optimizer.beta_1\n"
     ]
    },
    {
     "name": "stdout",
     "output_type": "stream",
     "text": [
      "WARNING:tensorflow:Unresolved object in checkpoint: (root).optimizer.beta_2\n"
     ]
    },
    {
     "name": "stderr",
     "output_type": "stream",
     "text": [
      "WARNING:tensorflow:Unresolved object in checkpoint: (root).optimizer.beta_2\n"
     ]
    },
    {
     "name": "stdout",
     "output_type": "stream",
     "text": [
      "WARNING:tensorflow:Unresolved object in checkpoint: (root).optimizer.decay\n"
     ]
    },
    {
     "name": "stderr",
     "output_type": "stream",
     "text": [
      "WARNING:tensorflow:Unresolved object in checkpoint: (root).optimizer.decay\n"
     ]
    },
    {
     "name": "stdout",
     "output_type": "stream",
     "text": [
      "WARNING:tensorflow:Unresolved object in checkpoint: (root).optimizer.learning_rate\n"
     ]
    },
    {
     "name": "stderr",
     "output_type": "stream",
     "text": [
      "WARNING:tensorflow:Unresolved object in checkpoint: (root).optimizer.learning_rate\n"
     ]
    },
    {
     "name": "stdout",
     "output_type": "stream",
     "text": [
      "WARNING:tensorflow:A checkpoint was restored (e.g. tf.train.Checkpoint.restore or tf.keras.Model.load_weights) but not all checkpointed values were used. See above for specific issues. Use expect_partial() on the load status object, e.g. tf.train.Checkpoint.restore(...).expect_partial(), to silence these warnings, or use assert_consumed() to make the check explicit. See https://www.tensorflow.org/guide/checkpoint#loading_mechanics for details.\n"
     ]
    },
    {
     "name": "stderr",
     "output_type": "stream",
     "text": [
      "WARNING:tensorflow:A checkpoint was restored (e.g. tf.train.Checkpoint.restore or tf.keras.Model.load_weights) but not all checkpointed values were used. See above for specific issues. Use expect_partial() on the load status object, e.g. tf.train.Checkpoint.restore(...).expect_partial(), to silence these warnings, or use assert_consumed() to make the check explicit. See https://www.tensorflow.org/guide/checkpoint#loading_mechanics for details.\n"
     ]
    },
    {
     "name": "stdout",
     "output_type": "stream",
     "text": [
      "WARNING:tensorflow:Unresolved object in checkpoint: (root).optimizer.iter\n"
     ]
    },
    {
     "name": "stderr",
     "output_type": "stream",
     "text": [
      "WARNING:tensorflow:Unresolved object in checkpoint: (root).optimizer.iter\n"
     ]
    },
    {
     "name": "stdout",
     "output_type": "stream",
     "text": [
      "WARNING:tensorflow:Unresolved object in checkpoint: (root).optimizer.beta_1\n"
     ]
    },
    {
     "name": "stderr",
     "output_type": "stream",
     "text": [
      "WARNING:tensorflow:Unresolved object in checkpoint: (root).optimizer.beta_1\n"
     ]
    },
    {
     "name": "stdout",
     "output_type": "stream",
     "text": [
      "WARNING:tensorflow:Unresolved object in checkpoint: (root).optimizer.beta_2\n"
     ]
    },
    {
     "name": "stderr",
     "output_type": "stream",
     "text": [
      "WARNING:tensorflow:Unresolved object in checkpoint: (root).optimizer.beta_2\n"
     ]
    },
    {
     "name": "stdout",
     "output_type": "stream",
     "text": [
      "WARNING:tensorflow:Unresolved object in checkpoint: (root).optimizer.decay\n"
     ]
    },
    {
     "name": "stderr",
     "output_type": "stream",
     "text": [
      "WARNING:tensorflow:Unresolved object in checkpoint: (root).optimizer.decay\n"
     ]
    },
    {
     "name": "stdout",
     "output_type": "stream",
     "text": [
      "WARNING:tensorflow:Unresolved object in checkpoint: (root).optimizer.learning_rate\n"
     ]
    },
    {
     "name": "stderr",
     "output_type": "stream",
     "text": [
      "WARNING:tensorflow:Unresolved object in checkpoint: (root).optimizer.learning_rate\n"
     ]
    },
    {
     "name": "stdout",
     "output_type": "stream",
     "text": [
      "WARNING:tensorflow:A checkpoint was restored (e.g. tf.train.Checkpoint.restore or tf.keras.Model.load_weights) but not all checkpointed values were used. See above for specific issues. Use expect_partial() on the load status object, e.g. tf.train.Checkpoint.restore(...).expect_partial(), to silence these warnings, or use assert_consumed() to make the check explicit. See https://www.tensorflow.org/guide/checkpoint#loading_mechanics for details.\n"
     ]
    },
    {
     "name": "stderr",
     "output_type": "stream",
     "text": [
      "WARNING:tensorflow:A checkpoint was restored (e.g. tf.train.Checkpoint.restore or tf.keras.Model.load_weights) but not all checkpointed values were used. See above for specific issues. Use expect_partial() on the load status object, e.g. tf.train.Checkpoint.restore(...).expect_partial(), to silence these warnings, or use assert_consumed() to make the check explicit. See https://www.tensorflow.org/guide/checkpoint#loading_mechanics for details.\n"
     ]
    },
    {
     "name": "stdout",
     "output_type": "stream",
     "text": [
      "INFO:tensorflow:Assets written to: Forecasting_result\\AUD_USD\\AUD_GRU_model\\assets\n"
     ]
    },
    {
     "name": "stderr",
     "output_type": "stream",
     "text": [
      "INFO:tensorflow:Assets written to: Forecasting_result\\AUD_USD\\AUD_GRU_model\\assets\n"
     ]
    }
   ],
   "source": [
    "model_save(aud_gru_model,'AUD','GRU')"
   ]
  },
  {
   "cell_type": "code",
   "execution_count": 149,
   "id": "16829bff-aed5-4bc9-b1fd-f9a0c63703df",
   "metadata": {},
   "outputs": [
    {
     "name": "stdout",
     "output_type": "stream",
     "text": [
      "Trial 5 Complete [00h 00m 14s]\n",
      "val_loss: nan\n",
      "\n",
      "Best val_loss So Far: 0.04966657608747482\n",
      "Total elapsed time: 00h 03m 23s\n",
      "INFO:tensorflow:Oracle triggered exit\n"
     ]
    },
    {
     "name": "stderr",
     "output_type": "stream",
     "text": [
      "INFO:tensorflow:Oracle triggered exit\n"
     ]
    },
    {
     "name": "stdout",
     "output_type": "stream",
     "text": [
      "t+1 RMSE: 0.003341\n",
      "t+1 MAPE: 0.327110\n",
      "t+2 RMSE: 0.004754\n",
      "t+2 MAPE: 0.464090\n",
      "t+3 RMSE: 0.005553\n",
      "t+3 MAPE: 0.549413\n",
      "t+4 RMSE: 0.006193\n",
      "t+4 MAPE: 0.612879\n",
      "t+5 RMSE: 0.006703\n",
      "t+5 MAPE: 0.663590\n",
      "t+6 RMSE: 0.007285\n",
      "t+6 MAPE: 0.739133\n",
      "t+7 RMSE: 0.007803\n",
      "t+7 MAPE: 0.800175\n",
      "t+8 RMSE: 0.008245\n",
      "t+8 MAPE: 0.840374\n",
      "t+9 RMSE: 0.008827\n",
      "t+9 MAPE: 0.889777\n",
      "t+10 RMSE: 0.009440\n",
      "t+10 MAPE: 0.949013\n",
      "t+11 RMSE: 0.009912\n",
      "t+11 MAPE: 1.002090\n",
      "t+12 RMSE: 0.010335\n",
      "t+12 MAPE: 1.040322\n",
      "t+13 RMSE: 0.010722\n",
      "t+13 MAPE: 1.077678\n",
      "t+14 RMSE: 0.011175\n",
      "t+14 MAPE: 1.110010\n",
      "done\n"
     ]
    }
   ],
   "source": [
    "test_size = math.ceil(len(cad_usd) * 0.20)\n",
    "n_lag=30\n",
    "period_fore=14\n",
    "cad_gru_model= evaluate_model(cad_usd,test_size,n_lag,period_fore,'gru','cad',n_repeats=4)\n",
    "print('done')\n"
   ]
  },
  {
   "cell_type": "code",
   "execution_count": 150,
   "id": "7bdd2b8b-3afa-4b74-8ed3-983275425ba3",
   "metadata": {},
   "outputs": [
    {
     "name": "stdout",
     "output_type": "stream",
     "text": [
      "WARNING:tensorflow:Unresolved object in checkpoint: (root).optimizer.iter\n"
     ]
    },
    {
     "name": "stderr",
     "output_type": "stream",
     "text": [
      "WARNING:tensorflow:Unresolved object in checkpoint: (root).optimizer.iter\n"
     ]
    },
    {
     "name": "stdout",
     "output_type": "stream",
     "text": [
      "WARNING:tensorflow:Unresolved object in checkpoint: (root).optimizer.beta_1\n"
     ]
    },
    {
     "name": "stderr",
     "output_type": "stream",
     "text": [
      "WARNING:tensorflow:Unresolved object in checkpoint: (root).optimizer.beta_1\n"
     ]
    },
    {
     "name": "stdout",
     "output_type": "stream",
     "text": [
      "WARNING:tensorflow:Unresolved object in checkpoint: (root).optimizer.beta_2\n"
     ]
    },
    {
     "name": "stderr",
     "output_type": "stream",
     "text": [
      "WARNING:tensorflow:Unresolved object in checkpoint: (root).optimizer.beta_2\n"
     ]
    },
    {
     "name": "stdout",
     "output_type": "stream",
     "text": [
      "WARNING:tensorflow:Unresolved object in checkpoint: (root).optimizer.decay\n"
     ]
    },
    {
     "name": "stderr",
     "output_type": "stream",
     "text": [
      "WARNING:tensorflow:Unresolved object in checkpoint: (root).optimizer.decay\n"
     ]
    },
    {
     "name": "stdout",
     "output_type": "stream",
     "text": [
      "WARNING:tensorflow:Unresolved object in checkpoint: (root).optimizer.learning_rate\n"
     ]
    },
    {
     "name": "stderr",
     "output_type": "stream",
     "text": [
      "WARNING:tensorflow:Unresolved object in checkpoint: (root).optimizer.learning_rate\n"
     ]
    },
    {
     "name": "stdout",
     "output_type": "stream",
     "text": [
      "WARNING:tensorflow:A checkpoint was restored (e.g. tf.train.Checkpoint.restore or tf.keras.Model.load_weights) but not all checkpointed values were used. See above for specific issues. Use expect_partial() on the load status object, e.g. tf.train.Checkpoint.restore(...).expect_partial(), to silence these warnings, or use assert_consumed() to make the check explicit. See https://www.tensorflow.org/guide/checkpoint#loading_mechanics for details.\n"
     ]
    },
    {
     "name": "stderr",
     "output_type": "stream",
     "text": [
      "WARNING:tensorflow:A checkpoint was restored (e.g. tf.train.Checkpoint.restore or tf.keras.Model.load_weights) but not all checkpointed values were used. See above for specific issues. Use expect_partial() on the load status object, e.g. tf.train.Checkpoint.restore(...).expect_partial(), to silence these warnings, or use assert_consumed() to make the check explicit. See https://www.tensorflow.org/guide/checkpoint#loading_mechanics for details.\n"
     ]
    },
    {
     "name": "stdout",
     "output_type": "stream",
     "text": [
      "WARNING:tensorflow:Unresolved object in checkpoint: (root).optimizer.iter\n"
     ]
    },
    {
     "name": "stderr",
     "output_type": "stream",
     "text": [
      "WARNING:tensorflow:Unresolved object in checkpoint: (root).optimizer.iter\n"
     ]
    },
    {
     "name": "stdout",
     "output_type": "stream",
     "text": [
      "WARNING:tensorflow:Unresolved object in checkpoint: (root).optimizer.beta_1\n"
     ]
    },
    {
     "name": "stderr",
     "output_type": "stream",
     "text": [
      "WARNING:tensorflow:Unresolved object in checkpoint: (root).optimizer.beta_1\n"
     ]
    },
    {
     "name": "stdout",
     "output_type": "stream",
     "text": [
      "WARNING:tensorflow:Unresolved object in checkpoint: (root).optimizer.beta_2\n"
     ]
    },
    {
     "name": "stderr",
     "output_type": "stream",
     "text": [
      "WARNING:tensorflow:Unresolved object in checkpoint: (root).optimizer.beta_2\n"
     ]
    },
    {
     "name": "stdout",
     "output_type": "stream",
     "text": [
      "WARNING:tensorflow:Unresolved object in checkpoint: (root).optimizer.decay\n"
     ]
    },
    {
     "name": "stderr",
     "output_type": "stream",
     "text": [
      "WARNING:tensorflow:Unresolved object in checkpoint: (root).optimizer.decay\n"
     ]
    },
    {
     "name": "stdout",
     "output_type": "stream",
     "text": [
      "WARNING:tensorflow:Unresolved object in checkpoint: (root).optimizer.learning_rate\n"
     ]
    },
    {
     "name": "stderr",
     "output_type": "stream",
     "text": [
      "WARNING:tensorflow:Unresolved object in checkpoint: (root).optimizer.learning_rate\n"
     ]
    },
    {
     "name": "stdout",
     "output_type": "stream",
     "text": [
      "WARNING:tensorflow:A checkpoint was restored (e.g. tf.train.Checkpoint.restore or tf.keras.Model.load_weights) but not all checkpointed values were used. See above for specific issues. Use expect_partial() on the load status object, e.g. tf.train.Checkpoint.restore(...).expect_partial(), to silence these warnings, or use assert_consumed() to make the check explicit. See https://www.tensorflow.org/guide/checkpoint#loading_mechanics for details.\n"
     ]
    },
    {
     "name": "stderr",
     "output_type": "stream",
     "text": [
      "WARNING:tensorflow:A checkpoint was restored (e.g. tf.train.Checkpoint.restore or tf.keras.Model.load_weights) but not all checkpointed values were used. See above for specific issues. Use expect_partial() on the load status object, e.g. tf.train.Checkpoint.restore(...).expect_partial(), to silence these warnings, or use assert_consumed() to make the check explicit. See https://www.tensorflow.org/guide/checkpoint#loading_mechanics for details.\n"
     ]
    },
    {
     "name": "stdout",
     "output_type": "stream",
     "text": [
      "WARNING:tensorflow:Unresolved object in checkpoint: (root).optimizer.iter\n"
     ]
    },
    {
     "name": "stderr",
     "output_type": "stream",
     "text": [
      "WARNING:tensorflow:Unresolved object in checkpoint: (root).optimizer.iter\n"
     ]
    },
    {
     "name": "stdout",
     "output_type": "stream",
     "text": [
      "WARNING:tensorflow:Unresolved object in checkpoint: (root).optimizer.beta_1\n"
     ]
    },
    {
     "name": "stderr",
     "output_type": "stream",
     "text": [
      "WARNING:tensorflow:Unresolved object in checkpoint: (root).optimizer.beta_1\n"
     ]
    },
    {
     "name": "stdout",
     "output_type": "stream",
     "text": [
      "WARNING:tensorflow:Unresolved object in checkpoint: (root).optimizer.beta_2\n"
     ]
    },
    {
     "name": "stderr",
     "output_type": "stream",
     "text": [
      "WARNING:tensorflow:Unresolved object in checkpoint: (root).optimizer.beta_2\n"
     ]
    },
    {
     "name": "stdout",
     "output_type": "stream",
     "text": [
      "WARNING:tensorflow:Unresolved object in checkpoint: (root).optimizer.decay\n"
     ]
    },
    {
     "name": "stderr",
     "output_type": "stream",
     "text": [
      "WARNING:tensorflow:Unresolved object in checkpoint: (root).optimizer.decay\n"
     ]
    },
    {
     "name": "stdout",
     "output_type": "stream",
     "text": [
      "WARNING:tensorflow:Unresolved object in checkpoint: (root).optimizer.learning_rate\n"
     ]
    },
    {
     "name": "stderr",
     "output_type": "stream",
     "text": [
      "WARNING:tensorflow:Unresolved object in checkpoint: (root).optimizer.learning_rate\n"
     ]
    },
    {
     "name": "stdout",
     "output_type": "stream",
     "text": [
      "WARNING:tensorflow:A checkpoint was restored (e.g. tf.train.Checkpoint.restore or tf.keras.Model.load_weights) but not all checkpointed values were used. See above for specific issues. Use expect_partial() on the load status object, e.g. tf.train.Checkpoint.restore(...).expect_partial(), to silence these warnings, or use assert_consumed() to make the check explicit. See https://www.tensorflow.org/guide/checkpoint#loading_mechanics for details.\n"
     ]
    },
    {
     "name": "stderr",
     "output_type": "stream",
     "text": [
      "WARNING:tensorflow:A checkpoint was restored (e.g. tf.train.Checkpoint.restore or tf.keras.Model.load_weights) but not all checkpointed values were used. See above for specific issues. Use expect_partial() on the load status object, e.g. tf.train.Checkpoint.restore(...).expect_partial(), to silence these warnings, or use assert_consumed() to make the check explicit. See https://www.tensorflow.org/guide/checkpoint#loading_mechanics for details.\n"
     ]
    },
    {
     "name": "stdout",
     "output_type": "stream",
     "text": [
      "INFO:tensorflow:Assets written to: Forecasting_result\\CAD_USD\\CAD_GRU_model\\assets\n"
     ]
    },
    {
     "name": "stderr",
     "output_type": "stream",
     "text": [
      "INFO:tensorflow:Assets written to: Forecasting_result\\CAD_USD\\CAD_GRU_model\\assets\n"
     ]
    }
   ],
   "source": [
    "model_save(cad_gru_model,'CAD','GRU')"
   ]
  },
  {
   "cell_type": "code",
   "execution_count": 151,
   "id": "5135edea-3ee9-4d8b-adff-dc4a727d9711",
   "metadata": {},
   "outputs": [
    {
     "name": "stdout",
     "output_type": "stream",
     "text": [
      "Trial 5 Complete [00h 00m 25s]\n",
      "val_loss: 0.04133700579404831\n",
      "\n",
      "Best val_loss So Far: 0.04133700579404831\n",
      "Total elapsed time: 00h 03m 55s\n",
      "INFO:tensorflow:Oracle triggered exit\n"
     ]
    },
    {
     "name": "stderr",
     "output_type": "stream",
     "text": [
      "INFO:tensorflow:Oracle triggered exit\n"
     ]
    },
    {
     "name": "stdout",
     "output_type": "stream",
     "text": [
      "t+1 RMSE: 0.004282\n",
      "t+1 MAPE: 0.279769\n",
      "t+2 RMSE: 0.005876\n",
      "t+2 MAPE: 0.389298\n",
      "t+3 RMSE: 0.007188\n",
      "t+3 MAPE: 0.477748\n",
      "t+4 RMSE: 0.008213\n",
      "t+4 MAPE: 0.559017\n",
      "t+5 RMSE: 0.009194\n",
      "t+5 MAPE: 0.623466\n",
      "t+6 RMSE: 0.009978\n",
      "t+6 MAPE: 0.673664\n",
      "t+7 RMSE: 0.010826\n",
      "t+7 MAPE: 0.723645\n",
      "t+8 RMSE: 0.011629\n",
      "t+8 MAPE: 0.771534\n",
      "t+9 RMSE: 0.012573\n",
      "t+9 MAPE: 0.835959\n",
      "t+10 RMSE: 0.013134\n",
      "t+10 MAPE: 0.878113\n",
      "t+11 RMSE: 0.013818\n",
      "t+11 MAPE: 0.931525\n",
      "t+12 RMSE: 0.014669\n",
      "t+12 MAPE: 0.994167\n",
      "t+13 RMSE: 0.015473\n",
      "t+13 MAPE: 1.052735\n",
      "t+14 RMSE: 0.016243\n",
      "t+14 MAPE: 1.114531\n",
      "done\n"
     ]
    }
   ],
   "source": [
    "test_size = math.ceil(len(eur_usd) * 0.20)\n",
    "n_lag=30\n",
    "period_fore=14\n",
    "eur_gru_model= evaluate_model(eur_usd,test_size,n_lag,period_fore,'gru','eur',n_repeats=4)\n",
    "print('done')\n"
   ]
  },
  {
   "cell_type": "code",
   "execution_count": 152,
   "id": "c959af4d-eda7-49e1-919d-afed987042a6",
   "metadata": {},
   "outputs": [
    {
     "name": "stdout",
     "output_type": "stream",
     "text": [
      "WARNING:tensorflow:Unresolved object in checkpoint: (root).optimizer.iter\n"
     ]
    },
    {
     "name": "stderr",
     "output_type": "stream",
     "text": [
      "WARNING:tensorflow:Unresolved object in checkpoint: (root).optimizer.iter\n"
     ]
    },
    {
     "name": "stdout",
     "output_type": "stream",
     "text": [
      "WARNING:tensorflow:Unresolved object in checkpoint: (root).optimizer.beta_1\n"
     ]
    },
    {
     "name": "stderr",
     "output_type": "stream",
     "text": [
      "WARNING:tensorflow:Unresolved object in checkpoint: (root).optimizer.beta_1\n"
     ]
    },
    {
     "name": "stdout",
     "output_type": "stream",
     "text": [
      "WARNING:tensorflow:Unresolved object in checkpoint: (root).optimizer.beta_2\n"
     ]
    },
    {
     "name": "stderr",
     "output_type": "stream",
     "text": [
      "WARNING:tensorflow:Unresolved object in checkpoint: (root).optimizer.beta_2\n"
     ]
    },
    {
     "name": "stdout",
     "output_type": "stream",
     "text": [
      "WARNING:tensorflow:Unresolved object in checkpoint: (root).optimizer.decay\n"
     ]
    },
    {
     "name": "stderr",
     "output_type": "stream",
     "text": [
      "WARNING:tensorflow:Unresolved object in checkpoint: (root).optimizer.decay\n"
     ]
    },
    {
     "name": "stdout",
     "output_type": "stream",
     "text": [
      "WARNING:tensorflow:Unresolved object in checkpoint: (root).optimizer.learning_rate\n"
     ]
    },
    {
     "name": "stderr",
     "output_type": "stream",
     "text": [
      "WARNING:tensorflow:Unresolved object in checkpoint: (root).optimizer.learning_rate\n"
     ]
    },
    {
     "name": "stdout",
     "output_type": "stream",
     "text": [
      "WARNING:tensorflow:A checkpoint was restored (e.g. tf.train.Checkpoint.restore or tf.keras.Model.load_weights) but not all checkpointed values were used. See above for specific issues. Use expect_partial() on the load status object, e.g. tf.train.Checkpoint.restore(...).expect_partial(), to silence these warnings, or use assert_consumed() to make the check explicit. See https://www.tensorflow.org/guide/checkpoint#loading_mechanics for details.\n"
     ]
    },
    {
     "name": "stderr",
     "output_type": "stream",
     "text": [
      "WARNING:tensorflow:A checkpoint was restored (e.g. tf.train.Checkpoint.restore or tf.keras.Model.load_weights) but not all checkpointed values were used. See above for specific issues. Use expect_partial() on the load status object, e.g. tf.train.Checkpoint.restore(...).expect_partial(), to silence these warnings, or use assert_consumed() to make the check explicit. See https://www.tensorflow.org/guide/checkpoint#loading_mechanics for details.\n"
     ]
    },
    {
     "name": "stdout",
     "output_type": "stream",
     "text": [
      "WARNING:tensorflow:Unresolved object in checkpoint: (root).optimizer.iter\n"
     ]
    },
    {
     "name": "stderr",
     "output_type": "stream",
     "text": [
      "WARNING:tensorflow:Unresolved object in checkpoint: (root).optimizer.iter\n"
     ]
    },
    {
     "name": "stdout",
     "output_type": "stream",
     "text": [
      "WARNING:tensorflow:Unresolved object in checkpoint: (root).optimizer.beta_1\n"
     ]
    },
    {
     "name": "stderr",
     "output_type": "stream",
     "text": [
      "WARNING:tensorflow:Unresolved object in checkpoint: (root).optimizer.beta_1\n"
     ]
    },
    {
     "name": "stdout",
     "output_type": "stream",
     "text": [
      "WARNING:tensorflow:Unresolved object in checkpoint: (root).optimizer.beta_2\n"
     ]
    },
    {
     "name": "stderr",
     "output_type": "stream",
     "text": [
      "WARNING:tensorflow:Unresolved object in checkpoint: (root).optimizer.beta_2\n"
     ]
    },
    {
     "name": "stdout",
     "output_type": "stream",
     "text": [
      "WARNING:tensorflow:Unresolved object in checkpoint: (root).optimizer.decay\n"
     ]
    },
    {
     "name": "stderr",
     "output_type": "stream",
     "text": [
      "WARNING:tensorflow:Unresolved object in checkpoint: (root).optimizer.decay\n"
     ]
    },
    {
     "name": "stdout",
     "output_type": "stream",
     "text": [
      "WARNING:tensorflow:Unresolved object in checkpoint: (root).optimizer.learning_rate\n"
     ]
    },
    {
     "name": "stderr",
     "output_type": "stream",
     "text": [
      "WARNING:tensorflow:Unresolved object in checkpoint: (root).optimizer.learning_rate\n"
     ]
    },
    {
     "name": "stdout",
     "output_type": "stream",
     "text": [
      "WARNING:tensorflow:A checkpoint was restored (e.g. tf.train.Checkpoint.restore or tf.keras.Model.load_weights) but not all checkpointed values were used. See above for specific issues. Use expect_partial() on the load status object, e.g. tf.train.Checkpoint.restore(...).expect_partial(), to silence these warnings, or use assert_consumed() to make the check explicit. See https://www.tensorflow.org/guide/checkpoint#loading_mechanics for details.\n"
     ]
    },
    {
     "name": "stderr",
     "output_type": "stream",
     "text": [
      "WARNING:tensorflow:A checkpoint was restored (e.g. tf.train.Checkpoint.restore or tf.keras.Model.load_weights) but not all checkpointed values were used. See above for specific issues. Use expect_partial() on the load status object, e.g. tf.train.Checkpoint.restore(...).expect_partial(), to silence these warnings, or use assert_consumed() to make the check explicit. See https://www.tensorflow.org/guide/checkpoint#loading_mechanics for details.\n"
     ]
    },
    {
     "name": "stdout",
     "output_type": "stream",
     "text": [
      "WARNING:tensorflow:Unresolved object in checkpoint: (root).optimizer.iter\n"
     ]
    },
    {
     "name": "stderr",
     "output_type": "stream",
     "text": [
      "WARNING:tensorflow:Unresolved object in checkpoint: (root).optimizer.iter\n"
     ]
    },
    {
     "name": "stdout",
     "output_type": "stream",
     "text": [
      "WARNING:tensorflow:Unresolved object in checkpoint: (root).optimizer.beta_1\n"
     ]
    },
    {
     "name": "stderr",
     "output_type": "stream",
     "text": [
      "WARNING:tensorflow:Unresolved object in checkpoint: (root).optimizer.beta_1\n"
     ]
    },
    {
     "name": "stdout",
     "output_type": "stream",
     "text": [
      "WARNING:tensorflow:Unresolved object in checkpoint: (root).optimizer.beta_2\n"
     ]
    },
    {
     "name": "stderr",
     "output_type": "stream",
     "text": [
      "WARNING:tensorflow:Unresolved object in checkpoint: (root).optimizer.beta_2\n"
     ]
    },
    {
     "name": "stdout",
     "output_type": "stream",
     "text": [
      "WARNING:tensorflow:Unresolved object in checkpoint: (root).optimizer.decay\n"
     ]
    },
    {
     "name": "stderr",
     "output_type": "stream",
     "text": [
      "WARNING:tensorflow:Unresolved object in checkpoint: (root).optimizer.decay\n"
     ]
    },
    {
     "name": "stdout",
     "output_type": "stream",
     "text": [
      "WARNING:tensorflow:Unresolved object in checkpoint: (root).optimizer.learning_rate\n"
     ]
    },
    {
     "name": "stderr",
     "output_type": "stream",
     "text": [
      "WARNING:tensorflow:Unresolved object in checkpoint: (root).optimizer.learning_rate\n"
     ]
    },
    {
     "name": "stdout",
     "output_type": "stream",
     "text": [
      "WARNING:tensorflow:A checkpoint was restored (e.g. tf.train.Checkpoint.restore or tf.keras.Model.load_weights) but not all checkpointed values were used. See above for specific issues. Use expect_partial() on the load status object, e.g. tf.train.Checkpoint.restore(...).expect_partial(), to silence these warnings, or use assert_consumed() to make the check explicit. See https://www.tensorflow.org/guide/checkpoint#loading_mechanics for details.\n"
     ]
    },
    {
     "name": "stderr",
     "output_type": "stream",
     "text": [
      "WARNING:tensorflow:A checkpoint was restored (e.g. tf.train.Checkpoint.restore or tf.keras.Model.load_weights) but not all checkpointed values were used. See above for specific issues. Use expect_partial() on the load status object, e.g. tf.train.Checkpoint.restore(...).expect_partial(), to silence these warnings, or use assert_consumed() to make the check explicit. See https://www.tensorflow.org/guide/checkpoint#loading_mechanics for details.\n",
      "WARNING:absl:Found untraced functions such as gru_cell_2_layer_call_and_return_conditional_losses, gru_cell_2_layer_call_fn, gru_cell_2_layer_call_fn, gru_cell_2_layer_call_and_return_conditional_losses, gru_cell_2_layer_call_and_return_conditional_losses while saving (showing 5 of 5). These functions will not be directly callable after loading.\n"
     ]
    },
    {
     "name": "stdout",
     "output_type": "stream",
     "text": [
      "INFO:tensorflow:Assets written to: Forecasting_result\\EUR_USD\\EUR_GRU_model\\assets\n"
     ]
    },
    {
     "name": "stderr",
     "output_type": "stream",
     "text": [
      "INFO:tensorflow:Assets written to: Forecasting_result\\EUR_USD\\EUR_GRU_model\\assets\n"
     ]
    }
   ],
   "source": [
    "model_save(eur_gru_model,'EUR','GRU')"
   ]
  },
  {
   "cell_type": "code",
   "execution_count": 153,
   "id": "a9ef8499-27e7-4137-b0d0-0170b6012d19",
   "metadata": {},
   "outputs": [
    {
     "name": "stdout",
     "output_type": "stream",
     "text": [
      "Trial 5 Complete [00h 00m 39s]\n",
      "val_loss: 0.03492291830480099\n",
      "\n",
      "Best val_loss So Far: 0.03472788631916046\n",
      "Total elapsed time: 00h 03m 40s\n",
      "INFO:tensorflow:Oracle triggered exit\n"
     ]
    },
    {
     "name": "stderr",
     "output_type": "stream",
     "text": [
      "INFO:tensorflow:Oracle triggered exit\n"
     ]
    },
    {
     "name": "stdout",
     "output_type": "stream",
     "text": [
      "t+1 RMSE: 0.005833\n",
      "t+1 MAPE: 0.337412\n",
      "t+2 RMSE: 0.008159\n",
      "t+2 MAPE: 0.469232\n",
      "t+3 RMSE: 0.009692\n",
      "t+3 MAPE: 0.552545\n",
      "t+4 RMSE: 0.010478\n",
      "t+4 MAPE: 0.599873\n",
      "t+5 RMSE: 0.011271\n",
      "t+5 MAPE: 0.651599\n",
      "t+6 RMSE: 0.012144\n",
      "t+6 MAPE: 0.708614\n",
      "t+7 RMSE: 0.012876\n",
      "t+7 MAPE: 0.760819\n",
      "t+8 RMSE: 0.013804\n",
      "t+8 MAPE: 0.817577\n",
      "t+9 RMSE: 0.014576\n",
      "t+9 MAPE: 0.865261\n",
      "t+10 RMSE: 0.015364\n",
      "t+10 MAPE: 0.916807\n",
      "t+11 RMSE: 0.016210\n",
      "t+11 MAPE: 0.969294\n",
      "t+12 RMSE: 0.017116\n",
      "t+12 MAPE: 1.024866\n",
      "t+13 RMSE: 0.017821\n",
      "t+13 MAPE: 1.078849\n",
      "t+14 RMSE: 0.018408\n",
      "t+14 MAPE: 1.108902\n",
      "done\n"
     ]
    }
   ],
   "source": [
    "test_size = math.ceil(len(gbp_usd) * 0.20)\n",
    "n_lag=30\n",
    "period_fore=14\n",
    "gbp_gru_model= evaluate_model(gbp_usd,test_size,n_lag,period_fore,'gru','gbp',n_repeats=4)\n",
    "print('done')\n"
   ]
  },
  {
   "cell_type": "code",
   "execution_count": 154,
   "id": "85c0fd3a-4af7-46c8-a38d-b14f4d7808aa",
   "metadata": {},
   "outputs": [
    {
     "name": "stdout",
     "output_type": "stream",
     "text": [
      "WARNING:tensorflow:Unresolved object in checkpoint: (root).optimizer.iter\n"
     ]
    },
    {
     "name": "stderr",
     "output_type": "stream",
     "text": [
      "WARNING:tensorflow:Unresolved object in checkpoint: (root).optimizer.iter\n"
     ]
    },
    {
     "name": "stdout",
     "output_type": "stream",
     "text": [
      "WARNING:tensorflow:Unresolved object in checkpoint: (root).optimizer.beta_1\n"
     ]
    },
    {
     "name": "stderr",
     "output_type": "stream",
     "text": [
      "WARNING:tensorflow:Unresolved object in checkpoint: (root).optimizer.beta_1\n"
     ]
    },
    {
     "name": "stdout",
     "output_type": "stream",
     "text": [
      "WARNING:tensorflow:Unresolved object in checkpoint: (root).optimizer.beta_2\n"
     ]
    },
    {
     "name": "stderr",
     "output_type": "stream",
     "text": [
      "WARNING:tensorflow:Unresolved object in checkpoint: (root).optimizer.beta_2\n"
     ]
    },
    {
     "name": "stdout",
     "output_type": "stream",
     "text": [
      "WARNING:tensorflow:Unresolved object in checkpoint: (root).optimizer.decay\n"
     ]
    },
    {
     "name": "stderr",
     "output_type": "stream",
     "text": [
      "WARNING:tensorflow:Unresolved object in checkpoint: (root).optimizer.decay\n"
     ]
    },
    {
     "name": "stdout",
     "output_type": "stream",
     "text": [
      "WARNING:tensorflow:Unresolved object in checkpoint: (root).optimizer.learning_rate\n"
     ]
    },
    {
     "name": "stderr",
     "output_type": "stream",
     "text": [
      "WARNING:tensorflow:Unresolved object in checkpoint: (root).optimizer.learning_rate\n"
     ]
    },
    {
     "name": "stdout",
     "output_type": "stream",
     "text": [
      "WARNING:tensorflow:A checkpoint was restored (e.g. tf.train.Checkpoint.restore or tf.keras.Model.load_weights) but not all checkpointed values were used. See above for specific issues. Use expect_partial() on the load status object, e.g. tf.train.Checkpoint.restore(...).expect_partial(), to silence these warnings, or use assert_consumed() to make the check explicit. See https://www.tensorflow.org/guide/checkpoint#loading_mechanics for details.\n"
     ]
    },
    {
     "name": "stderr",
     "output_type": "stream",
     "text": [
      "WARNING:tensorflow:A checkpoint was restored (e.g. tf.train.Checkpoint.restore or tf.keras.Model.load_weights) but not all checkpointed values were used. See above for specific issues. Use expect_partial() on the load status object, e.g. tf.train.Checkpoint.restore(...).expect_partial(), to silence these warnings, or use assert_consumed() to make the check explicit. See https://www.tensorflow.org/guide/checkpoint#loading_mechanics for details.\n"
     ]
    },
    {
     "name": "stdout",
     "output_type": "stream",
     "text": [
      "WARNING:tensorflow:Unresolved object in checkpoint: (root).optimizer.iter\n"
     ]
    },
    {
     "name": "stderr",
     "output_type": "stream",
     "text": [
      "WARNING:tensorflow:Unresolved object in checkpoint: (root).optimizer.iter\n"
     ]
    },
    {
     "name": "stdout",
     "output_type": "stream",
     "text": [
      "WARNING:tensorflow:Unresolved object in checkpoint: (root).optimizer.beta_1\n"
     ]
    },
    {
     "name": "stderr",
     "output_type": "stream",
     "text": [
      "WARNING:tensorflow:Unresolved object in checkpoint: (root).optimizer.beta_1\n"
     ]
    },
    {
     "name": "stdout",
     "output_type": "stream",
     "text": [
      "WARNING:tensorflow:Unresolved object in checkpoint: (root).optimizer.beta_2\n"
     ]
    },
    {
     "name": "stderr",
     "output_type": "stream",
     "text": [
      "WARNING:tensorflow:Unresolved object in checkpoint: (root).optimizer.beta_2\n"
     ]
    },
    {
     "name": "stdout",
     "output_type": "stream",
     "text": [
      "WARNING:tensorflow:Unresolved object in checkpoint: (root).optimizer.decay\n"
     ]
    },
    {
     "name": "stderr",
     "output_type": "stream",
     "text": [
      "WARNING:tensorflow:Unresolved object in checkpoint: (root).optimizer.decay\n"
     ]
    },
    {
     "name": "stdout",
     "output_type": "stream",
     "text": [
      "WARNING:tensorflow:Unresolved object in checkpoint: (root).optimizer.learning_rate\n"
     ]
    },
    {
     "name": "stderr",
     "output_type": "stream",
     "text": [
      "WARNING:tensorflow:Unresolved object in checkpoint: (root).optimizer.learning_rate\n"
     ]
    },
    {
     "name": "stdout",
     "output_type": "stream",
     "text": [
      "WARNING:tensorflow:A checkpoint was restored (e.g. tf.train.Checkpoint.restore or tf.keras.Model.load_weights) but not all checkpointed values were used. See above for specific issues. Use expect_partial() on the load status object, e.g. tf.train.Checkpoint.restore(...).expect_partial(), to silence these warnings, or use assert_consumed() to make the check explicit. See https://www.tensorflow.org/guide/checkpoint#loading_mechanics for details.\n"
     ]
    },
    {
     "name": "stderr",
     "output_type": "stream",
     "text": [
      "WARNING:tensorflow:A checkpoint was restored (e.g. tf.train.Checkpoint.restore or tf.keras.Model.load_weights) but not all checkpointed values were used. See above for specific issues. Use expect_partial() on the load status object, e.g. tf.train.Checkpoint.restore(...).expect_partial(), to silence these warnings, or use assert_consumed() to make the check explicit. See https://www.tensorflow.org/guide/checkpoint#loading_mechanics for details.\n"
     ]
    },
    {
     "name": "stdout",
     "output_type": "stream",
     "text": [
      "WARNING:tensorflow:Unresolved object in checkpoint: (root).optimizer.iter\n"
     ]
    },
    {
     "name": "stderr",
     "output_type": "stream",
     "text": [
      "WARNING:tensorflow:Unresolved object in checkpoint: (root).optimizer.iter\n"
     ]
    },
    {
     "name": "stdout",
     "output_type": "stream",
     "text": [
      "WARNING:tensorflow:Unresolved object in checkpoint: (root).optimizer.beta_1\n"
     ]
    },
    {
     "name": "stderr",
     "output_type": "stream",
     "text": [
      "WARNING:tensorflow:Unresolved object in checkpoint: (root).optimizer.beta_1\n"
     ]
    },
    {
     "name": "stdout",
     "output_type": "stream",
     "text": [
      "WARNING:tensorflow:Unresolved object in checkpoint: (root).optimizer.beta_2\n"
     ]
    },
    {
     "name": "stderr",
     "output_type": "stream",
     "text": [
      "WARNING:tensorflow:Unresolved object in checkpoint: (root).optimizer.beta_2\n"
     ]
    },
    {
     "name": "stdout",
     "output_type": "stream",
     "text": [
      "WARNING:tensorflow:Unresolved object in checkpoint: (root).optimizer.decay\n"
     ]
    },
    {
     "name": "stderr",
     "output_type": "stream",
     "text": [
      "WARNING:tensorflow:Unresolved object in checkpoint: (root).optimizer.decay\n"
     ]
    },
    {
     "name": "stdout",
     "output_type": "stream",
     "text": [
      "WARNING:tensorflow:Unresolved object in checkpoint: (root).optimizer.learning_rate\n"
     ]
    },
    {
     "name": "stderr",
     "output_type": "stream",
     "text": [
      "WARNING:tensorflow:Unresolved object in checkpoint: (root).optimizer.learning_rate\n"
     ]
    },
    {
     "name": "stdout",
     "output_type": "stream",
     "text": [
      "WARNING:tensorflow:A checkpoint was restored (e.g. tf.train.Checkpoint.restore or tf.keras.Model.load_weights) but not all checkpointed values were used. See above for specific issues. Use expect_partial() on the load status object, e.g. tf.train.Checkpoint.restore(...).expect_partial(), to silence these warnings, or use assert_consumed() to make the check explicit. See https://www.tensorflow.org/guide/checkpoint#loading_mechanics for details.\n"
     ]
    },
    {
     "name": "stderr",
     "output_type": "stream",
     "text": [
      "WARNING:tensorflow:A checkpoint was restored (e.g. tf.train.Checkpoint.restore or tf.keras.Model.load_weights) but not all checkpointed values were used. See above for specific issues. Use expect_partial() on the load status object, e.g. tf.train.Checkpoint.restore(...).expect_partial(), to silence these warnings, or use assert_consumed() to make the check explicit. See https://www.tensorflow.org/guide/checkpoint#loading_mechanics for details.\n"
     ]
    },
    {
     "name": "stdout",
     "output_type": "stream",
     "text": [
      "INFO:tensorflow:Assets written to: Forecasting_result\\GBP_USD\\GBP_GRU_model\\assets\n"
     ]
    },
    {
     "name": "stderr",
     "output_type": "stream",
     "text": [
      "INFO:tensorflow:Assets written to: Forecasting_result\\GBP_USD\\GBP_GRU_model\\assets\n"
     ]
    }
   ],
   "source": [
    "model_save(gbp_gru_model,'GBP','GRU')"
   ]
  },
  {
   "cell_type": "code",
   "execution_count": 155,
   "id": "2bdcfe56-1043-4ba3-9aee-95b00d91657d",
   "metadata": {},
   "outputs": [
    {
     "name": "stdout",
     "output_type": "stream",
     "text": [
      "Trial 5 Complete [00h 00m 35s]\n",
      "val_loss: 0.01704242266714573\n",
      "\n",
      "Best val_loss So Far: 0.01704242266714573\n",
      "Total elapsed time: 00h 04m 05s\n",
      "INFO:tensorflow:Oracle triggered exit\n"
     ]
    },
    {
     "name": "stderr",
     "output_type": "stream",
     "text": [
      "INFO:tensorflow:Oracle triggered exit\n"
     ]
    },
    {
     "name": "stdout",
     "output_type": "stream",
     "text": [
      "t+1 RMSE: 0.000032\n",
      "t+1 MAPE: 0.270151\n",
      "t+2 RMSE: 0.000046\n",
      "t+2 MAPE: 0.392304\n",
      "t+3 RMSE: 0.000057\n",
      "t+3 MAPE: 0.491508\n",
      "t+4 RMSE: 0.000065\n",
      "t+4 MAPE: 0.552801\n",
      "t+5 RMSE: 0.000073\n",
      "t+5 MAPE: 0.623512\n",
      "t+6 RMSE: 0.000080\n",
      "t+6 MAPE: 0.678237\n",
      "t+7 RMSE: 0.000086\n",
      "t+7 MAPE: 0.724506\n",
      "t+8 RMSE: 0.000092\n",
      "t+8 MAPE: 0.774740\n",
      "t+9 RMSE: 0.000098\n",
      "t+9 MAPE: 0.830245\n",
      "t+10 RMSE: 0.000104\n",
      "t+10 MAPE: 0.877687\n",
      "t+11 RMSE: 0.000110\n",
      "t+11 MAPE: 0.932469\n",
      "t+12 RMSE: 0.000116\n",
      "t+12 MAPE: 0.978467\n",
      "t+13 RMSE: 0.000122\n",
      "t+13 MAPE: 1.041049\n",
      "t+14 RMSE: 0.000128\n",
      "t+14 MAPE: 1.093417\n",
      "done\n"
     ]
    }
   ],
   "source": [
    "test_size = math.ceil(len(jpy_usd) * 0.20)\n",
    "n_lag=30\n",
    "period_fore=14\n",
    "jpy_gru_model= evaluate_model(jpy_usd,test_size,n_lag,period_fore,'gru','jpy',n_repeats=4)\n",
    "print('done')\n"
   ]
  },
  {
   "cell_type": "code",
   "execution_count": 156,
   "id": "ccfc9f68-8ad9-400e-8728-b11e42be416c",
   "metadata": {},
   "outputs": [
    {
     "name": "stdout",
     "output_type": "stream",
     "text": [
      "WARNING:tensorflow:Unresolved object in checkpoint: (root).optimizer.iter\n"
     ]
    },
    {
     "name": "stderr",
     "output_type": "stream",
     "text": [
      "WARNING:tensorflow:Unresolved object in checkpoint: (root).optimizer.iter\n"
     ]
    },
    {
     "name": "stdout",
     "output_type": "stream",
     "text": [
      "WARNING:tensorflow:Unresolved object in checkpoint: (root).optimizer.beta_1\n"
     ]
    },
    {
     "name": "stderr",
     "output_type": "stream",
     "text": [
      "WARNING:tensorflow:Unresolved object in checkpoint: (root).optimizer.beta_1\n"
     ]
    },
    {
     "name": "stdout",
     "output_type": "stream",
     "text": [
      "WARNING:tensorflow:Unresolved object in checkpoint: (root).optimizer.beta_2\n"
     ]
    },
    {
     "name": "stderr",
     "output_type": "stream",
     "text": [
      "WARNING:tensorflow:Unresolved object in checkpoint: (root).optimizer.beta_2\n"
     ]
    },
    {
     "name": "stdout",
     "output_type": "stream",
     "text": [
      "WARNING:tensorflow:Unresolved object in checkpoint: (root).optimizer.decay\n"
     ]
    },
    {
     "name": "stderr",
     "output_type": "stream",
     "text": [
      "WARNING:tensorflow:Unresolved object in checkpoint: (root).optimizer.decay\n"
     ]
    },
    {
     "name": "stdout",
     "output_type": "stream",
     "text": [
      "WARNING:tensorflow:Unresolved object in checkpoint: (root).optimizer.learning_rate\n"
     ]
    },
    {
     "name": "stderr",
     "output_type": "stream",
     "text": [
      "WARNING:tensorflow:Unresolved object in checkpoint: (root).optimizer.learning_rate\n"
     ]
    },
    {
     "name": "stdout",
     "output_type": "stream",
     "text": [
      "WARNING:tensorflow:A checkpoint was restored (e.g. tf.train.Checkpoint.restore or tf.keras.Model.load_weights) but not all checkpointed values were used. See above for specific issues. Use expect_partial() on the load status object, e.g. tf.train.Checkpoint.restore(...).expect_partial(), to silence these warnings, or use assert_consumed() to make the check explicit. See https://www.tensorflow.org/guide/checkpoint#loading_mechanics for details.\n"
     ]
    },
    {
     "name": "stderr",
     "output_type": "stream",
     "text": [
      "WARNING:tensorflow:A checkpoint was restored (e.g. tf.train.Checkpoint.restore or tf.keras.Model.load_weights) but not all checkpointed values were used. See above for specific issues. Use expect_partial() on the load status object, e.g. tf.train.Checkpoint.restore(...).expect_partial(), to silence these warnings, or use assert_consumed() to make the check explicit. See https://www.tensorflow.org/guide/checkpoint#loading_mechanics for details.\n"
     ]
    },
    {
     "name": "stdout",
     "output_type": "stream",
     "text": [
      "WARNING:tensorflow:Unresolved object in checkpoint: (root).optimizer.iter\n"
     ]
    },
    {
     "name": "stderr",
     "output_type": "stream",
     "text": [
      "WARNING:tensorflow:Unresolved object in checkpoint: (root).optimizer.iter\n"
     ]
    },
    {
     "name": "stdout",
     "output_type": "stream",
     "text": [
      "WARNING:tensorflow:Unresolved object in checkpoint: (root).optimizer.beta_1\n"
     ]
    },
    {
     "name": "stderr",
     "output_type": "stream",
     "text": [
      "WARNING:tensorflow:Unresolved object in checkpoint: (root).optimizer.beta_1\n"
     ]
    },
    {
     "name": "stdout",
     "output_type": "stream",
     "text": [
      "WARNING:tensorflow:Unresolved object in checkpoint: (root).optimizer.beta_2\n"
     ]
    },
    {
     "name": "stderr",
     "output_type": "stream",
     "text": [
      "WARNING:tensorflow:Unresolved object in checkpoint: (root).optimizer.beta_2\n"
     ]
    },
    {
     "name": "stdout",
     "output_type": "stream",
     "text": [
      "WARNING:tensorflow:Unresolved object in checkpoint: (root).optimizer.decay\n"
     ]
    },
    {
     "name": "stderr",
     "output_type": "stream",
     "text": [
      "WARNING:tensorflow:Unresolved object in checkpoint: (root).optimizer.decay\n"
     ]
    },
    {
     "name": "stdout",
     "output_type": "stream",
     "text": [
      "WARNING:tensorflow:Unresolved object in checkpoint: (root).optimizer.learning_rate\n"
     ]
    },
    {
     "name": "stderr",
     "output_type": "stream",
     "text": [
      "WARNING:tensorflow:Unresolved object in checkpoint: (root).optimizer.learning_rate\n"
     ]
    },
    {
     "name": "stdout",
     "output_type": "stream",
     "text": [
      "WARNING:tensorflow:A checkpoint was restored (e.g. tf.train.Checkpoint.restore or tf.keras.Model.load_weights) but not all checkpointed values were used. See above for specific issues. Use expect_partial() on the load status object, e.g. tf.train.Checkpoint.restore(...).expect_partial(), to silence these warnings, or use assert_consumed() to make the check explicit. See https://www.tensorflow.org/guide/checkpoint#loading_mechanics for details.\n"
     ]
    },
    {
     "name": "stderr",
     "output_type": "stream",
     "text": [
      "WARNING:tensorflow:A checkpoint was restored (e.g. tf.train.Checkpoint.restore or tf.keras.Model.load_weights) but not all checkpointed values were used. See above for specific issues. Use expect_partial() on the load status object, e.g. tf.train.Checkpoint.restore(...).expect_partial(), to silence these warnings, or use assert_consumed() to make the check explicit. See https://www.tensorflow.org/guide/checkpoint#loading_mechanics for details.\n"
     ]
    },
    {
     "name": "stdout",
     "output_type": "stream",
     "text": [
      "WARNING:tensorflow:Unresolved object in checkpoint: (root).optimizer.iter\n"
     ]
    },
    {
     "name": "stderr",
     "output_type": "stream",
     "text": [
      "WARNING:tensorflow:Unresolved object in checkpoint: (root).optimizer.iter\n"
     ]
    },
    {
     "name": "stdout",
     "output_type": "stream",
     "text": [
      "WARNING:tensorflow:Unresolved object in checkpoint: (root).optimizer.beta_1\n"
     ]
    },
    {
     "name": "stderr",
     "output_type": "stream",
     "text": [
      "WARNING:tensorflow:Unresolved object in checkpoint: (root).optimizer.beta_1\n"
     ]
    },
    {
     "name": "stdout",
     "output_type": "stream",
     "text": [
      "WARNING:tensorflow:Unresolved object in checkpoint: (root).optimizer.beta_2\n"
     ]
    },
    {
     "name": "stderr",
     "output_type": "stream",
     "text": [
      "WARNING:tensorflow:Unresolved object in checkpoint: (root).optimizer.beta_2\n"
     ]
    },
    {
     "name": "stdout",
     "output_type": "stream",
     "text": [
      "WARNING:tensorflow:Unresolved object in checkpoint: (root).optimizer.decay\n"
     ]
    },
    {
     "name": "stderr",
     "output_type": "stream",
     "text": [
      "WARNING:tensorflow:Unresolved object in checkpoint: (root).optimizer.decay\n"
     ]
    },
    {
     "name": "stdout",
     "output_type": "stream",
     "text": [
      "WARNING:tensorflow:Unresolved object in checkpoint: (root).optimizer.learning_rate\n"
     ]
    },
    {
     "name": "stderr",
     "output_type": "stream",
     "text": [
      "WARNING:tensorflow:Unresolved object in checkpoint: (root).optimizer.learning_rate\n"
     ]
    },
    {
     "name": "stdout",
     "output_type": "stream",
     "text": [
      "WARNING:tensorflow:A checkpoint was restored (e.g. tf.train.Checkpoint.restore or tf.keras.Model.load_weights) but not all checkpointed values were used. See above for specific issues. Use expect_partial() on the load status object, e.g. tf.train.Checkpoint.restore(...).expect_partial(), to silence these warnings, or use assert_consumed() to make the check explicit. See https://www.tensorflow.org/guide/checkpoint#loading_mechanics for details.\n"
     ]
    },
    {
     "name": "stderr",
     "output_type": "stream",
     "text": [
      "WARNING:tensorflow:A checkpoint was restored (e.g. tf.train.Checkpoint.restore or tf.keras.Model.load_weights) but not all checkpointed values were used. See above for specific issues. Use expect_partial() on the load status object, e.g. tf.train.Checkpoint.restore(...).expect_partial(), to silence these warnings, or use assert_consumed() to make the check explicit. See https://www.tensorflow.org/guide/checkpoint#loading_mechanics for details.\n"
     ]
    },
    {
     "name": "stdout",
     "output_type": "stream",
     "text": [
      "INFO:tensorflow:Assets written to: Forecasting_result\\JPY_USD\\JPY_GRU_model\\assets\n"
     ]
    },
    {
     "name": "stderr",
     "output_type": "stream",
     "text": [
      "INFO:tensorflow:Assets written to: Forecasting_result\\JPY_USD\\JPY_GRU_model\\assets\n"
     ]
    }
   ],
   "source": [
    "model_save(jpy_gru_model,'JPY','GRU')"
   ]
  },
  {
   "cell_type": "code",
   "execution_count": 157,
   "id": "5145b745-0a44-4127-9a5c-73c3bcc8c2b9",
   "metadata": {},
   "outputs": [
    {
     "name": "stdout",
     "output_type": "stream",
     "text": [
      "Trial 5 Complete [00h 00m 41s]\n",
      "val_loss: 0.006447619292885065\n",
      "\n",
      "Best val_loss So Far: 0.006373450858518481\n",
      "Total elapsed time: 00h 05m 53s\n",
      "INFO:tensorflow:Oracle triggered exit\n"
     ]
    },
    {
     "name": "stderr",
     "output_type": "stream",
     "text": [
      "INFO:tensorflow:Oracle triggered exit\n"
     ]
    },
    {
     "name": "stdout",
     "output_type": "stream",
     "text": [
      "t+1 RMSE: 1824.291961\n",
      "t+1 MAPE: 3.089480\n",
      "t+2 RMSE: 2592.056374\n",
      "t+2 MAPE: 4.481114\n",
      "t+3 RMSE: 3158.666876\n",
      "t+3 MAPE: 5.639610\n",
      "t+4 RMSE: 3625.031887\n",
      "t+4 MAPE: 6.366386\n",
      "t+5 RMSE: 4125.628253\n",
      "t+5 MAPE: 7.175524\n",
      "t+6 RMSE: 4574.114047\n",
      "t+6 MAPE: 7.869874\n",
      "t+7 RMSE: 5003.684923\n",
      "t+7 MAPE: 8.663319\n",
      "t+8 RMSE: 5384.713049\n",
      "t+8 MAPE: 9.359788\n",
      "t+9 RMSE: 5706.173385\n",
      "t+9 MAPE: 9.949200\n",
      "t+10 RMSE: 6029.147358\n",
      "t+10 MAPE: 10.484652\n",
      "t+11 RMSE: 6372.838509\n",
      "t+11 MAPE: 11.127632\n",
      "t+12 RMSE: 6689.819346\n",
      "t+12 MAPE: 11.637620\n",
      "t+13 RMSE: 6967.864647\n",
      "t+13 MAPE: 12.096676\n",
      "t+14 RMSE: 7246.516808\n",
      "t+14 MAPE: 12.596053\n",
      "done\n"
     ]
    }
   ],
   "source": [
    "test_size = math.floor(len(btc_usd) * 0.20)\n",
    "n_lag=30\n",
    "period_fore=14\n",
    "btc_gru_model= evaluate_model(btc_usd,test_size,n_lag,period_fore,'gru','btc',n_repeats=4)\n",
    "print('done')\n"
   ]
  },
  {
   "cell_type": "code",
   "execution_count": 158,
   "id": "c8131b79-a0ce-4265-8b99-2cdc76421fe0",
   "metadata": {},
   "outputs": [
    {
     "name": "stdout",
     "output_type": "stream",
     "text": [
      "WARNING:tensorflow:Unresolved object in checkpoint: (root).optimizer.iter\n"
     ]
    },
    {
     "name": "stderr",
     "output_type": "stream",
     "text": [
      "WARNING:tensorflow:Unresolved object in checkpoint: (root).optimizer.iter\n"
     ]
    },
    {
     "name": "stdout",
     "output_type": "stream",
     "text": [
      "WARNING:tensorflow:Unresolved object in checkpoint: (root).optimizer.beta_1\n"
     ]
    },
    {
     "name": "stderr",
     "output_type": "stream",
     "text": [
      "WARNING:tensorflow:Unresolved object in checkpoint: (root).optimizer.beta_1\n"
     ]
    },
    {
     "name": "stdout",
     "output_type": "stream",
     "text": [
      "WARNING:tensorflow:Unresolved object in checkpoint: (root).optimizer.beta_2\n"
     ]
    },
    {
     "name": "stderr",
     "output_type": "stream",
     "text": [
      "WARNING:tensorflow:Unresolved object in checkpoint: (root).optimizer.beta_2\n"
     ]
    },
    {
     "name": "stdout",
     "output_type": "stream",
     "text": [
      "WARNING:tensorflow:Unresolved object in checkpoint: (root).optimizer.decay\n"
     ]
    },
    {
     "name": "stderr",
     "output_type": "stream",
     "text": [
      "WARNING:tensorflow:Unresolved object in checkpoint: (root).optimizer.decay\n"
     ]
    },
    {
     "name": "stdout",
     "output_type": "stream",
     "text": [
      "WARNING:tensorflow:Unresolved object in checkpoint: (root).optimizer.learning_rate\n"
     ]
    },
    {
     "name": "stderr",
     "output_type": "stream",
     "text": [
      "WARNING:tensorflow:Unresolved object in checkpoint: (root).optimizer.learning_rate\n"
     ]
    },
    {
     "name": "stdout",
     "output_type": "stream",
     "text": [
      "WARNING:tensorflow:A checkpoint was restored (e.g. tf.train.Checkpoint.restore or tf.keras.Model.load_weights) but not all checkpointed values were used. See above for specific issues. Use expect_partial() on the load status object, e.g. tf.train.Checkpoint.restore(...).expect_partial(), to silence these warnings, or use assert_consumed() to make the check explicit. See https://www.tensorflow.org/guide/checkpoint#loading_mechanics for details.\n"
     ]
    },
    {
     "name": "stderr",
     "output_type": "stream",
     "text": [
      "WARNING:tensorflow:A checkpoint was restored (e.g. tf.train.Checkpoint.restore or tf.keras.Model.load_weights) but not all checkpointed values were used. See above for specific issues. Use expect_partial() on the load status object, e.g. tf.train.Checkpoint.restore(...).expect_partial(), to silence these warnings, or use assert_consumed() to make the check explicit. See https://www.tensorflow.org/guide/checkpoint#loading_mechanics for details.\n"
     ]
    },
    {
     "name": "stdout",
     "output_type": "stream",
     "text": [
      "WARNING:tensorflow:Unresolved object in checkpoint: (root).optimizer.iter\n"
     ]
    },
    {
     "name": "stderr",
     "output_type": "stream",
     "text": [
      "WARNING:tensorflow:Unresolved object in checkpoint: (root).optimizer.iter\n"
     ]
    },
    {
     "name": "stdout",
     "output_type": "stream",
     "text": [
      "WARNING:tensorflow:Unresolved object in checkpoint: (root).optimizer.beta_1\n"
     ]
    },
    {
     "name": "stderr",
     "output_type": "stream",
     "text": [
      "WARNING:tensorflow:Unresolved object in checkpoint: (root).optimizer.beta_1\n"
     ]
    },
    {
     "name": "stdout",
     "output_type": "stream",
     "text": [
      "WARNING:tensorflow:Unresolved object in checkpoint: (root).optimizer.beta_2\n"
     ]
    },
    {
     "name": "stderr",
     "output_type": "stream",
     "text": [
      "WARNING:tensorflow:Unresolved object in checkpoint: (root).optimizer.beta_2\n"
     ]
    },
    {
     "name": "stdout",
     "output_type": "stream",
     "text": [
      "WARNING:tensorflow:Unresolved object in checkpoint: (root).optimizer.decay\n"
     ]
    },
    {
     "name": "stderr",
     "output_type": "stream",
     "text": [
      "WARNING:tensorflow:Unresolved object in checkpoint: (root).optimizer.decay\n"
     ]
    },
    {
     "name": "stdout",
     "output_type": "stream",
     "text": [
      "WARNING:tensorflow:Unresolved object in checkpoint: (root).optimizer.learning_rate\n"
     ]
    },
    {
     "name": "stderr",
     "output_type": "stream",
     "text": [
      "WARNING:tensorflow:Unresolved object in checkpoint: (root).optimizer.learning_rate\n"
     ]
    },
    {
     "name": "stdout",
     "output_type": "stream",
     "text": [
      "WARNING:tensorflow:A checkpoint was restored (e.g. tf.train.Checkpoint.restore or tf.keras.Model.load_weights) but not all checkpointed values were used. See above for specific issues. Use expect_partial() on the load status object, e.g. tf.train.Checkpoint.restore(...).expect_partial(), to silence these warnings, or use assert_consumed() to make the check explicit. See https://www.tensorflow.org/guide/checkpoint#loading_mechanics for details.\n"
     ]
    },
    {
     "name": "stderr",
     "output_type": "stream",
     "text": [
      "WARNING:tensorflow:A checkpoint was restored (e.g. tf.train.Checkpoint.restore or tf.keras.Model.load_weights) but not all checkpointed values were used. See above for specific issues. Use expect_partial() on the load status object, e.g. tf.train.Checkpoint.restore(...).expect_partial(), to silence these warnings, or use assert_consumed() to make the check explicit. See https://www.tensorflow.org/guide/checkpoint#loading_mechanics for details.\n"
     ]
    },
    {
     "name": "stdout",
     "output_type": "stream",
     "text": [
      "WARNING:tensorflow:Unresolved object in checkpoint: (root).optimizer.iter\n"
     ]
    },
    {
     "name": "stderr",
     "output_type": "stream",
     "text": [
      "WARNING:tensorflow:Unresolved object in checkpoint: (root).optimizer.iter\n"
     ]
    },
    {
     "name": "stdout",
     "output_type": "stream",
     "text": [
      "WARNING:tensorflow:Unresolved object in checkpoint: (root).optimizer.beta_1\n"
     ]
    },
    {
     "name": "stderr",
     "output_type": "stream",
     "text": [
      "WARNING:tensorflow:Unresolved object in checkpoint: (root).optimizer.beta_1\n"
     ]
    },
    {
     "name": "stdout",
     "output_type": "stream",
     "text": [
      "WARNING:tensorflow:Unresolved object in checkpoint: (root).optimizer.beta_2\n"
     ]
    },
    {
     "name": "stderr",
     "output_type": "stream",
     "text": [
      "WARNING:tensorflow:Unresolved object in checkpoint: (root).optimizer.beta_2\n"
     ]
    },
    {
     "name": "stdout",
     "output_type": "stream",
     "text": [
      "WARNING:tensorflow:Unresolved object in checkpoint: (root).optimizer.decay\n"
     ]
    },
    {
     "name": "stderr",
     "output_type": "stream",
     "text": [
      "WARNING:tensorflow:Unresolved object in checkpoint: (root).optimizer.decay\n"
     ]
    },
    {
     "name": "stdout",
     "output_type": "stream",
     "text": [
      "WARNING:tensorflow:Unresolved object in checkpoint: (root).optimizer.learning_rate\n"
     ]
    },
    {
     "name": "stderr",
     "output_type": "stream",
     "text": [
      "WARNING:tensorflow:Unresolved object in checkpoint: (root).optimizer.learning_rate\n"
     ]
    },
    {
     "name": "stdout",
     "output_type": "stream",
     "text": [
      "WARNING:tensorflow:A checkpoint was restored (e.g. tf.train.Checkpoint.restore or tf.keras.Model.load_weights) but not all checkpointed values were used. See above for specific issues. Use expect_partial() on the load status object, e.g. tf.train.Checkpoint.restore(...).expect_partial(), to silence these warnings, or use assert_consumed() to make the check explicit. See https://www.tensorflow.org/guide/checkpoint#loading_mechanics for details.\n"
     ]
    },
    {
     "name": "stderr",
     "output_type": "stream",
     "text": [
      "WARNING:tensorflow:A checkpoint was restored (e.g. tf.train.Checkpoint.restore or tf.keras.Model.load_weights) but not all checkpointed values were used. See above for specific issues. Use expect_partial() on the load status object, e.g. tf.train.Checkpoint.restore(...).expect_partial(), to silence these warnings, or use assert_consumed() to make the check explicit. See https://www.tensorflow.org/guide/checkpoint#loading_mechanics for details.\n"
     ]
    },
    {
     "name": "stdout",
     "output_type": "stream",
     "text": [
      "INFO:tensorflow:Assets written to: Forecasting_result\\BTC_USD\\BTC_GRU_model\\assets\n"
     ]
    },
    {
     "name": "stderr",
     "output_type": "stream",
     "text": [
      "INFO:tensorflow:Assets written to: Forecasting_result\\BTC_USD\\BTC_GRU_model\\assets\n"
     ]
    }
   ],
   "source": [
    "model_save(btc_gru_model,'BTC','GRU')"
   ]
  },
  {
   "cell_type": "code",
   "execution_count": 159,
   "id": "9fb6aa5a-e795-4a8e-b5d2-789bb4b2d255",
   "metadata": {},
   "outputs": [
    {
     "name": "stdout",
     "output_type": "stream",
     "text": [
      "Trial 5 Complete [00h 01m 33s]\n",
      "val_loss: 1.0079495496029267e-06\n",
      "\n",
      "Best val_loss So Far: nan\n",
      "Total elapsed time: 00h 05m 33s\n",
      "INFO:tensorflow:Oracle triggered exit\n"
     ]
    },
    {
     "name": "stderr",
     "output_type": "stream",
     "text": [
      "INFO:tensorflow:Oracle triggered exit\n"
     ]
    },
    {
     "name": "stdout",
     "output_type": "stream",
     "text": [
      "t+1 RMSE: 0.023999\n",
      "t+1 MAPE: 6.169518\n",
      "t+2 RMSE: 0.033214\n",
      "t+2 MAPE: 8.517679\n",
      "t+3 RMSE: 0.041040\n",
      "t+3 MAPE: 10.615985\n",
      "t+4 RMSE: 0.049631\n",
      "t+4 MAPE: 12.487871\n",
      "t+5 RMSE: 0.056823\n",
      "t+5 MAPE: 14.118039\n",
      "t+6 RMSE: 0.061076\n",
      "t+6 MAPE: 15.595560\n",
      "t+7 RMSE: 0.064996\n",
      "t+7 MAPE: 17.233924\n",
      "t+8 RMSE: 0.068877\n",
      "t+8 MAPE: 18.419905\n",
      "t+9 RMSE: 0.071691\n",
      "t+9 MAPE: 19.664407\n",
      "t+10 RMSE: 0.074764\n",
      "t+10 MAPE: 20.628891\n",
      "t+11 RMSE: 0.078449\n",
      "t+11 MAPE: 21.690634\n",
      "t+12 RMSE: 0.081753\n",
      "t+12 MAPE: 22.697739\n",
      "t+13 RMSE: 0.084035\n",
      "t+13 MAPE: 23.942074\n",
      "t+14 RMSE: 0.087108\n",
      "t+14 MAPE: 25.154405\n",
      "done\n"
     ]
    }
   ],
   "source": [
    "test_size = math.floor(len(doge_usd) * 0.20)\n",
    "n_lag=30\n",
    "period_fore=14\n",
    "doge_gru_model= evaluate_model(doge_usd,test_size,n_lag,period_fore,'gru','doge',n_repeats=4)\n",
    "print('done')\n"
   ]
  },
  {
   "cell_type": "code",
   "execution_count": 160,
   "id": "1f7bb48b-e95f-477f-9f08-6fee7ef723c4",
   "metadata": {},
   "outputs": [
    {
     "name": "stdout",
     "output_type": "stream",
     "text": [
      "WARNING:tensorflow:Unresolved object in checkpoint: (root).optimizer.iter\n"
     ]
    },
    {
     "name": "stderr",
     "output_type": "stream",
     "text": [
      "WARNING:tensorflow:Unresolved object in checkpoint: (root).optimizer.iter\n"
     ]
    },
    {
     "name": "stdout",
     "output_type": "stream",
     "text": [
      "WARNING:tensorflow:Unresolved object in checkpoint: (root).optimizer.beta_1\n"
     ]
    },
    {
     "name": "stderr",
     "output_type": "stream",
     "text": [
      "WARNING:tensorflow:Unresolved object in checkpoint: (root).optimizer.beta_1\n"
     ]
    },
    {
     "name": "stdout",
     "output_type": "stream",
     "text": [
      "WARNING:tensorflow:Unresolved object in checkpoint: (root).optimizer.beta_2\n"
     ]
    },
    {
     "name": "stderr",
     "output_type": "stream",
     "text": [
      "WARNING:tensorflow:Unresolved object in checkpoint: (root).optimizer.beta_2\n"
     ]
    },
    {
     "name": "stdout",
     "output_type": "stream",
     "text": [
      "WARNING:tensorflow:Unresolved object in checkpoint: (root).optimizer.decay\n"
     ]
    },
    {
     "name": "stderr",
     "output_type": "stream",
     "text": [
      "WARNING:tensorflow:Unresolved object in checkpoint: (root).optimizer.decay\n"
     ]
    },
    {
     "name": "stdout",
     "output_type": "stream",
     "text": [
      "WARNING:tensorflow:Unresolved object in checkpoint: (root).optimizer.learning_rate\n"
     ]
    },
    {
     "name": "stderr",
     "output_type": "stream",
     "text": [
      "WARNING:tensorflow:Unresolved object in checkpoint: (root).optimizer.learning_rate\n"
     ]
    },
    {
     "name": "stdout",
     "output_type": "stream",
     "text": [
      "WARNING:tensorflow:A checkpoint was restored (e.g. tf.train.Checkpoint.restore or tf.keras.Model.load_weights) but not all checkpointed values were used. See above for specific issues. Use expect_partial() on the load status object, e.g. tf.train.Checkpoint.restore(...).expect_partial(), to silence these warnings, or use assert_consumed() to make the check explicit. See https://www.tensorflow.org/guide/checkpoint#loading_mechanics for details.\n"
     ]
    },
    {
     "name": "stderr",
     "output_type": "stream",
     "text": [
      "WARNING:tensorflow:A checkpoint was restored (e.g. tf.train.Checkpoint.restore or tf.keras.Model.load_weights) but not all checkpointed values were used. See above for specific issues. Use expect_partial() on the load status object, e.g. tf.train.Checkpoint.restore(...).expect_partial(), to silence these warnings, or use assert_consumed() to make the check explicit. See https://www.tensorflow.org/guide/checkpoint#loading_mechanics for details.\n"
     ]
    },
    {
     "name": "stdout",
     "output_type": "stream",
     "text": [
      "WARNING:tensorflow:Unresolved object in checkpoint: (root).optimizer.iter\n"
     ]
    },
    {
     "name": "stderr",
     "output_type": "stream",
     "text": [
      "WARNING:tensorflow:Unresolved object in checkpoint: (root).optimizer.iter\n"
     ]
    },
    {
     "name": "stdout",
     "output_type": "stream",
     "text": [
      "WARNING:tensorflow:Unresolved object in checkpoint: (root).optimizer.beta_1\n"
     ]
    },
    {
     "name": "stderr",
     "output_type": "stream",
     "text": [
      "WARNING:tensorflow:Unresolved object in checkpoint: (root).optimizer.beta_1\n"
     ]
    },
    {
     "name": "stdout",
     "output_type": "stream",
     "text": [
      "WARNING:tensorflow:Unresolved object in checkpoint: (root).optimizer.beta_2\n"
     ]
    },
    {
     "name": "stderr",
     "output_type": "stream",
     "text": [
      "WARNING:tensorflow:Unresolved object in checkpoint: (root).optimizer.beta_2\n"
     ]
    },
    {
     "name": "stdout",
     "output_type": "stream",
     "text": [
      "WARNING:tensorflow:Unresolved object in checkpoint: (root).optimizer.decay\n"
     ]
    },
    {
     "name": "stderr",
     "output_type": "stream",
     "text": [
      "WARNING:tensorflow:Unresolved object in checkpoint: (root).optimizer.decay\n"
     ]
    },
    {
     "name": "stdout",
     "output_type": "stream",
     "text": [
      "WARNING:tensorflow:Unresolved object in checkpoint: (root).optimizer.learning_rate\n"
     ]
    },
    {
     "name": "stderr",
     "output_type": "stream",
     "text": [
      "WARNING:tensorflow:Unresolved object in checkpoint: (root).optimizer.learning_rate\n"
     ]
    },
    {
     "name": "stdout",
     "output_type": "stream",
     "text": [
      "WARNING:tensorflow:A checkpoint was restored (e.g. tf.train.Checkpoint.restore or tf.keras.Model.load_weights) but not all checkpointed values were used. See above for specific issues. Use expect_partial() on the load status object, e.g. tf.train.Checkpoint.restore(...).expect_partial(), to silence these warnings, or use assert_consumed() to make the check explicit. See https://www.tensorflow.org/guide/checkpoint#loading_mechanics for details.\n"
     ]
    },
    {
     "name": "stderr",
     "output_type": "stream",
     "text": [
      "WARNING:tensorflow:A checkpoint was restored (e.g. tf.train.Checkpoint.restore or tf.keras.Model.load_weights) but not all checkpointed values were used. See above for specific issues. Use expect_partial() on the load status object, e.g. tf.train.Checkpoint.restore(...).expect_partial(), to silence these warnings, or use assert_consumed() to make the check explicit. See https://www.tensorflow.org/guide/checkpoint#loading_mechanics for details.\n"
     ]
    },
    {
     "name": "stdout",
     "output_type": "stream",
     "text": [
      "WARNING:tensorflow:Unresolved object in checkpoint: (root).optimizer.iter\n"
     ]
    },
    {
     "name": "stderr",
     "output_type": "stream",
     "text": [
      "WARNING:tensorflow:Unresolved object in checkpoint: (root).optimizer.iter\n"
     ]
    },
    {
     "name": "stdout",
     "output_type": "stream",
     "text": [
      "WARNING:tensorflow:Unresolved object in checkpoint: (root).optimizer.beta_1\n"
     ]
    },
    {
     "name": "stderr",
     "output_type": "stream",
     "text": [
      "WARNING:tensorflow:Unresolved object in checkpoint: (root).optimizer.beta_1\n"
     ]
    },
    {
     "name": "stdout",
     "output_type": "stream",
     "text": [
      "WARNING:tensorflow:Unresolved object in checkpoint: (root).optimizer.beta_2\n"
     ]
    },
    {
     "name": "stderr",
     "output_type": "stream",
     "text": [
      "WARNING:tensorflow:Unresolved object in checkpoint: (root).optimizer.beta_2\n"
     ]
    },
    {
     "name": "stdout",
     "output_type": "stream",
     "text": [
      "WARNING:tensorflow:Unresolved object in checkpoint: (root).optimizer.decay\n"
     ]
    },
    {
     "name": "stderr",
     "output_type": "stream",
     "text": [
      "WARNING:tensorflow:Unresolved object in checkpoint: (root).optimizer.decay\n"
     ]
    },
    {
     "name": "stdout",
     "output_type": "stream",
     "text": [
      "WARNING:tensorflow:Unresolved object in checkpoint: (root).optimizer.learning_rate\n"
     ]
    },
    {
     "name": "stderr",
     "output_type": "stream",
     "text": [
      "WARNING:tensorflow:Unresolved object in checkpoint: (root).optimizer.learning_rate\n"
     ]
    },
    {
     "name": "stdout",
     "output_type": "stream",
     "text": [
      "WARNING:tensorflow:A checkpoint was restored (e.g. tf.train.Checkpoint.restore or tf.keras.Model.load_weights) but not all checkpointed values were used. See above for specific issues. Use expect_partial() on the load status object, e.g. tf.train.Checkpoint.restore(...).expect_partial(), to silence these warnings, or use assert_consumed() to make the check explicit. See https://www.tensorflow.org/guide/checkpoint#loading_mechanics for details.\n"
     ]
    },
    {
     "name": "stderr",
     "output_type": "stream",
     "text": [
      "WARNING:tensorflow:A checkpoint was restored (e.g. tf.train.Checkpoint.restore or tf.keras.Model.load_weights) but not all checkpointed values were used. See above for specific issues. Use expect_partial() on the load status object, e.g. tf.train.Checkpoint.restore(...).expect_partial(), to silence these warnings, or use assert_consumed() to make the check explicit. See https://www.tensorflow.org/guide/checkpoint#loading_mechanics for details.\n"
     ]
    },
    {
     "name": "stdout",
     "output_type": "stream",
     "text": [
      "INFO:tensorflow:Assets written to: Forecasting_result\\DOGE_USD\\DOGE_GRU_model\\assets\n"
     ]
    },
    {
     "name": "stderr",
     "output_type": "stream",
     "text": [
      "INFO:tensorflow:Assets written to: Forecasting_result\\DOGE_USD\\DOGE_GRU_model\\assets\n"
     ]
    }
   ],
   "source": [
    "model_save(doge_gru_model,'DOGE','GRU')"
   ]
  },
  {
   "cell_type": "code",
   "execution_count": 161,
   "id": "137d7b84-0ced-4150-bea6-64232787763b",
   "metadata": {},
   "outputs": [
    {
     "name": "stdout",
     "output_type": "stream",
     "text": [
      "Trial 5 Complete [00h 00m 35s]\n",
      "val_loss: 0.0008800391515251249\n",
      "\n",
      "Best val_loss So Far: 0.0008789485436864197\n",
      "Total elapsed time: 00h 04m 54s\n",
      "INFO:tensorflow:Oracle triggered exit\n"
     ]
    },
    {
     "name": "stderr",
     "output_type": "stream",
     "text": [
      "INFO:tensorflow:Oracle triggered exit\n"
     ]
    },
    {
     "name": "stdout",
     "output_type": "stream",
     "text": [
      "t+1 RMSE: 142.101658\n",
      "t+1 MAPE: 3.993118\n",
      "t+2 RMSE: 193.047511\n",
      "t+2 MAPE: 5.830681\n",
      "t+3 RMSE: 235.384430\n",
      "t+3 MAPE: 7.197027\n",
      "t+4 RMSE: 268.407903\n",
      "t+4 MAPE: 8.180403\n",
      "t+5 RMSE: 305.553818\n",
      "t+5 MAPE: 9.279887\n",
      "t+6 RMSE: 332.786471\n",
      "t+6 MAPE: 10.034071\n",
      "t+7 RMSE: 366.643000\n",
      "t+7 MAPE: 10.950027\n",
      "t+8 RMSE: 397.222238\n",
      "t+8 MAPE: 11.878251\n",
      "t+9 RMSE: 422.213914\n",
      "t+9 MAPE: 12.797088\n",
      "t+10 RMSE: 444.624293\n",
      "t+10 MAPE: 13.544702\n",
      "t+11 RMSE: 469.032481\n",
      "t+11 MAPE: 14.415548\n",
      "t+12 RMSE: 488.387929\n",
      "t+12 MAPE: 15.144794\n",
      "t+13 RMSE: 506.106559\n",
      "t+13 MAPE: 15.674054\n",
      "t+14 RMSE: 524.005938\n",
      "t+14 MAPE: 16.243675\n",
      "done\n"
     ]
    }
   ],
   "source": [
    "test_size = math.floor(len(eth_usd) * 0.20)\n",
    "n_lag=30\n",
    "period_fore=14\n",
    "eth_gru_model= evaluate_model(eth_usd,test_size,n_lag,period_fore,'gru','eth',n_repeats=4)\n",
    "print('done')\n"
   ]
  },
  {
   "cell_type": "code",
   "execution_count": 162,
   "id": "f514796a-c52a-4a87-89b6-74354c1889f9",
   "metadata": {},
   "outputs": [
    {
     "name": "stdout",
     "output_type": "stream",
     "text": [
      "WARNING:tensorflow:Unresolved object in checkpoint: (root).optimizer.iter\n"
     ]
    },
    {
     "name": "stderr",
     "output_type": "stream",
     "text": [
      "WARNING:tensorflow:Unresolved object in checkpoint: (root).optimizer.iter\n"
     ]
    },
    {
     "name": "stdout",
     "output_type": "stream",
     "text": [
      "WARNING:tensorflow:Unresolved object in checkpoint: (root).optimizer.beta_1\n"
     ]
    },
    {
     "name": "stderr",
     "output_type": "stream",
     "text": [
      "WARNING:tensorflow:Unresolved object in checkpoint: (root).optimizer.beta_1\n"
     ]
    },
    {
     "name": "stdout",
     "output_type": "stream",
     "text": [
      "WARNING:tensorflow:Unresolved object in checkpoint: (root).optimizer.beta_2\n"
     ]
    },
    {
     "name": "stderr",
     "output_type": "stream",
     "text": [
      "WARNING:tensorflow:Unresolved object in checkpoint: (root).optimizer.beta_2\n"
     ]
    },
    {
     "name": "stdout",
     "output_type": "stream",
     "text": [
      "WARNING:tensorflow:Unresolved object in checkpoint: (root).optimizer.decay\n"
     ]
    },
    {
     "name": "stderr",
     "output_type": "stream",
     "text": [
      "WARNING:tensorflow:Unresolved object in checkpoint: (root).optimizer.decay\n"
     ]
    },
    {
     "name": "stdout",
     "output_type": "stream",
     "text": [
      "WARNING:tensorflow:Unresolved object in checkpoint: (root).optimizer.learning_rate\n"
     ]
    },
    {
     "name": "stderr",
     "output_type": "stream",
     "text": [
      "WARNING:tensorflow:Unresolved object in checkpoint: (root).optimizer.learning_rate\n"
     ]
    },
    {
     "name": "stdout",
     "output_type": "stream",
     "text": [
      "WARNING:tensorflow:A checkpoint was restored (e.g. tf.train.Checkpoint.restore or tf.keras.Model.load_weights) but not all checkpointed values were used. See above for specific issues. Use expect_partial() on the load status object, e.g. tf.train.Checkpoint.restore(...).expect_partial(), to silence these warnings, or use assert_consumed() to make the check explicit. See https://www.tensorflow.org/guide/checkpoint#loading_mechanics for details.\n"
     ]
    },
    {
     "name": "stderr",
     "output_type": "stream",
     "text": [
      "WARNING:tensorflow:A checkpoint was restored (e.g. tf.train.Checkpoint.restore or tf.keras.Model.load_weights) but not all checkpointed values were used. See above for specific issues. Use expect_partial() on the load status object, e.g. tf.train.Checkpoint.restore(...).expect_partial(), to silence these warnings, or use assert_consumed() to make the check explicit. See https://www.tensorflow.org/guide/checkpoint#loading_mechanics for details.\n"
     ]
    },
    {
     "name": "stdout",
     "output_type": "stream",
     "text": [
      "WARNING:tensorflow:Unresolved object in checkpoint: (root).optimizer.iter\n"
     ]
    },
    {
     "name": "stderr",
     "output_type": "stream",
     "text": [
      "WARNING:tensorflow:Unresolved object in checkpoint: (root).optimizer.iter\n"
     ]
    },
    {
     "name": "stdout",
     "output_type": "stream",
     "text": [
      "WARNING:tensorflow:Unresolved object in checkpoint: (root).optimizer.beta_1\n"
     ]
    },
    {
     "name": "stderr",
     "output_type": "stream",
     "text": [
      "WARNING:tensorflow:Unresolved object in checkpoint: (root).optimizer.beta_1\n"
     ]
    },
    {
     "name": "stdout",
     "output_type": "stream",
     "text": [
      "WARNING:tensorflow:Unresolved object in checkpoint: (root).optimizer.beta_2\n"
     ]
    },
    {
     "name": "stderr",
     "output_type": "stream",
     "text": [
      "WARNING:tensorflow:Unresolved object in checkpoint: (root).optimizer.beta_2\n"
     ]
    },
    {
     "name": "stdout",
     "output_type": "stream",
     "text": [
      "WARNING:tensorflow:Unresolved object in checkpoint: (root).optimizer.decay\n"
     ]
    },
    {
     "name": "stderr",
     "output_type": "stream",
     "text": [
      "WARNING:tensorflow:Unresolved object in checkpoint: (root).optimizer.decay\n"
     ]
    },
    {
     "name": "stdout",
     "output_type": "stream",
     "text": [
      "WARNING:tensorflow:Unresolved object in checkpoint: (root).optimizer.learning_rate\n"
     ]
    },
    {
     "name": "stderr",
     "output_type": "stream",
     "text": [
      "WARNING:tensorflow:Unresolved object in checkpoint: (root).optimizer.learning_rate\n"
     ]
    },
    {
     "name": "stdout",
     "output_type": "stream",
     "text": [
      "WARNING:tensorflow:A checkpoint was restored (e.g. tf.train.Checkpoint.restore or tf.keras.Model.load_weights) but not all checkpointed values were used. See above for specific issues. Use expect_partial() on the load status object, e.g. tf.train.Checkpoint.restore(...).expect_partial(), to silence these warnings, or use assert_consumed() to make the check explicit. See https://www.tensorflow.org/guide/checkpoint#loading_mechanics for details.\n"
     ]
    },
    {
     "name": "stderr",
     "output_type": "stream",
     "text": [
      "WARNING:tensorflow:A checkpoint was restored (e.g. tf.train.Checkpoint.restore or tf.keras.Model.load_weights) but not all checkpointed values were used. See above for specific issues. Use expect_partial() on the load status object, e.g. tf.train.Checkpoint.restore(...).expect_partial(), to silence these warnings, or use assert_consumed() to make the check explicit. See https://www.tensorflow.org/guide/checkpoint#loading_mechanics for details.\n"
     ]
    },
    {
     "name": "stdout",
     "output_type": "stream",
     "text": [
      "WARNING:tensorflow:Unresolved object in checkpoint: (root).optimizer.iter\n"
     ]
    },
    {
     "name": "stderr",
     "output_type": "stream",
     "text": [
      "WARNING:tensorflow:Unresolved object in checkpoint: (root).optimizer.iter\n"
     ]
    },
    {
     "name": "stdout",
     "output_type": "stream",
     "text": [
      "WARNING:tensorflow:Unresolved object in checkpoint: (root).optimizer.beta_1\n"
     ]
    },
    {
     "name": "stderr",
     "output_type": "stream",
     "text": [
      "WARNING:tensorflow:Unresolved object in checkpoint: (root).optimizer.beta_1\n"
     ]
    },
    {
     "name": "stdout",
     "output_type": "stream",
     "text": [
      "WARNING:tensorflow:Unresolved object in checkpoint: (root).optimizer.beta_2\n"
     ]
    },
    {
     "name": "stderr",
     "output_type": "stream",
     "text": [
      "WARNING:tensorflow:Unresolved object in checkpoint: (root).optimizer.beta_2\n"
     ]
    },
    {
     "name": "stdout",
     "output_type": "stream",
     "text": [
      "WARNING:tensorflow:Unresolved object in checkpoint: (root).optimizer.decay\n"
     ]
    },
    {
     "name": "stderr",
     "output_type": "stream",
     "text": [
      "WARNING:tensorflow:Unresolved object in checkpoint: (root).optimizer.decay\n"
     ]
    },
    {
     "name": "stdout",
     "output_type": "stream",
     "text": [
      "WARNING:tensorflow:Unresolved object in checkpoint: (root).optimizer.learning_rate\n"
     ]
    },
    {
     "name": "stderr",
     "output_type": "stream",
     "text": [
      "WARNING:tensorflow:Unresolved object in checkpoint: (root).optimizer.learning_rate\n"
     ]
    },
    {
     "name": "stdout",
     "output_type": "stream",
     "text": [
      "WARNING:tensorflow:A checkpoint was restored (e.g. tf.train.Checkpoint.restore or tf.keras.Model.load_weights) but not all checkpointed values were used. See above for specific issues. Use expect_partial() on the load status object, e.g. tf.train.Checkpoint.restore(...).expect_partial(), to silence these warnings, or use assert_consumed() to make the check explicit. See https://www.tensorflow.org/guide/checkpoint#loading_mechanics for details.\n"
     ]
    },
    {
     "name": "stderr",
     "output_type": "stream",
     "text": [
      "WARNING:tensorflow:A checkpoint was restored (e.g. tf.train.Checkpoint.restore or tf.keras.Model.load_weights) but not all checkpointed values were used. See above for specific issues. Use expect_partial() on the load status object, e.g. tf.train.Checkpoint.restore(...).expect_partial(), to silence these warnings, or use assert_consumed() to make the check explicit. See https://www.tensorflow.org/guide/checkpoint#loading_mechanics for details.\n"
     ]
    },
    {
     "name": "stdout",
     "output_type": "stream",
     "text": [
      "INFO:tensorflow:Assets written to: Forecasting_result\\ETH_USD\\ETH_GRU_model\\assets\n"
     ]
    },
    {
     "name": "stderr",
     "output_type": "stream",
     "text": [
      "INFO:tensorflow:Assets written to: Forecasting_result\\ETH_USD\\ETH_GRU_model\\assets\n"
     ]
    }
   ],
   "source": [
    "model_save(eth_gru_model,'ETH','GRU')"
   ]
  },
  {
   "cell_type": "code",
   "execution_count": 163,
   "id": "75b5c14f-3b24-42d9-a9a9-330d1a380529",
   "metadata": {},
   "outputs": [
    {
     "name": "stdout",
     "output_type": "stream",
     "text": [
      "Trial 5 Complete [00h 00m 43s]\n",
      "val_loss: 0.001266720239073038\n",
      "\n",
      "Best val_loss So Far: 0.0012531416723504663\n",
      "Total elapsed time: 00h 05m 52s\n",
      "INFO:tensorflow:Oracle triggered exit\n"
     ]
    },
    {
     "name": "stderr",
     "output_type": "stream",
     "text": [
      "INFO:tensorflow:Oracle triggered exit\n"
     ]
    },
    {
     "name": "stdout",
     "output_type": "stream",
     "text": [
      "t+1 RMSE: 12.341961\n",
      "t+1 MAPE: 4.338213\n",
      "t+2 RMSE: 17.368190\n",
      "t+2 MAPE: 6.314284\n",
      "t+3 RMSE: 21.612118\n",
      "t+3 MAPE: 7.920193\n",
      "t+4 RMSE: 24.980348\n",
      "t+4 MAPE: 9.161305\n",
      "t+5 RMSE: 28.555118\n",
      "t+5 MAPE: 10.484054\n",
      "t+6 RMSE: 31.424987\n",
      "t+6 MAPE: 11.607070\n",
      "t+7 RMSE: 34.789319\n",
      "t+7 MAPE: 12.880516\n",
      "t+8 RMSE: 37.644974\n",
      "t+8 MAPE: 13.937605\n",
      "t+9 RMSE: 39.992181\n",
      "t+9 MAPE: 14.713764\n",
      "t+10 RMSE: 42.099440\n",
      "t+10 MAPE: 15.495181\n",
      "t+11 RMSE: 44.112511\n",
      "t+11 MAPE: 16.297284\n",
      "t+12 RMSE: 45.945374\n",
      "t+12 MAPE: 17.085530\n",
      "t+13 RMSE: 47.369633\n",
      "t+13 MAPE: 17.620031\n",
      "t+14 RMSE: 48.629763\n",
      "t+14 MAPE: 18.158617\n",
      "done\n"
     ]
    }
   ],
   "source": [
    "test_size = math.floor(len(ltc_usd) * 0.20)\n",
    "n_lag=30\n",
    "period_fore=14\n",
    "ltc_gru_model= evaluate_model(ltc_usd,test_size,n_lag,period_fore,'gru','ltc',n_repeats=4)\n",
    "print('done')\n"
   ]
  },
  {
   "cell_type": "code",
   "execution_count": 164,
   "id": "a78b8c0e-e7ab-4aa1-a273-77092d0fa47d",
   "metadata": {},
   "outputs": [
    {
     "name": "stdout",
     "output_type": "stream",
     "text": [
      "WARNING:tensorflow:Unresolved object in checkpoint: (root).optimizer.iter\n"
     ]
    },
    {
     "name": "stderr",
     "output_type": "stream",
     "text": [
      "WARNING:tensorflow:Unresolved object in checkpoint: (root).optimizer.iter\n"
     ]
    },
    {
     "name": "stdout",
     "output_type": "stream",
     "text": [
      "WARNING:tensorflow:Unresolved object in checkpoint: (root).optimizer.beta_1\n"
     ]
    },
    {
     "name": "stderr",
     "output_type": "stream",
     "text": [
      "WARNING:tensorflow:Unresolved object in checkpoint: (root).optimizer.beta_1\n"
     ]
    },
    {
     "name": "stdout",
     "output_type": "stream",
     "text": [
      "WARNING:tensorflow:Unresolved object in checkpoint: (root).optimizer.beta_2\n"
     ]
    },
    {
     "name": "stderr",
     "output_type": "stream",
     "text": [
      "WARNING:tensorflow:Unresolved object in checkpoint: (root).optimizer.beta_2\n"
     ]
    },
    {
     "name": "stdout",
     "output_type": "stream",
     "text": [
      "WARNING:tensorflow:Unresolved object in checkpoint: (root).optimizer.decay\n"
     ]
    },
    {
     "name": "stderr",
     "output_type": "stream",
     "text": [
      "WARNING:tensorflow:Unresolved object in checkpoint: (root).optimizer.decay\n"
     ]
    },
    {
     "name": "stdout",
     "output_type": "stream",
     "text": [
      "WARNING:tensorflow:Unresolved object in checkpoint: (root).optimizer.learning_rate\n"
     ]
    },
    {
     "name": "stderr",
     "output_type": "stream",
     "text": [
      "WARNING:tensorflow:Unresolved object in checkpoint: (root).optimizer.learning_rate\n"
     ]
    },
    {
     "name": "stdout",
     "output_type": "stream",
     "text": [
      "WARNING:tensorflow:A checkpoint was restored (e.g. tf.train.Checkpoint.restore or tf.keras.Model.load_weights) but not all checkpointed values were used. See above for specific issues. Use expect_partial() on the load status object, e.g. tf.train.Checkpoint.restore(...).expect_partial(), to silence these warnings, or use assert_consumed() to make the check explicit. See https://www.tensorflow.org/guide/checkpoint#loading_mechanics for details.\n"
     ]
    },
    {
     "name": "stderr",
     "output_type": "stream",
     "text": [
      "WARNING:tensorflow:A checkpoint was restored (e.g. tf.train.Checkpoint.restore or tf.keras.Model.load_weights) but not all checkpointed values were used. See above for specific issues. Use expect_partial() on the load status object, e.g. tf.train.Checkpoint.restore(...).expect_partial(), to silence these warnings, or use assert_consumed() to make the check explicit. See https://www.tensorflow.org/guide/checkpoint#loading_mechanics for details.\n"
     ]
    },
    {
     "name": "stdout",
     "output_type": "stream",
     "text": [
      "WARNING:tensorflow:Unresolved object in checkpoint: (root).optimizer.iter\n"
     ]
    },
    {
     "name": "stderr",
     "output_type": "stream",
     "text": [
      "WARNING:tensorflow:Unresolved object in checkpoint: (root).optimizer.iter\n"
     ]
    },
    {
     "name": "stdout",
     "output_type": "stream",
     "text": [
      "WARNING:tensorflow:Unresolved object in checkpoint: (root).optimizer.beta_1\n"
     ]
    },
    {
     "name": "stderr",
     "output_type": "stream",
     "text": [
      "WARNING:tensorflow:Unresolved object in checkpoint: (root).optimizer.beta_1\n"
     ]
    },
    {
     "name": "stdout",
     "output_type": "stream",
     "text": [
      "WARNING:tensorflow:Unresolved object in checkpoint: (root).optimizer.beta_2\n"
     ]
    },
    {
     "name": "stderr",
     "output_type": "stream",
     "text": [
      "WARNING:tensorflow:Unresolved object in checkpoint: (root).optimizer.beta_2\n"
     ]
    },
    {
     "name": "stdout",
     "output_type": "stream",
     "text": [
      "WARNING:tensorflow:Unresolved object in checkpoint: (root).optimizer.decay\n"
     ]
    },
    {
     "name": "stderr",
     "output_type": "stream",
     "text": [
      "WARNING:tensorflow:Unresolved object in checkpoint: (root).optimizer.decay\n"
     ]
    },
    {
     "name": "stdout",
     "output_type": "stream",
     "text": [
      "WARNING:tensorflow:Unresolved object in checkpoint: (root).optimizer.learning_rate\n"
     ]
    },
    {
     "name": "stderr",
     "output_type": "stream",
     "text": [
      "WARNING:tensorflow:Unresolved object in checkpoint: (root).optimizer.learning_rate\n"
     ]
    },
    {
     "name": "stdout",
     "output_type": "stream",
     "text": [
      "WARNING:tensorflow:A checkpoint was restored (e.g. tf.train.Checkpoint.restore or tf.keras.Model.load_weights) but not all checkpointed values were used. See above for specific issues. Use expect_partial() on the load status object, e.g. tf.train.Checkpoint.restore(...).expect_partial(), to silence these warnings, or use assert_consumed() to make the check explicit. See https://www.tensorflow.org/guide/checkpoint#loading_mechanics for details.\n"
     ]
    },
    {
     "name": "stderr",
     "output_type": "stream",
     "text": [
      "WARNING:tensorflow:A checkpoint was restored (e.g. tf.train.Checkpoint.restore or tf.keras.Model.load_weights) but not all checkpointed values were used. See above for specific issues. Use expect_partial() on the load status object, e.g. tf.train.Checkpoint.restore(...).expect_partial(), to silence these warnings, or use assert_consumed() to make the check explicit. See https://www.tensorflow.org/guide/checkpoint#loading_mechanics for details.\n"
     ]
    },
    {
     "name": "stdout",
     "output_type": "stream",
     "text": [
      "WARNING:tensorflow:Unresolved object in checkpoint: (root).optimizer.iter\n"
     ]
    },
    {
     "name": "stderr",
     "output_type": "stream",
     "text": [
      "WARNING:tensorflow:Unresolved object in checkpoint: (root).optimizer.iter\n"
     ]
    },
    {
     "name": "stdout",
     "output_type": "stream",
     "text": [
      "WARNING:tensorflow:Unresolved object in checkpoint: (root).optimizer.beta_1\n"
     ]
    },
    {
     "name": "stderr",
     "output_type": "stream",
     "text": [
      "WARNING:tensorflow:Unresolved object in checkpoint: (root).optimizer.beta_1\n"
     ]
    },
    {
     "name": "stdout",
     "output_type": "stream",
     "text": [
      "WARNING:tensorflow:Unresolved object in checkpoint: (root).optimizer.beta_2\n"
     ]
    },
    {
     "name": "stderr",
     "output_type": "stream",
     "text": [
      "WARNING:tensorflow:Unresolved object in checkpoint: (root).optimizer.beta_2\n"
     ]
    },
    {
     "name": "stdout",
     "output_type": "stream",
     "text": [
      "WARNING:tensorflow:Unresolved object in checkpoint: (root).optimizer.decay\n"
     ]
    },
    {
     "name": "stderr",
     "output_type": "stream",
     "text": [
      "WARNING:tensorflow:Unresolved object in checkpoint: (root).optimizer.decay\n"
     ]
    },
    {
     "name": "stdout",
     "output_type": "stream",
     "text": [
      "WARNING:tensorflow:Unresolved object in checkpoint: (root).optimizer.learning_rate\n"
     ]
    },
    {
     "name": "stderr",
     "output_type": "stream",
     "text": [
      "WARNING:tensorflow:Unresolved object in checkpoint: (root).optimizer.learning_rate\n"
     ]
    },
    {
     "name": "stdout",
     "output_type": "stream",
     "text": [
      "WARNING:tensorflow:A checkpoint was restored (e.g. tf.train.Checkpoint.restore or tf.keras.Model.load_weights) but not all checkpointed values were used. See above for specific issues. Use expect_partial() on the load status object, e.g. tf.train.Checkpoint.restore(...).expect_partial(), to silence these warnings, or use assert_consumed() to make the check explicit. See https://www.tensorflow.org/guide/checkpoint#loading_mechanics for details.\n"
     ]
    },
    {
     "name": "stderr",
     "output_type": "stream",
     "text": [
      "WARNING:tensorflow:A checkpoint was restored (e.g. tf.train.Checkpoint.restore or tf.keras.Model.load_weights) but not all checkpointed values were used. See above for specific issues. Use expect_partial() on the load status object, e.g. tf.train.Checkpoint.restore(...).expect_partial(), to silence these warnings, or use assert_consumed() to make the check explicit. See https://www.tensorflow.org/guide/checkpoint#loading_mechanics for details.\n"
     ]
    },
    {
     "name": "stdout",
     "output_type": "stream",
     "text": [
      "INFO:tensorflow:Assets written to: Forecasting_result\\LTC_USD\\LTC_GRU_model\\assets\n"
     ]
    },
    {
     "name": "stderr",
     "output_type": "stream",
     "text": [
      "INFO:tensorflow:Assets written to: Forecasting_result\\LTC_USD\\LTC_GRU_model\\assets\n"
     ]
    }
   ],
   "source": [
    "model_save(ltc_gru_model,'LTC','GRU')"
   ]
  },
  {
   "cell_type": "code",
   "execution_count": 165,
   "id": "a854a346-f79b-4aa7-a9f0-57fbd73d729d",
   "metadata": {},
   "outputs": [
    {
     "name": "stdout",
     "output_type": "stream",
     "text": [
      "Trial 5 Complete [00h 01m 39s]\n",
      "val_loss: 0.03533889923710376\n",
      "\n",
      "Best val_loss So Far: 0.002670131274498999\n",
      "Total elapsed time: 00h 07m 13s\n",
      "INFO:tensorflow:Oracle triggered exit\n"
     ]
    },
    {
     "name": "stderr",
     "output_type": "stream",
     "text": [
      "INFO:tensorflow:Oracle triggered exit\n"
     ]
    },
    {
     "name": "stdout",
     "output_type": "stream",
     "text": [
      "t+1 RMSE: 0.068561\n",
      "t+1 MAPE: 5.176360\n",
      "t+2 RMSE: 0.098023\n",
      "t+2 MAPE: 7.593131\n",
      "t+3 RMSE: 0.119189\n",
      "t+3 MAPE: 9.651884\n",
      "t+4 RMSE: 0.140361\n",
      "t+4 MAPE: 11.187556\n",
      "t+5 RMSE: 0.159182\n",
      "t+5 MAPE: 12.541967\n",
      "t+6 RMSE: 0.174574\n",
      "t+6 MAPE: 13.643257\n",
      "t+7 RMSE: 0.190332\n",
      "t+7 MAPE: 15.123531\n",
      "t+8 RMSE: 0.204393\n",
      "t+8 MAPE: 16.541460\n",
      "t+9 RMSE: 0.215364\n",
      "t+9 MAPE: 17.661932\n",
      "t+10 RMSE: 0.227726\n",
      "t+10 MAPE: 18.677532\n",
      "t+11 RMSE: 0.238677\n",
      "t+11 MAPE: 19.525028\n",
      "t+12 RMSE: 0.246521\n",
      "t+12 MAPE: 20.085335\n",
      "t+13 RMSE: 0.252840\n",
      "t+13 MAPE: 20.473864\n",
      "t+14 RMSE: 0.258873\n",
      "t+14 MAPE: 20.945431\n",
      "done\n"
     ]
    }
   ],
   "source": [
    "test_size = math.floor(len(xrp_usd) * 0.20)\n",
    "n_lag=30\n",
    "period_fore=14\n",
    "xrp_gru_model= evaluate_model(xrp_usd,test_size,n_lag,period_fore,'gru','xrp',n_repeats=4)\n",
    "print('done')\n"
   ]
  },
  {
   "cell_type": "code",
   "execution_count": 166,
   "id": "a5b6732b-3b68-4a0b-9f4c-6ee4d70c7712",
   "metadata": {
    "scrolled": true
   },
   "outputs": [
    {
     "name": "stdout",
     "output_type": "stream",
     "text": [
      "WARNING:tensorflow:Unresolved object in checkpoint: (root).optimizer.iter\n"
     ]
    },
    {
     "name": "stderr",
     "output_type": "stream",
     "text": [
      "WARNING:tensorflow:Unresolved object in checkpoint: (root).optimizer.iter\n"
     ]
    },
    {
     "name": "stdout",
     "output_type": "stream",
     "text": [
      "WARNING:tensorflow:Unresolved object in checkpoint: (root).optimizer.beta_1\n"
     ]
    },
    {
     "name": "stderr",
     "output_type": "stream",
     "text": [
      "WARNING:tensorflow:Unresolved object in checkpoint: (root).optimizer.beta_1\n"
     ]
    },
    {
     "name": "stdout",
     "output_type": "stream",
     "text": [
      "WARNING:tensorflow:Unresolved object in checkpoint: (root).optimizer.beta_2\n"
     ]
    },
    {
     "name": "stderr",
     "output_type": "stream",
     "text": [
      "WARNING:tensorflow:Unresolved object in checkpoint: (root).optimizer.beta_2\n"
     ]
    },
    {
     "name": "stdout",
     "output_type": "stream",
     "text": [
      "WARNING:tensorflow:Unresolved object in checkpoint: (root).optimizer.decay\n"
     ]
    },
    {
     "name": "stderr",
     "output_type": "stream",
     "text": [
      "WARNING:tensorflow:Unresolved object in checkpoint: (root).optimizer.decay\n"
     ]
    },
    {
     "name": "stdout",
     "output_type": "stream",
     "text": [
      "WARNING:tensorflow:Unresolved object in checkpoint: (root).optimizer.learning_rate\n"
     ]
    },
    {
     "name": "stderr",
     "output_type": "stream",
     "text": [
      "WARNING:tensorflow:Unresolved object in checkpoint: (root).optimizer.learning_rate\n"
     ]
    },
    {
     "name": "stdout",
     "output_type": "stream",
     "text": [
      "WARNING:tensorflow:A checkpoint was restored (e.g. tf.train.Checkpoint.restore or tf.keras.Model.load_weights) but not all checkpointed values were used. See above for specific issues. Use expect_partial() on the load status object, e.g. tf.train.Checkpoint.restore(...).expect_partial(), to silence these warnings, or use assert_consumed() to make the check explicit. See https://www.tensorflow.org/guide/checkpoint#loading_mechanics for details.\n"
     ]
    },
    {
     "name": "stderr",
     "output_type": "stream",
     "text": [
      "WARNING:tensorflow:A checkpoint was restored (e.g. tf.train.Checkpoint.restore or tf.keras.Model.load_weights) but not all checkpointed values were used. See above for specific issues. Use expect_partial() on the load status object, e.g. tf.train.Checkpoint.restore(...).expect_partial(), to silence these warnings, or use assert_consumed() to make the check explicit. See https://www.tensorflow.org/guide/checkpoint#loading_mechanics for details.\n"
     ]
    },
    {
     "name": "stdout",
     "output_type": "stream",
     "text": [
      "WARNING:tensorflow:Unresolved object in checkpoint: (root).optimizer.iter\n"
     ]
    },
    {
     "name": "stderr",
     "output_type": "stream",
     "text": [
      "WARNING:tensorflow:Unresolved object in checkpoint: (root).optimizer.iter\n"
     ]
    },
    {
     "name": "stdout",
     "output_type": "stream",
     "text": [
      "WARNING:tensorflow:Unresolved object in checkpoint: (root).optimizer.beta_1\n"
     ]
    },
    {
     "name": "stderr",
     "output_type": "stream",
     "text": [
      "WARNING:tensorflow:Unresolved object in checkpoint: (root).optimizer.beta_1\n"
     ]
    },
    {
     "name": "stdout",
     "output_type": "stream",
     "text": [
      "WARNING:tensorflow:Unresolved object in checkpoint: (root).optimizer.beta_2\n"
     ]
    },
    {
     "name": "stderr",
     "output_type": "stream",
     "text": [
      "WARNING:tensorflow:Unresolved object in checkpoint: (root).optimizer.beta_2\n"
     ]
    },
    {
     "name": "stdout",
     "output_type": "stream",
     "text": [
      "WARNING:tensorflow:Unresolved object in checkpoint: (root).optimizer.decay\n"
     ]
    },
    {
     "name": "stderr",
     "output_type": "stream",
     "text": [
      "WARNING:tensorflow:Unresolved object in checkpoint: (root).optimizer.decay\n"
     ]
    },
    {
     "name": "stdout",
     "output_type": "stream",
     "text": [
      "WARNING:tensorflow:Unresolved object in checkpoint: (root).optimizer.learning_rate\n"
     ]
    },
    {
     "name": "stderr",
     "output_type": "stream",
     "text": [
      "WARNING:tensorflow:Unresolved object in checkpoint: (root).optimizer.learning_rate\n"
     ]
    },
    {
     "name": "stdout",
     "output_type": "stream",
     "text": [
      "WARNING:tensorflow:A checkpoint was restored (e.g. tf.train.Checkpoint.restore or tf.keras.Model.load_weights) but not all checkpointed values were used. See above for specific issues. Use expect_partial() on the load status object, e.g. tf.train.Checkpoint.restore(...).expect_partial(), to silence these warnings, or use assert_consumed() to make the check explicit. See https://www.tensorflow.org/guide/checkpoint#loading_mechanics for details.\n"
     ]
    },
    {
     "name": "stderr",
     "output_type": "stream",
     "text": [
      "WARNING:tensorflow:A checkpoint was restored (e.g. tf.train.Checkpoint.restore or tf.keras.Model.load_weights) but not all checkpointed values were used. See above for specific issues. Use expect_partial() on the load status object, e.g. tf.train.Checkpoint.restore(...).expect_partial(), to silence these warnings, or use assert_consumed() to make the check explicit. See https://www.tensorflow.org/guide/checkpoint#loading_mechanics for details.\n"
     ]
    },
    {
     "name": "stdout",
     "output_type": "stream",
     "text": [
      "WARNING:tensorflow:Unresolved object in checkpoint: (root).optimizer.iter\n"
     ]
    },
    {
     "name": "stderr",
     "output_type": "stream",
     "text": [
      "WARNING:tensorflow:Unresolved object in checkpoint: (root).optimizer.iter\n"
     ]
    },
    {
     "name": "stdout",
     "output_type": "stream",
     "text": [
      "WARNING:tensorflow:Unresolved object in checkpoint: (root).optimizer.beta_1\n"
     ]
    },
    {
     "name": "stderr",
     "output_type": "stream",
     "text": [
      "WARNING:tensorflow:Unresolved object in checkpoint: (root).optimizer.beta_1\n"
     ]
    },
    {
     "name": "stdout",
     "output_type": "stream",
     "text": [
      "WARNING:tensorflow:Unresolved object in checkpoint: (root).optimizer.beta_2\n"
     ]
    },
    {
     "name": "stderr",
     "output_type": "stream",
     "text": [
      "WARNING:tensorflow:Unresolved object in checkpoint: (root).optimizer.beta_2\n"
     ]
    },
    {
     "name": "stdout",
     "output_type": "stream",
     "text": [
      "WARNING:tensorflow:Unresolved object in checkpoint: (root).optimizer.decay\n"
     ]
    },
    {
     "name": "stderr",
     "output_type": "stream",
     "text": [
      "WARNING:tensorflow:Unresolved object in checkpoint: (root).optimizer.decay\n"
     ]
    },
    {
     "name": "stdout",
     "output_type": "stream",
     "text": [
      "WARNING:tensorflow:Unresolved object in checkpoint: (root).optimizer.learning_rate\n"
     ]
    },
    {
     "name": "stderr",
     "output_type": "stream",
     "text": [
      "WARNING:tensorflow:Unresolved object in checkpoint: (root).optimizer.learning_rate\n"
     ]
    },
    {
     "name": "stdout",
     "output_type": "stream",
     "text": [
      "WARNING:tensorflow:A checkpoint was restored (e.g. tf.train.Checkpoint.restore or tf.keras.Model.load_weights) but not all checkpointed values were used. See above for specific issues. Use expect_partial() on the load status object, e.g. tf.train.Checkpoint.restore(...).expect_partial(), to silence these warnings, or use assert_consumed() to make the check explicit. See https://www.tensorflow.org/guide/checkpoint#loading_mechanics for details.\n"
     ]
    },
    {
     "name": "stderr",
     "output_type": "stream",
     "text": [
      "WARNING:tensorflow:A checkpoint was restored (e.g. tf.train.Checkpoint.restore or tf.keras.Model.load_weights) but not all checkpointed values were used. See above for specific issues. Use expect_partial() on the load status object, e.g. tf.train.Checkpoint.restore(...).expect_partial(), to silence these warnings, or use assert_consumed() to make the check explicit. See https://www.tensorflow.org/guide/checkpoint#loading_mechanics for details.\n",
      "WARNING:absl:Found untraced functions such as gru_cell_1_layer_call_and_return_conditional_losses, gru_cell_1_layer_call_fn, gru_cell_1_layer_call_fn, gru_cell_1_layer_call_and_return_conditional_losses, gru_cell_1_layer_call_and_return_conditional_losses while saving (showing 5 of 5). These functions will not be directly callable after loading.\n"
     ]
    },
    {
     "name": "stdout",
     "output_type": "stream",
     "text": [
      "INFO:tensorflow:Assets written to: Forecasting_result\\XRP_USD\\XRP_GRU_model\\assets\n"
     ]
    },
    {
     "name": "stderr",
     "output_type": "stream",
     "text": [
      "INFO:tensorflow:Assets written to: Forecasting_result\\XRP_USD\\XRP_GRU_model\\assets\n"
     ]
    }
   ],
   "source": [
    "model_save(xrp_gru_model,'XRP','GRU')"
   ]
  },
  {
   "cell_type": "markdown",
   "id": "757ac917",
   "metadata": {},
   "source": [
    "## Ewaluacja prognoz"
   ]
  },
  {
   "cell_type": "code",
   "execution_count": 35,
   "id": "67f41657",
   "metadata": {},
   "outputs": [
    {
     "name": "stdout",
     "output_type": "stream",
     "text": [
      "Błąd ARIMA t+1\n",
      "1826.29522725419\n",
      "3.0966202026472214\n",
      "Błąd ARFIMA t+1\n",
      "3469.045044379901\n",
      "6.080182237654948\n",
      "Błąd RNN t+1\n",
      "1824.3653404407137\n",
      "3.0942301608381984\n",
      "Błąd LSTM t+1\n",
      "1823.605118847846\n",
      "3.0880449176638587\n",
      "Błąd GRU t+1\n",
      "1827.9899582226562\n",
      "3.0962363204858767\n",
      "Błąd ARIMA t+7\n",
      "5070.910142957155\n",
      "8.775980945075505\n",
      "Błąd ARFIMA t+7\n",
      "12377.459366470935\n",
      "21.88696424149206\n",
      "Błąd RNN t+7\n",
      "5006.610744880605\n",
      "8.65701506360664\n",
      "Błąd LSTM t+7\n",
      "5001.879731734824\n",
      "8.636737489053417\n",
      "Błąd GRU t+7\n",
      "5005.541805551202\n",
      "8.672028785195492\n",
      "Błąd ARIMA t+14\n",
      "7434.898763407957\n",
      "12.985428847713276\n",
      "Błąd ARFIMA t+14\n",
      "16498.336315979126\n",
      "29.07812752754665\n",
      "Błąd RNN t+14\n",
      "7243.029926297805\n",
      "12.52735510781236\n",
      "Błąd LSTM t+14\n",
      "7237.912567078686\n",
      "12.549962922115771\n",
      "Błąd GRU t+14\n",
      "7236.505341582974\n",
      "12.482444697215984\n"
     ]
    }
   ],
   "source": [
    "BTC_USD_forecast_ARIMA_ARFIMA = pd.read_csv('Forecasting_result\\\\BTC_USD\\\\AR(F)IMA_BTC_USD_Forecast.csv')\n",
    "BTC_USD_forecast_RNN = pd.read_csv('Forecasting_result\\\\BTC_USD\\\\BTC_RNN_forecast.csv')\n",
    "BTC_USD_forecast_LSTM = pd.read_csv('Forecasting_result\\\\BTC_USD\\\\BTC_LSTM_forecast.csv')\n",
    "BTC_USD_forecast_GRU = pd.read_csv('Forecasting_result\\\\BTC_USD\\\\BTC_GRU_forecast.csv')\n",
    "print(\"Błąd ARIMA t+1\")\n",
    "print(np.sqrt(mean_squared_error(BTC_USD_forecast_ARIMA_ARFIMA.iloc[:,1],BTC_USD_forecast_ARIMA_ARFIMA.iloc[:,2])))\n",
    "print((mean_absolute_percentage_error(BTC_USD_forecast_ARIMA_ARFIMA.iloc[:,1],BTC_USD_forecast_ARIMA_ARFIMA.iloc[:,2])))\n",
    "print(\"Błąd ARFIMA t+1\")\n",
    "print(np.sqrt(mean_squared_error(BTC_USD_forecast_ARIMA_ARFIMA.iloc[:,1],BTC_USD_forecast_ARIMA_ARFIMA.iloc[:,3])))\n",
    "print((mean_absolute_percentage_error(BTC_USD_forecast_ARIMA_ARFIMA.iloc[:,1],BTC_USD_forecast_ARIMA_ARFIMA.iloc[:,3])))\n",
    "print(\"Błąd RNN t+1\")\n",
    "print(np.sqrt(mean_squared_error(BTC_USD_forecast_RNN.iloc[:,1],BTC_USD_forecast_RNN.iloc[:,2])))\n",
    "print((mean_absolute_percentage_error(BTC_USD_forecast_RNN.iloc[:,1],BTC_USD_forecast_RNN.iloc[:,2])))\n",
    "print(\"Błąd LSTM t+1\")\n",
    "print(np.sqrt(mean_squared_error(BTC_USD_forecast_LSTM.iloc[:,1],BTC_USD_forecast_LSTM.iloc[:,2])))\n",
    "print((mean_absolute_percentage_error(BTC_USD_forecast_LSTM.iloc[:,1],BTC_USD_forecast_LSTM.iloc[:,2])))\n",
    "print(\"Błąd GRU t+1\")\n",
    "print(np.sqrt(mean_squared_error(BTC_USD_forecast_GRU.iloc[:,1],BTC_USD_forecast_GRU.iloc[:,2])))\n",
    "print((mean_absolute_percentage_error(BTC_USD_forecast_GRU.iloc[:,1],BTC_USD_forecast_GRU.iloc[:,2])))\n",
    "\n",
    "\n",
    "print(\"Błąd ARIMA t+7\")\n",
    "print(np.sqrt(mean_squared_error(BTC_USD_forecast_ARIMA_ARFIMA.iloc[:,19],BTC_USD_forecast_ARIMA_ARFIMA.iloc[:,20])))\n",
    "print((mean_absolute_percentage_error(BTC_USD_forecast_ARIMA_ARFIMA.iloc[:,19],BTC_USD_forecast_ARIMA_ARFIMA.iloc[:,20])))\n",
    "print(\"Błąd ARFIMA t+7\")\n",
    "print(np.sqrt(mean_squared_error(BTC_USD_forecast_ARIMA_ARFIMA.iloc[:,19],BTC_USD_forecast_ARIMA_ARFIMA.iloc[:,21])))\n",
    "print((mean_absolute_percentage_error(BTC_USD_forecast_ARIMA_ARFIMA.iloc[:,19],BTC_USD_forecast_ARIMA_ARFIMA.iloc[:,21])))\n",
    "print(\"Błąd RNN t+7\")\n",
    "print(np.sqrt(mean_squared_error(BTC_USD_forecast_RNN.iloc[:,13],BTC_USD_forecast_RNN.iloc[:,14])))\n",
    "print((mean_absolute_percentage_error(BTC_USD_forecast_RNN.iloc[:,13],BTC_USD_forecast_RNN.iloc[:,14])))\n",
    "print(\"Błąd LSTM t+7\")\n",
    "print(np.sqrt(mean_squared_error(BTC_USD_forecast_LSTM.iloc[:,13],BTC_USD_forecast_LSTM.iloc[:,14])))\n",
    "print((mean_absolute_percentage_error(BTC_USD_forecast_LSTM.iloc[:,13],BTC_USD_forecast_LSTM.iloc[:,14])))\n",
    "print(\"Błąd GRU t+7\")\n",
    "print(np.sqrt(mean_squared_error(BTC_USD_forecast_GRU.iloc[:,13],BTC_USD_forecast_GRU.iloc[:,14])))\n",
    "print((mean_absolute_percentage_error(BTC_USD_forecast_GRU.iloc[:,13],BTC_USD_forecast_GRU.iloc[:,14])))\n",
    "\n",
    "\n",
    "print(\"Błąd ARIMA t+14\")\n",
    "print(np.sqrt(mean_squared_error(BTC_USD_forecast_ARIMA_ARFIMA.iloc[:,-3],BTC_USD_forecast_ARIMA_ARFIMA.iloc[:,-2])))\n",
    "print((mean_absolute_percentage_error(BTC_USD_forecast_ARIMA_ARFIMA.iloc[:,-3],BTC_USD_forecast_ARIMA_ARFIMA.iloc[:,-2])))\n",
    "print(\"Błąd ARFIMA t+14\")\n",
    "print(np.sqrt(mean_squared_error(BTC_USD_forecast_ARIMA_ARFIMA.iloc[:,-3],BTC_USD_forecast_ARIMA_ARFIMA.iloc[:,-1])))\n",
    "print((mean_absolute_percentage_error(BTC_USD_forecast_ARIMA_ARFIMA.iloc[:,-3],BTC_USD_forecast_ARIMA_ARFIMA.iloc[:,-1])))\n",
    "print(\"Błąd RNN t+14\")\n",
    "print(np.sqrt(mean_squared_error(BTC_USD_forecast_RNN.iloc[:,-2],BTC_USD_forecast_RNN.iloc[:,-1])))\n",
    "print((mean_absolute_percentage_error(BTC_USD_forecast_RNN.iloc[:,-2],BTC_USD_forecast_RNN.iloc[:,-1])))\n",
    "print(\"Błąd LSTM t+14\")\n",
    "print(np.sqrt(mean_squared_error(BTC_USD_forecast_LSTM.iloc[:,-2],BTC_USD_forecast_LSTM.iloc[:,-1])))\n",
    "print((mean_absolute_percentage_error(BTC_USD_forecast_LSTM.iloc[:,-2],BTC_USD_forecast_LSTM.iloc[:,-1])))\n",
    "print(\"Błąd GRU t+14\")\n",
    "print(np.sqrt(mean_squared_error(BTC_USD_forecast_GRU.iloc[:,-2],BTC_USD_forecast_GRU.iloc[:,-1])))\n",
    "print((mean_absolute_percentage_error(BTC_USD_forecast_GRU.iloc[:,-2],BTC_USD_forecast_GRU.iloc[:,-1])))"
   ]
  },
  {
   "cell_type": "code",
   "execution_count": 169,
   "id": "0af1151a",
   "metadata": {},
   "outputs": [
    {
     "name": "stdout",
     "output_type": "stream",
     "text": [
      "Błąd ARIMA t+1\n",
      "0.023618119778443178\n",
      "6.139710018145748\n",
      "Błąd ARFIMA t+1\n",
      "0.03439436418917972\n",
      "9.78353716745638\n",
      "Błąd RNN t+1\n",
      "0.02398572286990809\n",
      "6.168617596004706\n",
      "Błąd LSTM t+1\n",
      "0.0239991437563143\n",
      "6.169343794007141\n",
      "Błąd GRU t+1\n",
      "0.023999335119244243\n",
      "6.171140035942144\n",
      "Błąd ARIMA t+7\n",
      "0.06541191879172031\n",
      "17.396749437171522\n",
      "Błąd ARFIMA t+7\n",
      "0.12844078938552453\n",
      "43.16672751184214\n",
      "Błąd RNN t+7\n",
      "0.06493308412927495\n",
      "17.1555217131143\n",
      "Błąd LSTM t+7\n",
      "0.06501024120768659\n",
      "17.181789310283925\n",
      "Błąd GRU t+7\n",
      "0.06500944249823835\n",
      "17.183175087987678\n",
      "Błąd ARIMA t+14\n",
      "0.08752179801597725\n",
      "25.2435665312659\n",
      "Błąd ARFIMA t+14\n",
      "0.15883746397949342\n",
      "56.528920011071726\n",
      "Błąd RNN t+14\n",
      "0.08717205392189949\n",
      "25.2024849183809\n",
      "Błąd LSTM t+14\n",
      "0.08713344298950802\n",
      "25.205181117690888\n",
      "Błąd GRU t+14\n",
      "0.08713222637809419\n",
      "25.203080675263607\n"
     ]
    }
   ],
   "source": [
    "DOGE_USD_forecast_ARIMA_ARFIMA = pd.read_csv('Forecasting_result\\\\DOGE_USD\\\\AR(F)IMA_DOGE_USD_Forecast.csv')\n",
    "DOGE_USD_forecast_RNN = pd.read_csv('Forecasting_result\\\\DOGE_USD\\\\DOGE_RNN_forecast.csv')\n",
    "DOGE_USD_forecast_LSTM = pd.read_csv('Forecasting_result\\\\DOGE_USD\\\\DOGE_LSTM_forecast.csv')\n",
    "DOGE_USD_forecast_GRU = pd.read_csv('Forecasting_result\\\\DOGE_USD\\\\DOGE_GRU_forecast.csv')\n",
    "print(\"Błąd ARIMA t+1\")\n",
    "print(np.sqrt(mean_squared_error(DOGE_USD_forecast_ARIMA_ARFIMA.iloc[:,1],DOGE_USD_forecast_ARIMA_ARFIMA.iloc[:,2])))\n",
    "print((mean_absolute_percentage_error(DOGE_USD_forecast_ARIMA_ARFIMA.iloc[:,1],DOGE_USD_forecast_ARIMA_ARFIMA.iloc[:,2])))\n",
    "print(\"Błąd ARFIMA t+1\")\n",
    "print(np.sqrt(mean_squared_error(DOGE_USD_forecast_ARIMA_ARFIMA.iloc[:,1],DOGE_USD_forecast_ARIMA_ARFIMA.iloc[:,3])))\n",
    "print((mean_absolute_percentage_error(DOGE_USD_forecast_ARIMA_ARFIMA.iloc[:,1],DOGE_USD_forecast_ARIMA_ARFIMA.iloc[:,3])))\n",
    "print(\"Błąd RNN t+1\")\n",
    "print(np.sqrt(mean_squared_error(DOGE_USD_forecast_RNN.iloc[:,1],DOGE_USD_forecast_RNN.iloc[:,2])))\n",
    "print((mean_absolute_percentage_error(DOGE_USD_forecast_RNN.iloc[:,1],DOGE_USD_forecast_RNN.iloc[:,2])))\n",
    "print(\"Błąd LSTM t+1\")\n",
    "print(np.sqrt(mean_squared_error(DOGE_USD_forecast_LSTM.iloc[:,1],DOGE_USD_forecast_LSTM.iloc[:,2])))\n",
    "print((mean_absolute_percentage_error(DOGE_USD_forecast_LSTM.iloc[:,1],DOGE_USD_forecast_LSTM.iloc[:,2])))\n",
    "print(\"Błąd GRU t+1\")\n",
    "print(np.sqrt(mean_squared_error(DOGE_USD_forecast_GRU.iloc[:,1],DOGE_USD_forecast_GRU.iloc[:,2])))\n",
    "print((mean_absolute_percentage_error(DOGE_USD_forecast_GRU.iloc[:,1],DOGE_USD_forecast_GRU.iloc[:,2])))\n",
    "\n",
    "\n",
    "print(\"Błąd ARIMA t+7\")\n",
    "print(np.sqrt(mean_squared_error(DOGE_USD_forecast_ARIMA_ARFIMA.iloc[:,19],DOGE_USD_forecast_ARIMA_ARFIMA.iloc[:,20])))\n",
    "print((mean_absolute_percentage_error(DOGE_USD_forecast_ARIMA_ARFIMA.iloc[:,19],DOGE_USD_forecast_ARIMA_ARFIMA.iloc[:,20])))\n",
    "print(\"Błąd ARFIMA t+7\")\n",
    "print(np.sqrt(mean_squared_error(DOGE_USD_forecast_ARIMA_ARFIMA.iloc[:,19],DOGE_USD_forecast_ARIMA_ARFIMA.iloc[:,21])))\n",
    "print((mean_absolute_percentage_error(DOGE_USD_forecast_ARIMA_ARFIMA.iloc[:,19],DOGE_USD_forecast_ARIMA_ARFIMA.iloc[:,21])))\n",
    "print(\"Błąd RNN t+7\")\n",
    "print(np.sqrt(mean_squared_error(DOGE_USD_forecast_RNN.iloc[:,13],DOGE_USD_forecast_RNN.iloc[:,14])))\n",
    "print((mean_absolute_percentage_error(DOGE_USD_forecast_RNN.iloc[:,13],DOGE_USD_forecast_RNN.iloc[:,14])))\n",
    "print(\"Błąd LSTM t+7\")\n",
    "print(np.sqrt(mean_squared_error(DOGE_USD_forecast_LSTM.iloc[:,13],DOGE_USD_forecast_LSTM.iloc[:,14])))\n",
    "print((mean_absolute_percentage_error(DOGE_USD_forecast_LSTM.iloc[:,13],DOGE_USD_forecast_LSTM.iloc[:,14])))\n",
    "print(\"Błąd GRU t+7\")\n",
    "print(np.sqrt(mean_squared_error(DOGE_USD_forecast_GRU.iloc[:,13],DOGE_USD_forecast_GRU.iloc[:,14])))\n",
    "print((mean_absolute_percentage_error(DOGE_USD_forecast_GRU.iloc[:,13],DOGE_USD_forecast_GRU.iloc[:,14])))\n",
    "\n",
    "\n",
    "print(\"Błąd ARIMA t+14\")\n",
    "print(np.sqrt(mean_squared_error(DOGE_USD_forecast_ARIMA_ARFIMA.iloc[:,-3],DOGE_USD_forecast_ARIMA_ARFIMA.iloc[:,-2])))\n",
    "print((mean_absolute_percentage_error(DOGE_USD_forecast_ARIMA_ARFIMA.iloc[:,-3],DOGE_USD_forecast_ARIMA_ARFIMA.iloc[:,-2])))\n",
    "print(\"Błąd ARFIMA t+14\")\n",
    "print(np.sqrt(mean_squared_error(DOGE_USD_forecast_ARIMA_ARFIMA.iloc[:,-3],DOGE_USD_forecast_ARIMA_ARFIMA.iloc[:,-1])))\n",
    "print((mean_absolute_percentage_error(DOGE_USD_forecast_ARIMA_ARFIMA.iloc[:,-3],DOGE_USD_forecast_ARIMA_ARFIMA.iloc[:,-1])))\n",
    "print(\"Błąd RNN t+14\")\n",
    "print(np.sqrt(mean_squared_error(DOGE_USD_forecast_RNN.iloc[:,-2],DOGE_USD_forecast_RNN.iloc[:,-1])))\n",
    "print((mean_absolute_percentage_error(DOGE_USD_forecast_RNN.iloc[:,-2],DOGE_USD_forecast_RNN.iloc[:,-1])))\n",
    "print(\"Błąd LSTM t+14\")\n",
    "print(np.sqrt(mean_squared_error(DOGE_USD_forecast_LSTM.iloc[:,-2],DOGE_USD_forecast_LSTM.iloc[:,-1])))\n",
    "print((mean_absolute_percentage_error(DOGE_USD_forecast_LSTM.iloc[:,-2],DOGE_USD_forecast_LSTM.iloc[:,-1])))\n",
    "print(\"Błąd GRU t+14\")\n",
    "print(np.sqrt(mean_squared_error(DOGE_USD_forecast_GRU.iloc[:,-2],DOGE_USD_forecast_GRU.iloc[:,-1])))\n",
    "print((mean_absolute_percentage_error(DOGE_USD_forecast_GRU.iloc[:,-2],DOGE_USD_forecast_GRU.iloc[:,-1])))"
   ]
  },
  {
   "cell_type": "code",
   "execution_count": 170,
   "id": "0727a1f0",
   "metadata": {},
   "outputs": [
    {
     "name": "stdout",
     "output_type": "stream",
     "text": [
      "Błąd ARIMA t+1\n",
      "142.0861292216101\n",
      "3.9847371953055\n",
      "Błąd ARFIMA t+1\n",
      "185.26419976409142\n",
      "5.299450344342773\n",
      "Błąd RNN t+1\n",
      "141.99949813852643\n",
      "3.9833811866085167\n",
      "Błąd LSTM t+1\n",
      "142.06507086415928\n",
      "3.9857958692591704\n",
      "Błąd GRU t+1\n",
      "142.07936580321663\n",
      "3.9908816925686423\n",
      "Błąd ARIMA t+7\n",
      "369.8191868270027\n",
      "11.065966425413455\n",
      "Błąd ARFIMA t+7\n",
      "860.5181599481242\n",
      "27.98991480051572\n",
      "Błąd RNN t+7\n",
      "366.4545679431833\n",
      "10.944289544725335\n",
      "Błąd LSTM t+7\n",
      "366.1292929465666\n",
      "10.893820388866892\n",
      "Błąd GRU t+7\n",
      "366.3816647502771\n",
      "10.937763630318594\n",
      "Błąd ARIMA t+14\n",
      "537.3784609130822\n",
      "16.355093804068044\n",
      "Błąd ARFIMA t+14\n",
      "1199.645760540421\n",
      "39.260561623585346\n",
      "Błąd RNN t+14\n",
      "523.5760099320765\n",
      "16.225001602311732\n",
      "Błąd LSTM t+14\n",
      "521.7304390764167\n",
      "16.095817878910644\n",
      "Błąd GRU t+14\n",
      "522.439925911792\n",
      "16.163359588546538\n"
     ]
    }
   ],
   "source": [
    "ETH_USD_forecast_ARIMA_ARFIMA = pd.read_csv('Forecasting_result\\\\ETH_USD\\\\AR(F)IMA_ETH_USD_Forecast.csv')\n",
    "ETH_USD_forecast_RNN = pd.read_csv('Forecasting_result\\\\ETH_USD\\\\ETH_RNN_forecast.csv')\n",
    "ETH_USD_forecast_LSTM = pd.read_csv('Forecasting_result\\\\ETH_USD\\\\ETH_LSTM_forecast.csv')\n",
    "ETH_USD_forecast_GRU = pd.read_csv('Forecasting_result\\\\ETH_USD\\\\ETH_GRU_forecast.csv')\n",
    "print(\"Błąd ARIMA t+1\")\n",
    "print(np.sqrt(mean_squared_error(ETH_USD_forecast_ARIMA_ARFIMA.iloc[:,1],ETH_USD_forecast_ARIMA_ARFIMA.iloc[:,2])))\n",
    "print((mean_absolute_percentage_error(ETH_USD_forecast_ARIMA_ARFIMA.iloc[:,1],ETH_USD_forecast_ARIMA_ARFIMA.iloc[:,2])))\n",
    "print(\"Błąd ARFIMA t+1\")\n",
    "print(np.sqrt(mean_squared_error(ETH_USD_forecast_ARIMA_ARFIMA.iloc[:,1],ETH_USD_forecast_ARIMA_ARFIMA.iloc[:,3])))\n",
    "print((mean_absolute_percentage_error(ETH_USD_forecast_ARIMA_ARFIMA.iloc[:,1],ETH_USD_forecast_ARIMA_ARFIMA.iloc[:,3])))\n",
    "print(\"Błąd RNN t+1\")\n",
    "print(np.sqrt(mean_squared_error(ETH_USD_forecast_RNN.iloc[:,1],ETH_USD_forecast_RNN.iloc[:,2])))\n",
    "print((mean_absolute_percentage_error(ETH_USD_forecast_RNN.iloc[:,1],ETH_USD_forecast_RNN.iloc[:,2])))\n",
    "print(\"Błąd LSTM t+1\")\n",
    "print(np.sqrt(mean_squared_error(ETH_USD_forecast_LSTM.iloc[:,1],ETH_USD_forecast_LSTM.iloc[:,2])))\n",
    "print((mean_absolute_percentage_error(ETH_USD_forecast_LSTM.iloc[:,1],ETH_USD_forecast_LSTM.iloc[:,2])))\n",
    "print(\"Błąd GRU t+1\")\n",
    "print(np.sqrt(mean_squared_error(ETH_USD_forecast_GRU.iloc[:,1],ETH_USD_forecast_GRU.iloc[:,2])))\n",
    "print((mean_absolute_percentage_error(ETH_USD_forecast_GRU.iloc[:,1],ETH_USD_forecast_GRU.iloc[:,2])))\n",
    "\n",
    "\n",
    "print(\"Błąd ARIMA t+7\")\n",
    "print(np.sqrt(mean_squared_error(ETH_USD_forecast_ARIMA_ARFIMA.iloc[:,19],ETH_USD_forecast_ARIMA_ARFIMA.iloc[:,20])))\n",
    "print((mean_absolute_percentage_error(ETH_USD_forecast_ARIMA_ARFIMA.iloc[:,19],ETH_USD_forecast_ARIMA_ARFIMA.iloc[:,20])))\n",
    "print(\"Błąd ARFIMA t+7\")\n",
    "print(np.sqrt(mean_squared_error(ETH_USD_forecast_ARIMA_ARFIMA.iloc[:,19],ETH_USD_forecast_ARIMA_ARFIMA.iloc[:,21])))\n",
    "print((mean_absolute_percentage_error(ETH_USD_forecast_ARIMA_ARFIMA.iloc[:,19],ETH_USD_forecast_ARIMA_ARFIMA.iloc[:,21])))\n",
    "print(\"Błąd RNN t+7\")\n",
    "print(np.sqrt(mean_squared_error(ETH_USD_forecast_RNN.iloc[:,13],ETH_USD_forecast_RNN.iloc[:,14])))\n",
    "print((mean_absolute_percentage_error(ETH_USD_forecast_RNN.iloc[:,13],ETH_USD_forecast_RNN.iloc[:,14])))\n",
    "print(\"Błąd LSTM t+7\")\n",
    "print(np.sqrt(mean_squared_error(ETH_USD_forecast_LSTM.iloc[:,13],ETH_USD_forecast_LSTM.iloc[:,14])))\n",
    "print((mean_absolute_percentage_error(ETH_USD_forecast_LSTM.iloc[:,13],ETH_USD_forecast_LSTM.iloc[:,14])))\n",
    "print(\"Błąd GRU t+7\")\n",
    "print(np.sqrt(mean_squared_error(ETH_USD_forecast_GRU.iloc[:,13],ETH_USD_forecast_GRU.iloc[:,14])))\n",
    "print((mean_absolute_percentage_error(ETH_USD_forecast_GRU.iloc[:,13],ETH_USD_forecast_GRU.iloc[:,14])))\n",
    "\n",
    "\n",
    "print(\"Błąd ARIMA t+14\")\n",
    "print(np.sqrt(mean_squared_error(ETH_USD_forecast_ARIMA_ARFIMA.iloc[:,-3],ETH_USD_forecast_ARIMA_ARFIMA.iloc[:,-2])))\n",
    "print((mean_absolute_percentage_error(ETH_USD_forecast_ARIMA_ARFIMA.iloc[:,-3],ETH_USD_forecast_ARIMA_ARFIMA.iloc[:,-2])))\n",
    "print(\"Błąd ARFIMA t+14\")\n",
    "print(np.sqrt(mean_squared_error(ETH_USD_forecast_ARIMA_ARFIMA.iloc[:,-3],ETH_USD_forecast_ARIMA_ARFIMA.iloc[:,-1])))\n",
    "print((mean_absolute_percentage_error(ETH_USD_forecast_ARIMA_ARFIMA.iloc[:,-3],ETH_USD_forecast_ARIMA_ARFIMA.iloc[:,-1])))\n",
    "print(\"Błąd RNN t+14\")\n",
    "print(np.sqrt(mean_squared_error(ETH_USD_forecast_RNN.iloc[:,-2],ETH_USD_forecast_RNN.iloc[:,-1])))\n",
    "print((mean_absolute_percentage_error(ETH_USD_forecast_RNN.iloc[:,-2],ETH_USD_forecast_RNN.iloc[:,-1])))\n",
    "print(\"Błąd LSTM t+14\")\n",
    "print(np.sqrt(mean_squared_error(ETH_USD_forecast_LSTM.iloc[:,-2],ETH_USD_forecast_LSTM.iloc[:,-1])))\n",
    "print((mean_absolute_percentage_error(ETH_USD_forecast_LSTM.iloc[:,-2],ETH_USD_forecast_LSTM.iloc[:,-1])))\n",
    "print(\"Błąd GRU t+14\")\n",
    "print(np.sqrt(mean_squared_error(ETH_USD_forecast_GRU.iloc[:,-2],ETH_USD_forecast_GRU.iloc[:,-1])))\n",
    "print((mean_absolute_percentage_error(ETH_USD_forecast_GRU.iloc[:,-2],ETH_USD_forecast_GRU.iloc[:,-1])))"
   ]
  },
  {
   "cell_type": "code",
   "execution_count": 171,
   "id": "8ac8cdc6",
   "metadata": {},
   "outputs": [
    {
     "name": "stdout",
     "output_type": "stream",
     "text": [
      "Błąd ARIMA t+1\n",
      "12.368995182929206\n",
      "4.345260263823202\n",
      "Błąd ARFIMA t+1\n",
      "13.720023839103428\n",
      "5.0961764856512985\n",
      "Błąd RNN t+1\n",
      "12.26023837333085\n",
      "4.3428629661622855\n",
      "Błąd LSTM t+1\n",
      "12.311024144489926\n",
      "4.326590869674069\n",
      "Błąd GRU t+1\n",
      "12.299422463385444\n",
      "4.336651069124054\n",
      "Błąd ARIMA t+7\n",
      "35.085413063037834\n",
      "13.148123849330956\n",
      "Błąd ARFIMA t+7\n",
      "45.136034819694636\n",
      "16.88233776967219\n",
      "Błąd RNN t+7\n",
      "34.223779308518886\n",
      "12.669788356663004\n",
      "Błąd LSTM t+7\n",
      "34.32393373553536\n",
      "12.578398221119663\n",
      "Błąd GRU t+7\n",
      "34.195267149720024\n",
      "12.621711631763045\n",
      "Błąd ARIMA t+14\n",
      "49.91287665395794\n",
      "18.717146873754974\n",
      "Błąd ARFIMA t+14\n",
      "60.34708226662419\n",
      "22.740809100898467\n",
      "Błąd RNN t+14\n",
      "47.53464107518615\n",
      "17.65412911621182\n",
      "Błąd LSTM t+14\n",
      "47.65351518717184\n",
      "17.48224523484101\n",
      "Błąd GRU t+14\n",
      "47.237692371270114\n",
      "17.457188292825833\n"
     ]
    }
   ],
   "source": [
    "LTC_USD_forecast_ARIMA_ARFIMA = pd.read_csv('Forecasting_result\\\\LTC_USD\\\\AR(F)IMA_LTC_USD_Forecast.csv')\n",
    "LTC_USD_forecast_RNN = pd.read_csv('Forecasting_result\\\\LTC_USD\\\\LTC_RNN_forecast.csv')\n",
    "LTC_USD_forecast_LSTM = pd.read_csv('Forecasting_result\\\\LTC_USD\\\\LTC_LSTM_forecast.csv')\n",
    "LTC_USD_forecast_GRU = pd.read_csv('Forecasting_result\\\\LTC_USD\\\\LTC_GRU_forecast.csv')\n",
    "print(\"Błąd ARIMA t+1\")\n",
    "print(np.sqrt(mean_squared_error(LTC_USD_forecast_ARIMA_ARFIMA.iloc[:,1],LTC_USD_forecast_ARIMA_ARFIMA.iloc[:,2])))\n",
    "print((mean_absolute_percentage_error(LTC_USD_forecast_ARIMA_ARFIMA.iloc[:,1],LTC_USD_forecast_ARIMA_ARFIMA.iloc[:,2])))\n",
    "print(\"Błąd ARFIMA t+1\")\n",
    "print(np.sqrt(mean_squared_error(LTC_USD_forecast_ARIMA_ARFIMA.iloc[:,1],LTC_USD_forecast_ARIMA_ARFIMA.iloc[:,3])))\n",
    "print((mean_absolute_percentage_error(LTC_USD_forecast_ARIMA_ARFIMA.iloc[:,1],LTC_USD_forecast_ARIMA_ARFIMA.iloc[:,3])))\n",
    "print(\"Błąd RNN t+1\")\n",
    "print(np.sqrt(mean_squared_error(LTC_USD_forecast_RNN.iloc[:,1],LTC_USD_forecast_RNN.iloc[:,2])))\n",
    "print((mean_absolute_percentage_error(LTC_USD_forecast_RNN.iloc[:,1],LTC_USD_forecast_RNN.iloc[:,2])))\n",
    "print(\"Błąd LSTM t+1\")\n",
    "print(np.sqrt(mean_squared_error(LTC_USD_forecast_LSTM.iloc[:,1],LTC_USD_forecast_LSTM.iloc[:,2])))\n",
    "print((mean_absolute_percentage_error(LTC_USD_forecast_LSTM.iloc[:,1],LTC_USD_forecast_LSTM.iloc[:,2])))\n",
    "print(\"Błąd GRU t+1\")\n",
    "print(np.sqrt(mean_squared_error(LTC_USD_forecast_GRU.iloc[:,1],LTC_USD_forecast_GRU.iloc[:,2])))\n",
    "print((mean_absolute_percentage_error(LTC_USD_forecast_GRU.iloc[:,1],LTC_USD_forecast_GRU.iloc[:,2])))\n",
    "\n",
    "\n",
    "print(\"Błąd ARIMA t+7\")\n",
    "print(np.sqrt(mean_squared_error(LTC_USD_forecast_ARIMA_ARFIMA.iloc[:,19],LTC_USD_forecast_ARIMA_ARFIMA.iloc[:,20])))\n",
    "print((mean_absolute_percentage_error(LTC_USD_forecast_ARIMA_ARFIMA.iloc[:,19],LTC_USD_forecast_ARIMA_ARFIMA.iloc[:,20])))\n",
    "print(\"Błąd ARFIMA t+7\")\n",
    "print(np.sqrt(mean_squared_error(LTC_USD_forecast_ARIMA_ARFIMA.iloc[:,19],LTC_USD_forecast_ARIMA_ARFIMA.iloc[:,21])))\n",
    "print((mean_absolute_percentage_error(LTC_USD_forecast_ARIMA_ARFIMA.iloc[:,19],LTC_USD_forecast_ARIMA_ARFIMA.iloc[:,21])))\n",
    "print(\"Błąd RNN t+7\")\n",
    "print(np.sqrt(mean_squared_error(LTC_USD_forecast_RNN.iloc[:,13],LTC_USD_forecast_RNN.iloc[:,14])))\n",
    "print((mean_absolute_percentage_error(LTC_USD_forecast_RNN.iloc[:,13],LTC_USD_forecast_RNN.iloc[:,14])))\n",
    "print(\"Błąd LSTM t+7\")\n",
    "print(np.sqrt(mean_squared_error(LTC_USD_forecast_LSTM.iloc[:,13],LTC_USD_forecast_LSTM.iloc[:,14])))\n",
    "print((mean_absolute_percentage_error(LTC_USD_forecast_LSTM.iloc[:,13],LTC_USD_forecast_LSTM.iloc[:,14])))\n",
    "print(\"Błąd GRU t+7\")\n",
    "print(np.sqrt(mean_squared_error(LTC_USD_forecast_GRU.iloc[:,13],LTC_USD_forecast_GRU.iloc[:,14])))\n",
    "print((mean_absolute_percentage_error(LTC_USD_forecast_GRU.iloc[:,13],LTC_USD_forecast_GRU.iloc[:,14])))\n",
    "\n",
    "\n",
    "print(\"Błąd ARIMA t+14\")\n",
    "print(np.sqrt(mean_squared_error(LTC_USD_forecast_ARIMA_ARFIMA.iloc[:,-3],LTC_USD_forecast_ARIMA_ARFIMA.iloc[:,-2])))\n",
    "print((mean_absolute_percentage_error(LTC_USD_forecast_ARIMA_ARFIMA.iloc[:,-3],LTC_USD_forecast_ARIMA_ARFIMA.iloc[:,-2])))\n",
    "print(\"Błąd ARFIMA t+14\")\n",
    "print(np.sqrt(mean_squared_error(LTC_USD_forecast_ARIMA_ARFIMA.iloc[:,-3],LTC_USD_forecast_ARIMA_ARFIMA.iloc[:,-1])))\n",
    "print((mean_absolute_percentage_error(LTC_USD_forecast_ARIMA_ARFIMA.iloc[:,-3],LTC_USD_forecast_ARIMA_ARFIMA.iloc[:,-1])))\n",
    "print(\"Błąd RNN t+14\")\n",
    "print(np.sqrt(mean_squared_error(LTC_USD_forecast_RNN.iloc[:,-2],LTC_USD_forecast_RNN.iloc[:,-1])))\n",
    "print((mean_absolute_percentage_error(LTC_USD_forecast_RNN.iloc[:,-2],LTC_USD_forecast_RNN.iloc[:,-1])))\n",
    "print(\"Błąd LSTM t+14\")\n",
    "print(np.sqrt(mean_squared_error(LTC_USD_forecast_LSTM.iloc[:,-2],LTC_USD_forecast_LSTM.iloc[:,-1])))\n",
    "print((mean_absolute_percentage_error(LTC_USD_forecast_LSTM.iloc[:,-2],LTC_USD_forecast_LSTM.iloc[:,-1])))\n",
    "print(\"Błąd GRU t+14\")\n",
    "print(np.sqrt(mean_squared_error(LTC_USD_forecast_GRU.iloc[:,-2],LTC_USD_forecast_GRU.iloc[:,-1])))\n",
    "print((mean_absolute_percentage_error(LTC_USD_forecast_GRU.iloc[:,-2],LTC_USD_forecast_GRU.iloc[:,-1])))"
   ]
  },
  {
   "cell_type": "code",
   "execution_count": 172,
   "id": "9d1ff85b",
   "metadata": {},
   "outputs": [
    {
     "name": "stdout",
     "output_type": "stream",
     "text": [
      "Błąd ARIMA t+1\n",
      "0.06923007290790212\n",
      "5.246581968179714\n",
      "Błąd ARFIMA t+1\n",
      "0.08791780000584859\n",
      "6.620332695487942\n",
      "Błąd RNN t+1\n",
      "0.06825863389725494\n",
      "5.152651943313202\n",
      "Błąd LSTM t+1\n",
      "0.06856319463873048\n",
      "5.1324684223107795\n",
      "Błąd GRU t+1\n",
      "0.06849749326115281\n",
      "5.139503734496754\n",
      "Błąd ARIMA t+7\n",
      "0.19695403230092118\n",
      "15.388501201558293\n",
      "Błąd ARFIMA t+7\n",
      "0.2706533473752593\n",
      "19.205815439928326\n",
      "Błąd RNN t+7\n",
      "0.18988673346394638\n",
      "14.686626366947072\n",
      "Błąd LSTM t+7\n",
      "0.18899545920355576\n",
      "14.498508581664002\n",
      "Błąd GRU t+7\n",
      "0.18922969835727682\n",
      "14.855336510146087\n",
      "Błąd ARIMA t+14\n",
      "0.2715005169111336\n",
      "22.121978236875876\n",
      "Błąd ARFIMA t+14\n",
      "0.34688534585851605\n",
      "24.070419207825104\n",
      "Błąd RNN t+14\n",
      "0.2578735674103305\n",
      "20.109008433654324\n",
      "Błąd LSTM t+14\n",
      "0.25080179089820887\n",
      "19.365621166952693\n",
      "Błąd GRU t+14\n",
      "0.25565065623373784\n",
      "20.983333469150406\n"
     ]
    }
   ],
   "source": [
    "XRP_USD_forecast_ARIMA_ARFIMA = pd.read_csv('Forecasting_result\\\\XRP_USD\\\\AR(F)IMA_XRP_USD_Forecast.csv')\n",
    "XRP_USD_forecast_RNN = pd.read_csv('Forecasting_result\\\\XRP_USD\\\\XRP_RNN_forecast.csv')\n",
    "XRP_USD_forecast_LSTM = pd.read_csv('Forecasting_result\\\\XRP_USD\\\\XRP_LSTM_forecast.csv')\n",
    "XRP_USD_forecast_GRU = pd.read_csv('Forecasting_result\\\\XRP_USD\\\\XRP_GRU_forecast.csv')\n",
    "print(\"Błąd ARIMA t+1\")\n",
    "print(np.sqrt(mean_squared_error(XRP_USD_forecast_ARIMA_ARFIMA.iloc[:,1],XRP_USD_forecast_ARIMA_ARFIMA.iloc[:,2])))\n",
    "print((mean_absolute_percentage_error(XRP_USD_forecast_ARIMA_ARFIMA.iloc[:,1],XRP_USD_forecast_ARIMA_ARFIMA.iloc[:,2])))\n",
    "print(\"Błąd ARFIMA t+1\")\n",
    "print(np.sqrt(mean_squared_error(XRP_USD_forecast_ARIMA_ARFIMA.iloc[:,1],XRP_USD_forecast_ARIMA_ARFIMA.iloc[:,3])))\n",
    "print((mean_absolute_percentage_error(XRP_USD_forecast_ARIMA_ARFIMA.iloc[:,1],XRP_USD_forecast_ARIMA_ARFIMA.iloc[:,3])))\n",
    "print(\"Błąd RNN t+1\")\n",
    "print(np.sqrt(mean_squared_error(XRP_USD_forecast_RNN.iloc[:,1],XRP_USD_forecast_RNN.iloc[:,2])))\n",
    "print((mean_absolute_percentage_error(XRP_USD_forecast_RNN.iloc[:,1],XRP_USD_forecast_RNN.iloc[:,2])))\n",
    "print(\"Błąd LSTM t+1\")\n",
    "print(np.sqrt(mean_squared_error(XRP_USD_forecast_LSTM.iloc[:,1],XRP_USD_forecast_LSTM.iloc[:,2])))\n",
    "print((mean_absolute_percentage_error(XRP_USD_forecast_LSTM.iloc[:,1],XRP_USD_forecast_LSTM.iloc[:,2])))\n",
    "print(\"Błąd GRU t+1\")\n",
    "print(np.sqrt(mean_squared_error(XRP_USD_forecast_GRU.iloc[:,1],XRP_USD_forecast_GRU.iloc[:,2])))\n",
    "print((mean_absolute_percentage_error(XRP_USD_forecast_GRU.iloc[:,1],XRP_USD_forecast_GRU.iloc[:,2])))\n",
    "\n",
    "\n",
    "print(\"Błąd ARIMA t+7\")\n",
    "print(np.sqrt(mean_squared_error(XRP_USD_forecast_ARIMA_ARFIMA.iloc[:,19],XRP_USD_forecast_ARIMA_ARFIMA.iloc[:,20])))\n",
    "print((mean_absolute_percentage_error(XRP_USD_forecast_ARIMA_ARFIMA.iloc[:,19],XRP_USD_forecast_ARIMA_ARFIMA.iloc[:,20])))\n",
    "print(\"Błąd ARFIMA t+7\")\n",
    "print(np.sqrt(mean_squared_error(XRP_USD_forecast_ARIMA_ARFIMA.iloc[:,19],XRP_USD_forecast_ARIMA_ARFIMA.iloc[:,21])))\n",
    "print((mean_absolute_percentage_error(XRP_USD_forecast_ARIMA_ARFIMA.iloc[:,19],XRP_USD_forecast_ARIMA_ARFIMA.iloc[:,21])))\n",
    "print(\"Błąd RNN t+7\")\n",
    "print(np.sqrt(mean_squared_error(XRP_USD_forecast_RNN.iloc[:,13],XRP_USD_forecast_RNN.iloc[:,14])))\n",
    "print((mean_absolute_percentage_error(XRP_USD_forecast_RNN.iloc[:,13],XRP_USD_forecast_RNN.iloc[:,14])))\n",
    "print(\"Błąd LSTM t+7\")\n",
    "print(np.sqrt(mean_squared_error(XRP_USD_forecast_LSTM.iloc[:,13],XRP_USD_forecast_LSTM.iloc[:,14])))\n",
    "print((mean_absolute_percentage_error(XRP_USD_forecast_LSTM.iloc[:,13],XRP_USD_forecast_LSTM.iloc[:,14])))\n",
    "print(\"Błąd GRU t+7\")\n",
    "print(np.sqrt(mean_squared_error(XRP_USD_forecast_GRU.iloc[:,13],XRP_USD_forecast_GRU.iloc[:,14])))\n",
    "print((mean_absolute_percentage_error(XRP_USD_forecast_GRU.iloc[:,13],XRP_USD_forecast_GRU.iloc[:,14])))\n",
    "\n",
    "\n",
    "print(\"Błąd ARIMA t+14\")\n",
    "print(np.sqrt(mean_squared_error(XRP_USD_forecast_ARIMA_ARFIMA.iloc[:,-3],XRP_USD_forecast_ARIMA_ARFIMA.iloc[:,-2])))\n",
    "print((mean_absolute_percentage_error(XRP_USD_forecast_ARIMA_ARFIMA.iloc[:,-3],XRP_USD_forecast_ARIMA_ARFIMA.iloc[:,-2])))\n",
    "print(\"Błąd ARFIMA t+14\")\n",
    "print(np.sqrt(mean_squared_error(XRP_USD_forecast_ARIMA_ARFIMA.iloc[:,-3],XRP_USD_forecast_ARIMA_ARFIMA.iloc[:,-1])))\n",
    "print((mean_absolute_percentage_error(XRP_USD_forecast_ARIMA_ARFIMA.iloc[:,-3],XRP_USD_forecast_ARIMA_ARFIMA.iloc[:,-1])))\n",
    "print(\"Błąd RNN t+14\")\n",
    "print(np.sqrt(mean_squared_error(XRP_USD_forecast_RNN.iloc[:,-2],XRP_USD_forecast_RNN.iloc[:,-1])))\n",
    "print((mean_absolute_percentage_error(XRP_USD_forecast_RNN.iloc[:,-2],XRP_USD_forecast_RNN.iloc[:,-1])))\n",
    "print(\"Błąd LSTM t+14\")\n",
    "print(np.sqrt(mean_squared_error(XRP_USD_forecast_LSTM.iloc[:,-2],XRP_USD_forecast_LSTM.iloc[:,-1])))\n",
    "print((mean_absolute_percentage_error(XRP_USD_forecast_LSTM.iloc[:,-2],XRP_USD_forecast_LSTM.iloc[:,-1])))\n",
    "print(\"Błąd GRU t+14\")\n",
    "print(np.sqrt(mean_squared_error(XRP_USD_forecast_GRU.iloc[:,-2],XRP_USD_forecast_GRU.iloc[:,-1])))\n",
    "print((mean_absolute_percentage_error(XRP_USD_forecast_GRU.iloc[:,-2],XRP_USD_forecast_GRU.iloc[:,-1])))"
   ]
  },
  {
   "cell_type": "code",
   "execution_count": 173,
   "id": "7f659b87",
   "metadata": {},
   "outputs": [
    {
     "name": "stdout",
     "output_type": "stream",
     "text": [
      "Błąd ARIMA t+1\n",
      "0.004247808990091051\n",
      "0.45312785572982367\n",
      "Błąd ARFIMA t+1\n",
      "0.00479747100017147\n",
      "0.5101752493083183\n",
      "Błąd RNN t+1\n",
      "0.004206495069574899\n",
      "0.44798385104958277\n",
      "Błąd LSTM t+1\n",
      "0.004195755739109861\n",
      "0.44770376468076134\n",
      "Błąd GRU t+1\n",
      "0.004201698291916729\n",
      "0.4478751603818927\n",
      "Błąd ARIMA t+7\n",
      "0.009887521986141937\n",
      "1.078026245526553\n",
      "Błąd ARFIMA t+7\n",
      "0.014054996750908818\n",
      "1.5459884462581392\n",
      "Błąd RNN t+7\n",
      "0.009799729435332305\n",
      "1.064341056767158\n",
      "Błąd LSTM t+7\n",
      "0.009791760041022744\n",
      "1.0634106385841657\n",
      "Błąd GRU t+7\n",
      "0.009790968083073172\n",
      "1.0633091784914834\n",
      "Błąd ARIMA t+14\n",
      "0.013858123145068905\n",
      "1.5478680828629279\n",
      "Błąd ARFIMA t+14\n",
      "0.018540832319973256\n",
      "2.039132210221974\n",
      "Błąd RNN t+14\n",
      "0.013795603718996503\n",
      "1.5383170355414713\n",
      "Błąd LSTM t+14\n",
      "0.013722413127455308\n",
      "1.5247498715644348\n",
      "Błąd GRU t+14\n",
      "0.013752370757010938\n",
      "1.53078386012807\n"
     ]
    }
   ],
   "source": [
    "AUD_USD_forecast_ARIMA_ARFIMA = pd.read_csv('Forecasting_result\\\\AUD_USD\\\\AR(F)IMA_AUD_USD_Forecast.csv')\n",
    "AUD_USD_forecast_RNN = pd.read_csv('Forecasting_result\\\\AUD_USD\\\\AUD_RNN_forecast.csv')\n",
    "AUD_USD_forecast_LSTM = pd.read_csv('Forecasting_result\\\\AUD_USD\\\\AUD_LSTM_forecast.csv')\n",
    "AUD_USD_forecast_GRU = pd.read_csv('Forecasting_result\\\\AUD_USD\\\\AUD_GRU_forecast.csv')\n",
    "print(\"Błąd ARIMA t+1\")\n",
    "print(np.sqrt(mean_squared_error(AUD_USD_forecast_ARIMA_ARFIMA.iloc[:,1],AUD_USD_forecast_ARIMA_ARFIMA.iloc[:,2])))\n",
    "print((mean_absolute_percentage_error(AUD_USD_forecast_ARIMA_ARFIMA.iloc[:,1],AUD_USD_forecast_ARIMA_ARFIMA.iloc[:,2])))\n",
    "print(\"Błąd ARFIMA t+1\")\n",
    "print(np.sqrt(mean_squared_error(AUD_USD_forecast_ARIMA_ARFIMA.iloc[:,1],AUD_USD_forecast_ARIMA_ARFIMA.iloc[:,3])))\n",
    "print((mean_absolute_percentage_error(AUD_USD_forecast_ARIMA_ARFIMA.iloc[:,1],AUD_USD_forecast_ARIMA_ARFIMA.iloc[:,3])))\n",
    "print(\"Błąd RNN t+1\")\n",
    "print(np.sqrt(mean_squared_error(AUD_USD_forecast_RNN.iloc[:,1],AUD_USD_forecast_RNN.iloc[:,2])))\n",
    "print((mean_absolute_percentage_error(AUD_USD_forecast_RNN.iloc[:,1],AUD_USD_forecast_RNN.iloc[:,2])))\n",
    "print(\"Błąd LSTM t+1\")\n",
    "print(np.sqrt(mean_squared_error(AUD_USD_forecast_LSTM.iloc[:,1],AUD_USD_forecast_LSTM.iloc[:,2])))\n",
    "print((mean_absolute_percentage_error(AUD_USD_forecast_LSTM.iloc[:,1],AUD_USD_forecast_LSTM.iloc[:,2])))\n",
    "print(\"Błąd GRU t+1\")\n",
    "print(np.sqrt(mean_squared_error(AUD_USD_forecast_GRU.iloc[:,1],AUD_USD_forecast_GRU.iloc[:,2])))\n",
    "print((mean_absolute_percentage_error(AUD_USD_forecast_GRU.iloc[:,1],AUD_USD_forecast_GRU.iloc[:,2])))\n",
    "\n",
    "\n",
    "print(\"Błąd ARIMA t+7\")\n",
    "print(np.sqrt(mean_squared_error(AUD_USD_forecast_ARIMA_ARFIMA.iloc[:,19],AUD_USD_forecast_ARIMA_ARFIMA.iloc[:,20])))\n",
    "print((mean_absolute_percentage_error(AUD_USD_forecast_ARIMA_ARFIMA.iloc[:,19],AUD_USD_forecast_ARIMA_ARFIMA.iloc[:,20])))\n",
    "print(\"Błąd ARFIMA t+7\")\n",
    "print(np.sqrt(mean_squared_error(AUD_USD_forecast_ARIMA_ARFIMA.iloc[:,19],AUD_USD_forecast_ARIMA_ARFIMA.iloc[:,21])))\n",
    "print((mean_absolute_percentage_error(AUD_USD_forecast_ARIMA_ARFIMA.iloc[:,19],AUD_USD_forecast_ARIMA_ARFIMA.iloc[:,21])))\n",
    "print(\"Błąd RNN t+7\")\n",
    "print(np.sqrt(mean_squared_error(AUD_USD_forecast_RNN.iloc[:,13],AUD_USD_forecast_RNN.iloc[:,14])))\n",
    "print((mean_absolute_percentage_error(AUD_USD_forecast_RNN.iloc[:,13],AUD_USD_forecast_RNN.iloc[:,14])))\n",
    "print(\"Błąd LSTM t+7\")\n",
    "print(np.sqrt(mean_squared_error(AUD_USD_forecast_LSTM.iloc[:,13],AUD_USD_forecast_LSTM.iloc[:,14])))\n",
    "print((mean_absolute_percentage_error(AUD_USD_forecast_LSTM.iloc[:,13],AUD_USD_forecast_LSTM.iloc[:,14])))\n",
    "print(\"Błąd GRU t+7\")\n",
    "print(np.sqrt(mean_squared_error(AUD_USD_forecast_GRU.iloc[:,13],AUD_USD_forecast_GRU.iloc[:,14])))\n",
    "print((mean_absolute_percentage_error(AUD_USD_forecast_GRU.iloc[:,13],AUD_USD_forecast_GRU.iloc[:,14])))\n",
    "\n",
    "\n",
    "print(\"Błąd ARIMA t+14\")\n",
    "print(np.sqrt(mean_squared_error(AUD_USD_forecast_ARIMA_ARFIMA.iloc[:,-3],AUD_USD_forecast_ARIMA_ARFIMA.iloc[:,-2])))\n",
    "print((mean_absolute_percentage_error(AUD_USD_forecast_ARIMA_ARFIMA.iloc[:,-3],AUD_USD_forecast_ARIMA_ARFIMA.iloc[:,-2])))\n",
    "print(\"Błąd ARFIMA t+14\")\n",
    "print(np.sqrt(mean_squared_error(AUD_USD_forecast_ARIMA_ARFIMA.iloc[:,-3],AUD_USD_forecast_ARIMA_ARFIMA.iloc[:,-1])))\n",
    "print((mean_absolute_percentage_error(AUD_USD_forecast_ARIMA_ARFIMA.iloc[:,-3],AUD_USD_forecast_ARIMA_ARFIMA.iloc[:,-1])))\n",
    "print(\"Błąd RNN t+14\")\n",
    "print(np.sqrt(mean_squared_error(AUD_USD_forecast_RNN.iloc[:,-2],AUD_USD_forecast_RNN.iloc[:,-1])))\n",
    "print((mean_absolute_percentage_error(AUD_USD_forecast_RNN.iloc[:,-2],AUD_USD_forecast_RNN.iloc[:,-1])))\n",
    "print(\"Błąd LSTM t+14\")\n",
    "print(np.sqrt(mean_squared_error(AUD_USD_forecast_LSTM.iloc[:,-2],AUD_USD_forecast_LSTM.iloc[:,-1])))\n",
    "print((mean_absolute_percentage_error(AUD_USD_forecast_LSTM.iloc[:,-2],AUD_USD_forecast_LSTM.iloc[:,-1])))\n",
    "print(\"Błąd GRU t+14\")\n",
    "print(np.sqrt(mean_squared_error(AUD_USD_forecast_GRU.iloc[:,-2],AUD_USD_forecast_GRU.iloc[:,-1])))\n",
    "print((mean_absolute_percentage_error(AUD_USD_forecast_GRU.iloc[:,-2],AUD_USD_forecast_GRU.iloc[:,-1])))"
   ]
  },
  {
   "cell_type": "code",
   "execution_count": 174,
   "id": "b734b839",
   "metadata": {},
   "outputs": [
    {
     "name": "stdout",
     "output_type": "stream",
     "text": [
      "Błąd ARIMA t+1\n",
      "0.0033410376858893456\n",
      "0.32712320312660464\n",
      "Błąd ARFIMA t+1\n",
      "0.0033525848596454165\n",
      "0.32887431238028564\n",
      "Błąd RNN t+1\n",
      "0.0033416746494284\n",
      "0.3272357199657055\n",
      "Błąd LSTM t+1\n",
      "0.003341427499241892\n",
      "0.32719237329729667\n",
      "Błąd GRU t+1\n",
      "0.0033409681898899013\n",
      "0.32711153944050647\n",
      "Błąd ARIMA t+7\n",
      "0.007795858468854425\n",
      "0.7986641807626356\n",
      "Błąd ARFIMA t+7\n",
      "0.008058257282932633\n",
      "0.8204938589871656\n",
      "Błąd RNN t+7\n",
      "0.007802627013992269\n",
      "0.7998645819446315\n",
      "Błąd LSTM t+7\n",
      "0.0077945626307137665\n",
      "0.7982407998900551\n",
      "Błąd GRU t+7\n",
      "0.0077973764500923\n",
      "0.7990201939632389\n",
      "Błąd ARIMA t+14\n",
      "0.011102096727080511\n",
      "1.1047017538331543\n",
      "Błąd ARFIMA t+14\n",
      "0.011783276239229966\n",
      "1.157862852689368\n",
      "Błąd RNN t+14\n",
      "0.011145307414767467\n",
      "1.1072511412074353\n",
      "Błąd LSTM t+14\n",
      "0.01111674901003975\n",
      "1.1048052344435442\n",
      "Błąd GRU t+14\n",
      "0.011113288247202133\n",
      "1.1046957646075894\n"
     ]
    }
   ],
   "source": [
    "CAD_USD_forecast_ARIMA_ARFIMA = pd.read_csv('Forecasting_result\\\\CAD_USD\\\\AR(F)IMA_CAD_USD_Forecast.csv')\n",
    "CAD_USD_forecast_RNN = pd.read_csv('Forecasting_result\\\\CAD_USD\\\\CAD_RNN_forecast.csv')\n",
    "CAD_USD_forecast_LSTM = pd.read_csv('Forecasting_result\\\\CAD_USD\\\\CAD_LSTM_forecast.csv')\n",
    "CAD_USD_forecast_GRU = pd.read_csv('Forecasting_result\\\\CAD_USD\\\\CAD_GRU_forecast.csv')\n",
    "print(\"Błąd ARIMA t+1\")\n",
    "print(np.sqrt(mean_squared_error(CAD_USD_forecast_ARIMA_ARFIMA.iloc[:,1],CAD_USD_forecast_ARIMA_ARFIMA.iloc[:,2])))\n",
    "print((mean_absolute_percentage_error(CAD_USD_forecast_ARIMA_ARFIMA.iloc[:,1],CAD_USD_forecast_ARIMA_ARFIMA.iloc[:,2])))\n",
    "print(\"Błąd ARFIMA t+1\")\n",
    "print(np.sqrt(mean_squared_error(CAD_USD_forecast_ARIMA_ARFIMA.iloc[:,1],CAD_USD_forecast_ARIMA_ARFIMA.iloc[:,3])))\n",
    "print((mean_absolute_percentage_error(CAD_USD_forecast_ARIMA_ARFIMA.iloc[:,1],CAD_USD_forecast_ARIMA_ARFIMA.iloc[:,3])))\n",
    "print(\"Błąd RNN t+1\")\n",
    "print(np.sqrt(mean_squared_error(CAD_USD_forecast_RNN.iloc[:,1],CAD_USD_forecast_RNN.iloc[:,2])))\n",
    "print((mean_absolute_percentage_error(CAD_USD_forecast_RNN.iloc[:,1],CAD_USD_forecast_RNN.iloc[:,2])))\n",
    "print(\"Błąd LSTM t+1\")\n",
    "print(np.sqrt(mean_squared_error(CAD_USD_forecast_LSTM.iloc[:,1],CAD_USD_forecast_LSTM.iloc[:,2])))\n",
    "print((mean_absolute_percentage_error(CAD_USD_forecast_LSTM.iloc[:,1],CAD_USD_forecast_LSTM.iloc[:,2])))\n",
    "print(\"Błąd GRU t+1\")\n",
    "print(np.sqrt(mean_squared_error(CAD_USD_forecast_GRU.iloc[:,1],CAD_USD_forecast_GRU.iloc[:,2])))\n",
    "print((mean_absolute_percentage_error(CAD_USD_forecast_GRU.iloc[:,1],CAD_USD_forecast_GRU.iloc[:,2])))\n",
    "\n",
    "\n",
    "print(\"Błąd ARIMA t+7\")\n",
    "print(np.sqrt(mean_squared_error(CAD_USD_forecast_ARIMA_ARFIMA.iloc[:,19],CAD_USD_forecast_ARIMA_ARFIMA.iloc[:,20])))\n",
    "print((mean_absolute_percentage_error(CAD_USD_forecast_ARIMA_ARFIMA.iloc[:,19],CAD_USD_forecast_ARIMA_ARFIMA.iloc[:,20])))\n",
    "print(\"Błąd ARFIMA t+7\")\n",
    "print(np.sqrt(mean_squared_error(CAD_USD_forecast_ARIMA_ARFIMA.iloc[:,19],CAD_USD_forecast_ARIMA_ARFIMA.iloc[:,21])))\n",
    "print((mean_absolute_percentage_error(CAD_USD_forecast_ARIMA_ARFIMA.iloc[:,19],CAD_USD_forecast_ARIMA_ARFIMA.iloc[:,21])))\n",
    "print(\"Błąd RNN t+7\")\n",
    "print(np.sqrt(mean_squared_error(CAD_USD_forecast_RNN.iloc[:,13],CAD_USD_forecast_RNN.iloc[:,14])))\n",
    "print((mean_absolute_percentage_error(CAD_USD_forecast_RNN.iloc[:,13],CAD_USD_forecast_RNN.iloc[:,14])))\n",
    "print(\"Błąd LSTM t+7\")\n",
    "print(np.sqrt(mean_squared_error(CAD_USD_forecast_LSTM.iloc[:,13],CAD_USD_forecast_LSTM.iloc[:,14])))\n",
    "print((mean_absolute_percentage_error(CAD_USD_forecast_LSTM.iloc[:,13],CAD_USD_forecast_LSTM.iloc[:,14])))\n",
    "print(\"Błąd GRU t+7\")\n",
    "print(np.sqrt(mean_squared_error(CAD_USD_forecast_GRU.iloc[:,13],CAD_USD_forecast_GRU.iloc[:,14])))\n",
    "print((mean_absolute_percentage_error(CAD_USD_forecast_GRU.iloc[:,13],CAD_USD_forecast_GRU.iloc[:,14])))\n",
    "\n",
    "\n",
    "print(\"Błąd ARIMA t+14\")\n",
    "print(np.sqrt(mean_squared_error(CAD_USD_forecast_ARIMA_ARFIMA.iloc[:,-3],CAD_USD_forecast_ARIMA_ARFIMA.iloc[:,-2])))\n",
    "print((mean_absolute_percentage_error(CAD_USD_forecast_ARIMA_ARFIMA.iloc[:,-3],CAD_USD_forecast_ARIMA_ARFIMA.iloc[:,-2])))\n",
    "print(\"Błąd ARFIMA t+14\")\n",
    "print(np.sqrt(mean_squared_error(CAD_USD_forecast_ARIMA_ARFIMA.iloc[:,-3],CAD_USD_forecast_ARIMA_ARFIMA.iloc[:,-1])))\n",
    "print((mean_absolute_percentage_error(CAD_USD_forecast_ARIMA_ARFIMA.iloc[:,-3],CAD_USD_forecast_ARIMA_ARFIMA.iloc[:,-1])))\n",
    "print(\"Błąd RNN t+14\")\n",
    "print(np.sqrt(mean_squared_error(CAD_USD_forecast_RNN.iloc[:,-2],CAD_USD_forecast_RNN.iloc[:,-1])))\n",
    "print((mean_absolute_percentage_error(CAD_USD_forecast_RNN.iloc[:,-2],CAD_USD_forecast_RNN.iloc[:,-1])))\n",
    "print(\"Błąd LSTM t+14\")\n",
    "print(np.sqrt(mean_squared_error(CAD_USD_forecast_LSTM.iloc[:,-2],CAD_USD_forecast_LSTM.iloc[:,-1])))\n",
    "print((mean_absolute_percentage_error(CAD_USD_forecast_LSTM.iloc[:,-2],CAD_USD_forecast_LSTM.iloc[:,-1])))\n",
    "print(\"Błąd GRU t+14\")\n",
    "print(np.sqrt(mean_squared_error(CAD_USD_forecast_GRU.iloc[:,-2],CAD_USD_forecast_GRU.iloc[:,-1])))\n",
    "print((mean_absolute_percentage_error(CAD_USD_forecast_GRU.iloc[:,-2],CAD_USD_forecast_GRU.iloc[:,-1])))"
   ]
  },
  {
   "cell_type": "code",
   "execution_count": 176,
   "id": "9e7d6230",
   "metadata": {},
   "outputs": [
    {
     "name": "stdout",
     "output_type": "stream",
     "text": [
      "Błąd ARIMA t+1\n",
      "0.004222008570651696\n",
      "0.27568388264198795\n",
      "Błąd ARFIMA t+1\n",
      "0.0052871072855112\n",
      "0.35656533550112823\n",
      "Błąd RNN t+1\n",
      "0.004250738268468511\n",
      "0.27771041177871747\n",
      "Błąd LSTM t+1\n",
      "0.004227266923161678\n",
      "0.2760541635498656\n",
      "Błąd GRU t+1\n",
      "0.00420907492701408\n",
      "0.27547788595921435\n",
      "Błąd ARIMA t+7\n",
      "0.01029992662192253\n",
      "0.6905026400819432\n",
      "Błąd ARFIMA t+7\n",
      "0.014398872664177097\n",
      "1.014905649946161\n",
      "Błąd RNN t+7\n",
      "0.010584787011214266\n",
      "0.7079669104806396\n",
      "Błąd LSTM t+7\n",
      "0.01057366415667209\n",
      "0.7074131252230045\n",
      "Błąd GRU t+7\n",
      "0.010148963541942141\n",
      "0.6810674905074654\n",
      "Błąd ARIMA t+14\n",
      "0.01468470736861755\n",
      "0.9997943712667863\n",
      "Błąd ARFIMA t+14\n",
      "0.018558797209410265\n",
      "1.3035578672350194\n",
      "Błąd RNN t+14\n",
      "0.01572722073620274\n",
      "1.0750651213820022\n",
      "Błąd LSTM t+14\n",
      "0.01571856109491924\n",
      "1.0747890029728344\n",
      "Błąd GRU t+14\n",
      "0.014737224603483264\n",
      "1.0036700655401436\n"
     ]
    }
   ],
   "source": [
    "EUR_USD_forecast_ARIMA_ARFIMA = pd.read_csv('Forecasting_result\\\\EUR_USD\\\\AR(F)IMA_EUR_USD_Forecast.csv')\n",
    "EUR_USD_forecast_RNN = pd.read_csv('Forecasting_result\\\\EUR_USD\\\\EUR_RNN_forecast.csv')\n",
    "EUR_USD_forecast_LSTM = pd.read_csv('Forecasting_result\\\\EUR_USD\\\\EUR_LSTM_forecast.csv')\n",
    "EUR_USD_forecast_GRU = pd.read_csv('Forecasting_result\\\\EUR_USD\\\\EUR_GRU_forecast.csv')\n",
    "print(\"Błąd ARIMA t+1\")\n",
    "print(np.sqrt(mean_squared_error(EUR_USD_forecast_ARIMA_ARFIMA.iloc[:,1],EUR_USD_forecast_ARIMA_ARFIMA.iloc[:,2])))\n",
    "print((mean_absolute_percentage_error(EUR_USD_forecast_ARIMA_ARFIMA.iloc[:,1],EUR_USD_forecast_ARIMA_ARFIMA.iloc[:,2])))\n",
    "print(\"Błąd ARFIMA t+1\")\n",
    "print(np.sqrt(mean_squared_error(EUR_USD_forecast_ARIMA_ARFIMA.iloc[:,1],EUR_USD_forecast_ARIMA_ARFIMA.iloc[:,3])))\n",
    "print((mean_absolute_percentage_error(EUR_USD_forecast_ARIMA_ARFIMA.iloc[:,1],EUR_USD_forecast_ARIMA_ARFIMA.iloc[:,3])))\n",
    "print(\"Błąd RNN t+1\")\n",
    "print(np.sqrt(mean_squared_error(EUR_USD_forecast_RNN.iloc[:,1],EUR_USD_forecast_RNN.iloc[:,2])))\n",
    "print((mean_absolute_percentage_error(EUR_USD_forecast_RNN.iloc[:,1],EUR_USD_forecast_RNN.iloc[:,2])))\n",
    "print(\"Błąd LSTM t+1\")\n",
    "print(np.sqrt(mean_squared_error(EUR_USD_forecast_LSTM.iloc[:,1],EUR_USD_forecast_LSTM.iloc[:,2])))\n",
    "print((mean_absolute_percentage_error(EUR_USD_forecast_LSTM.iloc[:,1],EUR_USD_forecast_LSTM.iloc[:,2])))\n",
    "print(\"Błąd GRU t+1\")\n",
    "print(np.sqrt(mean_squared_error(EUR_USD_forecast_GRU.iloc[:,1],EUR_USD_forecast_GRU.iloc[:,2])))\n",
    "print((mean_absolute_percentage_error(EUR_USD_forecast_GRU.iloc[:,1],EUR_USD_forecast_GRU.iloc[:,2])))\n",
    "\n",
    "\n",
    "print(\"Błąd ARIMA t+7\")\n",
    "print(np.sqrt(mean_squared_error(EUR_USD_forecast_ARIMA_ARFIMA.iloc[:,19],EUR_USD_forecast_ARIMA_ARFIMA.iloc[:,20])))\n",
    "print((mean_absolute_percentage_error(EUR_USD_forecast_ARIMA_ARFIMA.iloc[:,19],EUR_USD_forecast_ARIMA_ARFIMA.iloc[:,20])))\n",
    "print(\"Błąd ARFIMA t+7\")\n",
    "print(np.sqrt(mean_squared_error(EUR_USD_forecast_ARIMA_ARFIMA.iloc[:,19],EUR_USD_forecast_ARIMA_ARFIMA.iloc[:,21])))\n",
    "print((mean_absolute_percentage_error(EUR_USD_forecast_ARIMA_ARFIMA.iloc[:,19],EUR_USD_forecast_ARIMA_ARFIMA.iloc[:,21])))\n",
    "print(\"Błąd RNN t+7\")\n",
    "print(np.sqrt(mean_squared_error(EUR_USD_forecast_RNN.iloc[:,13],EUR_USD_forecast_RNN.iloc[:,14])))\n",
    "print((mean_absolute_percentage_error(EUR_USD_forecast_RNN.iloc[:,13],EUR_USD_forecast_RNN.iloc[:,14])))\n",
    "print(\"Błąd LSTM t+7\")\n",
    "print(np.sqrt(mean_squared_error(EUR_USD_forecast_LSTM.iloc[:,13],EUR_USD_forecast_LSTM.iloc[:,14])))\n",
    "print((mean_absolute_percentage_error(EUR_USD_forecast_LSTM.iloc[:,13],EUR_USD_forecast_LSTM.iloc[:,14])))\n",
    "print(\"Błąd GRU t+7\")\n",
    "print(np.sqrt(mean_squared_error(EUR_USD_forecast_GRU.iloc[:,13],EUR_USD_forecast_GRU.iloc[:,14])))\n",
    "print((mean_absolute_percentage_error(EUR_USD_forecast_GRU.iloc[:,13],EUR_USD_forecast_GRU.iloc[:,14])))\n",
    "\n",
    "\n",
    "print(\"Błąd ARIMA t+14\")\n",
    "print(np.sqrt(mean_squared_error(EUR_USD_forecast_ARIMA_ARFIMA.iloc[:,-3],EUR_USD_forecast_ARIMA_ARFIMA.iloc[:,-2])))\n",
    "print((mean_absolute_percentage_error(EUR_USD_forecast_ARIMA_ARFIMA.iloc[:,-3],EUR_USD_forecast_ARIMA_ARFIMA.iloc[:,-2])))\n",
    "print(\"Błąd ARFIMA t+14\")\n",
    "print(np.sqrt(mean_squared_error(EUR_USD_forecast_ARIMA_ARFIMA.iloc[:,-3],EUR_USD_forecast_ARIMA_ARFIMA.iloc[:,-1])))\n",
    "print((mean_absolute_percentage_error(EUR_USD_forecast_ARIMA_ARFIMA.iloc[:,-3],EUR_USD_forecast_ARIMA_ARFIMA.iloc[:,-1])))\n",
    "print(\"Błąd RNN t+14\")\n",
    "print(np.sqrt(mean_squared_error(EUR_USD_forecast_RNN.iloc[:,-2],EUR_USD_forecast_RNN.iloc[:,-1])))\n",
    "print((mean_absolute_percentage_error(EUR_USD_forecast_RNN.iloc[:,-2],EUR_USD_forecast_RNN.iloc[:,-1])))\n",
    "print(\"Błąd LSTM t+14\")\n",
    "print(np.sqrt(mean_squared_error(EUR_USD_forecast_LSTM.iloc[:,-2],EUR_USD_forecast_LSTM.iloc[:,-1])))\n",
    "print((mean_absolute_percentage_error(EUR_USD_forecast_LSTM.iloc[:,-2],EUR_USD_forecast_LSTM.iloc[:,-1])))\n",
    "print(\"Błąd GRU t+14\")\n",
    "print(np.sqrt(mean_squared_error(EUR_USD_forecast_GRU.iloc[:,-2],EUR_USD_forecast_GRU.iloc[:,-1])))\n",
    "print((mean_absolute_percentage_error(EUR_USD_forecast_GRU.iloc[:,-2],EUR_USD_forecast_GRU.iloc[:,-1])))"
   ]
  },
  {
   "cell_type": "code",
   "execution_count": 177,
   "id": "c2676dc7",
   "metadata": {},
   "outputs": [
    {
     "name": "stdout",
     "output_type": "stream",
     "text": [
      "Błąd ARIMA t+1\n",
      "0.005868556373969874\n",
      "0.339091354672261\n",
      "Błąd ARFIMA t+1\n",
      "0.005915976441085794\n",
      "0.34133767640871127\n",
      "Błąd RNN t+1\n",
      "0.005831298297263613\n",
      "0.33801670342924206\n",
      "Błąd LSTM t+1\n",
      "0.005831137740728095\n",
      "0.3382277116508793\n",
      "Błąd GRU t+1\n",
      "0.005833154775710505\n",
      "0.33741205132497\n",
      "Błąd ARIMA t+7\n",
      "0.012890308011304336\n",
      "0.7602394598156378\n",
      "Błąd ARFIMA t+7\n",
      "0.01428624299263312\n",
      "0.8354460186137832\n",
      "Błąd RNN t+7\n",
      "0.012926061884120838\n",
      "0.7648092938116223\n",
      "Błąd LSTM t+7\n",
      "0.0128508300240379\n",
      "0.7589196024197932\n",
      "Błąd GRU t+7\n",
      "0.012876247542054886\n",
      "0.7608191722895432\n",
      "Błąd ARIMA t+14\n",
      "0.018236994159357783\n",
      "1.1000028758086973\n",
      "Błąd ARFIMA t+14\n",
      "0.021868656403339817\n",
      "1.3101451175761236\n",
      "Błąd RNN t+14\n",
      "0.018319157845294892\n",
      "1.1056340619179066\n",
      "Błąd LSTM t+14\n",
      "0.018341915043798618\n",
      "1.106383042081881\n",
      "Błąd GRU t+14\n",
      "0.018408252237786596\n",
      "1.108901907418188\n"
     ]
    }
   ],
   "source": [
    "GBP_USD_forecast_ARIMA_ARFIMA = pd.read_csv('Forecasting_result\\\\GBP_USD\\\\AR(F)IMA_GBP_USD_Forecast.csv')\n",
    "GBP_USD_forecast_RNN = pd.read_csv('Forecasting_result\\\\GBP_USD\\\\GBP_RNN_forecast.csv')\n",
    "GBP_USD_forecast_LSTM = pd.read_csv('Forecasting_result\\\\GBP_USD\\\\GBP_LSTM_forecast.csv')\n",
    "GBP_USD_forecast_GRU = pd.read_csv('Forecasting_result\\\\GBP_USD\\\\GBP_GRU_forecast.csv')\n",
    "print(\"Błąd ARIMA t+1\")\n",
    "print(np.sqrt(mean_squared_error(GBP_USD_forecast_ARIMA_ARFIMA.iloc[:,1],GBP_USD_forecast_ARIMA_ARFIMA.iloc[:,2])))\n",
    "print((mean_absolute_percentage_error(GBP_USD_forecast_ARIMA_ARFIMA.iloc[:,1],GBP_USD_forecast_ARIMA_ARFIMA.iloc[:,2])))\n",
    "print(\"Błąd ARFIMA t+1\")\n",
    "print(np.sqrt(mean_squared_error(GBP_USD_forecast_ARIMA_ARFIMA.iloc[:,1],GBP_USD_forecast_ARIMA_ARFIMA.iloc[:,3])))\n",
    "print((mean_absolute_percentage_error(GBP_USD_forecast_ARIMA_ARFIMA.iloc[:,1],GBP_USD_forecast_ARIMA_ARFIMA.iloc[:,3])))\n",
    "print(\"Błąd RNN t+1\")\n",
    "print(np.sqrt(mean_squared_error(GBP_USD_forecast_RNN.iloc[:,1],GBP_USD_forecast_RNN.iloc[:,2])))\n",
    "print((mean_absolute_percentage_error(GBP_USD_forecast_RNN.iloc[:,1],GBP_USD_forecast_RNN.iloc[:,2])))\n",
    "print(\"Błąd LSTM t+1\")\n",
    "print(np.sqrt(mean_squared_error(GBP_USD_forecast_LSTM.iloc[:,1],GBP_USD_forecast_LSTM.iloc[:,2])))\n",
    "print((mean_absolute_percentage_error(GBP_USD_forecast_LSTM.iloc[:,1],GBP_USD_forecast_LSTM.iloc[:,2])))\n",
    "print(\"Błąd GRU t+1\")\n",
    "print(np.sqrt(mean_squared_error(GBP_USD_forecast_GRU.iloc[:,1],GBP_USD_forecast_GRU.iloc[:,2])))\n",
    "print((mean_absolute_percentage_error(GBP_USD_forecast_GRU.iloc[:,1],GBP_USD_forecast_GRU.iloc[:,2])))\n",
    "\n",
    "\n",
    "print(\"Błąd ARIMA t+7\")\n",
    "print(np.sqrt(mean_squared_error(GBP_USD_forecast_ARIMA_ARFIMA.iloc[:,19],GBP_USD_forecast_ARIMA_ARFIMA.iloc[:,20])))\n",
    "print((mean_absolute_percentage_error(GBP_USD_forecast_ARIMA_ARFIMA.iloc[:,19],GBP_USD_forecast_ARIMA_ARFIMA.iloc[:,20])))\n",
    "print(\"Błąd ARFIMA t+7\")\n",
    "print(np.sqrt(mean_squared_error(GBP_USD_forecast_ARIMA_ARFIMA.iloc[:,19],GBP_USD_forecast_ARIMA_ARFIMA.iloc[:,21])))\n",
    "print((mean_absolute_percentage_error(GBP_USD_forecast_ARIMA_ARFIMA.iloc[:,19],GBP_USD_forecast_ARIMA_ARFIMA.iloc[:,21])))\n",
    "print(\"Błąd RNN t+7\")\n",
    "print(np.sqrt(mean_squared_error(GBP_USD_forecast_RNN.iloc[:,13],GBP_USD_forecast_RNN.iloc[:,14])))\n",
    "print((mean_absolute_percentage_error(GBP_USD_forecast_RNN.iloc[:,13],GBP_USD_forecast_RNN.iloc[:,14])))\n",
    "print(\"Błąd LSTM t+7\")\n",
    "print(np.sqrt(mean_squared_error(GBP_USD_forecast_LSTM.iloc[:,13],GBP_USD_forecast_LSTM.iloc[:,14])))\n",
    "print((mean_absolute_percentage_error(GBP_USD_forecast_LSTM.iloc[:,13],GBP_USD_forecast_LSTM.iloc[:,14])))\n",
    "print(\"Błąd GRU t+7\")\n",
    "print(np.sqrt(mean_squared_error(GBP_USD_forecast_GRU.iloc[:,13],GBP_USD_forecast_GRU.iloc[:,14])))\n",
    "print((mean_absolute_percentage_error(GBP_USD_forecast_GRU.iloc[:,13],GBP_USD_forecast_GRU.iloc[:,14])))\n",
    "\n",
    "\n",
    "print(\"Błąd ARIMA t+14\")\n",
    "print(np.sqrt(mean_squared_error(GBP_USD_forecast_ARIMA_ARFIMA.iloc[:,-3],GBP_USD_forecast_ARIMA_ARFIMA.iloc[:,-2])))\n",
    "print((mean_absolute_percentage_error(GBP_USD_forecast_ARIMA_ARFIMA.iloc[:,-3],GBP_USD_forecast_ARIMA_ARFIMA.iloc[:,-2])))\n",
    "print(\"Błąd ARFIMA t+14\")\n",
    "print(np.sqrt(mean_squared_error(GBP_USD_forecast_ARIMA_ARFIMA.iloc[:,-3],GBP_USD_forecast_ARIMA_ARFIMA.iloc[:,-1])))\n",
    "print((mean_absolute_percentage_error(GBP_USD_forecast_ARIMA_ARFIMA.iloc[:,-3],GBP_USD_forecast_ARIMA_ARFIMA.iloc[:,-1])))\n",
    "print(\"Błąd RNN t+14\")\n",
    "print(np.sqrt(mean_squared_error(GBP_USD_forecast_RNN.iloc[:,-2],GBP_USD_forecast_RNN.iloc[:,-1])))\n",
    "print((mean_absolute_percentage_error(GBP_USD_forecast_RNN.iloc[:,-2],GBP_USD_forecast_RNN.iloc[:,-1])))\n",
    "print(\"Błąd LSTM t+14\")\n",
    "print(np.sqrt(mean_squared_error(GBP_USD_forecast_LSTM.iloc[:,-2],GBP_USD_forecast_LSTM.iloc[:,-1])))\n",
    "print((mean_absolute_percentage_error(GBP_USD_forecast_LSTM.iloc[:,-2],GBP_USD_forecast_LSTM.iloc[:,-1])))\n",
    "print(\"Błąd GRU t+14\")\n",
    "print(np.sqrt(mean_squared_error(GBP_USD_forecast_GRU.iloc[:,-2],GBP_USD_forecast_GRU.iloc[:,-1])))\n",
    "print((mean_absolute_percentage_error(GBP_USD_forecast_GRU.iloc[:,-2],GBP_USD_forecast_GRU.iloc[:,-1])))"
   ]
  },
  {
   "cell_type": "code",
   "execution_count": 178,
   "id": "b816249c",
   "metadata": {},
   "outputs": [
    {
     "name": "stdout",
     "output_type": "stream",
     "text": [
      "Błąd ARIMA t+1\n",
      "3.167899013197745e-05\n",
      "0.26983198518521034\n",
      "Błąd ARFIMA t+1\n",
      "3.202656819952148e-05\n",
      "0.27301395828673647\n",
      "Błąd RNN t+1\n",
      "3.170036939848253e-05\n",
      "0.27046920352633036\n",
      "Błąd LSTM t+1\n",
      "3.181666730342677e-05\n",
      "0.2710951350062814\n",
      "Błąd GRU t+1\n",
      "3.167413082016665e-05\n",
      "0.27030005829004916\n",
      "Błąd ARIMA t+7\n",
      "7.984074109965432e-05\n",
      "0.6696301023048964\n",
      "Błąd ARFIMA t+7\n",
      "8.743027636616949e-05\n",
      "0.767021350315083\n",
      "Błąd RNN t+7\n",
      "8.32843604050661e-05\n",
      "0.7008666079713995\n",
      "Błąd LSTM t+7\n",
      "8.531328242936839e-05\n",
      "0.7177474507644191\n",
      "Błąd GRU t+7\n",
      "8.273484551242159e-05\n",
      "0.6955852379484573\n",
      "Błąd ARIMA t+14\n",
      "0.00011222897348631152\n",
      "0.9524065656588325\n",
      "Błąd ARFIMA t+14\n",
      "0.00012903367785417914\n",
      "1.134983219519324\n",
      "Błąd RNN t+14\n",
      "0.00012775618376198791\n",
      "1.1102580791118257\n",
      "Błąd LSTM t+14\n",
      "0.00012702742044565707\n",
      "1.098600267166108\n",
      "Błąd GRU t+14\n",
      "0.00011813858214311617\n",
      "1.01417716201557\n"
     ]
    }
   ],
   "source": [
    "JPY_USD_forecast_ARIMA_ARFIMA = pd.read_csv('Forecasting_result\\\\JPY_USD\\\\AR(F)IMA_JPY_USD_Forecast.csv')\n",
    "JPY_USD_forecast_RNN = pd.read_csv('Forecasting_result\\\\JPY_USD\\\\JPY_RNN_forecast.csv')\n",
    "JPY_USD_forecast_LSTM = pd.read_csv('Forecasting_result\\\\JPY_USD\\\\JPY_LSTM_forecast.csv')\n",
    "JPY_USD_forecast_GRU = pd.read_csv('Forecasting_result\\\\JPY_USD\\\\JPY_GRU_forecast.csv')\n",
    "print(\"Błąd ARIMA t+1\")\n",
    "print(np.sqrt(mean_squared_error(JPY_USD_forecast_ARIMA_ARFIMA.iloc[:,1],JPY_USD_forecast_ARIMA_ARFIMA.iloc[:,2])))\n",
    "print((mean_absolute_percentage_error(JPY_USD_forecast_ARIMA_ARFIMA.iloc[:,1],JPY_USD_forecast_ARIMA_ARFIMA.iloc[:,2])))\n",
    "print(\"Błąd ARFIMA t+1\")\n",
    "print(np.sqrt(mean_squared_error(JPY_USD_forecast_ARIMA_ARFIMA.iloc[:,1],JPY_USD_forecast_ARIMA_ARFIMA.iloc[:,3])))\n",
    "print((mean_absolute_percentage_error(JPY_USD_forecast_ARIMA_ARFIMA.iloc[:,1],JPY_USD_forecast_ARIMA_ARFIMA.iloc[:,3])))\n",
    "print(\"Błąd RNN t+1\")\n",
    "print(np.sqrt(mean_squared_error(JPY_USD_forecast_RNN.iloc[:,1],JPY_USD_forecast_RNN.iloc[:,2])))\n",
    "print((mean_absolute_percentage_error(JPY_USD_forecast_RNN.iloc[:,1],JPY_USD_forecast_RNN.iloc[:,2])))\n",
    "print(\"Błąd LSTM t+1\")\n",
    "print(np.sqrt(mean_squared_error(JPY_USD_forecast_LSTM.iloc[:,1],JPY_USD_forecast_LSTM.iloc[:,2])))\n",
    "print((mean_absolute_percentage_error(JPY_USD_forecast_LSTM.iloc[:,1],JPY_USD_forecast_LSTM.iloc[:,2])))\n",
    "print(\"Błąd GRU t+1\")\n",
    "print(np.sqrt(mean_squared_error(JPY_USD_forecast_GRU.iloc[:,1],JPY_USD_forecast_GRU.iloc[:,2])))\n",
    "print((mean_absolute_percentage_error(JPY_USD_forecast_GRU.iloc[:,1],JPY_USD_forecast_GRU.iloc[:,2])))\n",
    "\n",
    "\n",
    "print(\"Błąd ARIMA t+7\")\n",
    "print(np.sqrt(mean_squared_error(JPY_USD_forecast_ARIMA_ARFIMA.iloc[:,19],JPY_USD_forecast_ARIMA_ARFIMA.iloc[:,20])))\n",
    "print((mean_absolute_percentage_error(JPY_USD_forecast_ARIMA_ARFIMA.iloc[:,19],JPY_USD_forecast_ARIMA_ARFIMA.iloc[:,20])))\n",
    "print(\"Błąd ARFIMA t+7\")\n",
    "print(np.sqrt(mean_squared_error(JPY_USD_forecast_ARIMA_ARFIMA.iloc[:,19],JPY_USD_forecast_ARIMA_ARFIMA.iloc[:,21])))\n",
    "print((mean_absolute_percentage_error(JPY_USD_forecast_ARIMA_ARFIMA.iloc[:,19],JPY_USD_forecast_ARIMA_ARFIMA.iloc[:,21])))\n",
    "print(\"Błąd RNN t+7\")\n",
    "print(np.sqrt(mean_squared_error(JPY_USD_forecast_RNN.iloc[:,13],JPY_USD_forecast_RNN.iloc[:,14])))\n",
    "print((mean_absolute_percentage_error(JPY_USD_forecast_RNN.iloc[:,13],JPY_USD_forecast_RNN.iloc[:,14])))\n",
    "print(\"Błąd LSTM t+7\")\n",
    "print(np.sqrt(mean_squared_error(JPY_USD_forecast_LSTM.iloc[:,13],JPY_USD_forecast_LSTM.iloc[:,14])))\n",
    "print((mean_absolute_percentage_error(JPY_USD_forecast_LSTM.iloc[:,13],JPY_USD_forecast_LSTM.iloc[:,14])))\n",
    "print(\"Błąd GRU t+7\")\n",
    "print(np.sqrt(mean_squared_error(JPY_USD_forecast_GRU.iloc[:,13],JPY_USD_forecast_GRU.iloc[:,14])))\n",
    "print((mean_absolute_percentage_error(JPY_USD_forecast_GRU.iloc[:,13],JPY_USD_forecast_GRU.iloc[:,14])))\n",
    "\n",
    "\n",
    "print(\"Błąd ARIMA t+14\")\n",
    "print(np.sqrt(mean_squared_error(JPY_USD_forecast_ARIMA_ARFIMA.iloc[:,-3],JPY_USD_forecast_ARIMA_ARFIMA.iloc[:,-2])))\n",
    "print((mean_absolute_percentage_error(JPY_USD_forecast_ARIMA_ARFIMA.iloc[:,-3],JPY_USD_forecast_ARIMA_ARFIMA.iloc[:,-2])))\n",
    "print(\"Błąd ARFIMA t+14\")\n",
    "print(np.sqrt(mean_squared_error(JPY_USD_forecast_ARIMA_ARFIMA.iloc[:,-3],JPY_USD_forecast_ARIMA_ARFIMA.iloc[:,-1])))\n",
    "print((mean_absolute_percentage_error(JPY_USD_forecast_ARIMA_ARFIMA.iloc[:,-3],JPY_USD_forecast_ARIMA_ARFIMA.iloc[:,-1])))\n",
    "print(\"Błąd RNN t+14\")\n",
    "print(np.sqrt(mean_squared_error(JPY_USD_forecast_RNN.iloc[:,-2],JPY_USD_forecast_RNN.iloc[:,-1])))\n",
    "print((mean_absolute_percentage_error(JPY_USD_forecast_RNN.iloc[:,-2],JPY_USD_forecast_RNN.iloc[:,-1])))\n",
    "print(\"Błąd LSTM t+14\")\n",
    "print(np.sqrt(mean_squared_error(JPY_USD_forecast_LSTM.iloc[:,-2],JPY_USD_forecast_LSTM.iloc[:,-1])))\n",
    "print((mean_absolute_percentage_error(JPY_USD_forecast_LSTM.iloc[:,-2],JPY_USD_forecast_LSTM.iloc[:,-1])))\n",
    "print(\"Błąd GRU t+14\")\n",
    "print(np.sqrt(mean_squared_error(JPY_USD_forecast_GRU.iloc[:,-2],JPY_USD_forecast_GRU.iloc[:,-1])))\n",
    "print((mean_absolute_percentage_error(JPY_USD_forecast_GRU.iloc[:,-2],JPY_USD_forecast_GRU.iloc[:,-1])))"
   ]
  },
  {
   "cell_type": "markdown",
   "id": "75523d6b",
   "metadata": {},
   "source": [
    "## Test Diebolda-Mariano"
   ]
  },
  {
   "cell_type": "markdown",
   "id": "3313ec76",
   "metadata": {},
   "source": [
    "### Modele ukierunkowane na długą pamięć vs zwykle"
   ]
  },
  {
   "cell_type": "code",
   "execution_count": 205,
   "id": "eecf6e64",
   "metadata": {},
   "outputs": [
    {
     "name": "stdout",
     "output_type": "stream",
     "text": [
      "ARIMA VS ARFIMA - 1 DZIEŃ dm_return(DM=-13.498490521385898, p_value=6.001383695301361e-34)\n",
      "ARIMA VS ARFIMA - 7 DNI dm_return(DM=-5.899542703261482, p_value=8.339170016650867e-09)\n",
      "ARIMA VS ARFIMA - 14 DNI dm_return(DM=-3.7617380523740422, p_value=0.00019657448171125712)\n",
      "RNN VS LSTM - 1 DZIEŃ dm_return(DM=0.363046432792318, p_value=0.7167809280443569)\n",
      "RNN VS LSTM - 7 DNI dm_return(DM=0.5919369303198289, p_value=0.5542602952707826)\n",
      "RNN VS LSTM - 14 DNI dm_return(DM=-0.2977733452829793, p_value=0.7660460410289733)\n",
      "RNN VS GRU - 1 DZIEŃ dm_return(DM=-0.08339278333432969, p_value=0.9335850678397137)\n",
      "RNN VS GRU - 7 DNI dm_return(DM=-0.18686454988382314, p_value=0.8518709406791465)\n",
      "RNN VS GRU - 14 DNI dm_return(DM=0.9179831826998359, p_value=0.359235521698703)\n"
     ]
    }
   ],
   "source": [
    "#ARIMA VS ARFIMA\n",
    "print(\"ARIMA VS ARFIMA - 1 DZIEŃ\",dm_test(BTC_USD_forecast_ARIMA_ARFIMA.iloc[:,1],BTC_USD_forecast_ARIMA_ARFIMA.iloc[:,2],BTC_USD_forecast_ARIMA_ARFIMA.iloc[:,3],crit='MAPE',h=1))\n",
    "print(\"ARIMA VS ARFIMA - 7 DNI\",dm_test(BTC_USD_forecast_ARIMA_ARFIMA.iloc[:,19],BTC_USD_forecast_ARIMA_ARFIMA.iloc[:,20],BTC_USD_forecast_ARIMA_ARFIMA.iloc[:,21],crit='MAPE',h=7))\n",
    "print(\"ARIMA VS ARFIMA - 14 DNI\",dm_test(BTC_USD_forecast_ARIMA_ARFIMA.iloc[:,-3],BTC_USD_forecast_ARIMA_ARFIMA.iloc[:,-2],BTC_USD_forecast_ARIMA_ARFIMA.iloc[:,-1],crit='MAPE',h=14))\n",
    "\n",
    "#RNN VS LSTM\n",
    "print(\"RNN VS LSTM - 1 DZIEŃ\",dm_test(BTC_USD_forecast_RNN.iloc[:,1],BTC_USD_forecast_RNN.iloc[:,2],BTC_USD_forecast_LSTM.iloc[:,2],crit='MAPE',h=1))\n",
    "print(\"RNN VS LSTM - 7 DNI\",dm_test(BTC_USD_forecast_RNN.iloc[:,13],BTC_USD_forecast_RNN.iloc[:,14],BTC_USD_forecast_LSTM.iloc[:,14],crit='MAPE',h=7))\n",
    "print(\"RNN VS LSTM - 14 DNI\",dm_test(BTC_USD_forecast_RNN.iloc[:,-2],BTC_USD_forecast_RNN.iloc[:,-1],BTC_USD_forecast_LSTM.iloc[:,-1],crit='MAPE',h=14))\n",
    "\n",
    "#RNN VS GRU\n",
    "print(\"RNN VS GRU - 1 DZIEŃ\",dm_test(BTC_USD_forecast_RNN.iloc[:,1],BTC_USD_forecast_RNN.iloc[:,2],BTC_USD_forecast_GRU.iloc[:,2],crit='MAPE',h=1))\n",
    "print(\"RNN VS GRU - 7 DNI\",dm_test(BTC_USD_forecast_RNN.iloc[:,13],BTC_USD_forecast_RNN.iloc[:,14],BTC_USD_forecast_GRU.iloc[:,14],crit='MAPE',h=7))\n",
    "print(\"RNN VS GRU - 14 DNI\",dm_test(BTC_USD_forecast_RNN.iloc[:,-2],BTC_USD_forecast_RNN.iloc[:,-1],BTC_USD_forecast_GRU.iloc[:,-1],crit='MAPE',h=14))\n"
   ]
  },
  {
   "cell_type": "code",
   "execution_count": 206,
   "id": "c9df6a7c",
   "metadata": {},
   "outputs": [
    {
     "name": "stdout",
     "output_type": "stream",
     "text": [
      "ARIMA VS ARFIMA - 1 DZIEŃ dm_return(DM=-10.50760663349497, p_value=9.870148844430243e-23)\n",
      "ARIMA VS ARFIMA - 7 DNI dm_return(DM=-12.48656195096498, p_value=5.020744927461121e-30)\n",
      "ARIMA VS ARFIMA - 14 DNI dm_return(DM=-9.622213931447144, p_value=1.1225306861241794e-19)\n",
      "RNN VS LSTM - 1 DZIEŃ dm_return(DM=-0.3679644057217063, p_value=0.7131136523291377)\n",
      "RNN VS LSTM - 7 DNI dm_return(DM=-1.7506309037591314, p_value=0.08085194151455916)\n",
      "RNN VS LSTM - 14 DNI dm_return(DM=-0.2534903498525519, p_value=0.8000324295579642)\n",
      "RNN VS GRU - 1 DZIEŃ dm_return(DM=-0.8569207655166162, p_value=0.39205247832912504)\n",
      "RNN VS GRU - 7 DNI dm_return(DM=-1.9851141986719554, p_value=0.0478819425774101)\n",
      "RNN VS GRU - 14 DNI dm_return(DM=-0.05802751112675043, p_value=0.9537585560726008)\n"
     ]
    }
   ],
   "source": [
    "#ARIMA VS ARFIMA\n",
    "print(\"ARIMA VS ARFIMA - 1 DZIEŃ\",dm_test(DOGE_USD_forecast_ARIMA_ARFIMA.iloc[:,1],DOGE_USD_forecast_ARIMA_ARFIMA.iloc[:,2],DOGE_USD_forecast_ARIMA_ARFIMA.iloc[:,3],crit='MAPE',h=1))\n",
    "print(\"ARIMA VS ARFIMA - 7 DNI\",dm_test(DOGE_USD_forecast_ARIMA_ARFIMA.iloc[:,19],DOGE_USD_forecast_ARIMA_ARFIMA.iloc[:,20],DOGE_USD_forecast_ARIMA_ARFIMA.iloc[:,21],crit='MAPE',h=7))\n",
    "print(\"ARIMA VS ARFIMA - 14 DNI\",dm_test(DOGE_USD_forecast_ARIMA_ARFIMA.iloc[:,-3],DOGE_USD_forecast_ARIMA_ARFIMA.iloc[:,-2],DOGE_USD_forecast_ARIMA_ARFIMA.iloc[:,-1],crit='MAPE',h=14))\n",
    "\n",
    "#RNN VS LSTM\n",
    "print(\"RNN VS LSTM - 1 DZIEŃ\",dm_test(DOGE_USD_forecast_RNN.iloc[:,1],DOGE_USD_forecast_RNN.iloc[:,2],DOGE_USD_forecast_LSTM.iloc[:,2],crit='MAPE',h=1))\n",
    "print(\"RNN VS LSTM - 7 DNI\",dm_test(DOGE_USD_forecast_RNN.iloc[:,13],DOGE_USD_forecast_RNN.iloc[:,14],DOGE_USD_forecast_LSTM.iloc[:,14],crit='MAPE',h=7))\n",
    "print(\"RNN VS LSTM - 14 DNI\",dm_test(DOGE_USD_forecast_RNN.iloc[:,-2],DOGE_USD_forecast_RNN.iloc[:,-1],DOGE_USD_forecast_LSTM.iloc[:,-1],crit='MAPE',h=14))\n",
    "\n",
    "#RNN VS GRU\n",
    "print(\"RNN VS GRU - 1 DZIEŃ\",dm_test(DOGE_USD_forecast_RNN.iloc[:,1],DOGE_USD_forecast_RNN.iloc[:,2],DOGE_USD_forecast_GRU.iloc[:,2],crit='MAPE',h=1))\n",
    "print(\"RNN VS GRU - 7 DNI\",dm_test(DOGE_USD_forecast_RNN.iloc[:,13],DOGE_USD_forecast_RNN.iloc[:,14],DOGE_USD_forecast_GRU.iloc[:,14],crit='MAPE',h=7))\n",
    "print(\"RNN VS GRU - 14 DNI\",dm_test(DOGE_USD_forecast_RNN.iloc[:,-2],DOGE_USD_forecast_RNN.iloc[:,-1],DOGE_USD_forecast_GRU.iloc[:,-1],crit='MAPE',h=14))\n"
   ]
  },
  {
   "cell_type": "code",
   "execution_count": 207,
   "id": "ce373295",
   "metadata": {},
   "outputs": [
    {
     "name": "stdout",
     "output_type": "stream",
     "text": [
      "ARIMA VS ARFIMA - 1 DZIEŃ dm_return(DM=-6.689901575292562, p_value=8.442051678822192e-11)\n",
      "ARIMA VS ARFIMA - 7 DNI dm_return(DM=-7.761797188729564, p_value=8.553717829118144e-14)\n",
      "ARIMA VS ARFIMA - 14 DNI dm_return(DM=-6.535378059638839, p_value=2.1441769272234737e-10)\n",
      "RNN VS LSTM - 1 DZIEŃ dm_return(DM=-0.6250702530063843, p_value=0.5323165963261718)\n",
      "RNN VS LSTM - 7 DNI dm_return(DM=0.8942830311865223, p_value=0.3717613947149475)\n",
      "RNN VS LSTM - 14 DNI dm_return(DM=0.8089294265835628, p_value=0.41908415458944737)\n",
      "RNN VS GRU - 1 DZIEŃ dm_return(DM=-1.998642441670693, p_value=0.046390345601421135)\n",
      "RNN VS GRU - 7 DNI dm_return(DM=1.6572325608912264, p_value=0.0983340579181033)\n",
      "RNN VS GRU - 14 DNI dm_return(DM=1.3628071408109264, p_value=0.1737857909746603)\n"
     ]
    }
   ],
   "source": [
    "#ARIMA VS ARFIMA\n",
    "print(\"ARIMA VS ARFIMA - 1 DZIEŃ\",dm_test(ETH_USD_forecast_ARIMA_ARFIMA.iloc[:,1],ETH_USD_forecast_ARIMA_ARFIMA.iloc[:,2],ETH_USD_forecast_ARIMA_ARFIMA.iloc[:,3],crit='MAPE',h=1))\n",
    "print(\"ARIMA VS ARFIMA - 7 DNI\",dm_test(ETH_USD_forecast_ARIMA_ARFIMA.iloc[:,19],ETH_USD_forecast_ARIMA_ARFIMA.iloc[:,20],ETH_USD_forecast_ARIMA_ARFIMA.iloc[:,21],crit='MAPE',h=7))\n",
    "print(\"ARIMA VS ARFIMA - 14 DNI\",dm_test(ETH_USD_forecast_ARIMA_ARFIMA.iloc[:,-3],ETH_USD_forecast_ARIMA_ARFIMA.iloc[:,-2],ETH_USD_forecast_ARIMA_ARFIMA.iloc[:,-1],crit='MAPE',h=14))\n",
    "\n",
    "#RNN VS LSTM\n",
    "print(\"RNN VS LSTM - 1 DZIEŃ\",dm_test(ETH_USD_forecast_RNN.iloc[:,1],ETH_USD_forecast_RNN.iloc[:,2],ETH_USD_forecast_LSTM.iloc[:,2],crit='MAPE',h=1))\n",
    "print(\"RNN VS LSTM - 7 DNI\",dm_test(ETH_USD_forecast_RNN.iloc[:,13],ETH_USD_forecast_RNN.iloc[:,14],ETH_USD_forecast_LSTM.iloc[:,14],crit='MAPE',h=7))\n",
    "print(\"RNN VS LSTM - 14 DNI\",dm_test(ETH_USD_forecast_RNN.iloc[:,-2],ETH_USD_forecast_RNN.iloc[:,-1],ETH_USD_forecast_LSTM.iloc[:,-1],crit='MAPE',h=14))\n",
    "\n",
    "#RNN VS GRU\n",
    "print(\"RNN VS GRU - 1 DZIEŃ\",dm_test(ETH_USD_forecast_RNN.iloc[:,1],ETH_USD_forecast_RNN.iloc[:,2],ETH_USD_forecast_GRU.iloc[:,2],crit='MAPE',h=1))\n",
    "print(\"RNN VS GRU - 7 DNI\",dm_test(ETH_USD_forecast_RNN.iloc[:,13],ETH_USD_forecast_RNN.iloc[:,14],ETH_USD_forecast_GRU.iloc[:,14],crit='MAPE',h=7))\n",
    "print(\"RNN VS GRU - 14 DNI\",dm_test(ETH_USD_forecast_RNN.iloc[:,-2],ETH_USD_forecast_RNN.iloc[:,-1],ETH_USD_forecast_GRU.iloc[:,-1],crit='MAPE',h=14))\n"
   ]
  },
  {
   "cell_type": "code",
   "execution_count": 208,
   "id": "755dbde1",
   "metadata": {},
   "outputs": [
    {
     "name": "stdout",
     "output_type": "stream",
     "text": [
      "ARIMA VS ARFIMA - 1 DZIEŃ dm_return(DM=-4.684068108899724, p_value=3.977678251445669e-06)\n",
      "ARIMA VS ARFIMA - 7 DNI dm_return(DM=-2.022047244909275, p_value=0.043902534165865474)\n",
      "ARIMA VS ARFIMA - 14 DNI dm_return(DM=-0.9106705874014666, p_value=0.3630716175446942)\n",
      "RNN VS LSTM - 1 DZIEŃ dm_return(DM=0.8246820856089355, p_value=0.4100921884693379)\n",
      "RNN VS LSTM - 7 DNI dm_return(DM=0.5437599443448751, p_value=0.5869395534290179)\n",
      "RNN VS LSTM - 14 DNI dm_return(DM=0.4349444828960524, p_value=0.6638604788870006)\n",
      "RNN VS GRU - 1 DZIEŃ dm_return(DM=0.31759078818720404, p_value=0.7509774651787139)\n",
      "RNN VS GRU - 7 DNI dm_return(DM=0.47800835593219254, p_value=0.6329311961392678)\n",
      "RNN VS GRU - 14 DNI dm_return(DM=1.002570798405493, p_value=0.31673399390180895)\n"
     ]
    }
   ],
   "source": [
    "#ARIMA VS ARFIMA\n",
    "print(\"ARIMA VS ARFIMA - 1 DZIEŃ\",dm_test(LTC_USD_forecast_ARIMA_ARFIMA.iloc[:,1],LTC_USD_forecast_ARIMA_ARFIMA.iloc[:,2],LTC_USD_forecast_ARIMA_ARFIMA.iloc[:,3],crit='MAPE',h=1))\n",
    "print(\"ARIMA VS ARFIMA - 7 DNI\",dm_test(LTC_USD_forecast_ARIMA_ARFIMA.iloc[:,19],LTC_USD_forecast_ARIMA_ARFIMA.iloc[:,20],LTC_USD_forecast_ARIMA_ARFIMA.iloc[:,21],crit='MAPE',h=7))\n",
    "print(\"ARIMA VS ARFIMA - 14 DNI\",dm_test(LTC_USD_forecast_ARIMA_ARFIMA.iloc[:,-3],LTC_USD_forecast_ARIMA_ARFIMA.iloc[:,-2],LTC_USD_forecast_ARIMA_ARFIMA.iloc[:,-1],crit='MAPE',h=14))\n",
    "\n",
    "#RNN VS LSTM\n",
    "print(\"RNN VS LSTM - 1 DZIEŃ\",dm_test(LTC_USD_forecast_RNN.iloc[:,1],LTC_USD_forecast_RNN.iloc[:,2],LTC_USD_forecast_LSTM.iloc[:,2],crit='MAPE',h=1))\n",
    "print(\"RNN VS LSTM - 7 DNI\",dm_test(LTC_USD_forecast_RNN.iloc[:,13],LTC_USD_forecast_RNN.iloc[:,14],LTC_USD_forecast_LSTM.iloc[:,14],crit='MAPE',h=7))\n",
    "print(\"RNN VS LSTM - 14 DNI\",dm_test(LTC_USD_forecast_RNN.iloc[:,-2],LTC_USD_forecast_RNN.iloc[:,-1],LTC_USD_forecast_LSTM.iloc[:,-1],crit='MAPE',h=14))\n",
    "\n",
    "#RNN VS GRU\n",
    "print(\"RNN VS GRU - 1 DZIEŃ\",dm_test(LTC_USD_forecast_RNN.iloc[:,1],LTC_USD_forecast_RNN.iloc[:,2],LTC_USD_forecast_GRU.iloc[:,2],crit='MAPE',h=1))\n",
    "print(\"RNN VS GRU - 7 DNI\",dm_test(LTC_USD_forecast_RNN.iloc[:,13],LTC_USD_forecast_RNN.iloc[:,14],LTC_USD_forecast_GRU.iloc[:,14],crit='MAPE',h=7))\n",
    "print(\"RNN VS GRU - 14 DNI\",dm_test(LTC_USD_forecast_RNN.iloc[:,-2],LTC_USD_forecast_RNN.iloc[:,-1],LTC_USD_forecast_GRU.iloc[:,-1],crit='MAPE',h=14))\n"
   ]
  },
  {
   "cell_type": "code",
   "execution_count": 209,
   "id": "acddb867",
   "metadata": {},
   "outputs": [
    {
     "name": "stdout",
     "output_type": "stream",
     "text": [
      "ARIMA VS ARFIMA - 1 DZIEŃ dm_return(DM=-5.591678536556512, p_value=4.421080951763199e-08)\n",
      "ARIMA VS ARFIMA - 7 DNI dm_return(DM=-1.9699385915371457, p_value=0.049603138113336706)\n",
      "ARIMA VS ARFIMA - 14 DNI dm_return(DM=-0.5026713060592634, p_value=0.615499369232215)\n",
      "RNN VS LSTM - 1 DZIEŃ dm_return(DM=0.4312173086765947, p_value=0.6665656327212601)\n",
      "RNN VS LSTM - 7 DNI dm_return(DM=0.5121840409705127, p_value=0.608832829228657)\n",
      "RNN VS LSTM - 14 DNI dm_return(DM=0.8644405685173884, p_value=0.38791521129128714)\n",
      "RNN VS GRU - 1 DZIEŃ dm_return(DM=0.30200562742185044, p_value=0.7628202516241692)\n",
      "RNN VS GRU - 7 DNI dm_return(DM=-0.5865490575250093, p_value=0.5578701736520144)\n",
      "RNN VS GRU - 14 DNI dm_return(DM=-1.376046680761647, p_value=0.16965318250048045)\n"
     ]
    }
   ],
   "source": [
    "#ARIMA VS ARFIMA\n",
    "print(\"ARIMA VS ARFIMA - 1 DZIEŃ\",dm_test(XRP_USD_forecast_ARIMA_ARFIMA.iloc[:,1],XRP_USD_forecast_ARIMA_ARFIMA.iloc[:,2],XRP_USD_forecast_ARIMA_ARFIMA.iloc[:,3],crit='MAPE',h=1))\n",
    "print(\"ARIMA VS ARFIMA - 7 DNI\",dm_test(XRP_USD_forecast_ARIMA_ARFIMA.iloc[:,19],XRP_USD_forecast_ARIMA_ARFIMA.iloc[:,20],XRP_USD_forecast_ARIMA_ARFIMA.iloc[:,21],crit='MAPE',h=7))\n",
    "print(\"ARIMA VS ARFIMA - 14 DNI\",dm_test(XRP_USD_forecast_ARIMA_ARFIMA.iloc[:,-3],XRP_USD_forecast_ARIMA_ARFIMA.iloc[:,-2],XRP_USD_forecast_ARIMA_ARFIMA.iloc[:,-1],crit='MAPE',h=14))\n",
    "\n",
    "#RNN VS LSTM\n",
    "print(\"RNN VS LSTM - 1 DZIEŃ\",dm_test(XRP_USD_forecast_RNN.iloc[:,1],XRP_USD_forecast_RNN.iloc[:,2],XRP_USD_forecast_LSTM.iloc[:,2],crit='MAPE',h=1))\n",
    "print(\"RNN VS LSTM - 7 DNI\",dm_test(XRP_USD_forecast_RNN.iloc[:,13],XRP_USD_forecast_RNN.iloc[:,14],XRP_USD_forecast_LSTM.iloc[:,14],crit='MAPE',h=7))\n",
    "print(\"RNN VS LSTM - 14 DNI\",dm_test(XRP_USD_forecast_RNN.iloc[:,-2],XRP_USD_forecast_RNN.iloc[:,-1],XRP_USD_forecast_LSTM.iloc[:,-1],crit='MAPE',h=14))\n",
    "\n",
    "#RNN VS GRU\n",
    "print(\"RNN VS GRU - 1 DZIEŃ\",dm_test(XRP_USD_forecast_RNN.iloc[:,1],XRP_USD_forecast_RNN.iloc[:,2],XRP_USD_forecast_GRU.iloc[:,2],crit='MAPE',h=1))\n",
    "print(\"RNN VS GRU - 7 DNI\",dm_test(XRP_USD_forecast_RNN.iloc[:,13],XRP_USD_forecast_RNN.iloc[:,14],XRP_USD_forecast_GRU.iloc[:,14],crit='MAPE',h=7))\n",
    "print(\"RNN VS GRU - 14 DNI\",dm_test(XRP_USD_forecast_RNN.iloc[:,-2],XRP_USD_forecast_RNN.iloc[:,-1],XRP_USD_forecast_GRU.iloc[:,-1],crit='MAPE',h=14))\n"
   ]
  },
  {
   "cell_type": "code",
   "execution_count": 210,
   "id": "24edd499",
   "metadata": {},
   "outputs": [
    {
     "name": "stdout",
     "output_type": "stream",
     "text": [
      "ARIMA VS ARFIMA - 1 DZIEŃ dm_return(DM=-3.1957653568816498, p_value=0.0015682702761676335)\n",
      "ARIMA VS ARFIMA - 7 DNI dm_return(DM=-2.6095101634642464, p_value=0.009596812588229179)\n",
      "ARIMA VS ARFIMA - 14 DNI dm_return(DM=-1.4062516739287203, p_value=0.16085266810782994)\n",
      "RNN VS LSTM - 1 DZIEŃ dm_return(DM=0.13023627536138405, p_value=0.8964809798945641)\n",
      "RNN VS LSTM - 7 DNI dm_return(DM=0.530897611081816, p_value=0.5959464393708931)\n",
      "RNN VS LSTM - 14 DNI dm_return(DM=1.0956235697777892, p_value=0.2742652265330194)\n",
      "RNN VS GRU - 1 DZIEŃ dm_return(DM=0.21933956437118157, p_value=0.8265589718900184)\n",
      "RNN VS GRU - 7 DNI dm_return(DM=0.5316287161617459, p_value=0.5954406061463265)\n",
      "RNN VS GRU - 14 DNI dm_return(DM=1.0797481889297265, p_value=0.2812626744761346)\n"
     ]
    }
   ],
   "source": [
    "#ARIMA VS ARFIMA\n",
    "print(\"ARIMA VS ARFIMA - 1 DZIEŃ\",dm_test(AUD_USD_forecast_ARIMA_ARFIMA.iloc[:,1],AUD_USD_forecast_ARIMA_ARFIMA.iloc[:,2],AUD_USD_forecast_ARIMA_ARFIMA.iloc[:,3],crit='MAPE',h=1))\n",
    "print(\"ARIMA VS ARFIMA - 7 DNI\",dm_test(AUD_USD_forecast_ARIMA_ARFIMA.iloc[:,19],AUD_USD_forecast_ARIMA_ARFIMA.iloc[:,20],AUD_USD_forecast_ARIMA_ARFIMA.iloc[:,21],crit='MAPE',h=7))\n",
    "print(\"ARIMA VS ARFIMA - 14 DNI\",dm_test(AUD_USD_forecast_ARIMA_ARFIMA.iloc[:,-3],AUD_USD_forecast_ARIMA_ARFIMA.iloc[:,-2],AUD_USD_forecast_ARIMA_ARFIMA.iloc[:,-1],crit='MAPE',h=14))\n",
    "\n",
    "#RNN VS LSTM\n",
    "print(\"RNN VS LSTM - 1 DZIEŃ\",dm_test(AUD_USD_forecast_RNN.iloc[:,1],AUD_USD_forecast_RNN.iloc[:,2],AUD_USD_forecast_LSTM.iloc[:,2],crit='MAPE',h=1))\n",
    "print(\"RNN VS LSTM - 7 DNI\",dm_test(AUD_USD_forecast_RNN.iloc[:,13],AUD_USD_forecast_RNN.iloc[:,14],AUD_USD_forecast_LSTM.iloc[:,14],crit='MAPE',h=7))\n",
    "print(\"RNN VS LSTM - 14 DNI\",dm_test(AUD_USD_forecast_RNN.iloc[:,-2],AUD_USD_forecast_RNN.iloc[:,-1],AUD_USD_forecast_LSTM.iloc[:,-1],crit='MAPE',h=14))\n",
    "\n",
    "#RNN VS GRU\n",
    "print(\"RNN VS GRU - 1 DZIEŃ\",dm_test(AUD_USD_forecast_RNN.iloc[:,1],AUD_USD_forecast_RNN.iloc[:,2],AUD_USD_forecast_GRU.iloc[:,2],crit='MAPE',h=1))\n",
    "print(\"RNN VS GRU - 7 DNI\",dm_test(AUD_USD_forecast_RNN.iloc[:,13],AUD_USD_forecast_RNN.iloc[:,14],AUD_USD_forecast_GRU.iloc[:,14],crit='MAPE',h=7))\n",
    "print(\"RNN VS GRU - 14 DNI\",dm_test(AUD_USD_forecast_RNN.iloc[:,-2],AUD_USD_forecast_RNN.iloc[:,-1],AUD_USD_forecast_GRU.iloc[:,-1],crit='MAPE',h=14))\n"
   ]
  },
  {
   "cell_type": "code",
   "execution_count": 211,
   "id": "3eb52e4c",
   "metadata": {},
   "outputs": [
    {
     "name": "stdout",
     "output_type": "stream",
     "text": [
      "ARIMA VS ARFIMA - 1 DZIEŃ dm_return(DM=-0.5430600600856235, p_value=0.5875573044697475)\n",
      "ARIMA VS ARFIMA - 7 DNI dm_return(DM=-0.39265004667839076, p_value=0.6949021749570958)\n",
      "ARIMA VS ARFIMA - 14 DNI dm_return(DM=-0.32476164224737775, p_value=0.7456246495019091)\n",
      "RNN VS LSTM - 1 DZIEŃ dm_return(DM=0.042377081022338586, p_value=0.9662308756070087)\n",
      "RNN VS LSTM - 7 DNI dm_return(DM=0.38709818173172617, p_value=0.6990026360998005)\n",
      "RNN VS LSTM - 14 DNI dm_return(DM=0.21782703887984703, p_value=0.8277360564003566)\n",
      "RNN VS GRU - 1 DZIEŃ dm_return(DM=0.23107544631237123, p_value=0.8174393333042421)\n",
      "RNN VS GRU - 7 DNI dm_return(DM=0.503297811636093, p_value=0.6151843186964796)\n",
      "RNN VS GRU - 14 DNI dm_return(DM=0.19467561026020092, p_value=0.8458001142719946)\n"
     ]
    }
   ],
   "source": [
    "#ARIMA VS ARFIMA\n",
    "print(\"ARIMA VS ARFIMA - 1 DZIEŃ\",dm_test(CAD_USD_forecast_ARIMA_ARFIMA.iloc[:,1],CAD_USD_forecast_ARIMA_ARFIMA.iloc[:,2],CAD_USD_forecast_ARIMA_ARFIMA.iloc[:,3],crit='MAPE',h=1))\n",
    "print(\"ARIMA VS ARFIMA - 7 DNI\",dm_test(CAD_USD_forecast_ARIMA_ARFIMA.iloc[:,19],CAD_USD_forecast_ARIMA_ARFIMA.iloc[:,20],CAD_USD_forecast_ARIMA_ARFIMA.iloc[:,21],crit='MAPE',h=7))\n",
    "print(\"ARIMA VS ARFIMA - 14 DNI\",dm_test(CAD_USD_forecast_ARIMA_ARFIMA.iloc[:,-3],CAD_USD_forecast_ARIMA_ARFIMA.iloc[:,-2],CAD_USD_forecast_ARIMA_ARFIMA.iloc[:,-1],crit='MAPE',h=14))\n",
    "\n",
    "#RNN VS LSTM\n",
    "print(\"RNN VS LSTM - 1 DZIEŃ\",dm_test(CAD_USD_forecast_RNN.iloc[:,1],CAD_USD_forecast_RNN.iloc[:,2],CAD_USD_forecast_LSTM.iloc[:,2],crit='MAPE',h=1))\n",
    "print(\"RNN VS LSTM - 7 DNI\",dm_test(CAD_USD_forecast_RNN.iloc[:,13],CAD_USD_forecast_RNN.iloc[:,14],CAD_USD_forecast_LSTM.iloc[:,14],crit='MAPE',h=7))\n",
    "print(\"RNN VS LSTM - 14 DNI\",dm_test(CAD_USD_forecast_RNN.iloc[:,-2],CAD_USD_forecast_RNN.iloc[:,-1],CAD_USD_forecast_LSTM.iloc[:,-1],crit='MAPE',h=14))\n",
    "\n",
    "#RNN VS GRU\n",
    "print(\"RNN VS GRU - 1 DZIEŃ\",dm_test(CAD_USD_forecast_RNN.iloc[:,1],CAD_USD_forecast_RNN.iloc[:,2],CAD_USD_forecast_GRU.iloc[:,2],crit='MAPE',h=1))\n",
    "print(\"RNN VS GRU - 7 DNI\",dm_test(CAD_USD_forecast_RNN.iloc[:,13],CAD_USD_forecast_RNN.iloc[:,14],CAD_USD_forecast_GRU.iloc[:,14],crit='MAPE',h=7))\n",
    "print(\"RNN VS GRU - 14 DNI\",dm_test(CAD_USD_forecast_RNN.iloc[:,-2],CAD_USD_forecast_RNN.iloc[:,-1],CAD_USD_forecast_GRU.iloc[:,-1],crit='MAPE',h=14))\n"
   ]
  },
  {
   "cell_type": "code",
   "execution_count": 212,
   "id": "a8754482",
   "metadata": {},
   "outputs": [
    {
     "name": "stdout",
     "output_type": "stream",
     "text": [
      "ARIMA VS ARFIMA - 1 DZIEŃ dm_return(DM=-5.599729947196262, p_value=5.488052085483253e-08)\n",
      "ARIMA VS ARFIMA - 7 DNI dm_return(DM=-2.5856784641464676, p_value=0.010267865735536544)\n",
      "ARIMA VS ARFIMA - 14 DNI dm_return(DM=-1.3118847059791594, p_value=0.1907251280535673)\n",
      "RNN VS LSTM - 1 DZIEŃ dm_return(DM=1.667866406595175, p_value=0.09655546721435733)\n",
      "RNN VS LSTM - 7 DNI dm_return(DM=0.7266984809496142, p_value=0.46806949599135395)\n",
      "RNN VS LSTM - 14 DNI dm_return(DM=0.3209001308653035, p_value=0.7485458552320055)\n",
      "RNN VS GRU - 1 DZIEŃ dm_return(DM=0.7160163284625002, p_value=0.4746288235821279)\n",
      "RNN VS GRU - 7 DNI dm_return(DM=1.3402012124274982, p_value=0.18135898409831408)\n",
      "RNN VS GRU - 14 DNI dm_return(DM=1.862972203895423, p_value=0.06360252646617374)\n"
     ]
    }
   ],
   "source": [
    "#ARIMA VS ARFIMA\n",
    "print(\"ARIMA VS ARFIMA - 1 DZIEŃ\",dm_test(EUR_USD_forecast_ARIMA_ARFIMA.iloc[:,1],EUR_USD_forecast_ARIMA_ARFIMA.iloc[:,2],EUR_USD_forecast_ARIMA_ARFIMA.iloc[:,3],crit='MAPE',h=1))\n",
    "print(\"ARIMA VS ARFIMA - 7 DNI\",dm_test(EUR_USD_forecast_ARIMA_ARFIMA.iloc[:,19],EUR_USD_forecast_ARIMA_ARFIMA.iloc[:,20],EUR_USD_forecast_ARIMA_ARFIMA.iloc[:,21],crit='MAPE',h=7))\n",
    "print(\"ARIMA VS ARFIMA - 14 DNI\",dm_test(EUR_USD_forecast_ARIMA_ARFIMA.iloc[:,-3],EUR_USD_forecast_ARIMA_ARFIMA.iloc[:,-2],EUR_USD_forecast_ARIMA_ARFIMA.iloc[:,-1],crit='MAPE',h=14))\n",
    "\n",
    "#RNN VS LSTM\n",
    "print(\"RNN VS LSTM - 1 DZIEŃ\",dm_test(EUR_USD_forecast_RNN.iloc[:,1],EUR_USD_forecast_RNN.iloc[:,2],EUR_USD_forecast_LSTM.iloc[:,2],crit='MAPE',h=1))\n",
    "print(\"RNN VS LSTM - 7 DNI\",dm_test(EUR_USD_forecast_RNN.iloc[:,13],EUR_USD_forecast_RNN.iloc[:,14],EUR_USD_forecast_LSTM.iloc[:,14],crit='MAPE',h=7))\n",
    "print(\"RNN VS LSTM - 14 DNI\",dm_test(EUR_USD_forecast_RNN.iloc[:,-2],EUR_USD_forecast_RNN.iloc[:,-1],EUR_USD_forecast_LSTM.iloc[:,-1],crit='MAPE',h=14))\n",
    "\n",
    "#RNN VS GRU\n",
    "print(\"RNN VS GRU - 1 DZIEŃ\",dm_test(EUR_USD_forecast_RNN.iloc[:,1],EUR_USD_forecast_RNN.iloc[:,2],EUR_USD_forecast_GRU.iloc[:,2],crit='MAPE',h=1))\n",
    "print(\"RNN VS GRU - 7 DNI\",dm_test(EUR_USD_forecast_RNN.iloc[:,13],EUR_USD_forecast_RNN.iloc[:,14],EUR_USD_forecast_GRU.iloc[:,14],crit='MAPE',h=7))\n",
    "print(\"RNN VS GRU - 14 DNI\",dm_test(EUR_USD_forecast_RNN.iloc[:,-2],EUR_USD_forecast_RNN.iloc[:,-1],EUR_USD_forecast_GRU.iloc[:,-1],crit='MAPE',h=14))\n"
   ]
  },
  {
   "cell_type": "code",
   "execution_count": 213,
   "id": "86bc2247",
   "metadata": {},
   "outputs": [
    {
     "name": "stdout",
     "output_type": "stream",
     "text": [
      "ARIMA VS ARFIMA - 1 DZIEŃ dm_return(DM=-0.4889385309346309, p_value=0.6253005877711999)\n",
      "ARIMA VS ARFIMA - 7 DNI dm_return(DM=-1.0608563686752503, p_value=0.2897472527372587)\n",
      "ARIMA VS ARFIMA - 14 DNI dm_return(DM=-1.076841028358224, p_value=0.2825571618240511)\n",
      "RNN VS LSTM - 1 DZIEŃ dm_return(DM=-1.2654279259326282, p_value=0.20685958801538135)\n",
      "RNN VS LSTM - 7 DNI dm_return(DM=0.7655890149331616, p_value=0.44462068539024036)\n",
      "RNN VS LSTM - 14 DNI dm_return(DM=-0.43833533202513536, p_value=0.6615100119306502)\n",
      "RNN VS GRU - 1 DZIEŃ dm_return(DM=0.4505368449883905, p_value=0.6527017683627077)\n",
      "RNN VS GRU - 7 DNI dm_return(DM=0.8649580575115198, p_value=0.3878653316836722)\n",
      "RNN VS GRU - 14 DNI dm_return(DM=-0.3752069261692608, p_value=0.7078148461077687)\n"
     ]
    }
   ],
   "source": [
    "#ARIMA VS ARFIMA\n",
    "print(\"ARIMA VS ARFIMA - 1 DZIEŃ\",dm_test(GBP_USD_forecast_ARIMA_ARFIMA.iloc[:,1],GBP_USD_forecast_ARIMA_ARFIMA.iloc[:,2],GBP_USD_forecast_ARIMA_ARFIMA.iloc[:,3],crit='MAPE',h=1))\n",
    "print(\"ARIMA VS ARFIMA - 7 DNI\",dm_test(GBP_USD_forecast_ARIMA_ARFIMA.iloc[:,19],GBP_USD_forecast_ARIMA_ARFIMA.iloc[:,20],GBP_USD_forecast_ARIMA_ARFIMA.iloc[:,21],crit='MAPE',h=7))\n",
    "print(\"ARIMA VS ARFIMA - 14 DNI\",dm_test(GBP_USD_forecast_ARIMA_ARFIMA.iloc[:,-3],GBP_USD_forecast_ARIMA_ARFIMA.iloc[:,-2],GBP_USD_forecast_ARIMA_ARFIMA.iloc[:,-1],crit='MAPE',h=14))\n",
    "\n",
    "#RNN VS LSTM\n",
    "print(\"RNN VS LSTM - 1 DZIEŃ\",dm_test(GBP_USD_forecast_RNN.iloc[:,1],GBP_USD_forecast_RNN.iloc[:,2],GBP_USD_forecast_LSTM.iloc[:,2],crit='MAPE',h=1))\n",
    "print(\"RNN VS LSTM - 7 DNI\",dm_test(GBP_USD_forecast_RNN.iloc[:,13],GBP_USD_forecast_RNN.iloc[:,14],GBP_USD_forecast_LSTM.iloc[:,14],crit='MAPE',h=7))\n",
    "print(\"RNN VS LSTM - 14 DNI\",dm_test(GBP_USD_forecast_RNN.iloc[:,-2],GBP_USD_forecast_RNN.iloc[:,-1],GBP_USD_forecast_LSTM.iloc[:,-1],crit='MAPE',h=14))\n",
    "\n",
    "#RNN VS GRU\n",
    "print(\"RNN VS GRU - 1 DZIEŃ\",dm_test(GBP_USD_forecast_RNN.iloc[:,1],GBP_USD_forecast_RNN.iloc[:,2],GBP_USD_forecast_GRU.iloc[:,2],crit='MAPE',h=1))\n",
    "print(\"RNN VS GRU - 7 DNI\",dm_test(GBP_USD_forecast_RNN.iloc[:,13],GBP_USD_forecast_RNN.iloc[:,14],GBP_USD_forecast_GRU.iloc[:,14],crit='MAPE',h=7))\n",
    "print(\"RNN VS GRU - 14 DNI\",dm_test(GBP_USD_forecast_RNN.iloc[:,-2],GBP_USD_forecast_RNN.iloc[:,-1],GBP_USD_forecast_GRU.iloc[:,-1],crit='MAPE',h=14))\n"
   ]
  },
  {
   "cell_type": "code",
   "execution_count": 214,
   "id": "57df4f16",
   "metadata": {},
   "outputs": [
    {
     "name": "stdout",
     "output_type": "stream",
     "text": [
      "ARIMA VS ARFIMA - 1 DZIEŃ dm_return(DM=-0.6907575377000486, p_value=0.4903389101873252)\n",
      "ARIMA VS ARFIMA - 7 DNI dm_return(DM=-1.94678353994985, p_value=0.052645910927484156)\n",
      "ARIMA VS ARFIMA - 14 DNI dm_return(DM=-1.4612798118002648, p_value=0.14515549165133235)\n",
      "RNN VS LSTM - 1 DZIEŃ dm_return(DM=-1.316813875151025, p_value=0.1890694742007826)\n",
      "RNN VS LSTM - 7 DNI dm_return(DM=-2.5771690335018524, p_value=0.010517466734199519)\n",
      "RNN VS LSTM - 14 DNI dm_return(DM=2.047908507657872, p_value=0.04158137137606712)\n",
      "RNN VS GRU - 1 DZIEŃ dm_return(DM=1.5720527325832632, p_value=0.11716383544476892)\n",
      "RNN VS GRU - 7 DNI dm_return(DM=3.1390409054278017, p_value=0.0018920659219210595)\n",
      "RNN VS GRU - 14 DNI dm_return(DM=3.6593171167566556, p_value=0.00030662059862971515)\n"
     ]
    }
   ],
   "source": [
    "#ARIMA VS ARFIMA\n",
    "print(\"ARIMA VS ARFIMA - 1 DZIEŃ\",dm_test(JPY_USD_forecast_ARIMA_ARFIMA.iloc[:,1],JPY_USD_forecast_ARIMA_ARFIMA.iloc[:,2],JPY_USD_forecast_ARIMA_ARFIMA.iloc[:,3],crit='MAPE',h=1))\n",
    "print(\"ARIMA VS ARFIMA - 7 DNI\",dm_test(JPY_USD_forecast_ARIMA_ARFIMA.iloc[:,19],JPY_USD_forecast_ARIMA_ARFIMA.iloc[:,20],JPY_USD_forecast_ARIMA_ARFIMA.iloc[:,21],crit='MAPE',h=7))\n",
    "print(\"ARIMA VS ARFIMA - 14 DNI\",dm_test(JPY_USD_forecast_ARIMA_ARFIMA.iloc[:,-3],JPY_USD_forecast_ARIMA_ARFIMA.iloc[:,-2],JPY_USD_forecast_ARIMA_ARFIMA.iloc[:,-1],crit='MAPE',h=14))\n",
    "\n",
    "#RNN VS LSTM\n",
    "print(\"RNN VS LSTM - 1 DZIEŃ\",dm_test(JPY_USD_forecast_RNN.iloc[:,1],JPY_USD_forecast_RNN.iloc[:,2],JPY_USD_forecast_LSTM.iloc[:,2],crit='MAPE',h=1))\n",
    "print(\"RNN VS LSTM - 7 DNI\",dm_test(JPY_USD_forecast_RNN.iloc[:,13],JPY_USD_forecast_RNN.iloc[:,14],JPY_USD_forecast_LSTM.iloc[:,14],crit='MAPE',h=7))\n",
    "print(\"RNN VS LSTM - 14 DNI\",dm_test(JPY_USD_forecast_RNN.iloc[:,-2],JPY_USD_forecast_RNN.iloc[:,-1],JPY_USD_forecast_LSTM.iloc[:,-1],crit='MAPE',h=14))\n",
    "\n",
    "#RNN VS GRU\n",
    "print(\"RNN VS GRU - 1 DZIEŃ\",dm_test(JPY_USD_forecast_RNN.iloc[:,1],JPY_USD_forecast_RNN.iloc[:,2],JPY_USD_forecast_GRU.iloc[:,2],crit='MAPE',h=1))\n",
    "print(\"RNN VS GRU - 7 DNI\",dm_test(JPY_USD_forecast_RNN.iloc[:,13],JPY_USD_forecast_RNN.iloc[:,14],JPY_USD_forecast_GRU.iloc[:,14],crit='MAPE',h=7))\n",
    "print(\"RNN VS GRU - 14 DNI\",dm_test(JPY_USD_forecast_RNN.iloc[:,-2],JPY_USD_forecast_RNN.iloc[:,-1],JPY_USD_forecast_GRU.iloc[:,-1],crit='MAPE',h=14))\n"
   ]
  },
  {
   "cell_type": "markdown",
   "id": "81006740",
   "metadata": {},
   "source": [
    "### Różnice w modelach ukierunkowanych na długą pamięć"
   ]
  },
  {
   "cell_type": "code",
   "execution_count": 222,
   "id": "62d7819d",
   "metadata": {},
   "outputs": [
    {
     "name": "stdout",
     "output_type": "stream",
     "text": [
      "ARFIMA VS LSTM - 1 DZIEŃ dm_return(DM=13.455390655442377, p_value=8.86037899751006e-34)\n",
      "ARFIMA VS LSTM - 7 DNI dm_return(DM=6.138999159162058, p_value=2.172507974330344e-09)\n",
      "ARFIMA VS LSTM - 14 DNI dm_return(DM=3.99550778877623, p_value=7.814906700349416e-05)\n",
      "ARFIMA VS GRU - 1 DZIEŃ dm_return(DM=13.261724462980208, p_value=5.076270107451539e-33)\n",
      "ARFIMA VS GRU- 7 DNI dm_return(DM=6.022808012923936, p_value=4.194196997748538e-09)\n",
      "ARFIMA VS GRU- 14 DNI dm_return(DM=4.091324277122178, p_value=5.2848729686994936e-05)\n",
      "LSTM VS GRU - 1 DZIEŃ dm_return(DM=-0.8968025274546539, p_value=0.37041702805873344)\n",
      "LSTM VS GRU - 7 DNI dm_return(DM=-0.6829274306423981, p_value=0.49508711487170654)\n",
      "LSTM VS GRU - 14 DNI dm_return(DM=0.6215576821648433, p_value=0.5346218247610766)\n"
     ]
    }
   ],
   "source": [
    "#ARFIMA VS LSTM\n",
    "print(\"ARFIMA VS LSTM - 1 DZIEŃ\",dm_test(BTC_USD_forecast_ARIMA_ARFIMA.iloc[:,1],BTC_USD_forecast_ARIMA_ARFIMA.iloc[:,3],BTC_USD_forecast_LSTM.iloc[:,2],crit='MAPE',h=1))\n",
    "print(\"ARFIMA VS LSTM - 7 DNI\",dm_test(BTC_USD_forecast_ARIMA_ARFIMA.iloc[:,19],BTC_USD_forecast_ARIMA_ARFIMA.iloc[:,21],BTC_USD_forecast_LSTM.iloc[:,14],crit='MAPE',h=7))\n",
    "print(\"ARFIMA VS LSTM - 14 DNI\",dm_test(BTC_USD_forecast_ARIMA_ARFIMA.iloc[:,-3],BTC_USD_forecast_ARIMA_ARFIMA.iloc[:,-1],BTC_USD_forecast_LSTM.iloc[:,-1],crit='MAPE',h=14))\n",
    "\n",
    "#ARFIMA VS GRU\n",
    "print(\"ARFIMA VS GRU - 1 DZIEŃ\",dm_test(BTC_USD_forecast_ARIMA_ARFIMA.iloc[:,1],BTC_USD_forecast_ARIMA_ARFIMA.iloc[:,3],BTC_USD_forecast_GRU.iloc[:,2],crit='MAPE',h=1))\n",
    "print(\"ARFIMA VS GRU- 7 DNI\",dm_test(BTC_USD_forecast_ARIMA_ARFIMA.iloc[:,19],BTC_USD_forecast_ARIMA_ARFIMA.iloc[:,21],BTC_USD_forecast_GRU.iloc[:,14],crit='MAPE',h=7))\n",
    "print(\"ARFIMA VS GRU- 14 DNI\",dm_test(BTC_USD_forecast_ARIMA_ARFIMA.iloc[:,-3],BTC_USD_forecast_ARIMA_ARFIMA.iloc[:,-1],BTC_USD_forecast_GRU.iloc[:,-1],crit='MAPE',h=14))\n",
    "\n",
    "#LSTM VS GRU\n",
    "print(\"LSTM VS GRU - 1 DZIEŃ\",dm_test(BTC_USD_forecast_LSTM.iloc[:,1],BTC_USD_forecast_LSTM.iloc[:,2],BTC_USD_forecast_GRU.iloc[:,2],crit='MAPE',h=1))\n",
    "print(\"LSTM VS GRU - 7 DNI\",dm_test(BTC_USD_forecast_LSTM.iloc[:,13],BTC_USD_forecast_LSTM.iloc[:,14],BTC_USD_forecast_GRU.iloc[:,14],crit='MAPE',h=7))\n",
    "print(\"LSTM VS GRU - 14 DNI\",dm_test(BTC_USD_forecast_LSTM.iloc[:,-2],BTC_USD_forecast_LSTM.iloc[:,-1],BTC_USD_forecast_GRU.iloc[:,-1],crit='MAPE',h=14))\n"
   ]
  },
  {
   "cell_type": "code",
   "execution_count": 223,
   "id": "ec5801aa",
   "metadata": {},
   "outputs": [
    {
     "name": "stdout",
     "output_type": "stream",
     "text": [
      "ARFIMA VS LSTM - 1 DZIEŃ dm_return(DM=10.631413683997481, p_value=3.5947634898853267e-23)\n",
      "ARFIMA VS LSTM - 7 DNI dm_return(DM=12.484671565085788, p_value=5.104935243025639e-30)\n",
      "ARFIMA VS LSTM - 14 DNI dm_return(DM=9.626913645916881, p_value=1.0823662131922321e-19)\n",
      "ARFIMA VS GRU - 1 DZIEŃ dm_return(DM=10.636808186889821, p_value=3.4395185277060995e-23)\n",
      "ARFIMA VS GRU- 7 DNI dm_return(DM=12.482414324551055, p_value=5.207308430353835e-30)\n",
      "ARFIMA VS GRU- 14 DNI dm_return(DM=9.62856728903468, p_value=1.0685758046697319e-19)\n",
      "LSTM VS GRU - 1 DZIEŃ dm_return(DM=-0.7219873293062551, p_value=0.4707658107506132)\n",
      "LSTM VS GRU - 7 DNI dm_return(DM=-0.2736911204453547, p_value=0.7844772358831489)\n",
      "LSTM VS GRU - 14 DNI dm_return(DM=0.7196109608356271, p_value=0.472226329303262)\n"
     ]
    }
   ],
   "source": [
    "#ARFIMA VS LSTM\n",
    "print(\"ARFIMA VS LSTM - 1 DZIEŃ\",dm_test(DOGE_USD_forecast_ARIMA_ARFIMA.iloc[:,1],DOGE_USD_forecast_ARIMA_ARFIMA.iloc[:,3],DOGE_USD_forecast_LSTM.iloc[:,2],crit='MAPE',h=1))\n",
    "print(\"ARFIMA VS LSTM - 7 DNI\",dm_test(DOGE_USD_forecast_ARIMA_ARFIMA.iloc[:,19],DOGE_USD_forecast_ARIMA_ARFIMA.iloc[:,21],DOGE_USD_forecast_LSTM.iloc[:,14],crit='MAPE',h=7))\n",
    "print(\"ARFIMA VS LSTM - 14 DNI\",dm_test(DOGE_USD_forecast_ARIMA_ARFIMA.iloc[:,-3],DOGE_USD_forecast_ARIMA_ARFIMA.iloc[:,-1],DOGE_USD_forecast_LSTM.iloc[:,-1],crit='MAPE',h=14))\n",
    "\n",
    "#ARFIMA VS GRU\n",
    "print(\"ARFIMA VS GRU - 1 DZIEŃ\",dm_test(DOGE_USD_forecast_ARIMA_ARFIMA.iloc[:,1],DOGE_USD_forecast_ARIMA_ARFIMA.iloc[:,3],DOGE_USD_forecast_GRU.iloc[:,2],crit='MAPE',h=1))\n",
    "print(\"ARFIMA VS GRU- 7 DNI\",dm_test(DOGE_USD_forecast_ARIMA_ARFIMA.iloc[:,19],DOGE_USD_forecast_ARIMA_ARFIMA.iloc[:,21],DOGE_USD_forecast_GRU.iloc[:,14],crit='MAPE',h=7))\n",
    "print(\"ARFIMA VS GRU- 14 DNI\",dm_test(DOGE_USD_forecast_ARIMA_ARFIMA.iloc[:,-3],DOGE_USD_forecast_ARIMA_ARFIMA.iloc[:,-1],DOGE_USD_forecast_GRU.iloc[:,-1],crit='MAPE',h=14))\n",
    "\n",
    "#LSTM VS GRU\n",
    "print(\"LSTM VS GRU - 1 DZIEŃ\",dm_test(DOGE_USD_forecast_LSTM.iloc[:,1],DOGE_USD_forecast_LSTM.iloc[:,2],DOGE_USD_forecast_GRU.iloc[:,2],crit='MAPE',h=1))\n",
    "print(\"LSTM VS GRU - 7 DNI\",dm_test(DOGE_USD_forecast_LSTM.iloc[:,13],DOGE_USD_forecast_LSTM.iloc[:,14],DOGE_USD_forecast_GRU.iloc[:,14],crit='MAPE',h=7))\n",
    "print(\"LSTM VS GRU - 14 DNI\",dm_test(DOGE_USD_forecast_LSTM.iloc[:,-2],DOGE_USD_forecast_LSTM.iloc[:,-1],DOGE_USD_forecast_GRU.iloc[:,-1],crit='MAPE',h=14))\n"
   ]
  },
  {
   "cell_type": "code",
   "execution_count": 224,
   "id": "944b4e58",
   "metadata": {},
   "outputs": [
    {
     "name": "stdout",
     "output_type": "stream",
     "text": [
      "ARFIMA VS LSTM - 1 DZIEŃ dm_return(DM=6.909501603555785, p_value=2.1835240587931575e-11)\n",
      "ARFIMA VS LSTM - 7 DNI dm_return(DM=8.350742979195548, p_value=1.4374909894706515e-15)\n",
      "ARFIMA VS LSTM - 14 DNI dm_return(DM=7.888232169868802, p_value=3.6187691547391997e-14)\n",
      "ARFIMA VS GRU - 1 DZIEŃ dm_return(DM=6.961955267295797, p_value=1.57335011731874e-11)\n",
      "ARFIMA VS GRU- 7 DNI dm_return(DM=8.454108394926305, p_value=6.8762910737803e-16)\n",
      "ARFIMA VS GRU- 14 DNI dm_return(DM=8.041319688354053, p_value=1.2611091926799834e-14)\n",
      "LSTM VS GRU - 1 DZIEŃ dm_return(DM=-0.8907494124100841, p_value=0.37365199386562353)\n",
      "LSTM VS GRU - 7 DNI dm_return(DM=-0.7711056815126051, p_value=0.4411445405755944)\n",
      "LSTM VS GRU - 14 DNI dm_return(DM=-0.4893802486021985, p_value=0.6248672850751602)\n"
     ]
    }
   ],
   "source": [
    "#ARFIMA VS LSTM\n",
    "print(\"ARFIMA VS LSTM - 1 DZIEŃ\",dm_test(ETH_USD_forecast_ARIMA_ARFIMA.iloc[:,1],ETH_USD_forecast_ARIMA_ARFIMA.iloc[:,3],ETH_USD_forecast_LSTM.iloc[:,2],crit='MAPE',h=1))\n",
    "print(\"ARFIMA VS LSTM - 7 DNI\",dm_test(ETH_USD_forecast_ARIMA_ARFIMA.iloc[:,19],ETH_USD_forecast_ARIMA_ARFIMA.iloc[:,21],ETH_USD_forecast_LSTM.iloc[:,14],crit='MAPE',h=7))\n",
    "print(\"ARFIMA VS LSTM - 14 DNI\",dm_test(ETH_USD_forecast_ARIMA_ARFIMA.iloc[:,-3],ETH_USD_forecast_ARIMA_ARFIMA.iloc[:,-1],ETH_USD_forecast_LSTM.iloc[:,-1],crit='MAPE',h=14))\n",
    "\n",
    "#ARFIMA VS GRU\n",
    "print(\"ARFIMA VS GRU - 1 DZIEŃ\",dm_test(ETH_USD_forecast_ARIMA_ARFIMA.iloc[:,1],ETH_USD_forecast_ARIMA_ARFIMA.iloc[:,3],ETH_USD_forecast_GRU.iloc[:,2],crit='MAPE',h=1))\n",
    "print(\"ARFIMA VS GRU- 7 DNI\",dm_test(ETH_USD_forecast_ARIMA_ARFIMA.iloc[:,19],ETH_USD_forecast_ARIMA_ARFIMA.iloc[:,21],ETH_USD_forecast_GRU.iloc[:,14],crit='MAPE',h=7))\n",
    "print(\"ARFIMA VS GRU- 14 DNI\",dm_test(ETH_USD_forecast_ARIMA_ARFIMA.iloc[:,-3],ETH_USD_forecast_ARIMA_ARFIMA.iloc[:,-1],ETH_USD_forecast_GRU.iloc[:,-1],crit='MAPE',h=14))\n",
    "\n",
    "#LSTM VS GRU\n",
    "print(\"LSTM VS GRU - 1 DZIEŃ\",dm_test(ETH_USD_forecast_LSTM.iloc[:,1],ETH_USD_forecast_LSTM.iloc[:,2],ETH_USD_forecast_GRU.iloc[:,2],crit='MAPE',h=1))\n",
    "print(\"LSTM VS GRU - 7 DNI\",dm_test(ETH_USD_forecast_LSTM.iloc[:,13],ETH_USD_forecast_LSTM.iloc[:,14],ETH_USD_forecast_GRU.iloc[:,14],crit='MAPE',h=7))\n",
    "print(\"LSTM VS GRU - 14 DNI\",dm_test(ETH_USD_forecast_LSTM.iloc[:,-2],ETH_USD_forecast_LSTM.iloc[:,-1],ETH_USD_forecast_GRU.iloc[:,-1],crit='MAPE',h=14))\n"
   ]
  },
  {
   "cell_type": "code",
   "execution_count": 225,
   "id": "bb330ea0",
   "metadata": {},
   "outputs": [
    {
     "name": "stdout",
     "output_type": "stream",
     "text": [
      "ARFIMA VS LSTM - 1 DZIEŃ dm_return(DM=5.218241792309206, p_value=3.040499019442371e-07)\n",
      "ARFIMA VS LSTM - 7 DNI dm_return(DM=2.6053338839905846, p_value=0.009554981783974972)\n",
      "ARFIMA VS LSTM - 14 DNI dm_return(DM=1.3596767298181396, p_value=0.17477387065490987)\n",
      "ARFIMA VS GRU - 1 DZIEŃ dm_return(DM=5.221058724115101, p_value=2.997785168494615e-07)\n",
      "ARFIMA VS GRU- 7 DNI dm_return(DM=2.5211220512423034, p_value=0.012124558356497273)\n",
      "ARFIMA VS GRU- 14 DNI dm_return(DM=1.344106719627964, p_value=0.17975100106222805)\n",
      "LSTM VS GRU - 1 DZIEŃ dm_return(DM=-1.1844554260796751, p_value=0.23700564481581649)\n",
      "LSTM VS GRU - 7 DNI dm_return(DM=-0.2881317827690474, p_value=0.7734098553815264)\n",
      "LSTM VS GRU - 14 DNI dm_return(DM=0.06228761254534892, p_value=0.9503679807503892)\n"
     ]
    }
   ],
   "source": [
    "#ARFIMA VS LSTM\n",
    "print(\"ARFIMA VS LSTM - 1 DZIEŃ\",dm_test(LTC_USD_forecast_ARIMA_ARFIMA.iloc[:,1],LTC_USD_forecast_ARIMA_ARFIMA.iloc[:,3],LTC_USD_forecast_LSTM.iloc[:,2],crit='MAPE',h=1))\n",
    "print(\"ARFIMA VS LSTM - 7 DNI\",dm_test(LTC_USD_forecast_ARIMA_ARFIMA.iloc[:,19],LTC_USD_forecast_ARIMA_ARFIMA.iloc[:,21],LTC_USD_forecast_LSTM.iloc[:,14],crit='MAPE',h=7))\n",
    "print(\"ARFIMA VS LSTM - 14 DNI\",dm_test(LTC_USD_forecast_ARIMA_ARFIMA.iloc[:,-3],LTC_USD_forecast_ARIMA_ARFIMA.iloc[:,-1],LTC_USD_forecast_LSTM.iloc[:,-1],crit='MAPE',h=14))\n",
    "\n",
    "#ARFIMA VS GRU\n",
    "print(\"ARFIMA VS GRU - 1 DZIEŃ\",dm_test(LTC_USD_forecast_ARIMA_ARFIMA.iloc[:,1],LTC_USD_forecast_ARIMA_ARFIMA.iloc[:,3],LTC_USD_forecast_GRU.iloc[:,2],crit='MAPE',h=1))\n",
    "print(\"ARFIMA VS GRU- 7 DNI\",dm_test(LTC_USD_forecast_ARIMA_ARFIMA.iloc[:,19],LTC_USD_forecast_ARIMA_ARFIMA.iloc[:,21],LTC_USD_forecast_GRU.iloc[:,14],crit='MAPE',h=7))\n",
    "print(\"ARFIMA VS GRU- 14 DNI\",dm_test(LTC_USD_forecast_ARIMA_ARFIMA.iloc[:,-3],LTC_USD_forecast_ARIMA_ARFIMA.iloc[:,-1],LTC_USD_forecast_GRU.iloc[:,-1],crit='MAPE',h=14))\n",
    "\n",
    "#LSTM VS GRU\n",
    "print(\"LSTM VS GRU - 1 DZIEŃ\",dm_test(LTC_USD_forecast_LSTM.iloc[:,1],LTC_USD_forecast_LSTM.iloc[:,2],LTC_USD_forecast_GRU.iloc[:,2],crit='MAPE',h=1))\n",
    "print(\"LSTM VS GRU - 7 DNI\",dm_test(LTC_USD_forecast_LSTM.iloc[:,13],LTC_USD_forecast_LSTM.iloc[:,14],LTC_USD_forecast_GRU.iloc[:,14],crit='MAPE',h=7))\n",
    "print(\"LSTM VS GRU - 14 DNI\",dm_test(LTC_USD_forecast_LSTM.iloc[:,-2],LTC_USD_forecast_LSTM.iloc[:,-1],LTC_USD_forecast_GRU.iloc[:,-1],crit='MAPE',h=14))\n"
   ]
  },
  {
   "cell_type": "code",
   "execution_count": 226,
   "id": "13c26df3",
   "metadata": {},
   "outputs": [
    {
     "name": "stdout",
     "output_type": "stream",
     "text": [
      "ARFIMA VS LSTM - 1 DZIEŃ dm_return(DM=6.850966660052923, p_value=3.14096398585319e-11)\n",
      "ARFIMA VS LSTM - 7 DNI dm_return(DM=2.654602594859817, p_value=0.008288729290060373)\n",
      "ARFIMA VS LSTM - 14 DNI dm_return(DM=1.4145407377251755, p_value=0.15805800957600907)\n",
      "ARFIMA VS GRU - 1 DZIEŃ dm_return(DM=6.6051693862576375, p_value=1.410253646154096e-10)\n",
      "ARFIMA VS GRU- 7 DNI dm_return(DM=2.3023695680426197, p_value=0.02187798367176383)\n",
      "ARFIMA VS GRU- 14 DNI dm_return(DM=0.7931833982872086, p_value=0.42818768644328)\n",
      "LSTM VS GRU - 1 DZIEŃ dm_return(DM=-0.33246815559950554, p_value=0.739727161099728)\n",
      "LSTM VS GRU - 7 DNI dm_return(DM=-1.6188023027847904, p_value=0.10635589769777823)\n",
      "LSTM VS GRU - 14 DNI dm_return(DM=-1.8275754116850387, p_value=0.06843181145574428)\n"
     ]
    }
   ],
   "source": [
    "#ARFIMA VS LSTM\n",
    "print(\"ARFIMA VS LSTM - 1 DZIEŃ\",dm_test(XRP_USD_forecast_ARIMA_ARFIMA.iloc[:,1],XRP_USD_forecast_ARIMA_ARFIMA.iloc[:,3],XRP_USD_forecast_LSTM.iloc[:,2],crit='MAPE',h=1))\n",
    "print(\"ARFIMA VS LSTM - 7 DNI\",dm_test(XRP_USD_forecast_ARIMA_ARFIMA.iloc[:,19],XRP_USD_forecast_ARIMA_ARFIMA.iloc[:,21],XRP_USD_forecast_LSTM.iloc[:,14],crit='MAPE',h=7))\n",
    "print(\"ARFIMA VS LSTM - 14 DNI\",dm_test(XRP_USD_forecast_ARIMA_ARFIMA.iloc[:,-3],XRP_USD_forecast_ARIMA_ARFIMA.iloc[:,-1],XRP_USD_forecast_LSTM.iloc[:,-1],crit='MAPE',h=14))\n",
    "\n",
    "#ARFIMA VS GRU\n",
    "print(\"ARFIMA VS GRU - 1 DZIEŃ\",dm_test(XRP_USD_forecast_ARIMA_ARFIMA.iloc[:,1],XRP_USD_forecast_ARIMA_ARFIMA.iloc[:,3],XRP_USD_forecast_GRU.iloc[:,2],crit='MAPE',h=1))\n",
    "print(\"ARFIMA VS GRU- 7 DNI\",dm_test(XRP_USD_forecast_ARIMA_ARFIMA.iloc[:,19],XRP_USD_forecast_ARIMA_ARFIMA.iloc[:,21],XRP_USD_forecast_GRU.iloc[:,14],crit='MAPE',h=7))\n",
    "print(\"ARFIMA VS GRU- 14 DNI\",dm_test(XRP_USD_forecast_ARIMA_ARFIMA.iloc[:,-3],XRP_USD_forecast_ARIMA_ARFIMA.iloc[:,-1],XRP_USD_forecast_GRU.iloc[:,-1],crit='MAPE',h=14))\n",
    "\n",
    "#LSTM VS GRU\n",
    "print(\"LSTM VS GRU - 1 DZIEŃ\",dm_test(XRP_USD_forecast_LSTM.iloc[:,1],XRP_USD_forecast_LSTM.iloc[:,2],XRP_USD_forecast_GRU.iloc[:,2],crit='MAPE',h=1))\n",
    "print(\"LSTM VS GRU - 7 DNI\",dm_test(XRP_USD_forecast_LSTM.iloc[:,13],XRP_USD_forecast_LSTM.iloc[:,14],XRP_USD_forecast_GRU.iloc[:,14],crit='MAPE',h=7))\n",
    "print(\"LSTM VS GRU - 14 DNI\",dm_test(XRP_USD_forecast_LSTM.iloc[:,-2],XRP_USD_forecast_LSTM.iloc[:,-1],XRP_USD_forecast_GRU.iloc[:,-1],crit='MAPE',h=14))\n"
   ]
  },
  {
   "cell_type": "code",
   "execution_count": 227,
   "id": "dd6bc752",
   "metadata": {},
   "outputs": [
    {
     "name": "stdout",
     "output_type": "stream",
     "text": [
      "ARFIMA VS LSTM - 1 DZIEŃ dm_return(DM=3.530720726827176, p_value=0.0004906920123340882)\n",
      "ARFIMA VS LSTM - 7 DNI dm_return(DM=2.7419791838784904, p_value=0.006534473143806233)\n",
      "ARFIMA VS LSTM - 14 DNI dm_return(DM=1.4817529426589544, p_value=0.13962635123595507)\n",
      "ARFIMA VS GRU - 1 DZIEŃ dm_return(DM=3.4337554360999065, p_value=0.0006933622615229244)\n",
      "ARFIMA VS GRU- 7 DNI dm_return(DM=2.743644030857043, p_value=0.006502379830047424)\n",
      "ARFIMA VS GRU- 14 DNI dm_return(DM=1.4536251510872458, p_value=0.1472655631309094)\n",
      "LSTM VS GRU - 1 DZIEŃ dm_return(DM=-0.09768597246699602, p_value=0.9222575005457831)\n",
      "LSTM VS GRU - 7 DNI dm_return(DM=0.4991313215676841, p_value=0.6181122014836482)\n",
      "LSTM VS GRU - 14 DNI dm_return(DM=-1.0976847658295328, p_value=0.27336555647794797)\n"
     ]
    }
   ],
   "source": [
    "#ARFIMA VS LSTM\n",
    "print(\"ARFIMA VS LSTM - 1 DZIEŃ\",dm_test(AUD_USD_forecast_ARIMA_ARFIMA.iloc[:,1],AUD_USD_forecast_ARIMA_ARFIMA.iloc[:,3],AUD_USD_forecast_LSTM.iloc[:,2],crit='MAPE',h=1))\n",
    "print(\"ARFIMA VS LSTM - 7 DNI\",dm_test(AUD_USD_forecast_ARIMA_ARFIMA.iloc[:,19],AUD_USD_forecast_ARIMA_ARFIMA.iloc[:,21],AUD_USD_forecast_LSTM.iloc[:,14],crit='MAPE',h=7))\n",
    "print(\"ARFIMA VS LSTM - 14 DNI\",dm_test(AUD_USD_forecast_ARIMA_ARFIMA.iloc[:,-3],AUD_USD_forecast_ARIMA_ARFIMA.iloc[:,-1],AUD_USD_forecast_LSTM.iloc[:,-1],crit='MAPE',h=14))\n",
    "\n",
    "#ARFIMA VS GRU\n",
    "print(\"ARFIMA VS GRU - 1 DZIEŃ\",dm_test(AUD_USD_forecast_ARIMA_ARFIMA.iloc[:,1],AUD_USD_forecast_ARIMA_ARFIMA.iloc[:,3],AUD_USD_forecast_GRU.iloc[:,2],crit='MAPE',h=1))\n",
    "print(\"ARFIMA VS GRU- 7 DNI\",dm_test(AUD_USD_forecast_ARIMA_ARFIMA.iloc[:,19],AUD_USD_forecast_ARIMA_ARFIMA.iloc[:,21],AUD_USD_forecast_GRU.iloc[:,14],crit='MAPE',h=7))\n",
    "print(\"ARFIMA VS GRU- 14 DNI\",dm_test(AUD_USD_forecast_ARIMA_ARFIMA.iloc[:,-3],AUD_USD_forecast_ARIMA_ARFIMA.iloc[:,-1],AUD_USD_forecast_GRU.iloc[:,-1],crit='MAPE',h=14))\n",
    "\n",
    "#LSTM VS GRU\n",
    "print(\"LSTM VS GRU - 1 DZIEŃ\",dm_test(AUD_USD_forecast_LSTM.iloc[:,1],AUD_USD_forecast_LSTM.iloc[:,2],AUD_USD_forecast_GRU.iloc[:,2],crit='MAPE',h=1))\n",
    "print(\"LSTM VS GRU - 7 DNI\",dm_test(AUD_USD_forecast_LSTM.iloc[:,13],AUD_USD_forecast_LSTM.iloc[:,14],AUD_USD_forecast_GRU.iloc[:,14],crit='MAPE',h=7))\n",
    "print(\"LSTM VS GRU - 14 DNI\",dm_test(AUD_USD_forecast_LSTM.iloc[:,-2],AUD_USD_forecast_LSTM.iloc[:,-1],AUD_USD_forecast_GRU.iloc[:,-1],crit='MAPE',h=14))\n"
   ]
  },
  {
   "cell_type": "code",
   "execution_count": 228,
   "id": "0a88af91",
   "metadata": {},
   "outputs": [
    {
     "name": "stdout",
     "output_type": "stream",
     "text": [
      "ARFIMA VS LSTM - 1 DZIEŃ dm_return(DM=0.48638348188452624, p_value=0.6271081847814911)\n",
      "ARFIMA VS LSTM - 7 DNI dm_return(DM=0.4091546393029206, p_value=0.6827656305617316)\n",
      "ARFIMA VS LSTM - 14 DNI dm_return(DM=0.30158895305997296, p_value=0.7632083738940455)\n",
      "ARFIMA VS GRU - 1 DZIEŃ dm_return(DM=0.5849413505654207, p_value=0.559098356871159)\n",
      "ARFIMA VS GRU- 7 DNI dm_return(DM=0.37967400999250234, p_value=0.7044997462563771)\n",
      "ARFIMA VS GRU- 14 DNI dm_return(DM=0.3053284993769353, p_value=0.7603621601223709)\n",
      "LSTM VS GRU - 1 DZIEŃ dm_return(DM=0.1642677190185739, p_value=0.8696490108026782)\n",
      "LSTM VS GRU - 7 DNI dm_return(DM=-0.30840281303455214, p_value=0.7580247025284582)\n",
      "LSTM VS GRU - 14 DNI dm_return(DM=0.057639506158909774, p_value=0.9540803963021932)\n"
     ]
    }
   ],
   "source": [
    "#ARFIMA VS LSTM\n",
    "print(\"ARFIMA VS LSTM - 1 DZIEŃ\",dm_test(CAD_USD_forecast_ARIMA_ARFIMA.iloc[:,1],CAD_USD_forecast_ARIMA_ARFIMA.iloc[:,3],CAD_USD_forecast_LSTM.iloc[:,2],crit='MAPE',h=1))\n",
    "print(\"ARFIMA VS LSTM - 7 DNI\",dm_test(CAD_USD_forecast_ARIMA_ARFIMA.iloc[:,19],CAD_USD_forecast_ARIMA_ARFIMA.iloc[:,21],CAD_USD_forecast_LSTM.iloc[:,14],crit='MAPE',h=7))\n",
    "print(\"ARFIMA VS LSTM - 14 DNI\",dm_test(CAD_USD_forecast_ARIMA_ARFIMA.iloc[:,-3],CAD_USD_forecast_ARIMA_ARFIMA.iloc[:,-1],CAD_USD_forecast_LSTM.iloc[:,-1],crit='MAPE',h=14))\n",
    "\n",
    "#ARFIMA VS GRU\n",
    "print(\"ARFIMA VS GRU - 1 DZIEŃ\",dm_test(CAD_USD_forecast_ARIMA_ARFIMA.iloc[:,1],CAD_USD_forecast_ARIMA_ARFIMA.iloc[:,3],CAD_USD_forecast_GRU.iloc[:,2],crit='MAPE',h=1))\n",
    "print(\"ARFIMA VS GRU- 7 DNI\",dm_test(CAD_USD_forecast_ARIMA_ARFIMA.iloc[:,19],CAD_USD_forecast_ARIMA_ARFIMA.iloc[:,21],CAD_USD_forecast_GRU.iloc[:,14],crit='MAPE',h=7))\n",
    "print(\"ARFIMA VS GRU- 14 DNI\",dm_test(CAD_USD_forecast_ARIMA_ARFIMA.iloc[:,-3],CAD_USD_forecast_ARIMA_ARFIMA.iloc[:,-1],CAD_USD_forecast_GRU.iloc[:,-1],crit='MAPE',h=14))\n",
    "\n",
    "#LSTM VS GRU\n",
    "print(\"LSTM VS GRU - 1 DZIEŃ\",dm_test(CAD_USD_forecast_LSTM.iloc[:,1],CAD_USD_forecast_LSTM.iloc[:,2],CAD_USD_forecast_GRU.iloc[:,2],crit='MAPE',h=1))\n",
    "print(\"LSTM VS GRU - 7 DNI\",dm_test(CAD_USD_forecast_LSTM.iloc[:,13],CAD_USD_forecast_LSTM.iloc[:,14],CAD_USD_forecast_GRU.iloc[:,14],crit='MAPE',h=7))\n",
    "print(\"LSTM VS GRU - 14 DNI\",dm_test(CAD_USD_forecast_LSTM.iloc[:,-2],CAD_USD_forecast_LSTM.iloc[:,-1],CAD_USD_forecast_GRU.iloc[:,-1],crit='MAPE',h=14))\n"
   ]
  },
  {
   "cell_type": "code",
   "execution_count": 229,
   "id": "e7c051e5",
   "metadata": {},
   "outputs": [
    {
     "name": "stdout",
     "output_type": "stream",
     "text": [
      "ARFIMA VS LSTM - 1 DZIEŃ dm_return(DM=5.55128632641483, p_value=7.035001389546892e-08)\n",
      "ARFIMA VS LSTM - 7 DNI dm_return(DM=2.365151506555441, p_value=0.018763059298073086)\n",
      "ARFIMA VS LSTM - 14 DNI dm_return(DM=0.9064372698755888, p_value=0.3655502219138623)\n",
      "ARFIMA VS GRU - 1 DZIEŃ dm_return(DM=5.71421215417241, p_value=3.03287930598806e-08)\n",
      "ARFIMA VS GRU- 7 DNI dm_return(DM=2.7303977568291, p_value=0.006761723138206447)\n",
      "ARFIMA VS GRU- 14 DNI dm_return(DM=1.2882615704117437, p_value=0.1988090616205815)\n",
      "LSTM VS GRU - 1 DZIEŃ dm_return(DM=0.2666211619682169, p_value=0.7899738313324954)\n",
      "LSTM VS GRU - 7 DNI dm_return(DM=1.3534137947582647, p_value=0.1771080434144162)\n",
      "LSTM VS GRU - 14 DNI dm_return(DM=1.8784763294719606, p_value=0.06144364431191828)\n"
     ]
    }
   ],
   "source": [
    "#ARFIMA VS LSTM\n",
    "print(\"ARFIMA VS LSTM - 1 DZIEŃ\",dm_test(EUR_USD_forecast_ARIMA_ARFIMA.iloc[:,1],EUR_USD_forecast_ARIMA_ARFIMA.iloc[:,3],EUR_USD_forecast_LSTM.iloc[:,2],crit='MAPE',h=1))\n",
    "print(\"ARFIMA VS LSTM - 7 DNI\",dm_test(EUR_USD_forecast_ARIMA_ARFIMA.iloc[:,19],EUR_USD_forecast_ARIMA_ARFIMA.iloc[:,21],EUR_USD_forecast_LSTM.iloc[:,14],crit='MAPE',h=7))\n",
    "print(\"ARFIMA VS LSTM - 14 DNI\",dm_test(EUR_USD_forecast_ARIMA_ARFIMA.iloc[:,-3],EUR_USD_forecast_ARIMA_ARFIMA.iloc[:,-1],EUR_USD_forecast_LSTM.iloc[:,-1],crit='MAPE',h=14))\n",
    "\n",
    "#ARFIMA VS GRU\n",
    "print(\"ARFIMA VS GRU - 1 DZIEŃ\",dm_test(EUR_USD_forecast_ARIMA_ARFIMA.iloc[:,1],EUR_USD_forecast_ARIMA_ARFIMA.iloc[:,3],EUR_USD_forecast_GRU.iloc[:,2],crit='MAPE',h=1))\n",
    "print(\"ARFIMA VS GRU- 7 DNI\",dm_test(EUR_USD_forecast_ARIMA_ARFIMA.iloc[:,19],EUR_USD_forecast_ARIMA_ARFIMA.iloc[:,21],EUR_USD_forecast_GRU.iloc[:,14],crit='MAPE',h=7))\n",
    "print(\"ARFIMA VS GRU- 14 DNI\",dm_test(EUR_USD_forecast_ARIMA_ARFIMA.iloc[:,-3],EUR_USD_forecast_ARIMA_ARFIMA.iloc[:,-1],EUR_USD_forecast_GRU.iloc[:,-1],crit='MAPE',h=14))\n",
    "\n",
    "#LSTM VS GRU\n",
    "print(\"LSTM VS GRU - 1 DZIEŃ\",dm_test(EUR_USD_forecast_LSTM.iloc[:,1],EUR_USD_forecast_LSTM.iloc[:,2],EUR_USD_forecast_GRU.iloc[:,2],crit='MAPE',h=1))\n",
    "print(\"LSTM VS GRU - 7 DNI\",dm_test(EUR_USD_forecast_LSTM.iloc[:,13],EUR_USD_forecast_LSTM.iloc[:,14],EUR_USD_forecast_GRU.iloc[:,14],crit='MAPE',h=7))\n",
    "print(\"LSTM VS GRU - 14 DNI\",dm_test(EUR_USD_forecast_LSTM.iloc[:,-2],EUR_USD_forecast_LSTM.iloc[:,-1],EUR_USD_forecast_GRU.iloc[:,-1],crit='MAPE',h=14))\n"
   ]
  },
  {
   "cell_type": "code",
   "execution_count": 231,
   "id": "d3c8a842",
   "metadata": {},
   "outputs": [
    {
     "name": "stdout",
     "output_type": "stream",
     "text": [
      "ARFIMA VS LSTM - 1 DZIEŃ dm_return(DM=0.6303003612321147, p_value=0.5290559474989249)\n",
      "ARFIMA VS LSTM - 7 DNI dm_return(DM=1.010293399590373, p_value=0.313301292157032)\n",
      "ARFIMA VS LSTM - 14 DNI dm_return(DM=0.9140838227127784, p_value=0.3615262570638811)\n",
      "ARFIMA VS GRU - 1 DZIEŃ dm_return(DM=1.0660494851417288, p_value=0.2873978608077605)\n",
      "ARFIMA VS GRU- 7 DNI dm_return(DM=0.9497388346362986, p_value=0.34313376777754456)\n",
      "ARFIMA VS GRU- 14 DNI dm_return(DM=0.8761591684086295, p_value=0.381758524275879)\n",
      "LSTM VS GRU - 1 DZIEŃ dm_return(DM=0.5876205829835751, p_value=0.557300930569794)\n",
      "LSTM VS GRU - 7 DNI dm_return(DM=-0.6144528707271785, p_value=0.5394575848384198)\n",
      "LSTM VS GRU - 14 DNI dm_return(DM=-0.3592803420257292, p_value=0.7196792487594146)\n"
     ]
    }
   ],
   "source": [
    "#ARFIMA VS LSTM\n",
    "print(\"ARFIMA VS LSTM - 1 DZIEŃ\",dm_test(GBP_USD_forecast_ARIMA_ARFIMA.iloc[:,1],GBP_USD_forecast_ARIMA_ARFIMA.iloc[:,3],GBP_USD_forecast_LSTM.iloc[:,2],crit='MAPE',h=1))\n",
    "print(\"ARFIMA VS LSTM - 7 DNI\",dm_test(GBP_USD_forecast_ARIMA_ARFIMA.iloc[:,19],GBP_USD_forecast_ARIMA_ARFIMA.iloc[:,21],GBP_USD_forecast_LSTM.iloc[:,14],crit='MAPE',h=7))\n",
    "print(\"ARFIMA VS LSTM - 14 DNI\",dm_test(GBP_USD_forecast_ARIMA_ARFIMA.iloc[:,-3],GBP_USD_forecast_ARIMA_ARFIMA.iloc[:,-1],GBP_USD_forecast_LSTM.iloc[:,-1],crit='MAPE',h=14))\n",
    "\n",
    "#ARFIMA VS GRU\n",
    "print(\"ARFIMA VS GRU - 1 DZIEŃ\",dm_test(GBP_USD_forecast_ARIMA_ARFIMA.iloc[:,1],GBP_USD_forecast_ARIMA_ARFIMA.iloc[:,3],GBP_USD_forecast_GRU.iloc[:,2],crit='MAPE',h=1))\n",
    "print(\"ARFIMA VS GRU- 7 DNI\",dm_test(GBP_USD_forecast_ARIMA_ARFIMA.iloc[:,19],GBP_USD_forecast_ARIMA_ARFIMA.iloc[:,21],GBP_USD_forecast_GRU.iloc[:,14],crit='MAPE',h=7))\n",
    "print(\"ARFIMA VS GRU- 14 DNI\",dm_test(GBP_USD_forecast_ARIMA_ARFIMA.iloc[:,-3],GBP_USD_forecast_ARIMA_ARFIMA.iloc[:,-1],GBP_USD_forecast_GRU.iloc[:,-1],crit='MAPE',h=14))\n",
    "\n",
    "#LSTM VS GRU\n",
    "print(\"LSTM VS GRU - 1 DZIEŃ\",dm_test(GBP_USD_forecast_LSTM.iloc[:,1],GBP_USD_forecast_LSTM.iloc[:,2],GBP_USD_forecast_GRU.iloc[:,2],crit='MAPE',h=1))\n",
    "print(\"LSTM VS GRU - 7 DNI\",dm_test(GBP_USD_forecast_LSTM.iloc[:,13],GBP_USD_forecast_LSTM.iloc[:,14],GBP_USD_forecast_GRU.iloc[:,14],crit='MAPE',h=7))\n",
    "print(\"LSTM VS GRU - 14 DNI\",dm_test(GBP_USD_forecast_LSTM.iloc[:,-2],GBP_USD_forecast_LSTM.iloc[:,-1],GBP_USD_forecast_GRU.iloc[:,-1],crit='MAPE',h=14))\n"
   ]
  },
  {
   "cell_type": "code",
   "execution_count": 232,
   "id": "445e5d15",
   "metadata": {},
   "outputs": [
    {
     "name": "stdout",
     "output_type": "stream",
     "text": [
      "ARFIMA VS LSTM - 1 DZIEŃ dm_return(DM=0.5071541873738739, p_value=0.6124798404321873)\n",
      "ARFIMA VS LSTM - 7 DNI dm_return(DM=1.0953284790771096, p_value=0.27439419390484954)\n",
      "ARFIMA VS LSTM - 14 DNI dm_return(DM=0.27271380277945756, p_value=0.7852913705765039)\n",
      "ARFIMA VS GRU - 1 DZIEŃ dm_return(DM=0.7221388412563766, p_value=0.4708631269415384)\n",
      "ARFIMA VS GRU- 7 DNI dm_return(DM=1.5386077961095586, p_value=0.12512558591357095)\n",
      "ARFIMA VS GRU- 14 DNI dm_return(DM=0.9535370305980623, p_value=0.3412105507996799)\n",
      "LSTM VS GRU - 1 DZIEŃ dm_return(DM=1.3863318939737688, p_value=0.16684244317410554)\n",
      "LSTM VS GRU - 7 DNI dm_return(DM=2.727324523358771, p_value=0.006823213496928155)\n",
      "LSTM VS GRU - 14 DNI dm_return(DM=3.1595122684580925, p_value=0.0017686849208101447)\n"
     ]
    }
   ],
   "source": [
    "#ARFIMA VS LSTM\n",
    "print(\"ARFIMA VS LSTM - 1 DZIEŃ\",dm_test(JPY_USD_forecast_ARIMA_ARFIMA.iloc[:,1],JPY_USD_forecast_ARIMA_ARFIMA.iloc[:,3],JPY_USD_forecast_LSTM.iloc[:,2],crit='MAPE',h=1))\n",
    "print(\"ARFIMA VS LSTM - 7 DNI\",dm_test(JPY_USD_forecast_ARIMA_ARFIMA.iloc[:,19],JPY_USD_forecast_ARIMA_ARFIMA.iloc[:,21],JPY_USD_forecast_LSTM.iloc[:,14],crit='MAPE',h=7))\n",
    "print(\"ARFIMA VS LSTM - 14 DNI\",dm_test(JPY_USD_forecast_ARIMA_ARFIMA.iloc[:,-3],JPY_USD_forecast_ARIMA_ARFIMA.iloc[:,-1],JPY_USD_forecast_LSTM.iloc[:,-1],crit='MAPE',h=14))\n",
    "\n",
    "#ARFIMA VS GRU\n",
    "print(\"ARFIMA VS GRU - 1 DZIEŃ\",dm_test(JPY_USD_forecast_ARIMA_ARFIMA.iloc[:,1],JPY_USD_forecast_ARIMA_ARFIMA.iloc[:,3],JPY_USD_forecast_GRU.iloc[:,2],crit='MAPE',h=1))\n",
    "print(\"ARFIMA VS GRU- 7 DNI\",dm_test(JPY_USD_forecast_ARIMA_ARFIMA.iloc[:,19],JPY_USD_forecast_ARIMA_ARFIMA.iloc[:,21],JPY_USD_forecast_GRU.iloc[:,14],crit='MAPE',h=7))\n",
    "print(\"ARFIMA VS GRU- 14 DNI\",dm_test(JPY_USD_forecast_ARIMA_ARFIMA.iloc[:,-3],JPY_USD_forecast_ARIMA_ARFIMA.iloc[:,-1],JPY_USD_forecast_GRU.iloc[:,-1],crit='MAPE',h=14))\n",
    "\n",
    "#LSTM VS GRU\n",
    "print(\"LSTM VS GRU - 1 DZIEŃ\",dm_test(JPY_USD_forecast_LSTM.iloc[:,1],JPY_USD_forecast_LSTM.iloc[:,2],JPY_USD_forecast_GRU.iloc[:,2],crit='MAPE',h=1))\n",
    "print(\"LSTM VS GRU - 7 DNI\",dm_test(JPY_USD_forecast_LSTM.iloc[:,13],JPY_USD_forecast_LSTM.iloc[:,14],JPY_USD_forecast_GRU.iloc[:,14],crit='MAPE',h=7))\n",
    "print(\"LSTM VS GRU - 14 DNI\",dm_test(JPY_USD_forecast_LSTM.iloc[:,-2],JPY_USD_forecast_LSTM.iloc[:,-1],JPY_USD_forecast_GRU.iloc[:,-1],crit='MAPE',h=14))\n"
   ]
  },
  {
   "cell_type": "markdown",
   "id": "a948098b-d282-4238-a746-a5da2a5a1530",
   "metadata": {},
   "source": [
    "## Podsumowanie projektu"
   ]
  },
  {
   "cell_type": "markdown",
   "id": "fab1b859-b630-4194-b6de-9f63d91dc445",
   "metadata": {},
   "source": [
    "Całe badanie zostało przeprowadzone w ramach pracy magisterskiej zatytułowanej \"Prognozowanie kursów kryptowalut oraz klasycznych walut z wykorzystaniem metod ukierunkowanych na długą pamięć\".\n",
    "\n",
    "Głównym celem analizy była weryfikacja jakości predykcji kursów wymiany walut fiducjarnych i cyfrowych z użyciem metod ekonometrycznych oraz sieci neuronowych. Skupiono uwagę na techniki ukierunkowane na długą pamięć. Sprawdzono również, czy szeregi czasowe posiadają ten efekt. W badaniu wykorzystano dzienne ceny zamknięcia pięciu walut klasycznych i pięciu cyfrowych w odniesieniu do dolara amerykańskiego, pochodzące z ostatnich 5 lat.\n",
    "\n",
    "Aby nadać analizie charakter naukowy sformułowano 3 hipotezy, które były pomocne w konstruowaniu całego przebiegu badania. Poniżej ich treść wraz z weryfikacją:\n",
    "- Hipoteza 1: Przewidywania uzyskane za pomocą metod ukierunkowanych na długą pamięć są bardziej precyzyjne niż na podstawie modeli nieposiadających tej właściwości. \n",
    "\n",
    "Weryfikacja: Odrzucono tę hipotezę, ponieważ miary blędów oraz test Diebolda-Mariano ukazał znacznie lepszą wydajność modelu ARIMA nad ARFIMA oraz brak istotnych różnic między wskaźnikami straty w pozostałych zestawieniach \n",
    "- Hipoteza 2: Nie istnieją znaczące różnice w dokładności prognoz wśród wybranych algorytmów, które umożliwiają modelowanie zależności długoterminowych. \n",
    "\n",
    "Weryfikacja: Wyniki testu Diebolda-Mariano nie pozwoliły jednoznacznie wskazać prawdziwości drugiej ipotezy.\n",
    "- Hipoteza 3: Techniki prognozowania zaprezentowane w badaniu osiągają niższe błędy prognozy dla klasycznych kursów walutowych niż dla kryptowalut. \n",
    "\n",
    "Weryfikacja: Miary błędów RMSE oraz MAPE pozwoliły pozytywnie zweryfikować tę hipotezę\n",
    "\n",
    "\n"
   ]
  }
 ],
 "metadata": {
  "kernelspec": {
   "display_name": "Python 3 (ipykernel)",
   "language": "python",
   "name": "python3"
  },
  "language_info": {
   "codemirror_mode": {
    "name": "ipython",
    "version": 3
   },
   "file_extension": ".py",
   "mimetype": "text/x-python",
   "name": "python",
   "nbconvert_exporter": "python",
   "pygments_lexer": "ipython3",
   "version": "3.9.11"
  }
 },
 "nbformat": 4,
 "nbformat_minor": 5
}
